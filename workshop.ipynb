{
 "cells": [
  {
   "cell_type": "markdown",
   "metadata": {},
   "source": [
    "# Introduction to Julia\n"
   ]
  },
  {
   "cell_type": "markdown",
   "metadata": {},
   "source": [
    "# Agenda\n",
    "\n",
    "1. **What is Julia?**\n",
    "2. **What can you do with the Julia programming language?**\n",
    "    - Scientific Modelling\n",
    "    - Fast Linear Algebra\n",
    "3. Basics\n",
    "    - Tools and Getting Around\n",
    "    - Literals, Variables, and Functions\n",
    "    - Program Control Flow\n",
    "4. Advanced Topics\n",
    "    - Return Types, Type Stability, and More\n",
    "    - Broadcasting\n",
    "    - Immutability\n",
    "    - Collections\n",
    "    - More on Functions\n",
    "    - Modules and Packages: How to Use Other People's Code\n",
    "    - Multiple Dispatch\n",
    "4. Project: Writing a Root Finding Program\n",
    "    - Overview of Newton's Method\n",
    "    - Handling Derivatives\n",
    "    - Adding Visual Feedback"
   ]
  },
  {
   "cell_type": "markdown",
   "metadata": {},
   "source": [
    "# Learning Goals\n",
    "\n",
    "After this workshop you should:\n",
    "\n",
    "1. Be familiar with Julia syntax.\n",
    "2. Understand variables, functions, and basic data types in Julia.\n",
    "3. Be able to write short programs in Julia.\n",
    "4. Feel confident enough to explore more on your own."
   ]
  },
  {
   "cell_type": "markdown",
   "metadata": {},
   "source": [
    "# What is Julia?\n",
    "\n",
    "> **The Julia Project as a whole is about bringing usable, scalable technical computing to a greater audience**: allowing scientists and researchers to use computation more rapidly and effectively; letting businesses do harder and more interesting analyses more easily and cheaply.\n",
    "> Part of that project entails creating a free, open-source language that is as easy to use as possible, so that researchers who are not necessarily professional programmers can easily create and share programs that others will be able to use for free and improve upon.\n",
    "> However, a large part of the project is also about creating an ecosystem in which such openness and sharing can take place.\n",
    "\n",
    "-- [Julia Project page](https://julialang.org/project/)\n",
    "\n",
    "### Why should I care?\n",
    "\n",
    "1. It is easy to prototype *fast*, *idiomatic* code in Julia *at a high level* thanks to Julia's JIT compiler and powerful type system.\n",
    "2. Julia favors a generic programming style: write functions that assume as little as possible and compose them to write powerful programs.\n",
    "3. The Julia community is open and highly collaborative. Many high profile packages represent the joint effort of several brilliant people.\n",
    "\n",
    "### How is it different from `xxxxx`?\n",
    "\n",
    "Syntax comparison between MATLAB, Julia, and Python: https://cheatsheets.quantecon.org/\n",
    "The Julia manual has a dedicated package on this: https://docs.julialang.org/en/v1/manual/noteworthy-differences/\n",
    "\n",
    "### I like `X/Y/Z` from `xxxxx` language. I don't think I can ever switch.\n",
    "\n",
    "Early on in the development of Julia, people put effort into building interoperability between Julia and other languages.\n",
    "This means that if you really need a package implemented in another language, it is possible to use it directly from within Julia.\n",
    "\n",
    "**Examples**\n",
    "\n",
    "- Python: Use [PyCall.jl](https://github.com/JuliaPy/PyCall.jl). \n",
    "- R: Use [RCall.jl](https://github.com/JuliaInterop/RCall.jl).\n",
    "- MATLAB: Use [MATLAB.jl](https://github.com/JuliaInterop/MATLAB.jl).\n",
    "- FORTRAN or C: Use the built-in `ccall` function documented [here](https://docs.julialang.org/en/v1/manual/calling-c-and-fortran-code/).\n",
    "- C++: Use [Cxx.jl](https://github.com/JuliaInterop/Cxx.jl).\n",
    "\n",
    "The [JuliaInterop](https://github.com/JuliaInterop) organization has more packages available for other languages.\n",
    "\n",
    "**Ultimately, the Julia language is (a very useful) tool. You should use whatever makes you productive, and your work reproducible.**\n",
    "\n",
    "### How does it work?\n",
    "\n",
    "Credit: Arch D. Robison\n",
    "\n",
    "|   |   |\n",
    "|---|---|\n",
    "| <img src=\"julia_toolchain.png\" alt=\"julia_toolchain.png\" width=\"400\"/> | <img src=\"julia_introspect.png\" alt=\"julia_introspect.png\" width=\"530\"/> |\n",
    "\n",
    "**Big Picture**: Julia's *design* uses a robust type system to pass type information to a compiler that can then generate efficient machine code.\n",
    "\n",
    "The type system uses *multiple dispatch* to help programmers write generic type-stable code; type-stable code is easy for the compiler to reason about.\n",
    "\n",
    "On the surface, Julia syntax looks like any other scripting language because it is quite human readable.\n",
    "However, Julia code is much more explicit than it appears on the surface.\n",
    "\n",
    "Dr. Chris Rackauckas has [an excellent page](https://ucidatascienceinitiative.github.io/IntroToJulia/Html/JuliaMentalModel) on developing a mental model for Julia:\n",
    "\n",
    "> **A Mental Model for Julia: Talking to a Scientist**\n",
    "> * When you're talking, everything looks general. However, you really mean very specific details determined by context.\n",
    "> * You can quickly dig deep into a subject, assuming many rules, theories, and terminology.\n",
    "> * Nothing is hidden: if you ever want to hear about every little detail, you can ask.\n",
    "> * They will get mad (and throw errors at you) if you begin to be loose with the specific details.\n"
   ]
  },
  {
   "cell_type": "markdown",
   "metadata": {},
   "source": [
    "# What can I do with the Julia programming language?"
   ]
  },
  {
   "cell_type": "markdown",
   "metadata": {},
   "source": [
    "### Scientific Modeling\n",
    "\n",
    "**Credit**: [https://github.com/epirecipes/sir-julia/blob/master/markdown/ode/ode.md](epirecipes)\n",
    "\n",
    "OrdinaryDiffEq.jl is part of the SciML ecosystem.\n",
    "See the [organization's website](https://sciml.ai/) for more details.\n",
    "DifferentialEquations.jl is the main package with lots of extra features at the cutting edge of scientific machine learning."
   ]
  },
  {
   "cell_type": "code",
   "execution_count": null,
   "metadata": {},
   "outputs": [],
   "source": [
    "using OrdinaryDiffEq, Plots\n",
    "\n",
    "function sir_ode!(du, u, p, t)\n",
    "    (S, I, R) = u\n",
    "    (β, c, γ) = p\n",
    "    N = S+I+R\n",
    "    @inbounds begin\n",
    "        du[1] = -β*c*I/N*S\n",
    "        du[2] = β*c*I/N*S - γ*I\n",
    "        du[3] = γ*I\n",
    "    end\n",
    "    nothing\n",
    "end\n",
    "\n",
    "# Initial conditions\n",
    "u0 = [990.0,10.0,0.0]; # S,I.R\n",
    "\n",
    "# Model parameters\n",
    "p = [0.05,10.0,0.25]; # β,c,γ\n",
    "\n",
    "# Timespan\n",
    "δt = 0.1\n",
    "tmax = 40.0\n",
    "tspan = (0.0,tmax)\n",
    "t = 0.0:δt:tmax\n",
    "\n",
    "# Create ODE problem and solve it\n",
    "prob_ode = ODEProblem(sir_ode!, u0, tspan, p)\n",
    "sol = solve(prob_ode, Tsit5())\n",
    "\n",
    "# Plot the solution\n",
    "plot(sol, xlabel=\"time, t\", ylabel=\"population, u(t)\", label=[\"S\" \"I\" \"R\"], legend=:outerright)"
   ]
  },
  {
   "cell_type": "markdown",
   "metadata": {},
   "source": [
    "### Fast Linear Algebra\n",
    "\n",
    "[BLAS](https://en.wikipedia.org/wiki/Basic_Linear_Algebra_Subprograms) and [LAPACK](https://en.wikipedia.org/wiki/LAPACK) are important libraries for carrying out *fast and correct* linear algebra operations on computers.\n",
    "There are various implementations written in 'low-level' languages like C or Fortran, sometimes tuned for specific hardware, dating back to 1979.\n",
    "\n",
    "Developers in Julia are exploring the possibility of implementing linear algebra subroutines within the Julia language.\n",
    "The following compares the default BLAS implementation (OpenBLAS) shipped with Julia against [Octavian.jl](https://github.com/JuliaLinearAlgebra/Octavian.jl).\n",
    "A more detailed look (with different hardware) can be found [here](https://github.com/JuliaLinearAlgebra/Octavian.jl/issues/24#issuecomment-763704038)."
   ]
  },
  {
   "cell_type": "code",
   "execution_count": null,
   "metadata": {},
   "outputs": [],
   "source": [
    "run(`/home/alanderos/julia-1.6.1/bin/julia --project=@. linalg.jl 10 1000`)"
   ]
  },
  {
   "cell_type": "code",
   "execution_count": null,
   "metadata": {},
   "outputs": [],
   "source": [
    "run(`/home/alanderos/julia-1.6.1/bin/julia --project=@. -t 10 octavian.jl 1000`)"
   ]
  },
  {
   "cell_type": "code",
   "execution_count": null,
   "metadata": {},
   "outputs": [],
   "source": [
    "versioninfo(verbose=true)"
   ]
  },
  {
   "cell_type": "markdown",
   "metadata": {},
   "source": [
    "**Note**: OpenBLAS may not always be able to detect the correct architecture until it is updated, and so it will default to the next best available subroutines.\n",
    "[The codename Prescott dates back to Intel's Pentium 4 from the 00s](https://ark.intel.com/content/www/us/en/ark/products/codename/1791/prescott.html)."
   ]
  },
  {
   "cell_type": "code",
   "execution_count": null,
   "metadata": {},
   "outputs": [],
   "source": [
    "using LinearAlgebra\n",
    "BLAS.openblas_get_config()"
   ]
  },
  {
   "cell_type": "markdown",
   "metadata": {
    "slideshow": {
     "slide_type": "subslide"
    }
   },
   "source": [
    "# Basics"
   ]
  },
  {
   "cell_type": "markdown",
   "metadata": {},
   "source": [
    "### Tools to write Julia code\n",
    "\n",
    "Julia program files end with the `.jl` file extension.\n",
    "There are two environments people generally use to write Julia code:\n",
    "\n",
    "1. An *interactive* environment lets you input commands and gives you feedback as you work. For example, Julia comes with its own **REPL (Read-Evaluation-Print Loop)** that operates in a command line fashion. \n",
    "2. A *non-interactive* environment executes a series of commands (program) in the background without any feedback. Error messages, due to logical errors or program state, are generally handled by the program itself.\n",
    "\n",
    "**Programs** or **scripts** are usually, but not always, non-interactive in that they are used to automate long tasks without active control from a user.\n",
    "\n",
    "Here we will focus on how to work within a Jupyter notebook.\n",
    "Much of what we do here will carry over to working in a REPL."
   ]
  },
  {
   "cell_type": "markdown",
   "metadata": {},
   "source": [
    "### Jupyter notebooks\n",
    "\n",
    "This notebook is made up of different cells:\n",
    "\n",
    "1. **Code cells** contain a series of instructions (in Julia). You can run them by clicking the run button, entering `Ctrl + Enter`.\n",
    "2. **Markdown cells** contain text that can be formatted with [Markdown](https://jupyter-notebook.readthedocs.io/en/latest/examples/Notebook/Working%20With%20Markdown%20Cells.html). They may contain text, images, LaTeX equations.\n",
    "\n",
    "After selecting a cell (highlighted in green):\n",
    "\n",
    "* You can insert a new cell (code cell by default) by typing `Esc` followed by `A` (insert above) or `Esc` followed by `B` (insert below).\n",
    "* Convert it to a code cell using `Esc` then `Y`.\n",
    "* Convert it to a Markdown cell using `Esc` then `M`."
   ]
  },
  {
   "cell_type": "markdown",
   "metadata": {},
   "source": [
    "**Exercise**: Convert the following cell into a code cell and run it."
   ]
  },
  {
   "cell_type": "markdown",
   "metadata": {},
   "source": [
    "sqrt(2)"
   ]
  },
  {
   "cell_type": "markdown",
   "metadata": {},
   "source": [
    "Another tip: You can toggle code lines with `Esc`, `L`."
   ]
  },
  {
   "cell_type": "markdown",
   "metadata": {},
   "source": [
    "### Getting Around\n",
    "\n",
    "So far we don't really know how to do anything in Julia. Thankfully, there is a built-in help system. You can access it by entering `?`:"
   ]
  },
  {
   "cell_type": "code",
   "execution_count": null,
   "metadata": {},
   "outputs": [],
   "source": [
    "?"
   ]
  },
  {
   "cell_type": "markdown",
   "metadata": {},
   "source": [
    "Note that there are four different \"modes\" available in both a REPL and Julia notebook:\n",
    "\n",
    "- Default: Julia command mode.\n",
    "- `?` (`help?>`): Access the help system.\n",
    "- `;` (`shell>`): Access a command line shell for your system.\n",
    "- `]` (`xxx pkg>`): Access Julia's package system.\n",
    "\n",
    "You can return to the default by hitting `Delete` or `Backspace`.\n",
    "A Julia REPL will tell you which mode you are in as you type a command."
   ]
  },
  {
   "cell_type": "markdown",
   "metadata": {},
   "source": [
    "You can us the help system to ask about any object defined within your working environment including data types, functions, and variables."
   ]
  },
  {
   "cell_type": "code",
   "execution_count": null,
   "metadata": {},
   "outputs": [],
   "source": [
    "?print"
   ]
  },
  {
   "cell_type": "markdown",
   "metadata": {},
   "source": [
    "The `apropos` function is also useful for finding existing commands by searching documentation for keywords."
   ]
  },
  {
   "cell_type": "code",
   "execution_count": null,
   "metadata": {},
   "outputs": [],
   "source": [
    "apropos(\"sorting\")"
   ]
  },
  {
   "cell_type": "markdown",
   "metadata": {},
   "source": [
    "### Literals, Variables, and Basic Data Types\n",
    "\n",
    "In most programming languages, `1`, `1.0`, and `\"1\"` are likely to be different kinds of objects even though they appear similar to each other."
   ]
  },
  {
   "cell_type": "code",
   "execution_count": null,
   "metadata": {},
   "outputs": [],
   "source": [
    "1"
   ]
  },
  {
   "cell_type": "code",
   "execution_count": null,
   "metadata": {},
   "outputs": [],
   "source": [
    "1.0"
   ]
  },
  {
   "cell_type": "code",
   "execution_count": null,
   "metadata": {},
   "outputs": [],
   "source": [
    "\"1\""
   ]
  },
  {
   "cell_type": "markdown",
   "metadata": {},
   "source": [
    "Such objects are said to *belong to a class* or to *be of a certain type*. \n",
    "**In Julia, we think of objects in terms of types**. \n",
    "\n",
    "There is built-in support for various number types that are important for computing:"
   ]
  },
  {
   "cell_type": "code",
   "execution_count": null,
   "metadata": {},
   "outputs": [],
   "source": [
    "typeof(0x01) # 8-bit unsigned integer"
   ]
  },
  {
   "cell_type": "code",
   "execution_count": null,
   "metadata": {},
   "outputs": [],
   "source": [
    "typeof(1) # 64-bit integers, or 32-bit if you're using an older computer"
   ]
  },
  {
   "cell_type": "code",
   "execution_count": null,
   "metadata": {},
   "outputs": [],
   "source": [
    "typeof(1.0) # double precision floating point"
   ]
  },
  {
   "cell_type": "code",
   "execution_count": null,
   "metadata": {},
   "outputs": [],
   "source": [
    "typeof(1f0) # single precision floating point"
   ]
  },
  {
   "cell_type": "code",
   "execution_count": null,
   "metadata": {},
   "outputs": [],
   "source": [
    "typeof('1') # characters, only one symbol"
   ]
  },
  {
   "cell_type": "code",
   "execution_count": null,
   "metadata": {},
   "outputs": [],
   "source": [
    "typeof(\"1\") # strings, sequence of characters"
   ]
  },
  {
   "cell_type": "code",
   "execution_count": null,
   "metadata": {},
   "outputs": [],
   "source": [
    "typeof(true) # boolean: true or false"
   ]
  },
  {
   "cell_type": "markdown",
   "metadata": {},
   "source": [
    "Symbols like `1` and `3.14` are often referred to as *literals* because the notation itself literally bears its meaning within the language.\n",
    "In contrast to literals, we can use certain symbols to define *variables*.\n",
    "The general syntax is `<variable name> = <assigned value>`:"
   ]
  },
  {
   "cell_type": "code",
   "execution_count": null,
   "metadata": {},
   "outputs": [],
   "source": [
    "myvariable = 2.0\n",
    "myothervar = 3.4; # the semicolon, ;, is used to suppress printing the result of this code cell"
   ]
  },
  {
   "cell_type": "code",
   "execution_count": null,
   "metadata": {},
   "outputs": [],
   "source": [
    "myvariable"
   ]
  },
  {
   "cell_type": "code",
   "execution_count": null,
   "metadata": {},
   "outputs": [],
   "source": [
    "myothervar"
   ]
  },
  {
   "cell_type": "markdown",
   "metadata": {},
   "source": [
    "As with many programming languages, the symbol `=` is reserved for variable assignment.\n",
    "Variables are useful because we can use them to store values to later use in an algorithm, or a sequence of steps.\n",
    "Like the literals we looked at before, variables also have types depending on the object it is *bound to*:"
   ]
  },
  {
   "cell_type": "code",
   "execution_count": null,
   "metadata": {},
   "outputs": [],
   "source": [
    "typeof(myvariable)"
   ]
  },
  {
   "cell_type": "markdown",
   "metadata": {},
   "source": [
    "One nice feature in Julia is its [support for Unicode characters](https://docs.julialang.org/en/v1/manual/unicode-input/) in function names and variables.\n",
    "In a REPL or Jupyter notebook (using Julia), you can input special characters using tab completions.\n",
    "Here are a few examples:"
   ]
  },
  {
   "cell_type": "code",
   "execution_count": null,
   "metadata": {},
   "outputs": [],
   "source": [
    "α = 0.5; # type \\alpha → Tab\n",
    "x₁ = 42; # type x\\_1 → Tab\n",
    "🍔 = [\"bun\", \"patty\", \"bun\"]; # type \\:hamburger: → Tab"
   ]
  },
  {
   "cell_type": "markdown",
   "metadata": {},
   "source": [
    "Try printing the values of these variables below:"
   ]
  },
  {
   "cell_type": "code",
   "execution_count": null,
   "metadata": {},
   "outputs": [],
   "source": []
  },
  {
   "cell_type": "markdown",
   "metadata": {},
   "source": [
    "### Functions"
   ]
  },
  {
   "cell_type": "markdown",
   "metadata": {},
   "source": [
    "So far, we have *literals* to represent basic units of computation and *variables* to store values within a program.\n",
    "These are the nouns in a programming language.\n",
    "How do we actually say anything useful?\n",
    "We need *functions*, which serve as verbs.\n",
    "\n",
    "#### The usual [artihmetic operators](https://docs.julialang.org/en/v1/manual/mathematical-operations/#Arithmetic-Operators) (which are functions) are supported in Julia:"
   ]
  },
  {
   "cell_type": "code",
   "execution_count": null,
   "metadata": {},
   "outputs": [],
   "source": [
    "1 + 1 # addition"
   ]
  },
  {
   "cell_type": "code",
   "execution_count": null,
   "metadata": {},
   "outputs": [],
   "source": [
    "2.3 * 4 # multiplication"
   ]
  },
  {
   "cell_type": "code",
   "execution_count": null,
   "metadata": {},
   "outputs": [],
   "source": [
    "9 / 3 # (floating point) division"
   ]
  },
  {
   "cell_type": "code",
   "execution_count": null,
   "metadata": {},
   "outputs": [],
   "source": [
    "7 % 2 # remainder after integer division"
   ]
  },
  {
   "cell_type": "code",
   "execution_count": null,
   "metadata": {},
   "outputs": [],
   "source": [
    "2 ^ 4 # exponentiation"
   ]
  },
  {
   "cell_type": "code",
   "execution_count": null,
   "metadata": {},
   "outputs": [],
   "source": [
    "-1 # negative sign"
   ]
  },
  {
   "cell_type": "markdown",
   "metadata": {},
   "source": [
    "#### Other [logical operators](https://docs.julialang.org/en/v1/manual/mathematical-operations/#Boolean-Operators) and [comparison operators](https://docs.julialang.org/en/v1/manual/mathematical-operations/#Numeric-Comparisons):"
   ]
  },
  {
   "cell_type": "code",
   "execution_count": null,
   "metadata": {},
   "outputs": [],
   "source": [
    "1 < 2"
   ]
  },
  {
   "cell_type": "code",
   "execution_count": null,
   "metadata": {},
   "outputs": [],
   "source": [
    "!(1 ≤ 1) # type `\\le` and hit `TAB` to get the ≤ symbol"
   ]
  },
  {
   "cell_type": "markdown",
   "metadata": {},
   "source": [
    "#### Printing (note that the character `\\n` indicates a newline):"
   ]
  },
  {
   "cell_type": "code",
   "execution_count": null,
   "metadata": {},
   "outputs": [],
   "source": [
    "print(\"The value of myvariable is \", myvariable, \".\\n\")\n",
    "print(\"The value of myothervar is \", myothervar, \".\\n\")"
   ]
  },
  {
   "cell_type": "markdown",
   "metadata": {},
   "source": [
    "The same can be achieved with `println`:"
   ]
  },
  {
   "cell_type": "code",
   "execution_count": null,
   "metadata": {},
   "outputs": [],
   "source": [
    "println(\"The value of myvariable is \", myvariable, \".\")\n",
    "println(\"The value of myothervar is \", myothervar, \".\")"
   ]
  },
  {
   "cell_type": "markdown",
   "metadata": {},
   "source": [
    "Multi-line strings, `\"\"\"...\"\"\"`, interpret whitespace:"
   ]
  },
  {
   "cell_type": "code",
   "execution_count": null,
   "metadata": {},
   "outputs": [],
   "source": [
    "print(\n",
    "\"\"\"\n",
    "The value of myvariable is $myvariable.\n",
    "The value of myothervar is $(myothervar).\n",
    "\"\"\"\n",
    ")"
   ]
  },
  {
   "cell_type": "markdown",
   "metadata": {},
   "source": [
    "**Note:** The terms *operator* and *function* are virtually the same for our purposes.\n",
    "The only meaningful distinction from our POV is that *operators* have shorthand names based on punctuation marks whereas *functions* are typically spelled out in several characters.\n",
    "Binary operators also support *infix notation* so we can use them just how one typically writes down math but it's also possible to call operators the same way one invokes `println`:"
   ]
  },
  {
   "cell_type": "code",
   "execution_count": null,
   "metadata": {},
   "outputs": [],
   "source": [
    "+(1, 1)"
   ]
  },
  {
   "cell_type": "markdown",
   "metadata": {},
   "source": [
    "Notice that `1 + 1` returns `2` as an `Int64` whereas as `4 / 2` returns `2` as a `Float64`.\n",
    "We can try a few more examples to see that *addition on two elements of the same type* always returns an answer of that same type (in fact, this is a mathematical property of addition on certain sets).\n",
    "\n",
    "What happens when we mix data types?\n",
    "\n",
    "Julia has a set of promotion rules to determine how to resolve certain operations.\n",
    "For example, `1 + 3.2` will return `4.2` as a `Float64`.\n",
    "Test this yourself using `typeof`."
   ]
  },
  {
   "cell_type": "code",
   "execution_count": null,
   "metadata": {},
   "outputs": [],
   "source": [
    "# your code here"
   ]
  },
  {
   "cell_type": "markdown",
   "metadata": {},
   "source": [
    "This is not the case with division and so we naturally have a few ways to handle it: `/`, `div`, and `//`.\n",
    "Check the documentation for these functions."
   ]
  },
  {
   "cell_type": "code",
   "execution_count": null,
   "metadata": {},
   "outputs": [],
   "source": [
    "# your code here"
   ]
  },
  {
   "cell_type": "markdown",
   "metadata": {},
   "source": [
    "Julia's type promotion rules make it is so programmers do not waste time casting objects to 'compatible' data types; they are already compatible.\n",
    "Importantly, operations with numbers already handle type promotion with reasonable defaults so that standard arithmetic \"just works\" out of the box.\n",
    "\n",
    "However, if you ever needed to handle conversions explicitly you can do it with the `convert` function:"
   ]
  },
  {
   "cell_type": "code",
   "execution_count": null,
   "metadata": {},
   "outputs": [],
   "source": [
    "convert(Complex{Float64}, 1.0) # specify the type, then give the object to convert"
   ]
  },
  {
   "cell_type": "markdown",
   "metadata": {},
   "source": [
    "Many useful functions are already implemented in Julia.\n",
    "In fact, if there is something you want to do it is often helpful to try looking up `?<verb>` to see if an existing function can solve your task.\n",
    "\n",
    "Programming often involves building up many small programs that, ideally, can be composed to write larger more complex programs.\n",
    "There are many ways to define a function in Julia.\n",
    "For example, consider the function $x \\mapsto x + 1$ that takes a number and adds 1 to it:\n",
    "\n",
    "```julia\n",
    "f(x) = x+1    # written as a single line\n",
    "\n",
    "function f(x) # written as multiple lines\n",
    "    x+1\n",
    "end\n",
    "```\n",
    "\n",
    "**Aside** Notice that a few words in the definition are highlighted.\n",
    "The words `function` and `end` are highlighted *purple* because they are **reserved words** -- notation that the Julia programming language reserves for the language itself.\n",
    "We can understand the syntax as follows:\n",
    "- `function`: begin a statement (possibly multiple lines) that defines a function.\n",
    "- `end`: mark the end of the last statement.\n",
    "There are many more reserved words, listed here in the [Julia documentation](https://docs.julialang.org/en/v1/base/base/#Keywords).\n",
    "\n",
    "Getting back to function definitions, the general syntax is\n",
    "\n",
    "```julia\n",
    "function FUNCTION_NAME(INPUTS_SEPARATED_BY_COMMAS)\n",
    "    # function body\n",
    "end\n",
    "```"
   ]
  },
  {
   "cell_type": "markdown",
   "metadata": {},
   "source": [
    "By default, a function returns the value of the last statement within the body.\n",
    "You can be specific about what the return value should be by using the `return` keyword."
   ]
  },
  {
   "cell_type": "markdown",
   "metadata": {},
   "source": [
    "**Exercise**: What is the return value of the following functions?\n",
    "\n",
    "```julia\n",
    "function fun1(x)\n",
    "    x + 1\n",
    "    x + 2\n",
    "    x + 3\n",
    "end\n",
    "```\n",
    "\n",
    "```julia\n",
    "function fun2(x)\n",
    "    x + 1\n",
    "    return x + 2\n",
    "    x + 3\n",
    "end\n",
    "```\n",
    "\n",
    "```julia\n",
    "function fun3(x)\n",
    "    x + 1\n",
    "    x = x + 2\n",
    "    return x + 3\n",
    "    x = x + 4\n",
    "end\n",
    "```\n",
    "\n",
    "```julia\n",
    "function fun4(x)\n",
    "    x + 10\n",
    "    return\n",
    "    x - 2\n",
    "end\n",
    "```"
   ]
  },
  {
   "cell_type": "markdown",
   "metadata": {},
   "source": [
    "### Program Control Flow\n",
    "\n",
    "*Conditional statements* and *repeated evaluation* are common patterns that emerge in algorithms.\n",
    "Julia handles these concepts in a straightforward way."
   ]
  },
  {
   "cell_type": "markdown",
   "metadata": {},
   "source": [
    "#### Conditional Statements"
   ]
  },
  {
   "cell_type": "markdown",
   "metadata": {},
   "source": [
    "`if-else` blocks allow you to execute a block of code conditional on some requirement."
   ]
  },
  {
   "cell_type": "code",
   "execution_count": null,
   "metadata": {},
   "outputs": [],
   "source": [
    "if rand() < 0.5 # mimic a coin flip\n",
    "    println(\"Heads\")\n",
    "else\n",
    "    println(\"Tails\")\n",
    "end"
   ]
  },
  {
   "cell_type": "markdown",
   "metadata": {},
   "source": [
    "These statements can be changed using `if-elseif-else` blocks.\n",
    "Remember that code blocks always have a return value."
   ]
  },
  {
   "cell_type": "code",
   "execution_count": null,
   "metadata": {},
   "outputs": [],
   "source": [
    "u = rand()\n",
    "\n",
    "x = if u < 0.25\n",
    "    1\n",
    "elseif 0.25 ≤ u < 0.5\n",
    "    2\n",
    "elseif 0.5 ≤ u < 0.75\n",
    "    3\n",
    "else\n",
    "    4\n",
    "end\n",
    "\n",
    "println(\"The value of x is $(x).\")"
   ]
  },
  {
   "cell_type": "markdown",
   "metadata": {},
   "source": [
    "You can omit the `elseif` or `else` portions altogether.\n",
    "These blocks can be written as one-liners, too.\n",
    "\n",
    "What is the return type when we do assignment like this?\n",
    "Use `@show x` to investigate."
   ]
  },
  {
   "cell_type": "code",
   "execution_count": null,
   "metadata": {},
   "outputs": [],
   "source": [
    "x = if rand() < 0.5 \"In the if statement\" end\n",
    "\n",
    "@show x"
   ]
  },
  {
   "cell_type": "markdown",
   "metadata": {},
   "source": [
    "The ternary operator (3-argument) `?` can be used to write `if-else` statements more compactly as\n",
    "\n",
    "`<condition> ? <true branch> : <false branch>`"
   ]
  },
  {
   "cell_type": "code",
   "execution_count": null,
   "metadata": {},
   "outputs": [],
   "source": [
    "truth_value = rand() < 0.5\n",
    "\n",
    "truth_value ? println(\"branch taken if true\") : println(\"branch taken if false\")\n",
    "\n",
    "@show truth_value"
   ]
  },
  {
   "cell_type": "markdown",
   "metadata": {},
   "source": [
    "Lastly, the [short-circuit operators](https://docs.julialang.org/en/v1/manual/control-flow/#Short-Circuit-Evaluation), `&&` and `||`, can also be used to write compact conditional statements.\n",
    "Statements chained with these operators are evaluated left to right.\n",
    "\n",
    "* Short-circuit AND (`&&`): In `a && b`, `b` is evaluted only when `a` returns `true`.\n",
    "* Short-circuit OR (`||`): In `a || b`, `b` is evaluated only when `a` returns `false`.\n",
    "\n",
    "For example, in the Julia documentation there is an example that uses them to implement a recursive version of a factorial function. "
   ]
  },
  {
   "cell_type": "code",
   "execution_count": null,
   "metadata": {},
   "outputs": [],
   "source": [
    "function fact(n::Int) # ::Int is a type annotation; we'll discuss this later\n",
    "    n >= 0 || error(\"n must be non-negative\") # use || to detect a violated condtion\n",
    "    n == 0 && return 1 # use && to detect the base case\n",
    "    n * fact(n-1) # otherwise, continue to recurse\n",
    "end"
   ]
  },
  {
   "cell_type": "code",
   "execution_count": null,
   "metadata": {},
   "outputs": [],
   "source": [
    "fact(0)"
   ]
  },
  {
   "cell_type": "code",
   "execution_count": null,
   "metadata": {},
   "outputs": [],
   "source": [
    "fact(-1)"
   ]
  },
  {
   "cell_type": "code",
   "execution_count": null,
   "metadata": {},
   "outputs": [],
   "source": [
    "fact(4)"
   ]
  },
  {
   "cell_type": "markdown",
   "metadata": {},
   "source": [
    "#### Repeated evaluation with loops"
   ]
  },
  {
   "cell_type": "markdown",
   "metadata": {},
   "source": [
    "`for` loops in Julia allow you to repeat a set of instructions a specific number of times.\n",
    "For example, the following code prints out a sequence of numbers:"
   ]
  },
  {
   "cell_type": "code",
   "execution_count": null,
   "metadata": {},
   "outputs": [],
   "source": [
    "for i = 1:10 # this is MATLAB/FORTRAN/C/C++ -like style\n",
    "    println(\"The value of i is $(i)\")\n",
    "end"
   ]
  },
  {
   "cell_type": "markdown",
   "metadata": {},
   "source": [
    "We start by giving some condition that determines how many times to execute commands, in this case we define a *local* variable `i` and state that it will take values from `1` to `10` using the range object `1:10` (will discuss later).\n",
    "Next, we give a command to execute repeatedly.\n",
    "The `for` loop will run until it exhausts values in the \"enumeration\"."
   ]
  },
  {
   "cell_type": "markdown",
   "metadata": {},
   "source": [
    "Another way is to pass a list and iterate over the elements of that list."
   ]
  },
  {
   "cell_type": "code",
   "execution_count": null,
   "metadata": {},
   "outputs": [],
   "source": [
    "mylist = collect(1:10) # creates a 1-D array with elements 1 through 10; discuss later!\n",
    "\n",
    "for item in mylist # or for i in 1:10; this is the preferred style in Julia\n",
    "    println(\"The value of item is $(item)\")\n",
    "end"
   ]
  },
  {
   "cell_type": "markdown",
   "metadata": {},
   "source": [
    "You can use `enumerate` to grab both the index and member at the same time:"
   ]
  },
  {
   "cell_type": "code",
   "execution_count": null,
   "metadata": {},
   "outputs": [],
   "source": [
    "mylist = rand('a':'z', 10)\n",
    "\n",
    "for (i, item) in enumerate(mylist)\n",
    "    println(\"The item at index $(i) is $(item)\")\n",
    "end"
   ]
  },
  {
   "cell_type": "markdown",
   "metadata": {},
   "source": [
    "For loops will even work with dictionaries (discussed later!):"
   ]
  },
  {
   "cell_type": "code",
   "execution_count": null,
   "metadata": {},
   "outputs": [],
   "source": [
    "d = Dict('a' => 1, 'b' => 2, 'c' => 100)"
   ]
  },
  {
   "cell_type": "code",
   "execution_count": null,
   "metadata": {},
   "outputs": [],
   "source": [
    "for (key, value) in d\n",
    "    println(\"The key $(key) maps to $(value)\")\n",
    "end"
   ]
  },
  {
   "cell_type": "markdown",
   "metadata": {},
   "source": [
    "The `while` loops allows one to execute repeated evaluation without knowing how many times to run a set of instructions ahead of time.\n",
    "Instead of iterating over a set of values, a `while` loop runs until some condition evaluates to `false`:"
   ]
  },
  {
   "cell_type": "code",
   "execution_count": null,
   "metadata": {},
   "outputs": [],
   "source": [
    "counter = 0\n",
    "\n",
    "while counter < 5\n",
    "    println(\"The current value is $(counter)\")\n",
    "    counter = counter + 1 # or counter += 1\n",
    "end"
   ]
  },
  {
   "cell_type": "code",
   "execution_count": null,
   "metadata": {},
   "outputs": [],
   "source": [
    "counter = 0\n",
    "still_true = true # use a Bool as a flag to indicate current state\n",
    "\n",
    "while still_true\n",
    "    println(\"The current value is $(counter)\")\n",
    "    counter = counter + 1    # make sure to update the counter\n",
    "    still_true = counter < 5 # make sure to update the variable we use to check\n",
    "end"
   ]
  },
  {
   "cell_type": "markdown",
   "metadata": {},
   "source": [
    "Care must be taken to make sure a `while` loop eventually terminates.\n",
    "If you accidentally make an infinite `while` loop, just use the \"Interrupt the kernel\" button (□), `Esc` → `C`, or `Ctrl + C`."
   ]
  },
  {
   "cell_type": "markdown",
   "metadata": {},
   "source": [
    "### Exercise"
   ]
  },
  {
   "cell_type": "markdown",
   "metadata": {},
   "source": [
    "Credit: [Algorithms from THE BOOK](https://locus.siam.org/doi/book/10.1137/1.9781611976175?mobileUi=0&) by Kenneth Lange\n",
    "\n",
    "The ancients could compute square roots long before the age of computers or the rigorous formulation of the real numbers.\n",
    "The so-called Babylonian method estimates square roots via the iterative method\n",
    "$$\n",
    "x_{k+1} = \\frac{1}{2}\\left[x_{k} + \\frac{a}{x_{k}}\\right].\n",
    "$$\n",
    "\n",
    "Implement a function that computes the square root of an a non-negative number `a` based on an initial guess `x0`.\n",
    "Your function should run until it achieves a given relative tolerance, $\\epsilon$ = `tol`; in symbols this is\n",
    "$$\n",
    "|x_{k+1} - x_{k}| < \\epsilon~(x_{k} + 1).\n",
    "$$\n",
    "Your function should also report the number of iterations taken, and return the estimate."
   ]
  },
  {
   "cell_type": "code",
   "execution_count": null,
   "metadata": {},
   "outputs": [],
   "source": [
    "function babylonian(a, x0, tol)\n",
    "    x_cur = x0            # current estimate\n",
    "    x_old = x0            # previous estimate\n",
    "    not_converged = true  # flag that indicates convergence\n",
    "    iter = 0              # number of iterations\n",
    "    \n",
    "    # your code goes here\n",
    "    while not_converged\n",
    "        x_old = x_cur\n",
    "        x_cur = 0.5 * (x_cur + a / x_cur)\n",
    "        not_converged = abs(x_cur - x_old) ≥ tol * (x_old + 1)\n",
    "        iter += 1\n",
    "    end\n",
    "    \n",
    "    println(\"Converged after $(iter) iterations.\")\n",
    "    \n",
    "    return x_cur\n",
    "end"
   ]
  },
  {
   "cell_type": "code",
   "execution_count": null,
   "metadata": {},
   "outputs": [],
   "source": [
    "x_babylonian = babylonian(2, 1.4, 1e-6)"
   ]
  },
  {
   "cell_type": "code",
   "execution_count": null,
   "metadata": {},
   "outputs": [],
   "source": [
    "x_sqrt = sqrt(2)"
   ]
  },
  {
   "cell_type": "code",
   "execution_count": null,
   "metadata": {},
   "outputs": [],
   "source": [
    "abs(x_babylonian - x_sqrt)"
   ]
  },
  {
   "cell_type": "markdown",
   "metadata": {},
   "source": [
    "# Advanced Topics"
   ]
  },
  {
   "cell_type": "markdown",
   "metadata": {},
   "source": [
    "### Macros to know about\n",
    "\n",
    "*Macros* in Julia are functions that transform Julia code into other Julia code.\n",
    "This is possible in part because Julia is written in Julia itself, using `Symbol` and `Expr` objects.\n",
    "For example:"
   ]
  },
  {
   "cell_type": "code",
   "execution_count": 25,
   "metadata": {},
   "outputs": [
    {
     "data": {
      "text/plain": [
       ":(1 + 3)"
      ]
     },
     "execution_count": 25,
     "metadata": {},
     "output_type": "execute_result"
    }
   ],
   "source": [
    "ex = :(1 + 3) # the : symbol can be used to define a symbol or expression"
   ]
  },
  {
   "cell_type": "code",
   "execution_count": 26,
   "metadata": {},
   "outputs": [
    {
     "data": {
      "text/plain": [
       "Expr"
      ]
     },
     "execution_count": 26,
     "metadata": {},
     "output_type": "execute_result"
    }
   ],
   "source": [
    "typeof(ex)"
   ]
  },
  {
   "cell_type": "code",
   "execution_count": 27,
   "metadata": {},
   "outputs": [
    {
     "data": {
      "text/plain": [
       ":call"
      ]
     },
     "execution_count": 27,
     "metadata": {},
     "output_type": "execute_result"
    }
   ],
   "source": [
    "ex.head"
   ]
  },
  {
   "cell_type": "code",
   "execution_count": 28,
   "metadata": {},
   "outputs": [
    {
     "data": {
      "text/plain": [
       "3-element Vector{Any}:\n",
       "  :+\n",
       " 1\n",
       " 3"
      ]
     },
     "execution_count": 28,
     "metadata": {},
     "output_type": "execute_result"
    }
   ],
   "source": [
    "ex.args"
   ]
  },
  {
   "cell_type": "code",
   "execution_count": 34,
   "metadata": {},
   "outputs": [
    {
     "data": {
      "text/plain": [
       "4"
      ]
     },
     "execution_count": 34,
     "metadata": {},
     "output_type": "execute_result"
    }
   ],
   "source": [
    "eval(ex) # evaluate the expression; you almost never have to use something like this in your code"
   ]
  },
  {
   "cell_type": "markdown",
   "metadata": {},
   "source": [
    "The `@time` macro is useful for timing parts of your code.\n",
    "To undrestand what we mean by code transformation, the `@time` macro is roughly equivalent to"
   ]
  },
  {
   "cell_type": "code",
   "execution_count": 59,
   "metadata": {},
   "outputs": [
    {
     "data": {
      "text/plain": [
       "0.10148406028747559"
      ]
     },
     "execution_count": 59,
     "metadata": {},
     "output_type": "execute_result"
    }
   ],
   "source": [
    "t1 = time() # get time in seconds\n",
    "sleep(0.1) # do something\n",
    "t2 = time() # get new time in seconds\n",
    "(t2 - t1) # get time elapsed"
   ]
  },
  {
   "cell_type": "code",
   "execution_count": 61,
   "metadata": {},
   "outputs": [
    {
     "name": "stdout",
     "output_type": "stream",
     "text": [
      "  0.101233 seconds (8 allocations: 208 bytes)\n"
     ]
    }
   ],
   "source": [
    "@time sleep(0.1); # includes information about memory allocation"
   ]
  },
  {
   "cell_type": "markdown",
   "metadata": {},
   "source": [
    "Macros are quite an advanced topic, but here we will simply mention a few macros and describe their use:\n",
    "\n",
    "1. `@time`: time a line of code (can be used on functions); see also [BenchmarkTools.jl](https://github.com/JuliaCI/BenchmarkTools.jl) for more rigorous benchmarking.\n",
    "2. `@show`: force displaying of a variable or expression\n",
    "3. `@inbounds`: turn off bounds-checking on arrays within an expression (use with extreme care!)\n",
    "4. `@code_warntype`: useful for checking Julia code for type stability\n",
    "5. `@.`: Add `.` to functions in an expression to induce broadcasting\n",
    "6. `@assert`: Check that an expression evaluates to true; otherwise throw an error."
   ]
  },
  {
   "cell_type": "markdown",
   "metadata": {},
   "source": [
    "### Everything in Julia has a return type\n",
    "\n",
    "This includes functions, `begin ... end` blocks, `for` loops, `if .. else` statements.\n",
    "If there is no \"reasonable\" value to return, Julia will return `nothing`, an alias for the `Nothing` object."
   ]
  },
  {
   "cell_type": "code",
   "execution_count": null,
   "metadata": {},
   "outputs": [],
   "source": [
    "nothing"
   ]
  },
  {
   "cell_type": "code",
   "execution_count": null,
   "metadata": {},
   "outputs": [],
   "source": [
    "typeof(nothing)"
   ]
  },
  {
   "cell_type": "code",
   "execution_count": null,
   "metadata": {},
   "outputs": [],
   "source": [
    "?nothing"
   ]
  },
  {
   "cell_type": "code",
   "execution_count": null,
   "metadata": {},
   "outputs": [],
   "source": [
    "c = 0.0\n",
    "\n",
    "val = for i in 1:3 # for loops evaluate to nothing\n",
    "    c += rand()\n",
    "end\n",
    "\n",
    "@show val\n",
    "@show c"
   ]
  },
  {
   "cell_type": "code",
   "execution_count": null,
   "metadata": {},
   "outputs": [],
   "source": [
    "val = if c < 1 # if statements return the last value in the branch taken\n",
    "    \"abc\"\n",
    "    \"def\"\n",
    "else\n",
    "    \"ghi\"\n",
    "    \"jkl\"\n",
    "end\n",
    "\n",
    "val"
   ]
  },
  {
   "cell_type": "markdown",
   "metadata": {},
   "source": [
    "### A little more on types\n",
    "\n",
    "Julia has a flexible [type system](https://docs.julialang.org/en/v1/manual/types/).\n",
    "There are two main types to be aware of as you start with the language:\n",
    "\n",
    "1. Composite Types: Types that combine other data types.\n",
    "2. Parametric Types: Types that define a *family* of types, parameterized by some variables.\n",
    "\n",
    "We won't dive into details, but will introduce the syntax to define your own types.\n",
    "Importantly, types can be defined at any point in time, but their structure cannot be changed once defined.\n",
    "This means:\n",
    "\n",
    "- You can edit functions that use a particular type, but not change what fields are part of the type.\n",
    "- You can update constructors.\n",
    "\n",
    "In the following code, note that `<name>::<type>` is a *type annotation* which declares that a particular variable has a certain type.\n",
    "Type annotations can be used anywhere, including\n",
    "\n",
    "- function signatures, which limit the type of arguments that can go into the function, and\n",
    "- code blocks/function bodies, which enforce that an object must have a certain type."
   ]
  },
  {
   "cell_type": "code",
   "execution_count": 17,
   "metadata": {},
   "outputs": [],
   "source": [
    "struct Point2D # define an (immutable) type named Point2D\n",
    "    x::Float64 # has a field x which is a Float64\n",
    "    y::Float64 # has a field y which is a Float64\n",
    "end"
   ]
  },
  {
   "cell_type": "code",
   "execution_count": 18,
   "metadata": {},
   "outputs": [
    {
     "data": {
      "text/plain": [
       "Point2D(1.0, 0.0)"
      ]
     },
     "execution_count": 18,
     "metadata": {},
     "output_type": "execute_result"
    }
   ],
   "source": [
    "Point2D(1.0, 0.0) # Julia automatically defines a constructor for you"
   ]
  },
  {
   "cell_type": "code",
   "execution_count": 19,
   "metadata": {},
   "outputs": [],
   "source": [
    "struct ParPoint2D{T <: Real} # define a type family where T is a Real number\n",
    "    x::T # has a field x, which has type T\n",
    "    y::T # has a field y, which is ALSO type T\n",
    "end"
   ]
  },
  {
   "cell_type": "code",
   "execution_count": 22,
   "metadata": {},
   "outputs": [
    {
     "data": {
      "text/plain": [
       "ParPoint2D{Int64}(0, 0)"
      ]
     },
     "execution_count": 22,
     "metadata": {},
     "output_type": "execute_result"
    }
   ],
   "source": [
    "ParPoint2D(0,0) # type parameter automatically inferred"
   ]
  },
  {
   "cell_type": "code",
   "execution_count": 21,
   "metadata": {},
   "outputs": [
    {
     "data": {
      "text/plain": [
       "ParPoint2D{Float64}(0.0, 0.0)"
      ]
     },
     "execution_count": 21,
     "metadata": {},
     "output_type": "execute_result"
    }
   ],
   "source": [
    "ParPoint2D{Float64}(0, 0) # note the automatic conversion"
   ]
  },
  {
   "cell_type": "markdown",
   "metadata": {},
   "source": [
    "### Type stability"
   ]
  },
  {
   "cell_type": "markdown",
   "metadata": {},
   "source": [
    "A block of code, such as a function, is said to be *type-stable* if Julia is able to determine the types of all variables at compile time.\n",
    "Having complete type information allows Julia's compiler to automatically generate efficient code that runs on your machine.\n",
    "You can investigate type stability using the `@code_warntype` macro, which will highlight potential type instability in red (serious) and yellow (okay)."
   ]
  },
  {
   "cell_type": "code",
   "execution_count": 2,
   "metadata": {},
   "outputs": [
    {
     "data": {
      "text/plain": [
       "silly_example (generic function with 1 method)"
      ]
     },
     "execution_count": 2,
     "metadata": {},
     "output_type": "execute_result"
    }
   ],
   "source": [
    "function silly_example(x)\n",
    "    if x < 10\n",
    "        return \"ten\"\n",
    "    else\n",
    "        return x\n",
    "    end\n",
    "end"
   ]
  },
  {
   "cell_type": "code",
   "execution_count": 3,
   "metadata": {},
   "outputs": [
    {
     "data": {
      "text/plain": [
       "\"ten\""
      ]
     },
     "execution_count": 3,
     "metadata": {},
     "output_type": "execute_result"
    }
   ],
   "source": [
    "silly_example(1)"
   ]
  },
  {
   "cell_type": "code",
   "execution_count": 4,
   "metadata": {},
   "outputs": [
    {
     "data": {
      "text/plain": [
       "12.3"
      ]
     },
     "execution_count": 4,
     "metadata": {},
     "output_type": "execute_result"
    }
   ],
   "source": [
    "silly_example(12.3)"
   ]
  },
  {
   "cell_type": "code",
   "execution_count": 6,
   "metadata": {},
   "outputs": [
    {
     "name": "stdout",
     "output_type": "stream",
     "text": [
      "Variables\n",
      "  #self#\u001b[36m::Core.Const(silly_example)\u001b[39m\n",
      "  x\u001b[36m::Int64\u001b[39m\n",
      "\n",
      "Body\u001b[91m\u001b[1m::Union{Int64, String}\u001b[22m\u001b[39m\n",
      "\u001b[90m1 ─\u001b[39m %1 = (x < 10)\u001b[36m::Bool\u001b[39m\n",
      "\u001b[90m└──\u001b[39m      goto #3 if not %1\n",
      "\u001b[90m2 ─\u001b[39m      return \"ten\"\n",
      "\u001b[90m3 ─\u001b[39m      return x\n"
     ]
    }
   ],
   "source": [
    "@code_warntype silly_example(1)"
   ]
  },
  {
   "cell_type": "markdown",
   "metadata": {},
   "source": [
    "Here the annotation with `Union{Int64,String}` means that the return value is either a `Int64` or a `String`, which is called a *type union*.\n",
    "Julia handles minor type stability violations by introducing type unions to limit the possibility of return types.\n",
    "In the *worst case* the return type will be `Any`, the catch-all when Julia is unable to infer any type information.\n",
    "\n",
    "Let's look at a more realistic example.\n",
    "Here we have a function that computes the sum of an array:"
   ]
  },
  {
   "cell_type": "code",
   "execution_count": 7,
   "metadata": {},
   "outputs": [
    {
     "data": {
      "text/plain": [
       "mysum (generic function with 1 method)"
      ]
     },
     "execution_count": 7,
     "metadata": {},
     "output_type": "execute_result"
    }
   ],
   "source": [
    "function mysum(x)\n",
    "    value = 0 # initialize\n",
    "    for i in eachindex(x) # iterate over the indices in x\n",
    "        value = value + x[i] # sum\n",
    "    end\n",
    "    return value\n",
    "end"
   ]
  },
  {
   "cell_type": "code",
   "execution_count": 10,
   "metadata": {},
   "outputs": [
    {
     "data": {
      "text/plain": [
       "6.0"
      ]
     },
     "execution_count": 10,
     "metadata": {},
     "output_type": "execute_result"
    }
   ],
   "source": [
    "x = [1.0, 2.0, 3.0]\n",
    "mysum(x)"
   ]
  },
  {
   "cell_type": "code",
   "execution_count": 11,
   "metadata": {},
   "outputs": [
    {
     "name": "stdout",
     "output_type": "stream",
     "text": [
      "Variables\n",
      "  #self#\u001b[36m::Core.Const(mysum)\u001b[39m\n",
      "  x\u001b[36m::Vector{Float64}\u001b[39m\n",
      "  @_3\u001b[33m\u001b[1m::Union{Nothing, Tuple{Int64, Int64}}\u001b[22m\u001b[39m\n",
      "  value\u001b[91m\u001b[1m::Union{Float64, Int64}\u001b[22m\u001b[39m\n",
      "  i\u001b[36m::Int64\u001b[39m\n",
      "\n",
      "Body\u001b[91m\u001b[1m::Union{Float64, Int64}\u001b[22m\u001b[39m\n",
      "\u001b[90m1 ─\u001b[39m       (value = 0)\n",
      "\u001b[90m│  \u001b[39m %2  = Main.eachindex(x)\u001b[36m::Base.OneTo{Int64}\u001b[39m\n",
      "\u001b[90m│  \u001b[39m       (@_3 = Base.iterate(%2))\n",
      "\u001b[90m│  \u001b[39m %4  = (@_3 === nothing)\u001b[36m::Bool\u001b[39m\n",
      "\u001b[90m│  \u001b[39m %5  = Base.not_int(%4)\u001b[36m::Bool\u001b[39m\n",
      "\u001b[90m└──\u001b[39m       goto #4 if not %5\n",
      "\u001b[90m2 ┄\u001b[39m %7  = @_3::Tuple{Int64, Int64}\u001b[36m::Tuple{Int64, Int64}\u001b[39m\n",
      "\u001b[90m│  \u001b[39m       (i = Core.getfield(%7, 1))\n",
      "\u001b[90m│  \u001b[39m %9  = Core.getfield(%7, 2)\u001b[36m::Int64\u001b[39m\n",
      "\u001b[90m│  \u001b[39m %10 = value\u001b[91m\u001b[1m::Union{Float64, Int64}\u001b[22m\u001b[39m\n",
      "\u001b[90m│  \u001b[39m %11 = Base.getindex(x, i)\u001b[36m::Float64\u001b[39m\n",
      "\u001b[90m│  \u001b[39m       (value = %10 + %11)\n",
      "\u001b[90m│  \u001b[39m       (@_3 = Base.iterate(%2, %9))\n",
      "\u001b[90m│  \u001b[39m %14 = (@_3 === nothing)\u001b[36m::Bool\u001b[39m\n",
      "\u001b[90m│  \u001b[39m %15 = Base.not_int(%14)\u001b[36m::Bool\u001b[39m\n",
      "\u001b[90m└──\u001b[39m       goto #4 if not %15\n",
      "\u001b[90m3 ─\u001b[39m       goto #2\n",
      "\u001b[90m4 ┄\u001b[39m       return value\n"
     ]
    }
   ],
   "source": [
    "@code_warntype mysum(x)"
   ]
  },
  {
   "cell_type": "markdown",
   "metadata": {},
   "source": [
    "This means the return type for `value` is either a `Int64` or a `Float64`.\n",
    "The reason is that `value = 0` is initially an `Int64`. Then:\n",
    "- if the `for` loop runs, `value = value + x[1]` where `x[1]::Float64` so `value` is promoted to a `Float64`, or\n",
    "- if the `for` loop never runs, then `value = 0` which is an `Int64`.\n",
    "This seems like a bad consequence of Julia's flexible type system.\n",
    "However, it has a very easy fix:"
   ]
  },
  {
   "cell_type": "code",
   "execution_count": 12,
   "metadata": {},
   "outputs": [
    {
     "data": {
      "text/plain": [
       "mysum (generic function with 1 method)"
      ]
     },
     "execution_count": 12,
     "metadata": {},
     "output_type": "execute_result"
    }
   ],
   "source": [
    "function mysum(x)\n",
    "    value = zero(eltype(x)) # set value to the zero of the same type as elements in x\n",
    "    for i in eachindex(x)\n",
    "        value = value + x[i]\n",
    "    end\n",
    "    return value\n",
    "end"
   ]
  },
  {
   "cell_type": "code",
   "execution_count": 15,
   "metadata": {},
   "outputs": [
    {
     "name": "stdout",
     "output_type": "stream",
     "text": [
      "Variables\n",
      "  #self#\u001b[36m::Core.Const(mysum)\u001b[39m\n",
      "  x\u001b[36m::Vector{Int64}\u001b[39m\n",
      "  @_3\u001b[33m\u001b[1m::Union{Nothing, Tuple{Int64, Int64}}\u001b[22m\u001b[39m\n",
      "  value\u001b[36m::Int64\u001b[39m\n",
      "  i\u001b[36m::Int64\u001b[39m\n",
      "\n",
      "Body\u001b[36m::Int64\u001b[39m\n",
      "\u001b[90m1 ─\u001b[39m %1  = Main.eltype(x)\u001b[36m::Core.Const(Int64)\u001b[39m\n",
      "\u001b[90m│  \u001b[39m       (value = Main.zero(%1))\n",
      "\u001b[90m│  \u001b[39m %3  = Main.eachindex(x)\u001b[36m::Base.OneTo{Int64}\u001b[39m\n",
      "\u001b[90m│  \u001b[39m       (@_3 = Base.iterate(%3))\n",
      "\u001b[90m│  \u001b[39m %5  = (@_3 === nothing)\u001b[36m::Bool\u001b[39m\n",
      "\u001b[90m│  \u001b[39m %6  = Base.not_int(%5)\u001b[36m::Bool\u001b[39m\n",
      "\u001b[90m└──\u001b[39m       goto #4 if not %6\n",
      "\u001b[90m2 ┄\u001b[39m %8  = @_3::Tuple{Int64, Int64}\u001b[36m::Tuple{Int64, Int64}\u001b[39m\n",
      "\u001b[90m│  \u001b[39m       (i = Core.getfield(%8, 1))\n",
      "\u001b[90m│  \u001b[39m %10 = Core.getfield(%8, 2)\u001b[36m::Int64\u001b[39m\n",
      "\u001b[90m│  \u001b[39m %11 = value\u001b[36m::Int64\u001b[39m\n",
      "\u001b[90m│  \u001b[39m %12 = Base.getindex(x, i)\u001b[36m::Int64\u001b[39m\n",
      "\u001b[90m│  \u001b[39m       (value = %11 + %12)\n",
      "\u001b[90m│  \u001b[39m       (@_3 = Base.iterate(%3, %10))\n",
      "\u001b[90m│  \u001b[39m %15 = (@_3 === nothing)\u001b[36m::Bool\u001b[39m\n",
      "\u001b[90m│  \u001b[39m %16 = Base.not_int(%15)\u001b[36m::Bool\u001b[39m\n",
      "\u001b[90m└──\u001b[39m       goto #4 if not %16\n",
      "\u001b[90m3 ─\u001b[39m       goto #2\n",
      "\u001b[90m4 ┄\u001b[39m       return value\n"
     ]
    }
   ],
   "source": [
    "x = Int64[1, 2, 3]\n",
    "@code_warntype mysum(x)"
   ]
  },
  {
   "cell_type": "code",
   "execution_count": 16,
   "metadata": {},
   "outputs": [
    {
     "name": "stdout",
     "output_type": "stream",
     "text": [
      "Variables\n",
      "  #self#\u001b[36m::Core.Const(mysum)\u001b[39m\n",
      "  x\u001b[36m::Vector{Float32}\u001b[39m\n",
      "  @_3\u001b[33m\u001b[1m::Union{Nothing, Tuple{Int64, Int64}}\u001b[22m\u001b[39m\n",
      "  value\u001b[36m::Float32\u001b[39m\n",
      "  i\u001b[36m::Int64\u001b[39m\n",
      "\n",
      "Body\u001b[36m::Float32\u001b[39m\n",
      "\u001b[90m1 ─\u001b[39m %1  = Main.eltype(x)\u001b[36m::Core.Const(Float32)\u001b[39m\n",
      "\u001b[90m│  \u001b[39m       (value = Main.zero(%1))\n",
      "\u001b[90m│  \u001b[39m %3  = Main.eachindex(x)\u001b[36m::Base.OneTo{Int64}\u001b[39m\n",
      "\u001b[90m│  \u001b[39m       (@_3 = Base.iterate(%3))\n",
      "\u001b[90m│  \u001b[39m %5  = (@_3 === nothing)\u001b[36m::Bool\u001b[39m\n",
      "\u001b[90m│  \u001b[39m %6  = Base.not_int(%5)\u001b[36m::Bool\u001b[39m\n",
      "\u001b[90m└──\u001b[39m       goto #4 if not %6\n",
      "\u001b[90m2 ┄\u001b[39m %8  = @_3::Tuple{Int64, Int64}\u001b[36m::Tuple{Int64, Int64}\u001b[39m\n",
      "\u001b[90m│  \u001b[39m       (i = Core.getfield(%8, 1))\n",
      "\u001b[90m│  \u001b[39m %10 = Core.getfield(%8, 2)\u001b[36m::Int64\u001b[39m\n",
      "\u001b[90m│  \u001b[39m %11 = value\u001b[36m::Float32\u001b[39m\n",
      "\u001b[90m│  \u001b[39m %12 = Base.getindex(x, i)\u001b[36m::Float32\u001b[39m\n",
      "\u001b[90m│  \u001b[39m       (value = %11 + %12)\n",
      "\u001b[90m│  \u001b[39m       (@_3 = Base.iterate(%3, %10))\n",
      "\u001b[90m│  \u001b[39m %15 = (@_3 === nothing)\u001b[36m::Bool\u001b[39m\n",
      "\u001b[90m│  \u001b[39m %16 = Base.not_int(%15)\u001b[36m::Bool\u001b[39m\n",
      "\u001b[90m└──\u001b[39m       goto #4 if not %16\n",
      "\u001b[90m3 ─\u001b[39m       goto #2\n",
      "\u001b[90m4 ┄\u001b[39m       return value\n"
     ]
    }
   ],
   "source": [
    "x = Float32[1, 2, 3]\n",
    "@code_warntype mysum(x)"
   ]
  },
  {
   "cell_type": "markdown",
   "metadata": {},
   "source": [
    "The type instability is gone!\n",
    "Now we have a generic, type-stable function that preserves types after the sum reduction."
   ]
  },
  {
   "cell_type": "markdown",
   "metadata": {},
   "source": [
    "### Broadcasting\n",
    "\n",
    "The `.` symbol has a special meaning in Julia in that it is reserved for two operations: accessing fields of a type, or *broadcasting*.\n",
    "Roughly speaking, *broadcasting* allows you to apply functions to elements of a collection individually using a concise syntax.\n",
    "\n",
    "For example we can do elementwise-multiplication:"
   ]
  },
  {
   "cell_type": "code",
   "execution_count": null,
   "metadata": {},
   "outputs": [],
   "source": [
    "x = [1, 2, 3]\n",
    "y = [12, 6, 4]\n",
    "\n",
    "x .* y"
   ]
  },
  {
   "cell_type": "markdown",
   "metadata": {},
   "source": [
    "This works for *any* function, not just operators:"
   ]
  },
  {
   "cell_type": "code",
   "execution_count": null,
   "metadata": {},
   "outputs": [],
   "source": [
    "function foo(x)\n",
    "    return x * sqrt(2)\n",
    "end"
   ]
  },
  {
   "cell_type": "code",
   "execution_count": null,
   "metadata": {},
   "outputs": [],
   "source": [
    "foo.(x)"
   ]
  },
  {
   "cell_type": "markdown",
   "metadata": {},
   "source": [
    "Julia will try to reason about functions supporting multiple arguments where possible:"
   ]
  },
  {
   "cell_type": "code",
   "execution_count": null,
   "metadata": {},
   "outputs": [],
   "source": [
    "function bar(x, y)\n",
    "    return x + sqrt(y)\n",
    "end"
   ]
  },
  {
   "cell_type": "code",
   "execution_count": null,
   "metadata": {},
   "outputs": [],
   "source": [
    "bar.(x, y)"
   ]
  },
  {
   "cell_type": "code",
   "execution_count": null,
   "metadata": {},
   "outputs": [],
   "source": [
    "z = 4 * ones(5)"
   ]
  },
  {
   "cell_type": "code",
   "execution_count": null,
   "metadata": {},
   "outputs": [],
   "source": [
    "bar.(x, z)"
   ]
  },
  {
   "cell_type": "markdown",
   "metadata": {},
   "source": [
    "Adding `.` everywhere can become tedious in a complicated expression, so Julia provides a special `@.` *macro* to automatically add broadasting to an expression:"
   ]
  },
  {
   "cell_type": "code",
   "execution_count": null,
   "metadata": {},
   "outputs": [],
   "source": [
    "z = rand(3)"
   ]
  },
  {
   "cell_type": "code",
   "execution_count": null,
   "metadata": {},
   "outputs": [],
   "source": [
    "@. x * y + z"
   ]
  },
  {
   "cell_type": "code",
   "execution_count": null,
   "metadata": {},
   "outputs": [],
   "source": [
    "w = zeros(3)\n",
    "\n",
    "for i in eachindex(w) # eachindex(w) is preferred style over 1:length(w)\n",
    "    w[i] = x[i] * y[i] + z[i] # equivalent version\n",
    "end\n",
    "\n",
    "w"
   ]
  },
  {
   "cell_type": "markdown",
   "metadata": {},
   "source": [
    "### (Im)mutability and function name conventions"
   ]
  },
  {
   "cell_type": "markdown",
   "metadata": {},
   "source": [
    "Every type in Julia is either *mutable* or *immutable*.\n",
    "A type is said to be *mutable* if you are allowed to change its contents.\n",
    "In contrast, *immutable* objects cannot have their contents changed."
   ]
  },
  {
   "cell_type": "markdown",
   "metadata": {},
   "source": [
    "For example, if we create a variable that stores the number `1` we can bind the variable to a new value *but its contents do not change* because it is immutable.\n",
    "Let's illustrate this by writing a wrapper type for `Int`:"
   ]
  },
  {
   "cell_type": "code",
   "execution_count": null,
   "metadata": {},
   "outputs": [],
   "source": [
    "struct MyInt # structs are immutable\n",
    "    value::Int\n",
    "end"
   ]
  },
  {
   "cell_type": "code",
   "execution_count": null,
   "metadata": {},
   "outputs": [],
   "source": [
    "x = MyInt(1)"
   ]
  },
  {
   "cell_type": "code",
   "execution_count": null,
   "metadata": {},
   "outputs": [],
   "source": [
    "x.value = 2"
   ]
  },
  {
   "cell_type": "code",
   "execution_count": null,
   "metadata": {},
   "outputs": [],
   "source": [
    "mutable struct MutableInt\n",
    "    value::Int\n",
    "end"
   ]
  },
  {
   "cell_type": "code",
   "execution_count": null,
   "metadata": {},
   "outputs": [],
   "source": [
    "y = MutableInt(1)"
   ]
  },
  {
   "cell_type": "code",
   "execution_count": null,
   "metadata": {},
   "outputs": [],
   "source": [
    "y.value = 2"
   ]
  },
  {
   "cell_type": "code",
   "execution_count": null,
   "metadata": {},
   "outputs": [],
   "source": [
    "y"
   ]
  },
  {
   "cell_type": "markdown",
   "metadata": {},
   "source": [
    "Given this behavior, you may naturally wonder how objects may or may not change if one attempts to mutate them inside a function."
   ]
  },
  {
   "cell_type": "code",
   "execution_count": null,
   "metadata": {},
   "outputs": [],
   "source": [
    "a = [1.0, 2, 3]"
   ]
  },
  {
   "cell_type": "code",
   "execution_count": null,
   "metadata": {},
   "outputs": [],
   "source": [
    "function mutate_second_element(x)\n",
    "    x[2] = sqrt(2) # this is MUTATION! it is shorthand for setfield!(x, new_value, index)\n",
    "end"
   ]
  },
  {
   "cell_type": "code",
   "execution_count": null,
   "metadata": {},
   "outputs": [],
   "source": [
    "mutate_second_element(a)"
   ]
  },
  {
   "cell_type": "code",
   "execution_count": null,
   "metadata": {},
   "outputs": [],
   "source": [
    "a"
   ]
  },
  {
   "cell_type": "code",
   "execution_count": null,
   "metadata": {},
   "outputs": [],
   "source": [
    "@which a[2] = sqrt(2)"
   ]
  },
  {
   "cell_type": "code",
   "execution_count": null,
   "metadata": {},
   "outputs": [],
   "source": [
    "function assign_and_mutate_second_element(x)\n",
    "    y = x # this is ASSIGNMENT\n",
    "    y[2] = sqrt(3) # this is MUTATION\n",
    "end"
   ]
  },
  {
   "cell_type": "code",
   "execution_count": null,
   "metadata": {},
   "outputs": [],
   "source": [
    "assign_and_mutate_second_element(a)"
   ]
  },
  {
   "cell_type": "code",
   "execution_count": null,
   "metadata": {},
   "outputs": [],
   "source": [
    "a"
   ]
  },
  {
   "cell_type": "markdown",
   "metadata": {},
   "source": [
    "To understand this example, remember that `=` by itself simply *binds* a value to a particular symbol.\n",
    "So, `y = x` simply means that the data attached to `x` is now also attached to `y`; no new copy is created.\n",
    "Mutating the data attached to `y` is equivalent to mutating `x`.\n",
    "\n",
    "We can test this with another example:"
   ]
  },
  {
   "cell_type": "code",
   "execution_count": null,
   "metadata": {},
   "outputs": [],
   "source": [
    "function copy_and_mutate_second_element(x)\n",
    "    y = copy(x) # assign y a copy of the data in x\n",
    "    y[2] = sqrt(17)\n",
    "end"
   ]
  },
  {
   "cell_type": "code",
   "execution_count": null,
   "metadata": {},
   "outputs": [],
   "source": [
    "copy_and_mutate_second_element(a)"
   ]
  },
  {
   "cell_type": "code",
   "execution_count": null,
   "metadata": {},
   "outputs": [],
   "source": [
    "a"
   ]
  },
  {
   "cell_type": "markdown",
   "metadata": {},
   "source": [
    "**To help programmers understand that objects will be mutated after calling a particular function, we use the convention of adding `!` to the end of a mutating function**. This lets users know that a function will mutate some arguments. Usually, we put the mutated arguments on the left of the function signature.\n",
    "\n",
    "In fact, it is a common pattern in Julia to separate a function into allocating and non-allocating versions:"
   ]
  },
  {
   "cell_type": "code",
   "execution_count": null,
   "metadata": {},
   "outputs": [],
   "source": [
    "function compute_partial_sums(x)\n",
    "    # create an Array with the same shape as x, but filled with zero(eltype(x)). \n",
    "    partial = zero(x)\n",
    "    \n",
    "    # do the actual work, storing the result in partial\n",
    "    # we return whatever this function evaluates to\n",
    "    compute_partial_sums!(partial, x)\n",
    "end"
   ]
  },
  {
   "cell_type": "code",
   "execution_count": null,
   "metadata": {},
   "outputs": [],
   "source": [
    "function compute_partial_sums!(partial, x) # use convention; has ! and mutated argument is the first\n",
    "    for i in eachindex(x)\n",
    "        prev = i > 1 ? partial[i-1] : zero(eltype(x))\n",
    "        partial[i] = prev + x[i]\n",
    "    end\n",
    "    return partial\n",
    "end"
   ]
  },
  {
   "cell_type": "code",
   "execution_count": null,
   "metadata": {},
   "outputs": [],
   "source": [
    "x = [1, 1, 1, 1]"
   ]
  },
  {
   "cell_type": "code",
   "execution_count": null,
   "metadata": {},
   "outputs": [],
   "source": [
    "compute_partial_sums(x)"
   ]
  },
  {
   "cell_type": "markdown",
   "metadata": {},
   "source": [
    "This is essentially what the `cumsum` (cumulative sum) function does:"
   ]
  },
  {
   "cell_type": "code",
   "execution_count": null,
   "metadata": {},
   "outputs": [],
   "source": [
    "cumsum(x)"
   ]
  },
  {
   "cell_type": "code",
   "execution_count": null,
   "metadata": {},
   "outputs": [],
   "source": [
    "partial = zero(x)\n",
    "cumsum!(partial, x)\n",
    "partial"
   ]
  },
  {
   "cell_type": "markdown",
   "metadata": {},
   "source": [
    "### Collections"
   ]
  },
  {
   "cell_type": "markdown",
   "metadata": {},
   "source": [
    "Roughly speaking, a *collection* is simply an object that stores multiple objects; e.g. an object that stores multiple literals.\n",
    "There are several important collections to know in Julia.\n",
    "Note that collects can be nested within each other, so it is possible to have an `Array` of `Array`s or a `Dict` of `NamedTuple` objects.\n",
    "\n",
    "Before diving into specific examples, you should be aware that collections share so much behavior that Julia defines [interfaces](https://docs.julialang.org/en/v1/manual/interfaces/) to make it easy to work with types that implement these common behaviors.\n",
    "Examples of interfaces include:\n",
    "\n",
    "* *indexing* to access a particular element in a collection, and\n",
    "* *iteration* to retrieve data from a collection in a predictable fashion (e.g. first, second, third...)."
   ]
  },
  {
   "cell_type": "markdown",
   "metadata": {},
   "source": [
    "#### Array\n",
    "\n",
    "A Julia [`Array`](https://docs.julialang.org/en/v1/base/arrays/) is an indexed collection with a particular shape determined by its dimensions.\n",
    "This means the elements of an `Array` are ordered; it makes sense to speak of \"the first element\" or \"the last element\". Here are a few examples:"
   ]
  },
  {
   "cell_type": "code",
   "execution_count": null,
   "metadata": {},
   "outputs": [],
   "source": [
    "rand(3)"
   ]
  },
  {
   "cell_type": "code",
   "execution_count": null,
   "metadata": {},
   "outputs": [],
   "source": [
    "rand(3, 3)"
   ]
  },
  {
   "cell_type": "code",
   "execution_count": null,
   "metadata": {},
   "outputs": [],
   "source": [
    "rand(3, 3, 3)"
   ]
  },
  {
   "cell_type": "markdown",
   "metadata": {},
   "source": [
    "The `Array` type is actually a parametric type -- it defines a *family of types* parameterized by the element type and number of dimensions.\n",
    "Specifically, we have `Array{ElementType, NumberDimensions}`:"
   ]
  },
  {
   "cell_type": "code",
   "execution_count": null,
   "metadata": {},
   "outputs": [],
   "source": [
    "?Array"
   ]
  },
  {
   "cell_type": "markdown",
   "metadata": {},
   "source": [
    "Note that `Array{T,1}` is an alias for `Vector{T}` and `Array{T,2}` is an alias for `Matrix{T}`."
   ]
  },
  {
   "cell_type": "markdown",
   "metadata": {},
   "source": [
    "Instead of generating random arrays, we can create arrays with specific contents using square brackets `[]`:"
   ]
  },
  {
   "cell_type": "code",
   "execution_count": null,
   "metadata": {},
   "outputs": [],
   "source": [
    "x = [10.0, 3.2, sqrt(2)]"
   ]
  },
  {
   "cell_type": "markdown",
   "metadata": {},
   "source": [
    "You can access elements of an `Array` using `x[<index>]`.\n",
    "**Note that Julia arrays start at index `1`!!!**.\n",
    "\n",
    "If you really hate this for some reason, or your algorithm needs special indexing, you can write your own array type just like in [OffsetArrays.jl](https://github.com/JuliaArrays/OffsetArrays.jl)."
   ]
  },
  {
   "cell_type": "code",
   "execution_count": null,
   "metadata": {},
   "outputs": [],
   "source": [
    "x[1]"
   ]
  },
  {
   "cell_type": "markdown",
   "metadata": {},
   "source": [
    "You can also create matrices by separating elements in a row by spaces, and indicate a new row by a `;`."
   ]
  },
  {
   "cell_type": "code",
   "execution_count": null,
   "metadata": {},
   "outputs": [],
   "source": [
    "y = [1 2 3; 4 5 6; 7 8 9]"
   ]
  },
  {
   "cell_type": "markdown",
   "metadata": {},
   "source": [
    "You can specify a common type, too:"
   ]
  },
  {
   "cell_type": "code",
   "execution_count": null,
   "metadata": {},
   "outputs": [],
   "source": [
    "Float32[1 2 3; 4 5 6; 7 8 9]"
   ]
  },
  {
   "cell_type": "markdown",
   "metadata": {},
   "source": [
    "You can use a linear index, e.g. `y[2]`, or coordinates, e.g. `y[2,1]` to acces the element `4`:"
   ]
  },
  {
   "cell_type": "code",
   "execution_count": null,
   "metadata": {},
   "outputs": [],
   "source": [
    "y[2] == y[2,1]"
   ]
  },
  {
   "cell_type": "markdown",
   "metadata": {},
   "source": [
    "**Julia arrays are column-major, meaning elements are organized as contiguous data along columns**.\n",
    "This means that if you ever need to iterate over the elements of a multi-dimensional arrays, the \"fast\" dimension should be the first dimension."
   ]
  },
  {
   "cell_type": "code",
   "execution_count": null,
   "metadata": {},
   "outputs": [],
   "source": [
    "for j in 1:3, i in 1:3 # (j,i) order is favored over (i,j) order\n",
    "    println(\"y[$i,$j] = $(y[i,j])\")\n",
    "end"
   ]
  },
  {
   "cell_type": "markdown",
   "metadata": {},
   "source": [
    "Lastly, you can select all the elements along a particular dimension using a colon `:`:"
   ]
  },
  {
   "cell_type": "code",
   "execution_count": null,
   "metadata": {},
   "outputs": [],
   "source": [
    "y[:, 1] # selects column 1"
   ]
  },
  {
   "cell_type": "code",
   "execution_count": null,
   "metadata": {},
   "outputs": [],
   "source": [
    "y[2, :] # selects row 2"
   ]
  },
  {
   "cell_type": "markdown",
   "metadata": {},
   "source": [
    "Julia arrays are mutable, so you can change the contents of a particular location in the array using the assignment operator `=`:"
   ]
  },
  {
   "cell_type": "code",
   "execution_count": null,
   "metadata": {},
   "outputs": [],
   "source": [
    "y[3,3] = 100"
   ]
  },
  {
   "cell_type": "code",
   "execution_count": null,
   "metadata": {},
   "outputs": [],
   "source": [
    "y"
   ]
  },
  {
   "cell_type": "markdown",
   "metadata": {},
   "source": [
    "Other operations that can mutate an array:"
   ]
  },
  {
   "cell_type": "code",
   "execution_count": null,
   "metadata": {},
   "outputs": [],
   "source": [
    "x = Int64[] # empty array of Int64 objects"
   ]
  },
  {
   "cell_type": "code",
   "execution_count": null,
   "metadata": {},
   "outputs": [],
   "source": [
    "for j in 1:5\n",
    "    push!(x, j) # add an element at the end\n",
    "end\n",
    "\n",
    "x"
   ]
  },
  {
   "cell_type": "code",
   "execution_count": null,
   "metadata": {},
   "outputs": [],
   "source": [
    "pop!(x); x # delete the last element"
   ]
  },
  {
   "cell_type": "code",
   "execution_count": null,
   "metadata": {},
   "outputs": [],
   "source": [
    "y = rand(3)\n",
    "[x; y] # vertical concatenation; equivalent to vcat(x, y)"
   ]
  },
  {
   "cell_type": "code",
   "execution_count": null,
   "metadata": {},
   "outputs": [],
   "source": [
    "y = rand(length(x))\n",
    "[x y] # horizontal concatenation; equivalent to hcat(x, y)"
   ]
  },
  {
   "cell_type": "code",
   "execution_count": null,
   "metadata": {},
   "outputs": [],
   "source": []
  },
  {
   "cell_type": "markdown",
   "metadata": {},
   "source": [
    "An `Array` has certain properties, like `length`, `size`, and `eltype`:"
   ]
  },
  {
   "cell_type": "code",
   "execution_count": null,
   "metadata": {},
   "outputs": [],
   "source": [
    "A = rand(10, 12)"
   ]
  },
  {
   "cell_type": "code",
   "execution_count": null,
   "metadata": {},
   "outputs": [],
   "source": [
    "length(A)"
   ]
  },
  {
   "cell_type": "code",
   "execution_count": null,
   "metadata": {},
   "outputs": [],
   "source": [
    "size(A)"
   ]
  },
  {
   "cell_type": "code",
   "execution_count": null,
   "metadata": {},
   "outputs": [],
   "source": [
    "eltype(A)"
   ]
  },
  {
   "cell_type": "markdown",
   "metadata": {},
   "source": [
    "#### Ranges\n",
    "\n",
    "A range is an object that behaves much like an `Array` in that it supports indexing and iteration."
   ]
  },
  {
   "cell_type": "markdown",
   "metadata": {},
   "source": [
    "#### Tuples"
   ]
  },
  {
   "cell_type": "markdown",
   "metadata": {},
   "source": [
    "Tuples are similar to arrays in that they are lists of objects, but they do not have a shape.\n",
    "They are creatd using parantheses, `()`."
   ]
  },
  {
   "cell_type": "code",
   "execution_count": null,
   "metadata": {},
   "outputs": [],
   "source": [
    "x = (1, 2, 3)"
   ]
  },
  {
   "cell_type": "markdown",
   "metadata": {},
   "source": [
    "Accessing elements works the same as an `Array`:"
   ]
  },
  {
   "cell_type": "code",
   "execution_count": null,
   "metadata": {},
   "outputs": [],
   "source": [
    "x[2]"
   ]
  },
  {
   "cell_type": "markdown",
   "metadata": {},
   "source": [
    "But a `Tuple` is immutable"
   ]
  },
  {
   "cell_type": "code",
   "execution_count": null,
   "metadata": {},
   "outputs": [],
   "source": [
    "x[2] = 100"
   ]
  },
  {
   "cell_type": "markdown",
   "metadata": {},
   "source": [
    "So why would you use `Tuple`?\n",
    "Because a `Tuple` is immutable, it can be allocated on the stack -- its size is known exactly at compile time.\n",
    "Moreover, it is possible to make a heterogeneous list -- where elements have different types -- and have operations with the tuple be type-stable."
   ]
  },
  {
   "cell_type": "code",
   "execution_count": null,
   "metadata": {},
   "outputs": [],
   "source": [
    "x = (1, \"abc\", 1.4)"
   ]
  },
  {
   "cell_type": "code",
   "execution_count": null,
   "metadata": {},
   "outputs": [],
   "source": [
    "y = [x[1], x[2], x[3]]"
   ]
  },
  {
   "cell_type": "code",
   "execution_count": null,
   "metadata": {},
   "outputs": [],
   "source": [
    "typeof(x) # element types are known exactly before checking"
   ]
  },
  {
   "cell_type": "code",
   "execution_count": null,
   "metadata": {},
   "outputs": [],
   "source": [
    "typeof(y) # element types are only known once we index"
   ]
  },
  {
   "cell_type": "markdown",
   "metadata": {},
   "source": [
    "#### NamedTuples\n",
    "\n",
    "A `NamedTuple` is similar to a `Tuple` except each field has a specific name.\n",
    "You can create a `NamedTuple` using key-value pairs within `(...):`"
   ]
  },
  {
   "cell_type": "code",
   "execution_count": null,
   "metadata": {},
   "outputs": [],
   "source": [
    "z = (a=1.0, b=\"two\", c=3)"
   ]
  },
  {
   "cell_type": "markdown",
   "metadata": {},
   "source": [
    "Access elements using the dot syntax"
   ]
  },
  {
   "cell_type": "code",
   "execution_count": null,
   "metadata": {},
   "outputs": [],
   "source": [
    "z.b"
   ]
  },
  {
   "cell_type": "markdown",
   "metadata": {},
   "source": [
    "One particular use case for `NamedTuple` is for packaging several related variables into a single object, without having to write your own type."
   ]
  },
  {
   "cell_type": "markdown",
   "metadata": {},
   "source": [
    "#### Dict (Dictionaries)\n",
    "\n",
    "A [`Dict`](https://docs.julialang.org/en/v1/base/collections/#Dictionaries) in Julia is an object that maps a specific *key* to a unique *value* (key-value pairs).\n",
    "Virtually anything can be used as a key or value, but you should prefer using immutable objects as keys to avoid headaches!\n",
    "\n",
    "One way to define a `Dict` is by specifying key-value `Pairs`, `<key> => <value>`. Julia will infer the key and value types automatically."
   ]
  },
  {
   "cell_type": "code",
   "execution_count": null,
   "metadata": {},
   "outputs": [],
   "source": [
    "d = Dict(\"Alice\" => 25, \"Bob\" => 22)"
   ]
  },
  {
   "cell_type": "markdown",
   "metadata": {},
   "source": [
    "You can recover the value associated with a particular key using the usual indexing notation"
   ]
  },
  {
   "cell_type": "code",
   "execution_count": null,
   "metadata": {},
   "outputs": [],
   "source": [
    "d[\"Alice\"]"
   ]
  },
  {
   "cell_type": "markdown",
   "metadata": {},
   "source": [
    "And update its values with assignment"
   ]
  },
  {
   "cell_type": "code",
   "execution_count": null,
   "metadata": {},
   "outputs": [],
   "source": [
    "d[\"Bob\"] = 33; d"
   ]
  },
  {
   "cell_type": "markdown",
   "metadata": {},
   "source": [
    "### Optional arguments in functions\n",
    "\n",
    "It is possible to define functions with optional arguments.\n",
    "There are two kinds to consider:\n",
    "\n",
    "* *Positional arguments* occur at the end of a function signature in a specific order and have default values. If the optional arguments are not specified, the default values are used.\n",
    "* *Keyword arguments* begin after a semicolon `;` in a function signature. Changing the default values requires the caller to name the arguments and assign non-default values.\n",
    "\n",
    "You can specify as many optional arguments as needed, and can mix positional and keyword arguments."
   ]
  },
  {
   "cell_type": "code",
   "execution_count": null,
   "metadata": {},
   "outputs": [],
   "source": [
    "function add_number(a, b=1)\n",
    "    return a + b\n",
    "end"
   ]
  },
  {
   "cell_type": "code",
   "execution_count": null,
   "metadata": {},
   "outputs": [],
   "source": [
    "function also_add_number(a; b=1)\n",
    "    return a + b\n",
    "end"
   ]
  },
  {
   "cell_type": "code",
   "execution_count": null,
   "metadata": {},
   "outputs": [],
   "source": [
    "add_number(2) # don't specify the positional argument b"
   ]
  },
  {
   "cell_type": "code",
   "execution_count": null,
   "metadata": {},
   "outputs": [],
   "source": [
    "add_number(2, b=2) # this fails"
   ]
  },
  {
   "cell_type": "code",
   "execution_count": null,
   "metadata": {},
   "outputs": [],
   "source": [
    "add_number(2, 2) # specify b"
   ]
  },
  {
   "cell_type": "code",
   "execution_count": null,
   "metadata": {},
   "outputs": [],
   "source": [
    "also_add_number(2) # don't specify the keyword argument b"
   ]
  },
  {
   "cell_type": "code",
   "execution_count": null,
   "metadata": {},
   "outputs": [],
   "source": [
    "also_add_number(2, 2) # this fails"
   ]
  },
  {
   "cell_type": "code",
   "execution_count": null,
   "metadata": {},
   "outputs": [],
   "source": [
    "also_add_number(2, b=2) # the keyword argument must be invoked explicitly"
   ]
  },
  {
   "cell_type": "markdown",
   "metadata": {},
   "source": [
    "### Functions vs Methods\n",
    "\n",
    "A *function* in Julia is essentially the symbol bound to a particular \"action\".\n",
    "A *method* is a particular version or implementation of that action.\n",
    "\n",
    "For example, the `sqrt` function will behave differently depending on the input type."
   ]
  },
  {
   "cell_type": "code",
   "execution_count": null,
   "metadata": {},
   "outputs": [],
   "source": [
    "?sqrt"
   ]
  },
  {
   "cell_type": "markdown",
   "metadata": {},
   "source": [
    "Julia lets us look up *methods* for a particular *function* using `methods`:"
   ]
  },
  {
   "cell_type": "code",
   "execution_count": null,
   "metadata": {
    "scrolled": true
   },
   "outputs": [],
   "source": [
    "methods(sqrt)"
   ]
  },
  {
   "cell_type": "markdown",
   "metadata": {},
   "source": [
    "This table shows us that the `sqrt` function has 19 different methods, each specializing on different input types."
   ]
  },
  {
   "cell_type": "code",
   "execution_count": null,
   "metadata": {},
   "outputs": [],
   "source": [
    "sqrt(-1.0)"
   ]
  },
  {
   "cell_type": "code",
   "execution_count": null,
   "metadata": {},
   "outputs": [],
   "source": [
    "sqrt(Complex(-1.0))"
   ]
  },
  {
   "cell_type": "markdown",
   "metadata": {},
   "source": [
    "### Modules and Packages: Using Other People's Code"
   ]
  },
  {
   "cell_type": "markdown",
   "metadata": {},
   "source": [
    "#### Standard Library\n",
    "\n",
    "Julia ships with its own standard library.\n",
    "The functions immediately available mostly live in the Base module.\n",
    "Other useful packages include: \n",
    "\n",
    "- LinearAlgebra, for everything linear algebra\n",
    "- DelimitedFiles, for working with formatted files (e.g. tab or comma separated)\n",
    "- Statistics, many standard statistics functions\n",
    "- Random, random number generation\n",
    "- Printf, for printing formatted strings (C-style)\n",
    "- Pkg, the Julia pacakge manager"
   ]
  },
  {
   "cell_type": "markdown",
   "metadata": {},
   "source": [
    "#### Registered Packages\n",
    "\n",
    "Julia users and developers are free to contribute to the Julia package ecosystem by registering them.\n",
    "The **General** registry belongs to the whole community, but it is also possible to create your own private registry that contains your own packages (hosting is a separate issue).\n",
    "\n",
    "Regardless, you can manage community-contributed packages using the Pkg module.\n",
    "\n",
    "Some examples include:\n",
    "\n",
    "* DifferentialEquations\n",
    "* Distributions\n",
    "* DataFrames\n",
    "* BenchmarkTools\n",
    "\n",
    "and many, many more.\n",
    "\n",
    "Here are a few tips for package management:\n",
    "\n",
    "- Commands with Pkg and `]` (pkg-mode) are equivalent.\n",
    "- `Pkg.add(\"Example\")` or `] add Example` will add the Example package to your *environment*.\n",
    "- `Pkg.status()` or `] status` will tell you the list of installed packages for the current environment.\n",
    "- `Pkg.remove(\"Example\")` removes a package.\n",
    "- `Pkg.activate(\"path/to/dir\")` will activate the environment at `path/to/dir`. Julia searches the specified folder for a `Project.toml` file, or uses an empty one if it does not exist.\n",
    "- Use `Pkg.activate(\".\")` to return to the default environment."
   ]
  },
  {
   "cell_type": "markdown",
   "metadata": {},
   "source": [
    "#### Environments"
   ]
  },
  {
   "cell_type": "markdown",
   "metadata": {},
   "source": [
    "The list of explicitly installed packages is stored in a file called `Project.toml`.\n",
    "The main environment is usually called `v1.x` where `x` is the minor Julia version and lives in `~/.julia/environments/v1.x`.\n",
    "This is important because it helps you reproduce the environment used in developing a project!"
   ]
  },
  {
   "cell_type": "markdown",
   "metadata": {},
   "source": [
    "#### How to Actually Use Packages\n",
    "\n",
    "Packages live inside [*modules*](https://docs.julialang.org/en/v1/manual/modules/). They are defined using module code blocks."
   ]
  },
  {
   "cell_type": "code",
   "execution_count": 62,
   "metadata": {},
   "outputs": [
    {
     "name": "stdout",
     "output_type": "stream",
     "text": [
      "This module is loading\n",
      "We're done\n"
     ]
    },
    {
     "data": {
      "text/plain": [
       "Main.MyExample"
      ]
     },
     "execution_count": 62,
     "metadata": {},
     "output_type": "execute_result"
    }
   ],
   "source": [
    "module MyExample\n",
    "    println(\"This module is loading\")\n",
    "    helloworld() = println(\"Hello world! This is my contribution.\") # define a function\n",
    "    println(\"We're done\")\n",
    "\n",
    "    export helloworld # export the function by default so others can use it\n",
    "end"
   ]
  },
  {
   "cell_type": "markdown",
   "metadata": {},
   "source": [
    "We see the code executed. Let's try calling the function we made:"
   ]
  },
  {
   "cell_type": "code",
   "execution_count": 63,
   "metadata": {},
   "outputs": [
    {
     "ename": "LoadError",
     "evalue": "UndefVarError: helloworld not defined",
     "output_type": "error",
     "traceback": [
      "UndefVarError: helloworld not defined",
      "",
      "Stacktrace:",
      " [1] top-level scope",
      "   @ In[63]:1",
      " [2] eval",
      "   @ ./boot.jl:360 [inlined]",
      " [3] include_string(mapexpr::typeof(REPL.softscope), mod::Module, code::String, filename::String)",
      "   @ Base ./loading.jl:1094"
     ]
    }
   ],
   "source": [
    "helloworld()"
   ]
  },
  {
   "cell_type": "markdown",
   "metadata": {},
   "source": [
    "This fails because we've not loaded the module, only defined it.\n",
    "You can use `import` to load it:"
   ]
  },
  {
   "cell_type": "code",
   "execution_count": 75,
   "metadata": {},
   "outputs": [],
   "source": [
    "import Main.MyExample # MyExample is defined in the Main scope, so we need to address it"
   ]
  },
  {
   "cell_type": "code",
   "execution_count": 76,
   "metadata": {},
   "outputs": [
    {
     "name": "stdout",
     "output_type": "stream",
     "text": [
      "Hello world! This is my contribution.\n"
     ]
    }
   ],
   "source": [
    "helloworld()"
   ]
  },
  {
   "cell_type": "markdown",
   "metadata": {},
   "source": [
    "This still fails? The reason is `import` tells us to load the module, but prevents exported functions from being brought into scope. We have to be explicit about where the function comes from in this case."
   ]
  },
  {
   "cell_type": "code",
   "execution_count": 77,
   "metadata": {},
   "outputs": [
    {
     "name": "stdout",
     "output_type": "stream",
     "text": [
      "Hello world! This is my contribution.\n"
     ]
    }
   ],
   "source": [
    "Main.MyExample.helloworld()"
   ]
  },
  {
   "cell_type": "markdown",
   "metadata": {},
   "source": [
    "This can be a bit tedious, so fortunately Julia lets us bind a module to a variable to make it easier to write:"
   ]
  },
  {
   "cell_type": "code",
   "execution_count": 78,
   "metadata": {},
   "outputs": [
    {
     "data": {
      "text/plain": [
       "Main.MyExample"
      ]
     },
     "execution_count": 78,
     "metadata": {},
     "output_type": "execute_result"
    }
   ],
   "source": [
    "ME = Main.MyExample"
   ]
  },
  {
   "cell_type": "code",
   "execution_count": 79,
   "metadata": {},
   "outputs": [
    {
     "name": "stdout",
     "output_type": "stream",
     "text": [
      "Hello world! This is my contribution.\n"
     ]
    }
   ],
   "source": [
    "ME.helloworld()"
   ]
  },
  {
   "cell_type": "markdown",
   "metadata": {},
   "source": [
    "Alternatively, the `using` keyword brings all exported functions into scope:"
   ]
  },
  {
   "cell_type": "code",
   "execution_count": 82,
   "metadata": {},
   "outputs": [],
   "source": [
    "using Main.MyExample"
   ]
  },
  {
   "cell_type": "code",
   "execution_count": 81,
   "metadata": {},
   "outputs": [
    {
     "name": "stdout",
     "output_type": "stream",
     "text": [
      "Hello world! This is my contribution.\n"
     ]
    }
   ],
   "source": [
    "helloworld()"
   ]
  },
  {
   "cell_type": "markdown",
   "metadata": {},
   "source": [
    "Yet another option: You can explicitly choose which functions to bring into scope when you ivoke `using`:"
   ]
  },
  {
   "cell_type": "code",
   "execution_count": 88,
   "metadata": {},
   "outputs": [],
   "source": [
    "using LinearAlgebra: norm # only bring norm into scope, unqualified"
   ]
  },
  {
   "cell_type": "code",
   "execution_count": 89,
   "metadata": {},
   "outputs": [
    {
     "data": {
      "text/plain": [
       "0.36071809256537585"
      ]
     },
     "execution_count": 89,
     "metadata": {},
     "output_type": "execute_result"
    }
   ],
   "source": [
    "norm(rand(3))"
   ]
  },
  {
   "cell_type": "code",
   "execution_count": 90,
   "metadata": {},
   "outputs": [
    {
     "data": {
      "text/plain": [
       "eigen (generic function with 14 methods)"
      ]
     },
     "execution_count": 90,
     "metadata": {},
     "output_type": "execute_result"
    }
   ],
   "source": [
    "eigen # lives in LinearAlgebra"
   ]
  },
  {
   "cell_type": "code",
   "execution_count": 91,
   "metadata": {},
   "outputs": [],
   "source": [
    "using LinearAlgebra"
   ]
  },
  {
   "cell_type": "code",
   "execution_count": 92,
   "metadata": {},
   "outputs": [
    {
     "data": {
      "text/plain": [
       "eigen (generic function with 14 methods)"
      ]
     },
     "execution_count": 92,
     "metadata": {},
     "output_type": "execute_result"
    }
   ],
   "source": [
    "eigen"
   ]
  },
  {
   "cell_type": "markdown",
   "metadata": {},
   "source": [
    "### Duck Typing and Multiple Dispatch\n",
    "\n",
    "In all our functions so far we have not specified the *types* of arguments that go into the function.\n",
    "Yet, Julia is always aware of the types of arguments and variables within a function in spite of this fact.\n",
    "This is known as *duck typing* and is actually a nice feature common to dynamic languages because it allows functions to be written in a generic fashion."
   ]
  },
  {
   "cell_type": "markdown",
   "metadata": {},
   "source": [
    "In many other programming languages, particularly those supporting object oriented design as it is commonly understood, there is the notion of *dispatching* to the most specific method in order to fulfill a function call.\n",
    "The `sqrt` example with `Float64` and `Complex{Float64}` are examples of this.\n",
    "\n",
    "However, this example involves pattern matching on just one argument. What's the \"multiple\" in \"multiple dispatch\" and how is it related to duck typing in Julia?\n",
    "\n",
    "To understand this, consider the following example from [Ole Kröger](https://opensourc.es/blog/basics-multiple-dispatch/) ([adapted from an example by Julia co-creator Stefan Karpinski](https://www.youtube.com/watch?v=kc9HwsxE1OY)):"
   ]
  },
  {
   "cell_type": "code",
   "execution_count": null,
   "metadata": {},
   "outputs": [],
   "source": [
    "abstract type Animal end\n",
    "\n",
    "# define a Lizard type with a name field\n",
    "struct Lizard <: Animal\n",
    "    name :: String\n",
    "end\n",
    "\n",
    "# define a Rabbit type with a name field\n",
    "struct Rabbit <: Animal\n",
    "    name :: String\n",
    "end\n",
    "\n",
    "# Define the race function with 3 methods: 2 specific ones and one generic fallback\n",
    "race(l::Lizard, r::Rabbit) = \"$(l.name) wins in wall climbing.\"\n",
    "race(r::Rabbit, l::Lizard) = \"$(r.name) wins in a normal race.\"\n",
    "race(a::T, b::T) where T <: Animal = \"$(a.name) and $(b.name) run forever.\"\n",
    "\n",
    "# Define a meet function that calls the race function.\n",
    "function meet(a::Animal, b::Animal) \n",
    "    println(\"$(a.name) meets $(b.name) and they race!\")\n",
    "    println(\"Outcome: $(race(a,b))\")\n",
    "end\n",
    "\n",
    "# Try it out with our two Animal types\n",
    "bayi = Lizard(\"Bayi\")\n",
    "sally = Rabbit(\"Sally\")\n",
    "meet(bayi, sally)  # calls the first race method\n",
    "meet(sally, bayi)  # calls the second race method\n",
    "meet(sally, sally) # calls the generic fallback"
   ]
  },
  {
   "cell_type": "markdown",
   "metadata": {},
   "source": [
    "Multiple dispatch lets Julia and its compiler *select the most specific method **based on the runtime types**.*\n",
    "To someone coming from C++, this example makes multiple dispatch look just like function overloading.\n",
    "\n",
    "However, implementing this code in C++ and running it reveals that C++ will always call the third, generic fallback where two animals run forever! This is because while C++ can choose a specific method, it is limited to the type information **available at compile time**. As such, adding the third method effectively erases methods one and two.\n",
    "\n",
    "The workaround in C++ would be to make the `race` function specific to the abstract/superclass `Animal` class; i.e. we need to be able to write `bayi.race(sally)` and `sally.race(bayi)`.\n",
    "This seems reasonable, but you will run into trouble as soon as you need to make an `Animal` race a `Human` because now both classes must have `race` as part of their definitions, but you may not have designed the classes with this use case in mind!\n",
    "\n",
    "*In object-oriented languages, methods belong to class functions not just functions in general.*\n",
    "\n",
    "In contrast, in Julia this would be simply a matter of adding `race(l::Human, r::Animal)` to handle cases as needed.\n",
    "Thus, Julia rewards you for writing \"weakly\" or duck typed functions by letting you handle specific cases with different input types only as needed, without having to completely redesign your code.\n",
    "**In fact, the preferred style in Julia is to avoid adding type annotations in your code unless absolutely necessary**.\n",
    "\n",
    "These two points make code reuse much more probable, and is the \"magic\" that lets packages build lots of nice, unexpected features into them. (Feel free to ask for examples!)"
   ]
  },
  {
   "cell_type": "markdown",
   "metadata": {},
   "source": [
    "# Projects"
   ]
  },
  {
   "cell_type": "markdown",
   "metadata": {},
   "source": [
    "### Newtons' Method\n",
    "\n",
    "Newton's method, also known as the Newton-Raphsons method, is an *iterative* technique that computes *roots* of a given function by exploiting information about its shape.\n",
    "A root of $f$, or a zero of $f$, is simply a value $x$ such that $f(x) = 0$.\n",
    "Given a function $f$ with derivative $f^\\prime$, the algorithm can be summarized succintly as\n",
    "$$\n",
    "\\underset{\\text{next value in sequence}}{x_{k+1}}\n",
    "=\n",
    "\\underset{\\text{current value in sequence}}{x_{k}}\n",
    "-\n",
    "\\underset{\\text{Newton direction}}{\\frac{ f(x_{k}) }{ f^\\prime(x_{k}) }}.\n",
    "$$\n",
    "Starting from some initial guess for the root, $x_{0}$, one applies the rule above several times until the procedure converges to some specified tolerance level."
   ]
  },
  {
   "cell_type": "code",
   "execution_count": null,
   "metadata": {
    "scrolled": true
   },
   "outputs": [],
   "source": [
    "function newton(f, df, x0; niters::Int=100, tol::Real=1e-2)\n",
    "    # initialize\n",
    "    f_init  = f(x0)                      # initial value for function values, f(x_0)\n",
    "    df_init = df(x0)                     # initial value for derivative values, f'(x_0)\n",
    "    f_prev  = typemax(f_init)            # previous function value, f(x_k)\n",
    "    f_cur   = f_init                     # current function value, f(x_k+1)\n",
    "    df_prev = typemax(f_init)            # previous function value, f'(x_k)\n",
    "    df_cur  = df_init                    # current function value, f'(x_k+1)\n",
    "    T = typeof(one(f_cur) / one(f_prev)) # infer common type\n",
    "    x = convert(T, x0)                   # current iterate\n",
    "    converged  = false                   # indicates whether we have achieved required tolerance\n",
    "    iterations = 0                       # track the number of iterations taken\n",
    "\n",
    "    for iter in 1:niters\n",
    "        # iterate\n",
    "        x_prev = x\n",
    "        x = x - f_cur / df_cur\n",
    "\n",
    "        # update state\n",
    "        f_prev  = f_cur\n",
    "        df_prev = df_cur\n",
    "        f_cur   = f(x)\n",
    "        df_cur  = df(x)\n",
    "\n",
    "        # check convergence\n",
    "        converged = abs(f_cur - f_prev) < tol * (f_prev + 1)\n",
    "        iterations += 1\n",
    "\n",
    "        converged && break\n",
    "    end\n",
    "\n",
    "    return (x, iterations, converged)\n",
    "end"
   ]
  },
  {
   "cell_type": "code",
   "execution_count": null,
   "metadata": {},
   "outputs": [],
   "source": [
    "g(x) = x^2\n",
    "dg(x) = 2*x\n",
    "newton(g, dg, 4.0, tol=1e-16)"
   ]
  },
  {
   "cell_type": "markdown",
   "metadata": {},
   "source": [
    "### Handling Derivatives\n",
    "\n",
    "But what if you don't know all the calculus rules, or your function simply has a derivative that is hard to write down?\n",
    "\n",
    "Fortunately, there are a number of techniques to\n",
    "- compute derivatives exactly (automatic differentation),\n",
    "- derive symbolic expressions (symbolic differentiation), and\n",
    "- approximate derivatives numerically (finite differences)."
   ]
  },
  {
   "cell_type": "code",
   "execution_count": null,
   "metadata": {},
   "outputs": [],
   "source": [
    "f(x) = tan(x)^2"
   ]
  },
  {
   "cell_type": "markdown",
   "metadata": {},
   "source": [
    "#### Exact derivatives with ForwardDiff.jl"
   ]
  },
  {
   "cell_type": "code",
   "execution_count": null,
   "metadata": {},
   "outputs": [],
   "source": [
    "using ForwardDiff"
   ]
  },
  {
   "cell_type": "code",
   "execution_count": null,
   "metadata": {},
   "outputs": [],
   "source": [
    "fderiv1(x) = ForwardDiff.derivative(f, x)"
   ]
  },
  {
   "cell_type": "code",
   "execution_count": null,
   "metadata": {},
   "outputs": [],
   "source": [
    "f(2)"
   ]
  },
  {
   "cell_type": "code",
   "execution_count": null,
   "metadata": {},
   "outputs": [],
   "source": [
    "fderiv1(2)"
   ]
  },
  {
   "cell_type": "code",
   "execution_count": null,
   "metadata": {},
   "outputs": [],
   "source": [
    "xs = range(-1, 1, step=1e-2)\n",
    "plot(xs, [f, fderiv1],\n",
    "    label=[\"f(x)\" \"f'(x)\"],\n",
    "    legend=:outerright,\n",
    "    linewidth=3,\n",
    ")"
   ]
  },
  {
   "cell_type": "markdown",
   "metadata": {},
   "source": [
    "#### Approximate derivatives with FiniteDifferences.jl"
   ]
  },
  {
   "cell_type": "code",
   "execution_count": null,
   "metadata": {},
   "outputs": [],
   "source": [
    "using FiniteDifferences"
   ]
  },
  {
   "cell_type": "code",
   "execution_count": null,
   "metadata": {},
   "outputs": [],
   "source": [
    "fderiv2(x) = FiniteDifferences.central_fdm(2, 1)(f, x)"
   ]
  },
  {
   "cell_type": "code",
   "execution_count": null,
   "metadata": {},
   "outputs": [],
   "source": [
    "f(2)"
   ]
  },
  {
   "cell_type": "code",
   "execution_count": null,
   "metadata": {},
   "outputs": [],
   "source": [
    "fderiv2(2)"
   ]
  },
  {
   "cell_type": "code",
   "execution_count": null,
   "metadata": {},
   "outputs": [],
   "source": [
    "xs = range(-1, 1, step=1e-2)\n",
    "plot(xs, [f, fderiv2],\n",
    "    label=[\"f(x)\" \"f'(x)\"],\n",
    "    legend=:outerright,\n",
    "    linewidth=3,\n",
    ")"
   ]
  },
  {
   "cell_type": "markdown",
   "metadata": {},
   "source": [
    "#### Automatic Differenations vs Finite Differences"
   ]
  },
  {
   "cell_type": "code",
   "execution_count": null,
   "metadata": {},
   "outputs": [],
   "source": [
    "abs(fderiv1(2) - fderiv2(2))"
   ]
  },
  {
   "cell_type": "markdown",
   "metadata": {},
   "source": [
    "### Exercise: Write a function that compares forward mode AD with central finite differences."
   ]
  },
  {
   "cell_type": "markdown",
   "metadata": {},
   "source": [
    "#### Inputs:\n",
    "- A function, call it `f`.\n",
    "- A list of values, `xvalues`, at which to compare the two methods.\n",
    "\n",
    "#### Outputs:\n",
    "\n",
    "A single `DataFrame` with the following columns:\n",
    "\n",
    "- `x`, which denotes the value at which to evalute the requested quantities.\n",
    "- `f`, which represents the function value at a given point `x`.\n",
    "- `FAD`, the value of the derivative based on ForwardDiff.jl.\n",
    "- `CFD`, the value of the derivative based on the central differences method in FiniteDifferences.jl.\n",
    "- `diff`, the absolute difference between the two methods.\n",
    "\n",
    "**Bonus**\n",
    "\n",
    "- Sort the data in ascending order based on the `x` column.\n",
    "- Avoid the `push!` operation in the given `for` loop.\n",
    "- Avoid writing an explicit `for` loop."
   ]
  },
  {
   "cell_type": "code",
   "execution_count": null,
   "metadata": {},
   "outputs": [],
   "source": [
    "function compare_derivatives(f, xvalues)\n",
    "    # 1. Create objects that represent derivatives in ForwardDiff.jl and FiniteDifferences.jl.\n",
    "    fp_FAD = x -> ForwardDiff.derivative(f, x)\n",
    "    fp_CFD = x -> FiniteDifferences.central_fdm(2, 1)(f, x)\n",
    "    \n",
    "    # 2. Create objects to store different quantities.\n",
    "    val_func = Float64[]\n",
    "    val_FAD  = Float64[] # Your code goes here\n",
    "    val_CFD  = Float64[] # Hint: What data types are useful for representing lists or sequences?\n",
    "    val_diff = Float64[]\n",
    "    \n",
    "    # 3. Compute the requested quantities for the summary.\n",
    "    for x in xvalues\n",
    "        push!(val_func, f(x))\n",
    "        push!(val_FAD, fp_FAD(x)) # Your code goes here.\n",
    "        push!(val_CFD, fp_CFD(x))\n",
    "        push!(val_diff, abs(fp_FAD(x) - fp_CFD(x)))\n",
    "    end\n",
    "        \n",
    "    # 4. Put everything into a DataFrame.\n",
    "    df = DataFrame(x=xvalues, f=val_func, FAD=val_FAD, CFD=val_CFD, diff=val_diff) # Your code goes here.\n",
    "    \n",
    "    # 5. Return the DataFrame object.\n",
    "    return df # Your code goes here.\n",
    "end"
   ]
  },
  {
   "cell_type": "code",
   "execution_count": null,
   "metadata": {
    "scrolled": true
   },
   "outputs": [],
   "source": [
    "test_func1(x) = x^2\n",
    "xvalues = randn(5)\n",
    "\n",
    "compare_derivatives(test_func1, xvalues)"
   ]
  },
  {
   "cell_type": "code",
   "execution_count": null,
   "metadata": {},
   "outputs": [],
   "source": [
    "test_func2(x) = sin(x) / x\n",
    "xvalues = [k*π/8 for k in 1:7]\n",
    "\n",
    "compare_derivatives(test_func2, xvalues)"
   ]
  },
  {
   "cell_type": "markdown",
   "metadata": {},
   "source": [
    "### Adding Visual Feedback\n",
    "\n",
    "Now let's add a way to track progress in Newton's method.\n",
    "The easiest way to do this would be to print a few values using `print` or `println`.\n",
    "Here we will try to make our program modular by adding a step in the program that delegates the logging functionality to some other tiny program.\n",
    "We will do this using what is known as a *function callback* -- a function passed to our program that will be called at some point using data from the Newton program.\n",
    "\n",
    "In our code, we will add an argument, `cb`, which will be a *variable bound to a particular function*.\n",
    "The underlying function will accept three arguments; that is, calling it will look like:\n",
    "```julia\n",
    "cb(f, df, info)\n",
    "```\n",
    "where `f` is the function whose root we are interested in, `df` is the derivative of `f`, and `info` is an object that contains extra information.\n",
    "In this case, we will use a `NamedTuple` to store information about the state of the algorithm (see the code below)."
   ]
  },
  {
   "cell_type": "code",
   "execution_count": null,
   "metadata": {},
   "outputs": [],
   "source": [
    "function newton(f, df, x0; niters::Int=100, tol::Real=1e-2, cb::Function=DEFAULT_CB) # note the extra argument\n",
    "    # initialize\n",
    "    f_init  = f(x0)                      # initial value for function values, f(x_0)\n",
    "    df_init = df(x0)                     # initial value for derivative values, f'(x_0)\n",
    "    f_prev  = typemax(f_init)            # previous function value, f(x_k)\n",
    "    f_cur   = f_init                     # current function value, f(x_k+1)\n",
    "    df_prev = typemax(f_init)            # previous function value, f'(x_k)\n",
    "    df_cur  = df_init                    # current function value, f'(x_k+1)\n",
    "    T = typeof(one(f_cur) / one(f_prev)) # infer common type\n",
    "    x = convert(T, x0)                   # current iterate\n",
    "    converged  = false                   # indicates whether we have achieved required tolerance\n",
    "    iterations = 0                       # track the number of iterations taken\n",
    "\n",
    "    for iter in 1:niters\n",
    "        # iterate\n",
    "        x_prev = x\n",
    "        x = x - f_cur / df_cur\n",
    "\n",
    "        # update state\n",
    "        f_prev  = f_cur\n",
    "        df_prev = df_cur\n",
    "        f_cur   = f(x)\n",
    "        df_cur  = df(x)\n",
    "\n",
    "        # package information into a NamedTuple?\n",
    "        info = (\n",
    "                iter=iter,\n",
    "                x_cur=x,\n",
    "                x_prev=x_prev,\n",
    "                f_cur=f_cur,\n",
    "                f_prev=f_prev,\n",
    "                df_cur=df_cur,\n",
    "                df_prev=df_prev,\n",
    "        )\n",
    "        \n",
    "        # execute the callback\n",
    "        cb(f, df, info)\n",
    "\n",
    "        # check convergence\n",
    "        converged = abs(f_cur - f_prev) < tol\n",
    "        iterations += 1\n",
    "\n",
    "        converged && break\n",
    "    end\n",
    "\n",
    "    return (x, iterations, converged)\n",
    "end\n",
    "\n",
    "# implement a default behavior for callback\n",
    "DEFAULT_CB(f, df, info) = nothing"
   ]
  },
  {
   "cell_type": "markdown",
   "metadata": {},
   "source": [
    "Check that everything still works:"
   ]
  },
  {
   "cell_type": "code",
   "execution_count": null,
   "metadata": {},
   "outputs": [],
   "source": [
    "newton(g, dg, 4.0, tol=1e-8)"
   ]
  },
  {
   "cell_type": "markdown",
   "metadata": {},
   "source": [
    "Now let's write a program that displays\n",
    "\n",
    "1. the current iteration number,\n",
    "2. the current estimate for the root, `x`, and\n",
    "3. the current function value, `f(x)`.\n",
    "\n",
    "We will use the `Printf` module to help us format our strings.\n",
    "To understand the formatting, note that:\n",
    "\n",
    "- `\\t`: denotes a *tab character*.\n",
    "- `\\n`: denotes a *newline character*.\n",
    "- `%3d`: denotes a number with 3 digits.\n",
    "- `.8f`: denotes a floating point number has 8 digits after the decimal."
   ]
  },
  {
   "cell_type": "code",
   "execution_count": null,
   "metadata": {},
   "outputs": [],
   "source": [
    "using Printf"
   ]
  },
  {
   "cell_type": "code",
   "execution_count": null,
   "metadata": {},
   "outputs": [],
   "source": [
    "function print_cb(f, df, info)\n",
    "    x, fx, iter = info.x_cur, info.f_cur, info.iter\n",
    "\n",
    "    # add a header for the first iteration\n",
    "    iter == 1 && println(\"iter\\tx\\t\\tf(x)\")\n",
    "\n",
    "    # print iteration, x value, and f(x) value\n",
    "    @printf \"%3d\\t%.8f\\t%.8f\\n\" iter x fx\n",
    "\n",
    "    return nothing\n",
    "end"
   ]
  },
  {
   "cell_type": "code",
   "execution_count": null,
   "metadata": {
    "scrolled": true
   },
   "outputs": [],
   "source": [
    "newton(g, dg, 4.0, tol=1e-8, cb=print_cb)"
   ]
  },
  {
   "cell_type": "markdown",
   "metadata": {},
   "source": [
    "Our printing callback works as expected, but doing any analysis with the information printed out is cumbersome: you have to copy the information from your screen.\n",
    "\n",
    "Next, we will implement a callback that actually stores the information for later use within Julia.\n",
    "In order to avoid modifying our Newton's method program any further, we will use a slightly more advanced concept called a *closure*.\n",
    "Specifically, we want to implement a function that stores information inside two arrays, but we need those arrays to be scoped within the calling function."
   ]
  },
  {
   "cell_type": "code",
   "execution_count": null,
   "metadata": {},
   "outputs": [],
   "source": [
    "# define the type, which is defined as a subtype of function so that it behaves like a function\n",
    "struct MyLoggingCB{T} <: Function\n",
    "    xvals::Vector{T} # the first field will store the x values\n",
    "    fvals::Vector{T} # the second field will store the f(x) values\n",
    "end\n",
    "\n",
    "# provide a constructor to initialize both fields with empty arrays.\n",
    "MyLoggingCB{T}() where T = MyLoggingCB(T[], T[])\n",
    "\n",
    "# implement the desired behavior\n",
    "function (cb::MyLoggingCB)(f, df, info)\n",
    "    # flush if this is the first call\n",
    "    if info.iter == 1\n",
    "        empty!(cb.xvals)\n",
    "        empty!(cb.fvals)\n",
    "    end\n",
    "\n",
    "    # log the data\n",
    "    push!(cb.xvals, info.x_cur)\n",
    "    push!(cb.fvals, info.f_cur)\n",
    "\n",
    "    return nothing\n",
    "end"
   ]
  },
  {
   "cell_type": "code",
   "execution_count": null,
   "metadata": {},
   "outputs": [],
   "source": [
    "mycb = MyLoggingCB{Float64}()\n",
    "newton(g, dg, 4.0, tol=1e-8, cb=mycb)"
   ]
  },
  {
   "cell_type": "code",
   "execution_count": null,
   "metadata": {},
   "outputs": [],
   "source": [
    "xmin, xmax = extrema(mycb.xvals)\n",
    "xs = range(xmin, xmax, length=1000)\n",
    "\n",
    "plot(xs, g, lw=3, label=\"g(x)\", legend=:outerright)\n",
    "plot!(mycb.xvals, mycb.fvals, xlab=\"x\", ylab=\"g(x)\", label=\"path\", arrow=true, lw=3, linestyle=:dash)"
   ]
  },
  {
   "cell_type": "code",
   "execution_count": null,
   "metadata": {},
   "outputs": [],
   "source": [
    "# using Pkg; Pkg.add(\"Plots\")\n",
    "using Plots\n",
    "\n",
    "struct MyPlottingCB{T} <: Function\n",
    "    log::MyLoggingCB{T}\n",
    "end\n",
    "\n",
    "MyPlottingCB{T}() where T = MyPlottingCB{T}(MyLoggingCB{T}())\n",
    "\n",
    "function (cb::MyPlottingCB)(f, df, info)\n",
    "    # first log the new data\n",
    "    cb.log(f, df, info)\n",
    "\n",
    "    # now show a plot\n",
    "    fig = plot(1:length(cb.log.fvals), cb.log.fvals, xlab=\"iteration\", ylab=\"f(x)\", lw=3)\n",
    "    scatter!(1:length(cb.log.fvals), cb.log.fvals, legend=false, lw=0)\n",
    "    \n",
    "    # sleep a little so we can see that it happens as the algorithm progresses\n",
    "    sleep(0.5)\n",
    "\n",
    "    # make sure the figure is displayed\n",
    "    display(fig)\n",
    "\n",
    "    return nothing\n",
    "end"
   ]
  },
  {
   "cell_type": "code",
   "execution_count": null,
   "metadata": {},
   "outputs": [],
   "source": [
    "mycb = MyPlottingCB{Float64}()\n",
    "newton(g, dg, 4.0, tol=1e-8, cb=mycb)"
   ]
  },
  {
   "cell_type": "markdown",
   "metadata": {},
   "source": [
    "### Mini-Project 2: Random Walks"
   ]
  },
  {
   "cell_type": "markdown",
   "metadata": {},
   "source": [
    "Simulate movement along a line.\n",
    "With probability $1/2$ you move to the left, and with probability $1/2$ you move to the right."
   ]
  },
  {
   "cell_type": "code",
   "execution_count": null,
   "metadata": {},
   "outputs": [],
   "source": [
    "move_1D() = rand() > 0.5 ? -1 : 1"
   ]
  },
  {
   "cell_type": "markdown",
   "metadata": {},
   "source": [
    "Given a starting position $x_{0}$, repeat this procedure several times:"
   ]
  },
  {
   "cell_type": "code",
   "execution_count": null,
   "metadata": {},
   "outputs": [],
   "source": [
    "function simulate(x0, nsteps)\n",
    "    x = x0\n",
    "    for k in 1:nsteps\n",
    "        x = x + move_1D()\n",
    "    end\n",
    "    return x\n",
    "end"
   ]
  },
  {
   "cell_type": "markdown",
   "metadata": {},
   "source": [
    "What happens after 100 steps of this process?\n",
    "We can gets useful estimates by simulating the process on a computer and looking at its statistics:"
   ]
  },
  {
   "cell_type": "code",
   "execution_count": null,
   "metadata": {},
   "outputs": [],
   "source": [
    "nsteps = 100\n",
    "nreplicates = 10^5\n",
    "result = [simulate(0, nsteps) for k in 1:nreplicates]"
   ]
  },
  {
   "cell_type": "markdown",
   "metadata": {},
   "source": [
    "Plot the distribution of the position after $n$ steps:"
   ]
  },
  {
   "cell_type": "code",
   "execution_count": null,
   "metadata": {},
   "outputs": [],
   "source": [
    "histogram(result,\n",
    "    legend=nothing,\n",
    "    title=\"distribution of position after $(nsteps) steps\",\n",
    "    xlabel=\"position\",\n",
    "    ylabel=\"count\"\n",
    ")"
   ]
  },
  {
   "cell_type": "markdown",
   "metadata": {},
   "source": [
    "On average, where do we end up?\n",
    "How variable is this position?"
   ]
  },
  {
   "cell_type": "code",
   "execution_count": null,
   "metadata": {},
   "outputs": [],
   "source": [
    "mean(result), std(result)"
   ]
  },
  {
   "cell_type": "markdown",
   "metadata": {},
   "source": [
    "On average, it seems as if we never leave our starting position.\n",
    "Once we leave, how long does it take to come back to $x_{0}$?"
   ]
  },
  {
   "cell_type": "code",
   "execution_count": null,
   "metadata": {},
   "outputs": [],
   "source": [
    "function simulate_transient_time(x0)\n",
    "    x = x0\n",
    "    running = true\n",
    "    n = 0\n",
    "    while running\n",
    "        x = x + move_1D()\n",
    "        running = x != x0\n",
    "        n = n + 1\n",
    "    end\n",
    "    return n\n",
    "end"
   ]
  },
  {
   "cell_type": "code",
   "execution_count": null,
   "metadata": {},
   "outputs": [],
   "source": [
    "nreplicates = 10^3\n",
    "result = [simulate_transient_time(0) for k in 1:nreplicates]"
   ]
  },
  {
   "cell_type": "markdown",
   "metadata": {},
   "source": [
    "What are the minimum and maximum number of moves?"
   ]
  },
  {
   "cell_type": "code",
   "execution_count": null,
   "metadata": {},
   "outputs": [],
   "source": [
    "extrema(result)"
   ]
  },
  {
   "cell_type": "markdown",
   "metadata": {},
   "source": [
    "How variable are our estimates?"
   ]
  },
  {
   "cell_type": "code",
   "execution_count": null,
   "metadata": {},
   "outputs": [],
   "source": [
    "mean(result), std(result)"
   ]
  }
 ],
 "metadata": {
  "@webio": {
   "lastCommId": null,
   "lastKernelId": null
  },
  "kernelspec": {
   "display_name": "Julia 1.6.0",
   "language": "julia",
   "name": "julia-1.6"
  },
  "language_info": {
   "file_extension": ".jl",
   "mimetype": "application/julia",
   "name": "julia",
   "version": "1.6.0"
  }
 },
 "nbformat": 4,
 "nbformat_minor": 2
}
