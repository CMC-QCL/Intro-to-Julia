{
  "cells": [
    {
      "cell_type": "markdown",
      "source": [
        "# Introduction to Julia\n\n\n# Agenda\n\n1. **What is Julia?**\n2. **What can you do with the Julia programming language?**\n    - Scientific Modelling\n    - Fast Linear Algebra\n3. Basics\n    - Tools and Getting Around\n    - Literals, Variables, and Functions\n    - Program Control Flow\n    - Collections\n    - Modules and Packages: How to Use Other People's Code\n4. Project: Writing a Root Finding Program\n    - Overview of Newton's Method\n    - Handling Derivatives\n    - Adding Visual Feedback\n5. Additional Topics\n    - Broadcasting\n    - More on Types, Immutability, Type Stability\n    - More on Function Arguments and Methods\n    - Multiple Dispatch\n\n# Learning Goals\n\nAfter this workshop you should:\n\n1. Be familiar with Julia syntax.\n2. Understand variables, functions, and basic data types in Julia.\n3. Be able to write short programs in Julia.\n4. Feel confident enough to explore more on your own.\n\n# What is Julia?\n\n> **The Julia Project as a whole is about bringing usable, scalable technical computing to a greater audience**: allowing scientists and researchers to use computation more rapidly and effectively; letting businesses do harder and more interesting analyses more easily and cheaply.\n> Part of that project entails creating a free, open-source language that is as easy to use as possible, so that researchers who are not necessarily professional programmers can easily create and share programs that others will be able to use for free and improve upon.\n> However, a large part of the project is also about creating an ecosystem in which such openness and sharing can take place.\n\n-- [Julia Project page](https://julialang.org/project/)\n\n### Why should I care?\n\n1. It is easy to prototype *fast*, *idiomatic* code in Julia *at a high level* thanks to Julia's JIT compiler and powerful type system.\n2. Julia favors a generic programming style: write functions that assume as little as possible and compose them to write powerful programs.\n3. The Julia community is open and highly collaborative. Many high profile packages represent the joint effort of several brilliant people.\n\n### How is it different from `xxxxx`?\n\nSyntax comparison between MATLAB, Julia, and Python: https://cheatsheets.quantecon.org/\nThe Julia manual has a dedicated package on this: https://docs.julialang.org/en/v1/manual/noteworthy-differences/\n\n### I like `X/Y/Z` from `xxxxx` language. I don't think I can ever switch.\n\nEarly on in the development of Julia, people put effort into building interoperability between Julia and other languages.\nThis means that if you really need a package implemented in another language, it is possible to use it directly from within Julia.\n\n**Examples**\n\n- Python: Use [PyCall.jl](https://github.com/JuliaPy/PyCall.jl). \n- R: Use [RCall.jl](https://github.com/JuliaInterop/RCall.jl).\n- MATLAB: Use [MATLAB.jl](https://github.com/JuliaInterop/MATLAB.jl).\n- FORTRAN or C: Use the built-in `ccall` function documented [here](https://docs.julialang.org/en/v1/manual/calling-c-and-fortran-code/).\n- C++: Use [Cxx.jl](https://github.com/JuliaInterop/Cxx.jl).\n\nThe [JuliaInterop](https://github.com/JuliaInterop) organization has more packages available for other languages.\n\n**Ultimately, the Julia language is (a very useful) tool. You should use whatever makes you productive, and your work reproducible.**\n\n### How does it work?\n\nCredit: Arch D. Robison\n\n|   |   |\n|---|---|\n| <img src=\"julia_toolchain.png\" alt=\"julia_toolchain.png\" width=\"400\"/> | <img src=\"julia_introspect.png\" alt=\"julia_introspect.png\" width=\"530\"/> |\n\n**Big Picture**: Julia's *design* uses a robust type system to pass type information to a compiler that can then generate efficient machine code.\n\nThe type system uses *multiple dispatch* to help programmers write generic type-stable code; type-stable code is easy for the compiler to reason about.\n\nOn the surface, Julia syntax looks like any other scripting language because it is quite human readable.\nHowever, Julia code is much more explicit than it appears on the surface.\n\nDr. Chris Rackauckas has [an excellent page](https://ucidatascienceinitiative.github.io/IntroToJulia/Html/JuliaMentalModel) on developing a mental model for Julia:\n\n> **A Mental Model for Julia: Talking to a Scientist**\n> * When you're talking, everything looks general. However, you really mean very specific details determined by context.\n> * You can quickly dig deep into a subject, assuming many rules, theories, and terminology.\n> * Nothing is hidden: if you ever want to hear about every little detail, you can ask.\n> * They will get mad (and throw errors at you) if you begin to be loose with the specific details.\n\nLet's look at an example.\nThe following function computes the sum\n$$x_{1} + x{2} + \\ldots + x_{m} + y_{1} + y_{2} + \\ldots + y_{n}$$"
      ],
      "metadata": {}
    },
    {
      "outputs": [],
      "cell_type": "code",
      "source": [
        "function mysum(x, y)\n    s = zero(x[1])\n\n    for i in eachindex(x)\n        s = s + x[i] # sum up elements of x\n    end\n\n    for j in eachindex(y)\n        s += y[j]    # sum up elements of y\n    end\n\n    return s\nend"
      ],
      "metadata": {},
      "execution_count": null
    },
    {
      "cell_type": "markdown",
      "source": [
        "First check that the function works as intended."
      ],
      "metadata": {}
    },
    {
      "outputs": [],
      "cell_type": "code",
      "source": [
        "x = rand(5) # random vector with 5 elements [x_1, x_2, ..., x_5]\ny = rand(8)\nmysum(x, y) == sum(x) + sum(y)"
      ],
      "metadata": {},
      "execution_count": null
    },
    {
      "cell_type": "markdown",
      "source": [
        "It works when the inputs are different collection types; i.e. `Vector` vs `Tuple`."
      ],
      "metadata": {}
    },
    {
      "outputs": [],
      "cell_type": "code",
      "source": [
        "x = [2, 4, 6] # vector\ny = (1.0, 3.0, 5.0) # tuple\nmysum(x, y) == sum(x) + sum(y)"
      ],
      "metadata": {},
      "execution_count": null
    },
    {
      "cell_type": "markdown",
      "source": [
        "It works for scalars."
      ],
      "metadata": {}
    },
    {
      "outputs": [],
      "cell_type": "code",
      "source": [
        "mysum(1, 1) == 1 + 1"
      ],
      "metadata": {},
      "execution_count": null
    },
    {
      "cell_type": "markdown",
      "source": [
        "It works for vectors of vectors"
      ],
      "metadata": {}
    },
    {
      "outputs": [],
      "cell_type": "code",
      "source": [
        "x = [rand(3), rand(3)]\ny = [rand(3)]\nmysum(x, y) == x[1] + x[2] + y[1]"
      ],
      "metadata": {},
      "execution_count": null
    },
    {
      "cell_type": "markdown",
      "source": [
        "But it fails here and Julia tells you why"
      ],
      "metadata": {}
    },
    {
      "outputs": [],
      "cell_type": "code",
      "source": [
        "x = [rand(3), rand(3)] # Vector of vectors \ny = [(1.0, 3.0, 5.0)] # Vector of tuples\nmysum(x, y) == x[1] + x[2] + y[1]"
      ],
      "metadata": {},
      "execution_count": null
    },
    {
      "cell_type": "markdown",
      "source": [
        "What does Julia do differently in each case?\nYou can ask with tools like `@code_warntype` and `@code_llvm` to see for yourself."
      ],
      "metadata": {}
    },
    {
      "outputs": [],
      "cell_type": "code",
      "source": [
        "@code_warntype mysum(1, 1)"
      ],
      "metadata": {},
      "execution_count": null
    },
    {
      "outputs": [],
      "cell_type": "code",
      "source": [
        "@code_llvm mysum(1, 1)"
      ],
      "metadata": {},
      "execution_count": null
    },
    {
      "outputs": [],
      "cell_type": "code",
      "source": [
        "@code_warntype mysum(rand(3), rand(4))"
      ],
      "metadata": {},
      "execution_count": null
    },
    {
      "outputs": [],
      "cell_type": "code",
      "source": [
        "@code_llvm mysum(rand(3), rand(4))"
      ],
      "metadata": {},
      "execution_count": null
    },
    {
      "cell_type": "markdown",
      "source": [
        "**Takeaway**: You can be verbose or terse with the Julia language, but it's best to be concise.\n\n# What can I do with the Julia programming language?\n\n### Scientific Modeling\n\n**Credit**: [epirecipes](https://github.com/epirecipes/sir-julia/blob/master/markdown/ode/ode.md)\n\nOrdinaryDiffEq.jl is part of the SciML ecosystem.\nSee the [organization's website](https://sciml.ai/) for more details.\nDifferentialEquations.jl is the main package with lots of extra features at the cutting edge of scientific machine learning.\n\nThe following code implements a [Susceptible-Infected-Removed (SIR) model](https://github.com/epirecipes/sir-julia) for infectious diseases.\n- Infected individuals spread disease through 'contact' with susceptibles.\n- The rate at which individuals are infected is proportional to the proportion of infecteds in a population; it depends on an infection risk per contact, $\\beta$, and an average contact rate, $c$.\n- Infecteds recover at a rate $\\gamma > 0$, with $1/\\gamma$ denoting an average recovery time."
      ],
      "metadata": {}
    },
    {
      "outputs": [],
      "cell_type": "code",
      "source": [
        "using OrdinaryDiffEq, Plots\n\nfunction sir_ode!(du, u, p, t)\n    (S, I, R) = u\n    (β, c, γ) = p\n    N = S+I+R\n    @inbounds begin\n        du[1] = -β*c*I/N*S\n        du[2] = β*c*I/N*S - γ*I\n        du[3] = γ*I\n    end\n    nothing\nend\n\n# Initial conditions\nu0 = [990.0,10.0,0.0]; # S,I.R\n\n# Model parameters\np = [0.05,10.0,0.25]; # β,c,γ\n\n# Timespan\nδt = 0.1\ntmax = 40.0\ntspan = (0.0,tmax)\nt = 0.0:δt:tmax\n\n# Create ODE problem and solve it\nprob_ode = ODEProblem(sir_ode!, u0, tspan, p)\nsol = solve(prob_ode, Tsit5())\n\n# Plot the solution\nplot(sol, xlabel=\"time, t\", ylabel=\"population, u(t)\", label=[\"S\" \"I\" \"R\"], legend=:outerright)"
      ],
      "metadata": {},
      "execution_count": null
    },
    {
      "cell_type": "markdown",
      "source": [
        "### Fast Linear Algebra\n\n[BLAS](https://en.wikipedia.org/wiki/Basic_Linear_Algebra_Subprograms) and [LAPACK](https://en.wikipedia.org/wiki/LAPACK) are important libraries for carrying out *fast and correct* linear algebra operations on computers.\nThere are various implementations written in 'low-level' languages like C or Fortran, sometimes tuned for specific hardware, dating back to 1979.\n\nDevelopers in Julia are exploring the possibility of implementing linear algebra subroutines within the Julia language.\nThe following compares the default BLAS implementation (OpenBLAS) shipped with Julia against [Octavian.jl](https://github.com/JuliaLinearAlgebra/Octavian.jl).\nA more detailed look (with different hardware) can be found [here](https://github.com/JuliaLinearAlgebra/Octavian.jl/issues/24#issuecomment-763704038).\n\nRun a separate Julia process using the `linalg.jl` script.\nIt takes in two arguments, # BLAS threads and matrix size."
      ],
      "metadata": {}
    },
    {
      "outputs": [],
      "cell_type": "code",
      "source": [
        "run(`/home/alanderos/julia-1.6.1/bin/julia --project=@. linalg.jl 10 1000`)"
      ],
      "metadata": {},
      "execution_count": null
    },
    {
      "cell_type": "markdown",
      "source": [
        "Run a separate Julia process using the `octavian.jl` script.\nIt requires you specify the number of threads (`-t 10`; match to # physical cores) and matrix size (`1000`)."
      ],
      "metadata": {}
    },
    {
      "outputs": [],
      "cell_type": "code",
      "source": [
        "run(`/home/alanderos/julia-1.6.1/bin/julia --project=@. -t 10 octavian.jl 1000`)"
      ],
      "metadata": {},
      "execution_count": null
    },
    {
      "outputs": [],
      "cell_type": "code",
      "source": [
        "versioninfo(verbose=true)"
      ],
      "metadata": {},
      "execution_count": null
    },
    {
      "cell_type": "markdown",
      "source": [
        "**Note**: OpenBLAS may not always be able to detect the correct architecture until it is updated, and so it will default to the next best available subroutines.\n[The codename Prescott dates back to Intel's Pentium 4 from the 00s](https://ark.intel.com/content/www/us/en/ark/products/codename/1791/prescott.html).\nIn reality the gap may be closer than reported here.\n\n**Note**: Many programming languages for statistics, data science, or other technical computing use a BLAS implementation like OpenBLAS (R for example)."
      ],
      "metadata": {}
    },
    {
      "outputs": [],
      "cell_type": "code",
      "source": [
        "using LinearAlgebra\nBLAS.openblas_get_config()"
      ],
      "metadata": {},
      "execution_count": null
    },
    {
      "cell_type": "markdown",
      "source": [
        "# Basics\n\n### Tools to write Julia code\n\nJulia program files end with the `.jl` file extension.\nThere are two environments people generally use to write Julia code:\n\n1. An *interactive* environment lets you input commands and gives you feedback as you work. For example, Julia comes with its own **REPL (Read-Evaluation-Print Loop)** that operates in a command line fashion. \n2. A *non-interactive* environment executes a series of commands (program) in the background without any feedback. Error messages, due to logical errors or program state, are generally handled by the program itself.\n\n**Programs** or **scripts** are usually, but not always, non-interactive in that they are used to automate long tasks without active control from a user.\n\nHere we will focus on how to work within a Jupyter notebook.\nMuch of what we do here will carry over to working in a REPL.\n\n### Jupyter notebooks\n\nThis notebook is made up of different cells:\n\n1. **Code cells** contain a series of instructions (in Julia). You can run them by clicking the run button, entering `Ctrl + Enter`.\n2. **Markdown cells** contain text that can be formatted with [Markdown](https://jupyter-notebook.readthedocs.io/en/latest/examples/Notebook/Working%20With%20Markdown%20Cells.html). They may contain text, images, LaTeX equations.\n\nAfter selecting a cell (highlighted in green):\n\n* You can insert a new cell (code cell by default) by typing `Esc` followed by `A` (insert above) or `Esc` followed by `B` (insert below).\n* Convert it to a code cell using `Esc` then `Y`.\n* Convert it to a Markdown cell using `Esc` then `M`.\n\n**Exercise**: Convert the following cell into a code cell and run it.\n\nsqrt(2)\n\nAnother tip: You can toggle code lines with `Esc`, `L`.\n\n### Getting Around\n\nSo far we don't really know how to do anything in Julia. Thankfully, there is a built-in help system. You can access it by entering `?`:"
      ],
      "metadata": {}
    },
    {
      "outputs": [],
      "cell_type": "code",
      "source": [
        "?"
      ],
      "metadata": {},
      "execution_count": null
    },
    {
      "cell_type": "markdown",
      "source": [
        "Note that there are four different \"modes\" available in both a REPL and Julia notebook:\n\n- Default: Julia command mode.\n- `?` (`help?>`): Access the help system.\n- `;` (`shell>`): Access a command line shell for your system.\n- `]` (`xxx pkg>`): Access Julia's package system.\n\nYou can return to the default by hitting `Delete` or `Backspace`.\nA Julia REPL will tell you which mode you are in as you type a command.\n\nYou can us the help system to ask about any object defined within your working environment including data types, functions, and variables."
      ],
      "metadata": {}
    },
    {
      "outputs": [],
      "cell_type": "code",
      "source": [
        "?print"
      ],
      "metadata": {},
      "execution_count": null
    },
    {
      "cell_type": "markdown",
      "source": [
        "The `apropos` function is also useful for finding existing commands by searching documentation for keywords."
      ],
      "metadata": {}
    },
    {
      "outputs": [],
      "cell_type": "code",
      "source": [
        "apropos(\"sorting\")"
      ],
      "metadata": {},
      "execution_count": null
    },
    {
      "cell_type": "markdown",
      "source": [
        "### Literals, Variables, and Basic Data Types\n\nIn most programming languages, `1`, `1.0`, and `\"1\"` are likely to be different kinds of objects even though they appear similar to each other."
      ],
      "metadata": {}
    },
    {
      "outputs": [],
      "cell_type": "code",
      "source": [
        "1"
      ],
      "metadata": {},
      "execution_count": null
    },
    {
      "outputs": [],
      "cell_type": "code",
      "source": [
        "1.0"
      ],
      "metadata": {},
      "execution_count": null
    },
    {
      "outputs": [],
      "cell_type": "code",
      "source": [
        "\"1\""
      ],
      "metadata": {},
      "execution_count": null
    },
    {
      "cell_type": "markdown",
      "source": [
        "Such objects are said to *belong to a class* or to *be of a certain type*. \n**In Julia, we think of objects in terms of types**. \n\nThere is built-in support for various number types that are important for computing:"
      ],
      "metadata": {}
    },
    {
      "outputs": [],
      "cell_type": "code",
      "source": [
        "typeof(0x01) # 8-bit unsigned integer"
      ],
      "metadata": {},
      "execution_count": null
    },
    {
      "outputs": [],
      "cell_type": "code",
      "source": [
        "typeof(1) # 64-bit integers, or 32-bit if you're using an older computer"
      ],
      "metadata": {},
      "execution_count": null
    },
    {
      "outputs": [],
      "cell_type": "code",
      "source": [
        "typeof(1.0) # double precision floating point"
      ],
      "metadata": {},
      "execution_count": null
    },
    {
      "outputs": [],
      "cell_type": "code",
      "source": [
        "typeof(1f0) # single precision floating point"
      ],
      "metadata": {},
      "execution_count": null
    },
    {
      "outputs": [],
      "cell_type": "code",
      "source": [
        "typeof('1') # characters, only one symbol"
      ],
      "metadata": {},
      "execution_count": null
    },
    {
      "outputs": [],
      "cell_type": "code",
      "source": [
        "typeof(\"1\") # strings, sequence of characters"
      ],
      "metadata": {},
      "execution_count": null
    },
    {
      "outputs": [],
      "cell_type": "code",
      "source": [
        "typeof(true) # boolean: true or false"
      ],
      "metadata": {},
      "execution_count": null
    },
    {
      "cell_type": "markdown",
      "source": [
        "Symbols like `1` and `3.14` are often referred to as *literals* because the notation itself literally bears its meaning within the language.\nIn contrast to literals, we can use certain symbols to define *variables*.\nThe general syntax is `<variable name> = <assigned value>`:"
      ],
      "metadata": {}
    },
    {
      "outputs": [],
      "cell_type": "code",
      "source": [
        "myvariable = 2.0\nmyothervar = 3.4; # the semicolon, ;, is used to suppress printing the result of this code cell"
      ],
      "metadata": {},
      "execution_count": null
    },
    {
      "outputs": [],
      "cell_type": "code",
      "source": [
        "myvariable"
      ],
      "metadata": {},
      "execution_count": null
    },
    {
      "outputs": [],
      "cell_type": "code",
      "source": [
        "myothervar"
      ],
      "metadata": {},
      "execution_count": null
    },
    {
      "cell_type": "markdown",
      "source": [
        "As with many programming languages, the symbol `=` is reserved for variable assignment.\nVariables are useful because we can use them to store values to later use in an algorithm, or a sequence of steps.\nLike the literals we looked at before, variables also have types depending on the object it is *bound to*:"
      ],
      "metadata": {}
    },
    {
      "outputs": [],
      "cell_type": "code",
      "source": [
        "typeof(myvariable)"
      ],
      "metadata": {},
      "execution_count": null
    },
    {
      "cell_type": "markdown",
      "source": [
        "One nice feature in Julia is its [support for Unicode characters](https://docs.julialang.org/en/v1/manual/unicode-input/) in function names and variables.\nIn a REPL or Jupyter notebook (using Julia), you can input special characters using tab completions.\nHere are a few examples:"
      ],
      "metadata": {}
    },
    {
      "outputs": [],
      "cell_type": "code",
      "source": [
        "α = 0.5; # type \\alpha → Tab\nx₁ = 42; # type x\\_1 → Tab\n🍔 = [\"bun\", \"patty\", \"bun\"]; # type \\:hamburger: → Tab"
      ],
      "metadata": {},
      "execution_count": null
    },
    {
      "cell_type": "markdown",
      "source": [
        "Try printing the values of these variables below:"
      ],
      "metadata": {}
    },
    {
      "outputs": [],
      "cell_type": "code",
      "source": [
        ""
      ],
      "metadata": {},
      "execution_count": null
    },
    {
      "cell_type": "markdown",
      "source": [
        "### Everything in Julia has a return type\n\nThis includes functions, `begin ... end` blocks, `for` loops, expressions, and `if .. else` statements.\nIf there is no \"reasonable\" value to return, Julia will return `nothing`, an alias for the `Nothing` object."
      ],
      "metadata": {}
    },
    {
      "outputs": [],
      "cell_type": "code",
      "source": [
        "nothing"
      ],
      "metadata": {},
      "execution_count": null
    },
    {
      "outputs": [],
      "cell_type": "code",
      "source": [
        "typeof(nothing)"
      ],
      "metadata": {},
      "execution_count": null
    },
    {
      "outputs": [],
      "cell_type": "code",
      "source": [
        "?nothing"
      ],
      "metadata": {},
      "execution_count": null
    },
    {
      "outputs": [],
      "cell_type": "code",
      "source": [
        "c = 0.0\n\nval = for i in 1:3 # for loops evaluate to nothing\n    c += rand()\nend\n\n@show val\n@show c"
      ],
      "metadata": {},
      "execution_count": null
    },
    {
      "outputs": [],
      "cell_type": "code",
      "source": [
        "val = if c < 1 # if statements return the last value in the branch taken\n    \"abc\"\n    \"def\"\nelse\n    \"ghi\"\n    \"jkl\"\nend\n\nval"
      ],
      "metadata": {},
      "execution_count": null
    },
    {
      "cell_type": "markdown",
      "source": [
        "Keep this in mind as we move on to functions and control flow topics.\n\n### Functions\n\nSo far, we have *literals* to represent basic units of computation and *variables* to store values within a program.\nThese are the nouns in a programming language.\nHow do we actually say anything useful?\nWe need *functions*, which serve as verbs.\n\n#### The usual [artihmetic operators](https://docs.julialang.org/en/v1/manual/mathematical-operations/#Arithmetic-Operators) (which are functions) are supported in Julia:"
      ],
      "metadata": {}
    },
    {
      "outputs": [],
      "cell_type": "code",
      "source": [
        "1 + 1 # addition"
      ],
      "metadata": {},
      "execution_count": null
    },
    {
      "outputs": [],
      "cell_type": "code",
      "source": [
        "2.3 * 4 # multiplication"
      ],
      "metadata": {},
      "execution_count": null
    },
    {
      "outputs": [],
      "cell_type": "code",
      "source": [
        "9 / 3 # (floating point) division"
      ],
      "metadata": {},
      "execution_count": null
    },
    {
      "outputs": [],
      "cell_type": "code",
      "source": [
        "7 % 2 # remainder after integer division"
      ],
      "metadata": {},
      "execution_count": null
    },
    {
      "outputs": [],
      "cell_type": "code",
      "source": [
        "2 ^ 4 # exponentiation"
      ],
      "metadata": {},
      "execution_count": null
    },
    {
      "outputs": [],
      "cell_type": "code",
      "source": [
        "-1 # negative sign"
      ],
      "metadata": {},
      "execution_count": null
    },
    {
      "cell_type": "markdown",
      "source": [
        "#### Other [logical operators](https://docs.julialang.org/en/v1/manual/mathematical-operations/#Boolean-Operators) and [comparison operators](https://docs.julialang.org/en/v1/manual/mathematical-operations/#Numeric-Comparisons):"
      ],
      "metadata": {}
    },
    {
      "outputs": [],
      "cell_type": "code",
      "source": [
        "1 < 2 & 2 < 2 # parantheses not needed"
      ],
      "metadata": {},
      "execution_count": null
    },
    {
      "outputs": [],
      "cell_type": "code",
      "source": [
        "!(1 ≤ 1) # type `\\le` and hit `TAB` to get the ≤ symbol"
      ],
      "metadata": {},
      "execution_count": null
    },
    {
      "cell_type": "markdown",
      "source": [
        "#### Printing (note that the character `\\n` indicates a newline):"
      ],
      "metadata": {}
    },
    {
      "outputs": [],
      "cell_type": "code",
      "source": [
        "print(\"The value of myvariable is \", myvariable, \".\\n\")\nprint(\"The value of myothervar is \", myothervar, \".\\n\")"
      ],
      "metadata": {},
      "execution_count": null
    },
    {
      "cell_type": "markdown",
      "source": [
        "The same can be achieved with `println`:"
      ],
      "metadata": {}
    },
    {
      "outputs": [],
      "cell_type": "code",
      "source": [
        "println(\"The value of myvariable is \", myvariable, \".\")\nprintln(\"The value of myothervar is \", myothervar, \".\")"
      ],
      "metadata": {},
      "execution_count": null
    },
    {
      "cell_type": "markdown",
      "source": [
        "Multi-line strings, `\"\"\"...\"\"\"`, interpret whitespace.\nThe `$` symbol can be used to interpolate a variable's value into a string.\nMore generally, `$(ex)` will interpolate the value of an expression `ex`."
      ],
      "metadata": {}
    },
    {
      "outputs": [],
      "cell_type": "code",
      "source": [
        "print(\n\"\"\"\nThe value of myvariable is $myvariable.\n1 + 1 is $(1 + 1).\n\"\"\"\n)"
      ],
      "metadata": {},
      "execution_count": null
    },
    {
      "cell_type": "markdown",
      "source": [
        "**Note:** The terms *operator* and *function* are virtually the same for our purposes.\nThe only meaningful distinction from our POV is that *operators* have shorthand names based on punctuation marks whereas *functions* are typically spelled out in several characters.\nBinary operators also support *infix notation* so we can use them just how one typically writes down math but it's also possible to call operators the same way one invokes `println`:"
      ],
      "metadata": {}
    },
    {
      "outputs": [],
      "cell_type": "code",
      "source": [
        "+(1, 1)"
      ],
      "metadata": {},
      "execution_count": null
    },
    {
      "cell_type": "markdown",
      "source": [
        "Notice that `1 + 1` returns `2` as an `Int64` whereas as `4 / 2` returns `2` as a `Float64`.\nWe can try a few more examples to see that *addition on two elements of the same type* always returns an answer of that same type (in fact, this is a mathematical property of addition on certain sets).\n\nWhat happens when we mix data types?\n\nJulia has a set of promotion rules to determine how to resolve certain operations.\nFor example, `1 + 3.2` will return `4.2` as a `Float64`.\nTest this yourself using `typeof`."
      ],
      "metadata": {}
    },
    {
      "outputs": [],
      "cell_type": "code",
      "source": [
        "# your code here"
      ],
      "metadata": {},
      "execution_count": null
    },
    {
      "cell_type": "markdown",
      "source": [
        "This is not the case with division and so we naturally have a few ways to handle it: `/`, `div`, and `//`.\nCheck the documentation for these functions."
      ],
      "metadata": {}
    },
    {
      "outputs": [],
      "cell_type": "code",
      "source": [
        "# your code here"
      ],
      "metadata": {},
      "execution_count": null
    },
    {
      "cell_type": "markdown",
      "source": [
        "Julia's type promotion rules make it is so programmers do not waste time casting objects to 'compatible' data types; they are already compatible.\nImportantly, operations with numbers already handle type promotion with reasonable defaults so that standard arithmetic \"just works\" out of the box.\n\nHowever, if you ever needed to handle conversions explicitly you can do it with the `convert` function:"
      ],
      "metadata": {}
    },
    {
      "outputs": [],
      "cell_type": "code",
      "source": [
        "convert(Complex{Float64}, 1.0) # specify the type, then give the object to convert"
      ],
      "metadata": {},
      "execution_count": null
    },
    {
      "cell_type": "markdown",
      "source": [
        "Many useful functions are already implemented in Julia.\nIn fact, if there is something you want to do it is often helpful to try looking up `?<verb>` to see if an existing function can solve your task.\n\nProgramming often involves building up many small programs that, ideally, can be composed to write larger more complex programs.\nThere are many ways to define a function in Julia.\nFor example, consider the function $x \\mapsto x + 1$ that takes a number and adds 1 to it:"
      ],
      "metadata": {}
    },
    {
      "outputs": [],
      "cell_type": "code",
      "source": [
        "f(x) = x+1    # written as a single line\n\nfunction f(x) # written as multiple lines\n    x+1\nend"
      ],
      "metadata": {},
      "execution_count": null
    },
    {
      "cell_type": "markdown",
      "source": [
        "**Aside** Notice that a few words in the definition are highlighted.\nThe words `function` and `end` are highlighted *purple* because they are **reserved words** -- notation that the Julia programming language reserves for the language itself.\nWe can understand the syntax as follows:\n- `function`: begin a statement (possibly multiple lines) that defines a function.\n- `end`: mark the end of the last statement.\nThere are many more reserved words, listed here in the [Julia documentation](https://docs.julialang.org/en/v1/base/base/#Keywords).\n\nGetting back to function definitions, the general syntax is"
      ],
      "metadata": {}
    },
    {
      "outputs": [],
      "cell_type": "code",
      "source": [
        "function FUNCTION_NAME(INPUTS_SEPARATED_BY_COMMAS)\n    # function body\nend"
      ],
      "metadata": {},
      "execution_count": null
    },
    {
      "cell_type": "markdown",
      "source": [
        "By default, a function returns the value of the last statement within the body.\nYou can be specific about what the return value should be by using the `return` keyword.\n\n**Exercise**: What is the return value of the following functions?"
      ],
      "metadata": {}
    },
    {
      "outputs": [],
      "cell_type": "code",
      "source": [
        "function fun1(x)\n    x + 1\n    x + 2\n    x + 3\nend"
      ],
      "metadata": {},
      "execution_count": null
    },
    {
      "outputs": [],
      "cell_type": "code",
      "source": [
        "function fun2(x)\n    x + 1\n    return x + 2\n    x + 3\nend"
      ],
      "metadata": {},
      "execution_count": null
    },
    {
      "outputs": [],
      "cell_type": "code",
      "source": [
        "function fun3(x)\n    x + 1\n    x = x + 2\n    return x + 3\n    x = x + 4\nend"
      ],
      "metadata": {},
      "execution_count": null
    },
    {
      "outputs": [],
      "cell_type": "code",
      "source": [
        "function fun4(x)\n    x + 10\n    return\n    x - 2\nend"
      ],
      "metadata": {},
      "execution_count": null
    },
    {
      "cell_type": "markdown",
      "source": [
        "#### Exercises\n\nWrite a function that evaluates the quadratic $a x^{2} + b x + c$.\nYour function should take four (4) inputs, `a`, `b`, `c`, and `x`."
      ],
      "metadata": {}
    },
    {
      "outputs": [],
      "cell_type": "code",
      "source": [
        "function eval_quadratic()\n",
        "end"
      ],
      "metadata": {},
      "execution_count": null
    },
    {
      "cell_type": "markdown",
      "source": [
        "A few test cases:"
      ],
      "metadata": {}
    },
    {
      "outputs": [],
      "cell_type": "code",
      "source": [
        "@show eval_quadratic(0, 0, 2.0, 100.0)   # == 2\n@show eval_quadratic(1.0, 0, 0, 10.0)    # == 100\n@show eval_quadratic(0, 1.0, 0, 10.0)    # == 10\n@show eval_quadratic(2, 1, -10, 2)       # 0"
      ],
      "metadata": {},
      "execution_count": null
    },
    {
      "cell_type": "markdown",
      "source": [
        "Write a function that computes both roots of a quadratic,\n$$\na x^{2} + b x + c = 0 \\iff x = \\frac{-b \\pm \\sqrt{b^{2} - 4 a c}}{2a}\n$$\nYour function should take three (3) inputs, `a`, `b`, and `c`, which you may assume are numbers of the same type.\nYou can also assume $|a| > 0$.\nReturn the roots as a tuple; e.g. `return root1, root2` or `return (root1, root2)`."
      ],
      "metadata": {}
    },
    {
      "outputs": [],
      "cell_type": "code",
      "source": [
        "function quadratic()\n",
        "end"
      ],
      "metadata": {},
      "execution_count": null
    },
    {
      "cell_type": "markdown",
      "source": [
        "A few test cases:"
      ],
      "metadata": {}
    },
    {
      "outputs": [],
      "cell_type": "code",
      "source": [
        "@show quadratic(1.0, -2.0, 1.0) # == (1.0, 1.0); x^2 - 2x + 1\n@show quadratic(1.0, 0, -1.0)   # == (-1.0, 1.0); x^2 - 1"
      ],
      "metadata": {},
      "execution_count": null
    },
    {
      "cell_type": "markdown",
      "source": [
        "**A note for scientists**:\nTry the following code using your `quadratic` function"
      ],
      "metadata": {}
    },
    {
      "outputs": [],
      "cell_type": "code",
      "source": [
        "a = 1.0; b = 100.0; c = 1.0\nr1, r2 = quadratic(a, b, c)\n@show eval_quadratic(a, b, c, r1)\n@show eval_quadratic(a, b, c, r2)"
      ],
      "metadata": {},
      "execution_count": null
    },
    {
      "cell_type": "markdown",
      "source": [
        "Depending on how you chose to implement your function, one of the results above is not $0$ but close to it.\nIn this case, $b^{2}$ is much larger compared to $4ac$ which means $b^{2} - 4ac$ is subject to *roundoff error*.\nThis happens because numbers on the real line *cannot* be represented exactly on a computer.\nIt is an issue for irrational numbers like $\\sqrt{2}$ and even rational numbers like $1/10 = 0.1$:"
      ],
      "metadata": {}
    },
    {
      "outputs": [],
      "cell_type": "code",
      "source": [
        "bitstring(0.1) # this is not exact in base 2!"
      ],
      "metadata": {},
      "execution_count": null
    },
    {
      "cell_type": "markdown",
      "source": [
        "Julia uses the [IEEE 754-2008 standard](https://en.wikipedia.org/wiki/IEEE_754-2008) to handle floating-point arithmetic.\nThe Julia manual has plenty of [references](https://docs.julialang.org/en/v1/manual/integers-and-floating-point-numbers/#Background-and-References) for the interested reader. \n\nSome useful values and functions to know about:\n\n- `Inf`/`Inf32`/`Inf16`: Literals for representing infinity.\n- `0.0` and `-0.0`: Signed zeros. note that `0.0 == -0.0`.\n- `NaN`: Not a Number; used to handle numerical issues like division by `0` or loss of precison due to underflow/overflow.\n- `exponent`: Return the exponent in the floating point representation of a number.\n- `significand`: Return the digits in the floating point representation of a number.\n- `signbit`: Check the sign bit of a number (false for positive, true for negative).\n- `bitstring`: Return the binary representation of a number literal.\n- `eps`: Machine epsilon; the gap between `1.0` and the next largest representable value of the same numeric type.\n- `nextfloat`/`prevfloat`: The next/previous representable floating-point number relative to an input.\n\n**Takeaway**: Try to look through documentation to see if a function you want has already been implemented, *especially* for any numerics.\n\n### Program Control Flow\n\n*Conditional statements* and *repeated evaluation* are common patterns that emerge in algorithms.\nJulia handles these concepts in a straightforward way.\n\n#### Conditional Statements\n\n`if-else` blocks allow you to execute a block of code conditional on some requirement."
      ],
      "metadata": {}
    },
    {
      "outputs": [],
      "cell_type": "code",
      "source": [
        "if rand() < 0.5 # mimic a coin flip\n    println(\"Heads\")\nelse\n    println(\"Tails\")\nend"
      ],
      "metadata": {},
      "execution_count": null
    },
    {
      "cell_type": "markdown",
      "source": [
        "These statements can be changed using `if-elseif-else` blocks.\nRemember that code blocks always have a return value."
      ],
      "metadata": {}
    },
    {
      "outputs": [],
      "cell_type": "code",
      "source": [
        "u = rand()\n\nx = if u < 0.25\n    1\nelseif 0.25 ≤ u < 0.5\n    2\nelseif 0.5 ≤ u < 0.75\n    3\nelse\n    4\nend\n\nprintln(\"The value of x is $(x).\")"
      ],
      "metadata": {},
      "execution_count": null
    },
    {
      "cell_type": "markdown",
      "source": [
        "You can omit the `elseif` or `else` portions altogether.\nThese blocks can be written as one-liners, too.\n\nWhat is the return type when we do assignment like this?\nUse `@show x` to investigate."
      ],
      "metadata": {}
    },
    {
      "outputs": [],
      "cell_type": "code",
      "source": [
        "x = if rand() < 0.5 \"In the if statement\" end\n\n@show x"
      ],
      "metadata": {},
      "execution_count": null
    },
    {
      "cell_type": "markdown",
      "source": [
        "The ternary operator (3-argument) `?` can be used to write `if-else` statements more compactly as\n\n`<condition> ? <true branch> : <false branch>`"
      ],
      "metadata": {}
    },
    {
      "outputs": [],
      "cell_type": "code",
      "source": [
        "truth_value = rand() < 0.5\n\ntruth_value ? println(\"branch taken if true\") : println(\"branch taken if false\")\n\n@show truth_value"
      ],
      "metadata": {},
      "execution_count": null
    },
    {
      "cell_type": "markdown",
      "source": [
        "Lastly, the [short-circuit operators](https://docs.julialang.org/en/v1/manual/control-flow/#Short-Circuit-Evaluation), `&&` and `||`, can also be used to write compact conditional statements.\nStatements chained with these operators are evaluated left to right.\n\n* Short-circuit AND (`&&`): In `a && b`, `b` is evaluted only when `a` returns `true`.\n* Short-circuit OR (`||`): In `a || b`, `b` is evaluated only when `a` returns `false`.\n\nFor example, in the Julia documentation there is an example that uses them to implement a recursive version of a factorial function."
      ],
      "metadata": {}
    },
    {
      "outputs": [],
      "cell_type": "code",
      "source": [
        "function fact(n::Int) # ::Int is a type annotation; we'll discuss this later\n    n >= 0 || error(\"n must be non-negative\") # use || to detect a violated condtion\n    n == 0 && return 1 # use && to detect the base case\n    n * fact(n-1) # otherwise, continue to recurse\nend"
      ],
      "metadata": {},
      "execution_count": null
    },
    {
      "outputs": [],
      "cell_type": "code",
      "source": [
        "fact(0)"
      ],
      "metadata": {},
      "execution_count": null
    },
    {
      "outputs": [],
      "cell_type": "code",
      "source": [
        "fact(-1)"
      ],
      "metadata": {},
      "execution_count": null
    },
    {
      "outputs": [],
      "cell_type": "code",
      "source": [
        "fact(4)"
      ],
      "metadata": {},
      "execution_count": null
    },
    {
      "cell_type": "markdown",
      "source": [
        "#### Repeated evaluation with loops\n\n`for` loops in Julia allow you to repeat a set of instructions a specific number of times.\nFor example, the following code prints out a sequence of numbers:"
      ],
      "metadata": {}
    },
    {
      "outputs": [],
      "cell_type": "code",
      "source": [
        "for i = 1:10 # this is MATLAB/FORTRAN/C/C++ -like style\n    println(\"The value of i is $(i)\")\nend"
      ],
      "metadata": {},
      "execution_count": null
    },
    {
      "cell_type": "markdown",
      "source": [
        "We start by giving some condition that determines how many times to execute commands, in this case we define a *local* variable `i` and state that it will take values from `1` to `10` using the range object `1:10` (will discuss later).\nNext, we give a command to execute repeatedly.\nThe `for` loop will run until it exhausts values in the \"enumeration\".\n\nAnother way is to pass a list and iterate over the elements of that list."
      ],
      "metadata": {}
    },
    {
      "outputs": [],
      "cell_type": "code",
      "source": [
        "mylist = collect(1:10) # creates a 1-D array with elements 1 through 10; discuss later!\n\nfor item in mylist # or for i in 1:10; this is the preferred style in Julia\n    println(\"The value of item is $(item)\")\nend"
      ],
      "metadata": {},
      "execution_count": null
    },
    {
      "cell_type": "markdown",
      "source": [
        "You can use `enumerate` to grab both the index and member at the same time:"
      ],
      "metadata": {}
    },
    {
      "outputs": [],
      "cell_type": "code",
      "source": [
        "mylist = rand('a':'z', 10)\n\nfor (i, item) in enumerate(mylist)\n    println(\"The item at index $(i) is $(item)\")\nend"
      ],
      "metadata": {},
      "execution_count": null
    },
    {
      "cell_type": "markdown",
      "source": [
        "For loops will even work with dictionaries (discussed later!):"
      ],
      "metadata": {}
    },
    {
      "outputs": [],
      "cell_type": "code",
      "source": [
        "d = Dict('a' => 1, 'b' => 2, 'c' => 100)"
      ],
      "metadata": {},
      "execution_count": null
    },
    {
      "outputs": [],
      "cell_type": "code",
      "source": [
        "for (key, value) in d\n    println(\"The key $(key) maps to $(value)\")\nend"
      ],
      "metadata": {},
      "execution_count": null
    },
    {
      "cell_type": "markdown",
      "source": [
        "#### Exercise\n\nImplement the factorial function using a `for` loop."
      ],
      "metadata": {}
    },
    {
      "outputs": [],
      "cell_type": "code",
      "source": [
        "function fact2(n::Int)\n",
        "\n",
        "end"
      ],
      "metadata": {},
      "execution_count": null
    },
    {
      "cell_type": "markdown",
      "source": [
        "Compare against the recursive version `fact` defined earlier, and the Julia standard `factorial`."
      ],
      "metadata": {}
    },
    {
      "outputs": [],
      "cell_type": "code",
      "source": [
        "fact(21)"
      ],
      "metadata": {},
      "execution_count": null
    },
    {
      "outputs": [],
      "cell_type": "code",
      "source": [
        "fact2(21)"
      ],
      "metadata": {},
      "execution_count": null
    },
    {
      "outputs": [],
      "cell_type": "code",
      "source": [
        "factorial(21)"
      ],
      "metadata": {},
      "execution_count": null
    },
    {
      "cell_type": "markdown",
      "source": [
        "The `while` loops allows one to execute repeated evaluation without knowing how many times to run a set of instructions ahead of time.\nInstead of iterating over a set of values, a `while` loop runs until some condition evaluates to `false`:"
      ],
      "metadata": {}
    },
    {
      "outputs": [],
      "cell_type": "code",
      "source": [
        "counter = 0\n\nwhile counter < 5\n    println(\"The current value is $(counter)\")\n    counter = counter + 1 # or counter += 1\nend"
      ],
      "metadata": {},
      "execution_count": null
    },
    {
      "outputs": [],
      "cell_type": "code",
      "source": [
        "counter = 0\nstill_true = true # use a Bool as a flag to indicate current state\n\nwhile still_true\n    println(\"The current value is $(counter)\")\n    counter = counter + 1    # make sure to update the counter\n    still_true = counter < 5 # make sure to update the variable we use to check\nend"
      ],
      "metadata": {},
      "execution_count": null
    },
    {
      "cell_type": "markdown",
      "source": [
        "Care must be taken to make sure a `while` loop eventually terminates.\nIf you accidentally make an infinite `while` loop, just use the \"Interrupt the kernel\" button (□), `Esc` → `C`, or `Ctrl + C`.\n\n#### Exercises\n\nCredit: [Algorithms from THE BOOK](https://locus.siam.org/doi/book/10.1137/1.9781611976175?mobileUi=0&) by Kenneth Lange\n\nThe ancients could compute square roots long before the age of computers or the rigorous formulation of the real numbers.\nThe so-called Babylonian method estimates square roots via the iterative method\n$$\nx_{k+1} = \\frac{1}{2}\\left[x_{k} + \\frac{a}{x_{k}}\\right].\n$$\n\nImplement a function that computes the square root of an a non-negative number `a` based on an initial guess `x0`.\nYour function should run until it achieves a given relative tolerance, $\\epsilon$ = `tol`; in symbols this is\n$$\n|x_{k+1} - x_{k}| < \\epsilon~(x_{k} + 1).\n$$\nYour function should also report the number of iterations taken, and return the estimate."
      ],
      "metadata": {}
    },
    {
      "outputs": [],
      "cell_type": "code",
      "source": [
        "function babylonian(a, x0, tol)\n    x_cur = x0            # current estimate\n    x_old = x0            # previous estimate\n    not_converged = true  # flag that indicates convergence\n    iter = 0              # number of iterations\n    \n    # your code goes here\n    while not_converged\n        x_old = x_cur\n        x_cur = 0.5 * (x_cur + a / x_cur)\n        not_converged = abs(x_cur - x_old) ≥ tol * (x_old + 1)\n        iter += 1\n    end\n    \n    println(\"Converged after $(iter) iterations.\")\n    \n    return x_cur\nend"
      ],
      "metadata": {},
      "execution_count": null
    },
    {
      "outputs": [],
      "cell_type": "code",
      "source": [
        "x_babylonian = babylonian(2, 1.4, 1e-6)"
      ],
      "metadata": {},
      "execution_count": null
    },
    {
      "outputs": [],
      "cell_type": "code",
      "source": [
        "x_sqrt = sqrt(2)"
      ],
      "metadata": {},
      "execution_count": null
    },
    {
      "outputs": [],
      "cell_type": "code",
      "source": [
        "abs(x_babylonian - x_sqrt)"
      ],
      "metadata": {},
      "execution_count": null
    },
    {
      "cell_type": "markdown",
      "source": [
        "Try computing the square root of `0.0` or `0` using your implementation."
      ],
      "metadata": {}
    },
    {
      "outputs": [],
      "cell_type": "code",
      "source": [
        ""
      ],
      "metadata": {},
      "execution_count": null
    },
    {
      "cell_type": "markdown",
      "source": [
        "Write a function that counts the number of times a character `char` occurs in a given string `str`.\nIt should treat the upper and lower case characters as being the same; e.g. 'c' and 'C' count as the same letter.\n**Hint**: Julia allows aribtrary objects to implement some notion of *iteration* and *indexing*.\nA `String` object is both iterable (so that `for c in str` makes sense) and indexable (so that `str[1]`)."
      ],
      "metadata": {}
    },
    {
      "outputs": [],
      "cell_type": "code",
      "source": [
        "function countin()\n",
        "\n",
        "end"
      ],
      "metadata": {},
      "execution_count": null
    },
    {
      "cell_type": "markdown",
      "source": [
        "You can use the following function to help you test your implementation.\nIt converts \"this\" into \"tHis\"."
      ],
      "metadata": {}
    },
    {
      "outputs": [],
      "cell_type": "code",
      "source": [
        "function mockify(str)\n    output = \"\"\n    for (i, c) in enumerate(str)\n        if i % 2 == 0\n            output *= uppercase(c)\n        else\n            output *= lowercase(c)\n        end\n    end\n\n    return output\nend"
      ],
      "metadata": {},
      "execution_count": null
    },
    {
      "outputs": [],
      "cell_type": "code",
      "source": [
        "test_string = \"The quick brown fox jumps over the lazy dog.\"\ncountin('a', test_string) # should equal 1"
      ],
      "metadata": {},
      "execution_count": null
    },
    {
      "outputs": [],
      "cell_type": "code",
      "source": [
        "countin('o', mockify(test_string)) # should equal 4"
      ],
      "metadata": {},
      "execution_count": null
    },
    {
      "cell_type": "markdown",
      "source": [
        "### Collections\n\nRoughly speaking, a *collection* is simply an object that stores multiple objects; e.g. an object that stores multiple literals.\nThere are several important collections to know in Julia.\nNote that collects can be nested within each other, so it is possible to have an `Array` of `Array`s or a `Dict` of `NamedTuple` objects.\n\nBefore diving into specific examples, you should be aware that collections share so much behavior that Julia defines [interfaces](https://docs.julialang.org/en/v1/manual/interfaces/) to make it easy to work with types that implement these common behaviors.\nExamples of interfaces include:\n\n* *indexing* to access a particular element in a collection, and\n* *iteration* to retrieve data from a collection in a predictable fashion (e.g. first, second, third...).\n\n#### Array\n\nA Julia [`Array`](https://docs.julialang.org/en/v1/base/arrays/) is an indexed collection with a particular shape determined by its dimensions.\nThis means the elements of an `Array` are ordered; it makes sense to speak of \"the first element\" or \"the last element\". Here are a few examples:"
      ],
      "metadata": {}
    },
    {
      "outputs": [],
      "cell_type": "code",
      "source": [
        "rand(3)"
      ],
      "metadata": {},
      "execution_count": null
    },
    {
      "outputs": [],
      "cell_type": "code",
      "source": [
        "rand(3, 3)"
      ],
      "metadata": {},
      "execution_count": null
    },
    {
      "outputs": [],
      "cell_type": "code",
      "source": [
        "rand(3, 3, 3)"
      ],
      "metadata": {},
      "execution_count": null
    },
    {
      "cell_type": "markdown",
      "source": [
        "The `Array` type is actually a parametric type -- it defines a *family of types* parameterized by the element type and number of dimensions.\nSpecifically, we have `Array{ElementType, NumberDimensions}`:"
      ],
      "metadata": {}
    },
    {
      "outputs": [],
      "cell_type": "code",
      "source": [
        "?Array"
      ],
      "metadata": {},
      "execution_count": null
    },
    {
      "cell_type": "markdown",
      "source": [
        "Note that `Array{T,1}` is an alias for `Vector{T}` and `Array{T,2}` is an alias for `Matrix{T}`.\n\nInstead of generating random arrays, we can create arrays with specific contents using square brackets `[]`:"
      ],
      "metadata": {}
    },
    {
      "outputs": [],
      "cell_type": "code",
      "source": [
        "x = [10.0, 3.2, sqrt(2)]"
      ],
      "metadata": {},
      "execution_count": null
    },
    {
      "cell_type": "markdown",
      "source": [
        "You can access elements of an `Array` using `x[<index>]`.\n**Note that Julia arrays start at index `1`!!!**.\n\nIf you really hate this for some reason, or your algorithm needs special indexing, you can write your own array type just like in [OffsetArrays.jl](https://github.com/JuliaArrays/OffsetArrays.jl)."
      ],
      "metadata": {}
    },
    {
      "outputs": [],
      "cell_type": "code",
      "source": [
        "x[1]"
      ],
      "metadata": {},
      "execution_count": null
    },
    {
      "cell_type": "markdown",
      "source": [
        "You can also create matrices by separating elements in a row by spaces, and indicate a new row by a `;`."
      ],
      "metadata": {}
    },
    {
      "outputs": [],
      "cell_type": "code",
      "source": [
        "y = [1 2 3; 4 5 6; 7 8 9]"
      ],
      "metadata": {},
      "execution_count": null
    },
    {
      "cell_type": "markdown",
      "source": [
        "You can specify a common type, too:"
      ],
      "metadata": {}
    },
    {
      "outputs": [],
      "cell_type": "code",
      "source": [
        "Float32[1 2 3; 4 5 6; 7 8 9]"
      ],
      "metadata": {},
      "execution_count": null
    },
    {
      "cell_type": "markdown",
      "source": [
        "You can use a linear index, e.g. `y[2]`, or coordinates, e.g. `y[2,1]` to acces the element `4`:"
      ],
      "metadata": {}
    },
    {
      "outputs": [],
      "cell_type": "code",
      "source": [
        "y[2] == y[2,1]"
      ],
      "metadata": {},
      "execution_count": null
    },
    {
      "cell_type": "markdown",
      "source": [
        "**Julia arrays are column-major, meaning elements are organized as contiguous data along columns**.\nThis means that if you ever need to iterate over the elements of a multi-dimensional arrays, the \"fast\" dimension should be the first dimension."
      ],
      "metadata": {}
    },
    {
      "outputs": [],
      "cell_type": "code",
      "source": [
        "for j in 1:3, i in 1:3 # (j,i) order is favored over (i,j) order\n    println(\"y[$i,$j] = $(y[i,j])\")\nend"
      ],
      "metadata": {},
      "execution_count": null
    },
    {
      "cell_type": "markdown",
      "source": [
        "Lastly, you can select all the elements along a particular dimension using a colon `:`:"
      ],
      "metadata": {}
    },
    {
      "outputs": [],
      "cell_type": "code",
      "source": [
        "y[:, 1] # selects column 1"
      ],
      "metadata": {},
      "execution_count": null
    },
    {
      "outputs": [],
      "cell_type": "code",
      "source": [
        "y[2, :] # selects row 2"
      ],
      "metadata": {},
      "execution_count": null
    },
    {
      "cell_type": "markdown",
      "source": [
        "Julia arrays are mutable, so you can change the contents of a particular location in the array using the assignment operator `=`:"
      ],
      "metadata": {}
    },
    {
      "outputs": [],
      "cell_type": "code",
      "source": [
        "y[3,3] = 100"
      ],
      "metadata": {},
      "execution_count": null
    },
    {
      "outputs": [],
      "cell_type": "code",
      "source": [
        "y"
      ],
      "metadata": {},
      "execution_count": null
    },
    {
      "cell_type": "markdown",
      "source": [
        "Other operations that can mutate an array:"
      ],
      "metadata": {}
    },
    {
      "outputs": [],
      "cell_type": "code",
      "source": [
        "x = Int64[] # empty array of Int64 objects"
      ],
      "metadata": {},
      "execution_count": null
    },
    {
      "outputs": [],
      "cell_type": "code",
      "source": [
        "for j in 1:5\n    push!(x, j) # add an element at the end\nend\n\nx"
      ],
      "metadata": {},
      "execution_count": null
    },
    {
      "outputs": [],
      "cell_type": "code",
      "source": [
        "pop!(x); x # delete the last element"
      ],
      "metadata": {},
      "execution_count": null
    },
    {
      "outputs": [],
      "cell_type": "code",
      "source": [
        "y = rand(3)\n[x; y] # vertical concatenation; equivalent to vcat(x, y)"
      ],
      "metadata": {},
      "execution_count": null
    },
    {
      "outputs": [],
      "cell_type": "code",
      "source": [
        "y = rand(length(x))\n[x y] # horizontal concatenation; equivalent to hcat(x, y)"
      ],
      "metadata": {},
      "execution_count": null
    },
    {
      "outputs": [],
      "cell_type": "code",
      "source": [
        ""
      ],
      "metadata": {},
      "execution_count": null
    },
    {
      "cell_type": "markdown",
      "source": [
        "An `Array` has certain properties, like `length`, `size`, and `eltype`:"
      ],
      "metadata": {}
    },
    {
      "outputs": [],
      "cell_type": "code",
      "source": [
        "A = rand(10, 12)"
      ],
      "metadata": {},
      "execution_count": null
    },
    {
      "outputs": [],
      "cell_type": "code",
      "source": [
        "length(A)"
      ],
      "metadata": {},
      "execution_count": null
    },
    {
      "outputs": [],
      "cell_type": "code",
      "source": [
        "size(A)"
      ],
      "metadata": {},
      "execution_count": null
    },
    {
      "outputs": [],
      "cell_type": "code",
      "source": [
        "eltype(A)"
      ],
      "metadata": {},
      "execution_count": null
    },
    {
      "cell_type": "markdown",
      "source": [
        "#### Ranges\n\nA range is an object that behaves much like an `Array` in that it supports indexing and iteration.\n\n#### Tuples\n\nTuples are similar to arrays in that they are lists of objects, but they do not have a shape.\nThey are creatd using parantheses, `()`."
      ],
      "metadata": {}
    },
    {
      "outputs": [],
      "cell_type": "code",
      "source": [
        "x = (1, 2, 3)"
      ],
      "metadata": {},
      "execution_count": null
    },
    {
      "cell_type": "markdown",
      "source": [
        "Accessing elements works the same as an `Array`:"
      ],
      "metadata": {}
    },
    {
      "outputs": [],
      "cell_type": "code",
      "source": [
        "x[2]"
      ],
      "metadata": {},
      "execution_count": null
    },
    {
      "cell_type": "markdown",
      "source": [
        "But a `Tuple` is immutable"
      ],
      "metadata": {}
    },
    {
      "outputs": [],
      "cell_type": "code",
      "source": [
        "x[2] = 100"
      ],
      "metadata": {},
      "execution_count": null
    },
    {
      "cell_type": "markdown",
      "source": [
        "So why would you use `Tuple`?\nBecause a `Tuple` is immutable, it can be allocated on the stack -- its size is known exactly at compile time.\nMoreover, it is possible to make a heterogeneous list -- where elements have different types -- and have operations with the tuple be type-stable."
      ],
      "metadata": {}
    },
    {
      "outputs": [],
      "cell_type": "code",
      "source": [
        "x = (1, \"abc\", 1.4)"
      ],
      "metadata": {},
      "execution_count": null
    },
    {
      "outputs": [],
      "cell_type": "code",
      "source": [
        "y = [x[1], x[2], x[3]]"
      ],
      "metadata": {},
      "execution_count": null
    },
    {
      "outputs": [],
      "cell_type": "code",
      "source": [
        "typeof(x) # element types are known exactly before checking"
      ],
      "metadata": {},
      "execution_count": null
    },
    {
      "outputs": [],
      "cell_type": "code",
      "source": [
        "typeof(y) # element types are only known once we index"
      ],
      "metadata": {},
      "execution_count": null
    },
    {
      "cell_type": "markdown",
      "source": [
        "#### NamedTuples\n\nA `NamedTuple` is similar to a `Tuple` except each field has a specific name.\nYou can create a `NamedTuple` using key-value pairs within `(...):`"
      ],
      "metadata": {}
    },
    {
      "outputs": [],
      "cell_type": "code",
      "source": [
        "z = (a=1.0, b=\"two\", c=3)"
      ],
      "metadata": {},
      "execution_count": null
    },
    {
      "cell_type": "markdown",
      "source": [
        "Access elements using the dot syntax"
      ],
      "metadata": {}
    },
    {
      "outputs": [],
      "cell_type": "code",
      "source": [
        "z.b"
      ],
      "metadata": {},
      "execution_count": null
    },
    {
      "cell_type": "markdown",
      "source": [
        "One particular use case for `NamedTuple` is for packaging several related variables into a single object, without having to write your own type.\n\n#### Dict (Dictionaries)\n\nA [`Dict`](https://docs.julialang.org/en/v1/base/collections/#Dictionaries) in Julia is an object that maps a specific *key* to a unique *value* (key-value pairs).\nVirtually anything can be used as a key or value, but you should prefer using immutable objects as keys to avoid headaches!\n\nOne way to define a `Dict` is by specifying key-value `Pairs`, `<key> => <value>`. Julia will infer the key and value types automatically."
      ],
      "metadata": {}
    },
    {
      "outputs": [],
      "cell_type": "code",
      "source": [
        "d = Dict(\"Alice\" => 25, \"Bob\" => 22)"
      ],
      "metadata": {},
      "execution_count": null
    },
    {
      "cell_type": "markdown",
      "source": [
        "You can recover the value associated with a particular key using the usual indexing notation"
      ],
      "metadata": {}
    },
    {
      "outputs": [],
      "cell_type": "code",
      "source": [
        "d[\"Alice\"]"
      ],
      "metadata": {},
      "execution_count": null
    },
    {
      "cell_type": "markdown",
      "source": [
        "And update its values with assignment"
      ],
      "metadata": {}
    },
    {
      "outputs": [],
      "cell_type": "code",
      "source": [
        "d[\"Bob\"] = 33; d"
      ],
      "metadata": {},
      "execution_count": null
    },
    {
      "cell_type": "markdown",
      "source": [
        "### Modules and Packages: Using Other People's Code\n\n#### Standard Library\n\nJulia ships with its own standard library.\nThe functions immediately available mostly live in the Base module.\nOther useful packages include: \n\n- LinearAlgebra, for everything linear algebra\n- DelimitedFiles, for working with formatted files (e.g. tab or comma separated)\n- Statistics, many standard statistics functions\n- Random, random number generation\n- Printf, for printing formatted strings (C-style)\n- Pkg, the Julia pacakge manager\n\n#### Registered Packages\n\nJulia users and developers are free to contribute to the Julia package ecosystem by registering them.\nThe **General** registry belongs to the whole community, but it is also possible to create your own private registry that contains your own packages (hosting is a separate issue).\n\nRegardless, you can manage community-contributed packages using the Pkg module.\n\nSome examples include:\n\n* DifferentialEquations\n* Distributions\n* DataFrames\n* BenchmarkTools\n\nand many, many more.\n\nHere are a few tips for package management:\n\n- Commands with Pkg and `]` (pkg-mode) are equivalent.\n- `Pkg.add(\"Example\")` or `] add Example` will add the Example package to your *environment*.\n- `Pkg.status()` or `] status` will tell you the list of installed packages for the current environment.\n- `Pkg.remove(\"Example\")` removes a package.\n- `Pkg.activate(\"path/to/dir\")` will activate the environment at `path/to/dir`. Julia searches the specified folder for a `Project.toml` file, or uses an empty one if it does not exist.\n- Use `Pkg.activate(\".\")` to return to the default environment.\n\n#### Environments\n\nThe list of explicitly installed packages is stored in a file called `Project.toml`.\nThe main environment is usually called `v1.x` where `x` is the minor Julia version and lives in `~/.julia/environments/v1.x`.\nThis is important because it helps you reproduce the environment used in developing a project!\n\n#### How to Actually Use Packages\n\nPackages live inside [*modules*](https://docs.julialang.org/en/v1/manual/modules/). They are defined using module code blocks."
      ],
      "metadata": {}
    },
    {
      "outputs": [],
      "cell_type": "code",
      "source": [
        "module MyExample\n    println(\"This module is loading\")\n    helloworld() = println(\"Hello world! This is my contribution.\") # define a function\n    println(\"We're done\")\n\n    export helloworld # export the function by default so others can use it\nend"
      ],
      "metadata": {},
      "execution_count": null
    },
    {
      "cell_type": "markdown",
      "source": [
        "We see the code executed. Let's try calling the function we made:"
      ],
      "metadata": {}
    },
    {
      "outputs": [],
      "cell_type": "code",
      "source": [
        "helloworld()"
      ],
      "metadata": {},
      "execution_count": null
    },
    {
      "cell_type": "markdown",
      "source": [
        "This fails because we've not loaded the module, only defined it.\nYou can use `import` to load it:"
      ],
      "metadata": {}
    },
    {
      "outputs": [],
      "cell_type": "code",
      "source": [
        "import Main.MyExample # MyExample is defined in the Main scope, so we need to address it"
      ],
      "metadata": {},
      "execution_count": null
    },
    {
      "outputs": [],
      "cell_type": "code",
      "source": [
        "helloworld()"
      ],
      "metadata": {},
      "execution_count": null
    },
    {
      "cell_type": "markdown",
      "source": [
        "This still fails? The reason is `import` tells us to load the module, but prevents exported functions from being brought into scope. We have to be explicit about where the function comes from in this case."
      ],
      "metadata": {}
    },
    {
      "outputs": [],
      "cell_type": "code",
      "source": [
        "Main.MyExample.helloworld()"
      ],
      "metadata": {},
      "execution_count": null
    },
    {
      "cell_type": "markdown",
      "source": [
        "This can be a bit tedious, so fortunately Julia lets us bind a module to a variable to make it easier to write:"
      ],
      "metadata": {}
    },
    {
      "outputs": [],
      "cell_type": "code",
      "source": [
        "ME = Main.MyExample"
      ],
      "metadata": {},
      "execution_count": null
    },
    {
      "outputs": [],
      "cell_type": "code",
      "source": [
        "ME.helloworld()"
      ],
      "metadata": {},
      "execution_count": null
    },
    {
      "cell_type": "markdown",
      "source": [
        "Alternatively, the `using` keyword brings all exported functions into scope:"
      ],
      "metadata": {}
    },
    {
      "outputs": [],
      "cell_type": "code",
      "source": [
        "using Main.MyExample"
      ],
      "metadata": {},
      "execution_count": null
    },
    {
      "outputs": [],
      "cell_type": "code",
      "source": [
        "helloworld()"
      ],
      "metadata": {},
      "execution_count": null
    },
    {
      "cell_type": "markdown",
      "source": [
        "Yet another option: You can explicitly choose which functions to bring into scope when you ivoke `using`:"
      ],
      "metadata": {}
    },
    {
      "outputs": [],
      "cell_type": "code",
      "source": [
        "using LinearAlgebra: norm # only bring norm into scope, unqualified"
      ],
      "metadata": {},
      "execution_count": null
    },
    {
      "outputs": [],
      "cell_type": "code",
      "source": [
        "norm(rand(3))"
      ],
      "metadata": {},
      "execution_count": null
    },
    {
      "outputs": [],
      "cell_type": "code",
      "source": [
        "eigen # lives in LinearAlgebra"
      ],
      "metadata": {},
      "execution_count": null
    },
    {
      "outputs": [],
      "cell_type": "code",
      "source": [
        "using LinearAlgebra"
      ],
      "metadata": {},
      "execution_count": null
    },
    {
      "outputs": [],
      "cell_type": "code",
      "source": [
        "eigen"
      ],
      "metadata": {},
      "execution_count": null
    },
    {
      "cell_type": "markdown",
      "source": [
        "# Projects\n\n### Newtons' Method\n\nNewton's method, also known as the Newton-Raphsons method, is an *iterative* technique that computes *roots* of a given function by exploiting information about its shape.\nA root of $f$, or a zero of $f$, is simply a value $x$ such that $f(x) = 0$.\nGiven a function $f$ with derivative $f^\\prime$, the algorithm can be summarized succintly as\n$$\n\\underset{\\text{next value in sequence}}{x_{k+1}}\n=\n\\underset{\\text{current value in sequence}}{x_{k}}\n-\n\\underset{\\text{Newton direction}}{\\frac{ f(x_{k}) }{ f^\\prime(x_{k}) }}.\n$$\nStarting from some initial guess for the root, $x_{0}$, one applies the rule above several times until the procedure converges to some specified tolerance level."
      ],
      "metadata": {}
    },
    {
      "outputs": [],
      "cell_type": "code",
      "source": [
        "function newton(f, df, x0; niters::Int=100, tol::Real=1e-2)\n",
        "    # initialize\n",
        "    f_init  = f(x0)                      # initial value for function values, f(x_0)\n",
        "    df_init = df(x0)                     # initial value for derivative values, f'(x_0)\n",
        "    f_prev  = typemax(f_init)            # previous function value, f(x_k)\n",
        "    f_cur   = f_init                     # current function value, f(x_k+1)\n",
        "    df_prev = typemax(f_init)            # previous function value, f'(x_k)\n",
        "    df_cur  = df_init                    # current function value, f'(x_k+1)\n",
        "    T = typeof(one(f_cur) / one(f_prev)) # infer common type\n",
        "    x = convert(T, x0)                   # current iterate\n",
        "    converged  = false                   # indicates whether we have achieved required tolerance\n",
        "    iterations = 0                       # track the number of iterations taken\n",
        "\n",
        "    for iter in 1:niters\n",
        "        # iterate\n",
        "\n",
        "        # update state\n",
        "\n",
        "        # check convergence\n",
        "    end\n",
        "\n",
        "    return (x, iterations, converged)\n",
        "end"
      ],
      "metadata": {},
      "execution_count": null
    },
    {
      "outputs": [],
      "cell_type": "code",
      "source": [
        "g(x) = x^2\ndg(x) = 2*x\nnewton(g, dg, 4.0, tol=1e-16)"
      ],
      "metadata": {},
      "execution_count": null
    },
    {
      "cell_type": "markdown",
      "source": [
        "### Handling Derivatives\n\nBut what if you don't know all the calculus rules, or your function simply has a derivative that is hard to write down?\n\nFortunately, there are a number of techniques to\n- compute derivatives exactly (automatic differentation),\n- derive symbolic expressions (symbolic differentiation), and\n- approximate derivatives numerically (finite differences)."
      ],
      "metadata": {}
    },
    {
      "outputs": [],
      "cell_type": "code",
      "source": [
        "f(x) = tan(x)^2"
      ],
      "metadata": {},
      "execution_count": null
    },
    {
      "cell_type": "markdown",
      "source": [
        "#### Exact derivatives with ForwardDiff.jl"
      ],
      "metadata": {}
    },
    {
      "outputs": [],
      "cell_type": "code",
      "source": [
        "using ForwardDiff"
      ],
      "metadata": {},
      "execution_count": null
    },
    {
      "outputs": [],
      "cell_type": "code",
      "source": [
        "fderiv1(x) = ForwardDiff.derivative(f, x)"
      ],
      "metadata": {},
      "execution_count": null
    },
    {
      "outputs": [],
      "cell_type": "code",
      "source": [
        "f(2)"
      ],
      "metadata": {},
      "execution_count": null
    },
    {
      "outputs": [],
      "cell_type": "code",
      "source": [
        "fderiv1(2)"
      ],
      "metadata": {},
      "execution_count": null
    },
    {
      "outputs": [],
      "cell_type": "code",
      "source": [
        "xs = range(-1, 1, step=1e-2)\nplot(xs, [f, fderiv1],\n    label=[\"f(x)\" \"f'(x)\"],\n    legend=:outerright,\n    linewidth=3,\n)"
      ],
      "metadata": {},
      "execution_count": null
    },
    {
      "cell_type": "markdown",
      "source": [
        "#### Approximate derivatives with FiniteDifferences.jl"
      ],
      "metadata": {}
    },
    {
      "outputs": [],
      "cell_type": "code",
      "source": [
        "using FiniteDifferences"
      ],
      "metadata": {},
      "execution_count": null
    },
    {
      "outputs": [],
      "cell_type": "code",
      "source": [
        "fderiv2(x) = FiniteDifferences.central_fdm(2, 1)(f, x)"
      ],
      "metadata": {},
      "execution_count": null
    },
    {
      "outputs": [],
      "cell_type": "code",
      "source": [
        "f(2)"
      ],
      "metadata": {},
      "execution_count": null
    },
    {
      "outputs": [],
      "cell_type": "code",
      "source": [
        "fderiv2(2)"
      ],
      "metadata": {},
      "execution_count": null
    },
    {
      "outputs": [],
      "cell_type": "code",
      "source": [
        "xs = range(-1, 1, step=1e-2)\nplot(xs, [f, fderiv2],\n    label=[\"f(x)\" \"f'(x)\"],\n    legend=:outerright,\n    linewidth=3,\n)"
      ],
      "metadata": {},
      "execution_count": null
    },
    {
      "cell_type": "markdown",
      "source": [
        "#### Automatic Differenations vs Finite Differences"
      ],
      "metadata": {}
    },
    {
      "outputs": [],
      "cell_type": "code",
      "source": [
        "abs(fderiv1(2) - fderiv2(2))"
      ],
      "metadata": {},
      "execution_count": null
    },
    {
      "cell_type": "markdown",
      "source": [
        "### Exercise: Write a function that compares forward mode AD with central finite differences.\n\n#### Inputs:\n- A function, call it `f`.\n- A list of values, `xvalues`, at which to compare the two methods.\n\n#### Outputs:\n\nA single `DataFrame` with the following columns:\n\n- `x`, which denotes the value at which to evalute the requested quantities.\n- `f`, which represents the function value at a given point `x`.\n- `FAD`, the value of the derivative based on ForwardDiff.jl.\n- `CFD`, the value of the derivative based on the central differences method in FiniteDifferences.jl.\n- `diff`, the absolute difference between the two methods.\n\n**Bonus**\n\n- Sort the data in ascending order based on the `x` column.\n- Avoid the `push!` operation in the given `for` loop.\n- Avoid writing an explicit `for` loop."
      ],
      "metadata": {}
    },
    {
      "outputs": [],
      "cell_type": "code",
      "source": [
        "function compare_derivatives(f, xvalues)\n",
        "    # 1. Create objects that represent derivatives in ForwardDiff.jl and FiniteDifferences.jl.\n",
        "    fp_FAD = x -> ForwardDiff.derivative(f, x)\n",
        "    fp_CFD = x -> FiniteDifferences.central_fdm(2, 1)(f, x)\n",
        "    \n",
        "    # 2. Create objects to store different quantities.\n",
        "    val_func = \n",
        "    val_FAD  =  # Your code goes here!\n",
        "    val_CFD  =  # Hint: What data types are useful for representing lists or sequences?\n",
        "    val_diff = \n",
        "    \n",
        "    # 3. Compute the requested quantities for the summary.\n",
        "    for x in xvalues\n",
        "        push!(val_func, f(x))\n",
        "        # Your code goes here!\n",
        "    end\n",
        "        \n",
        "    # 4. Put everything into a DataFrame.\n",
        "    # Your code goes here.\n",
        "    \n",
        "    # 5. Return the DataFrame object.\n",
        "    return df # Your code goes here.\n",
        "end"
      ],
      "metadata": {},
      "execution_count": null
    },
    {
      "outputs": [],
      "cell_type": "code",
      "source": [
        "test_func1(x) = x^2\nxvalues = randn(5)\n\ncompare_derivatives(test_func1, xvalues)"
      ],
      "metadata": {},
      "execution_count": null
    },
    {
      "outputs": [],
      "cell_type": "code",
      "source": [
        "test_func2(x) = sin(x) / x\nxvalues = [k*π/8 for k in 1:7]\n\ncompare_derivatives(test_func2, xvalues)"
      ],
      "metadata": {},
      "execution_count": null
    },
    {
      "cell_type": "markdown",
      "source": [
        "### Adding Visual Feedback\n\nNow let's add a way to track progress in Newton's method.\nThe easiest way to do this would be to print a few values using `print` or `println`.\nHere we will try to make our program modular by adding a step in the program that delegates the logging functionality to some other tiny program.\nWe will do this using what is known as a *function callback* -- a function passed to our program that will be called at some point using data from the Newton program.\n\nIn our code, we will add an argument, `cb`, which will be a *variable bound to a particular function*.\nThe underlying function will accept three arguments; that is, calling it will look like:"
      ],
      "metadata": {}
    },
    {
      "outputs": [],
      "cell_type": "code",
      "source": [
        "cb(f, df, info)"
      ],
      "metadata": {},
      "execution_count": null
    },
    {
      "cell_type": "markdown",
      "source": [
        "where `f` is the function whose root we are interested in, `df` is the derivative of `f`, and `info` is an object that contains extra information.\nIn this case, we will use a `NamedTuple` to store information about the state of the algorithm (see the code below)."
      ],
      "metadata": {}
    },
    {
      "outputs": [],
      "cell_type": "code",
      "source": [
        "function newton(f, df, x0; niters::Int=100, tol::Real=1e-2, cb::Function=DEFAULT_CB) # note the extra argument\n    # initialize\n    f_init  = f(x0)                      # initial value for function values, f(x_0)\n    df_init = df(x0)                     # initial value for derivative values, f'(x_0)\n    f_prev  = typemax(f_init)            # previous function value, f(x_k)\n    f_cur   = f_init                     # current function value, f(x_k+1)\n    df_prev = typemax(f_init)            # previous function value, f'(x_k)\n    df_cur  = df_init                    # current function value, f'(x_k+1)\n    T = typeof(one(f_cur) / one(f_prev)) # infer common type\n    x = convert(T, x0)                   # current iterate\n    converged  = false                   # indicates whether we have achieved required tolerance\n    iterations = 0                       # track the number of iterations taken\n\n    for iter in 1:niters\n        # iterate\n        x_prev = x\n        x = x - f_cur / df_cur\n\n        # update state\n        f_prev  = f_cur\n        df_prev = df_cur\n        f_cur   = f(x)\n        df_cur  = df(x)\n\n        # package information into a NamedTuple?\n        info = (\n                iter=iter,\n                x_cur=x,\n                x_prev=x_prev,\n                f_cur=f_cur,\n                f_prev=f_prev,\n                df_cur=df_cur,\n                df_prev=df_prev,\n        )\n        \n        # execute the callback\n        cb(f, df, info)\n\n        # check convergence\n        converged = abs(f_cur - f_prev) < tol\n        iterations += 1\n\n        converged && break\n    end\n\n    return (x, iterations, converged)\nend\n\n# implement a default behavior for callback\nDEFAULT_CB(f, df, info) = nothing"
      ],
      "metadata": {},
      "execution_count": null
    },
    {
      "cell_type": "markdown",
      "source": [
        "Check that everything still works:"
      ],
      "metadata": {}
    },
    {
      "outputs": [],
      "cell_type": "code",
      "source": [
        "newton(g, dg, 4.0, tol=1e-8)"
      ],
      "metadata": {},
      "execution_count": null
    },
    {
      "cell_type": "markdown",
      "source": [
        "Now let's write a program that displays\n\n1. the current iteration number,\n2. the current estimate for the root, `x`, and\n3. the current function value, `f(x)`.\n\nWe will use the `Printf` module to help us format our strings.\nTo understand the formatting, note that:\n\n- `\\t`: denotes a *tab character*.\n- `\\n`: denotes a *newline character*.\n- `%3d`: denotes a number with 3 digits.\n- `.8f`: denotes a floating point number has 8 digits after the decimal."
      ],
      "metadata": {}
    },
    {
      "outputs": [],
      "cell_type": "code",
      "source": [
        "using Printf"
      ],
      "metadata": {},
      "execution_count": null
    },
    {
      "outputs": [],
      "cell_type": "code",
      "source": [
        "function print_cb(f, df, info)\n    x, fx, iter = info.x_cur, info.f_cur, info.iter\n\n    # add a header for the first iteration\n    iter == 1 && println(\"iter\\tx\\t\\tf(x)\")\n\n    # print iteration, x value, and f(x) value\n    @printf \"%3d\\t%.8f\\t%.8f\\n\" iter x fx\n\n    return nothing\nend"
      ],
      "metadata": {},
      "execution_count": null
    },
    {
      "outputs": [],
      "cell_type": "code",
      "source": [
        "newton(g, dg, 4.0, tol=1e-8, cb=print_cb)"
      ],
      "metadata": {},
      "execution_count": null
    },
    {
      "cell_type": "markdown",
      "source": [
        "Our printing callback works as expected, but doing any analysis with the information printed out is cumbersome: you have to copy the information from your screen.\n\nNext, we will implement a callback that actually stores the information for later use within Julia.\nIn order to avoid modifying our Newton's method program any further, we will use a slightly more advanced concept called a *closure*.\nSpecifically, we want to implement a function that stores information inside two arrays, but we need those arrays to be scoped within the calling function."
      ],
      "metadata": {}
    },
    {
      "outputs": [],
      "cell_type": "code",
      "source": [
        "# define the type, which is defined as a subtype of function so that it behaves like a function\n",
        "struct MyLoggingCB{T} <: Function\n",
        "    xvals::Vector{T} # the first field will store the x values\n",
        "    fvals::Vector{T} # the second field will store the f(x) values\n",
        "end\n",
        "\n",
        "# provide a constructor to initialize both fields with empty arrays.\n",
        "MyLoggingCB{T}() where T = MyLoggingCB(T[], T[])\n",
        "\n",
        "# implement the desired behavior\n",
        "function (cb::MyLoggingCB)(f, df, info)\n",
        "    # flush if this is the first call\n",
        "    if info.iter == 1\n",
        "        empty!(cb.xvals)\n",
        "        empty!(cb.fvals)\n",
        "    end\n",
        "\n",
        "    # log the data\n",
        "\n",
        "    return nothing\n",
        "end"
      ],
      "metadata": {},
      "execution_count": null
    },
    {
      "outputs": [],
      "cell_type": "code",
      "source": [
        "mycb = MyLoggingCB{Float64}()\nnewton(g, dg, 4.0, tol=1e-8, cb=mycb)"
      ],
      "metadata": {},
      "execution_count": null
    },
    {
      "outputs": [],
      "cell_type": "code",
      "source": [
        "xmin, xmax = extrema(mycb.xvals)\nxs = range(xmin, xmax, length=1000)\n\nplot(xs, g, lw=3, label=\"g(x)\", legend=:outerright)\nplot!(mycb.xvals, mycb.fvals, xlab=\"x\", ylab=\"g(x)\", label=\"path\", arrow=true, lw=3, linestyle=:dash)"
      ],
      "metadata": {},
      "execution_count": null
    },
    {
      "outputs": [],
      "cell_type": "code",
      "source": [
        "# using Pkg; Pkg.add(\"Plots\")\nusing Plots\n\nstruct MyPlottingCB{T} <: Function\n    log::MyLoggingCB{T}\nend\n\nMyPlottingCB{T}() where T = MyPlottingCB{T}(MyLoggingCB{T}())\n\nfunction (cb::MyPlottingCB)(f, df, info)\n    # first log the new data\n    cb.log(f, df, info)\n\n    # now show a plot\n    fig = plot(1:length(cb.log.fvals), cb.log.fvals, xlab=\"iteration\", ylab=\"f(x)\", lw=3)\n    scatter!(1:length(cb.log.fvals), cb.log.fvals, legend=false, lw=0)\n    \n    # sleep a little so we can see that it happens as the algorithm progresses\n    sleep(0.5)\n\n    # make sure the figure is displayed\n    display(fig)\n\n    return nothing\nend"
      ],
      "metadata": {},
      "execution_count": null
    },
    {
      "outputs": [],
      "cell_type": "code",
      "source": [
        "mycb = MyPlottingCB{Float64}()\nnewton(g, dg, 4.0, tol=1e-8, cb=mycb)"
      ],
      "metadata": {},
      "execution_count": null
    },
    {
      "cell_type": "markdown",
      "source": [
        "# Additional Topics\n\n### Broadcasting\n\nThe `.` symbol has a special meaning in Julia in that it is reserved for two operations: accessing fields of a type, or *broadcasting*.\nRoughly speaking, *broadcasting* allows you to apply functions to elements of a collection individually using a concise syntax.\n\nFor example we can do elementwise-multiplication:"
      ],
      "metadata": {}
    },
    {
      "outputs": [],
      "cell_type": "code",
      "source": [
        "x = [1, 2, 3]\ny = [12, 6, 4]\n\nx .* y"
      ],
      "metadata": {},
      "execution_count": null
    },
    {
      "cell_type": "markdown",
      "source": [
        "This works for *any* function, not just operators:"
      ],
      "metadata": {}
    },
    {
      "outputs": [],
      "cell_type": "code",
      "source": [
        "function foo(x)\n    return x * sqrt(2)\nend"
      ],
      "metadata": {},
      "execution_count": null
    },
    {
      "outputs": [],
      "cell_type": "code",
      "source": [
        "foo.(x)"
      ],
      "metadata": {},
      "execution_count": null
    },
    {
      "cell_type": "markdown",
      "source": [
        "Julia will try to reason about functions supporting multiple arguments where possible:"
      ],
      "metadata": {}
    },
    {
      "outputs": [],
      "cell_type": "code",
      "source": [
        "function bar(x, y)\n    return x + sqrt(y)\nend"
      ],
      "metadata": {},
      "execution_count": null
    },
    {
      "outputs": [],
      "cell_type": "code",
      "source": [
        "bar.(x, y)"
      ],
      "metadata": {},
      "execution_count": null
    },
    {
      "outputs": [],
      "cell_type": "code",
      "source": [
        "z = 4 * ones(5)"
      ],
      "metadata": {},
      "execution_count": null
    },
    {
      "outputs": [],
      "cell_type": "code",
      "source": [
        "bar.(x, z)"
      ],
      "metadata": {},
      "execution_count": null
    },
    {
      "cell_type": "markdown",
      "source": [
        "Adding `.` everywhere can become tedious in a complicated expression, so Julia provides a special `@.` *macro* to automatically add broadasting to an expression:"
      ],
      "metadata": {}
    },
    {
      "outputs": [],
      "cell_type": "code",
      "source": [
        "z = rand(3)"
      ],
      "metadata": {},
      "execution_count": null
    },
    {
      "outputs": [],
      "cell_type": "code",
      "source": [
        "@. x * y + z"
      ],
      "metadata": {},
      "execution_count": null
    },
    {
      "outputs": [],
      "cell_type": "code",
      "source": [
        "w = zeros(3)\n\nfor i in eachindex(w) # eachindex(w) is preferred style over 1:length(w)\n    w[i] = x[i] * y[i] + z[i] # equivalent version\nend\n\nw"
      ],
      "metadata": {},
      "execution_count": null
    },
    {
      "cell_type": "markdown",
      "source": [
        "### Macros to know about\n\n*Macros* in Julia are functions that transform Julia code into other Julia code.\nThis is possible in part because Julia is written in Julia itself, using `Symbol` and `Expr` objects.\nFor example:"
      ],
      "metadata": {}
    },
    {
      "outputs": [],
      "cell_type": "code",
      "source": [
        "ex = :(1 + 3) # the : symbol can be used to define a symbol or expression"
      ],
      "metadata": {},
      "execution_count": null
    },
    {
      "outputs": [],
      "cell_type": "code",
      "source": [
        "typeof(ex)"
      ],
      "metadata": {},
      "execution_count": null
    },
    {
      "outputs": [],
      "cell_type": "code",
      "source": [
        "ex.head"
      ],
      "metadata": {},
      "execution_count": null
    },
    {
      "outputs": [],
      "cell_type": "code",
      "source": [
        "ex.args"
      ],
      "metadata": {},
      "execution_count": null
    },
    {
      "outputs": [],
      "cell_type": "code",
      "source": [
        "eval(ex) # evaluate the expression; you almost never have to use something like this in your code"
      ],
      "metadata": {},
      "execution_count": null
    },
    {
      "cell_type": "markdown",
      "source": [
        "The `@time` macro is useful for timing parts of your code.\nTo undrestand what we mean by code transformation, the `@time` macro is roughly equivalent to"
      ],
      "metadata": {}
    },
    {
      "outputs": [],
      "cell_type": "code",
      "source": [
        "t1 = time() # get time in seconds\nsleep(0.1) # do something\nt2 = time() # get new time in seconds\n(t2 - t1) # get time elapsed"
      ],
      "metadata": {},
      "execution_count": null
    },
    {
      "outputs": [],
      "cell_type": "code",
      "source": [
        "@time sleep(0.1); # includes information about memory allocation"
      ],
      "metadata": {},
      "execution_count": null
    },
    {
      "cell_type": "markdown",
      "source": [
        "Macros are quite an advanced topic, but here we will simply mention a few macros and describe their use:\n\n1. `@time`: time a line of code (can be used on functions); see also [BenchmarkTools.jl](https://github.com/JuliaCI/BenchmarkTools.jl) for more rigorous benchmarking.\n2. `@show`: force displaying of a variable or expression\n3. `@inbounds`: turn off bounds-checking on arrays within an expression (use with extreme care!)\n4. `@code_warntype`: useful for checking Julia code for type stability\n5. `@.`: Add `.` to functions in an expression to induce broadcasting\n6. `@assert`: Check that an expression evaluates to true; otherwise throw an error.\n\n### A little more on types\n\nJulia has a flexible [type system](https://docs.julialang.org/en/v1/manual/types/).\nAs we've seen, a \"type\" roughly translates to \"class\" in object oriented programming (OOP).\nIn contrast to OOP, however, Julia types have *very* strict notion of inheritance: you can't extend concrete types.\nHere we won't discuss how polymorphism or design work in Julia, but rather take a closer look at the anatomy of types.\n\nThere are three main classes of types to be aware of as you start with the language:\n\n1. Composite Types: Types that combine other data types.\n2. Parametric Types: Types that define a *family* of types, parameterized by some variables.\n3. Abstract Types: These are just \"nodes\" in a hierarchy. You can define functions with them or use them in type annotations, but you cannot make instances.\nFor example, an `Int` is a subtype of `Real` so it sits somewhere in a hierarchy including both types.\n\nImportantly, types can be defined at any point in time, but their structure cannot be changed once defined.\nThis means:\n\n- You can edit functions that use a particular type, but not change what fields are part of the type after it's been defined.\n- You can update a type's constructors. For our purposes, a constructor is merely a function that creates an instance of a type.\n\nIn the following code, note that `<name>::<type>` is a *type annotation* which declares that a particular variable has a certain type.\nType annotations can be used anywhere, including\n\n- function signatures, which limit the type of arguments that can go into the function, and\n- code blocks/function bodies, which enforce that an object must have a certain type."
      ],
      "metadata": {}
    },
    {
      "outputs": [],
      "cell_type": "code",
      "source": [
        "struct Point2D # define an (immutable) type named Point2D\n    x::Float64 # has a field x which is a Float64\n    y::Float64 # has a field y which is a Float64\nend"
      ],
      "metadata": {},
      "execution_count": null
    },
    {
      "outputs": [],
      "cell_type": "code",
      "source": [
        "Point2D(1.0, 0.0) # Julia automatically defines a constructor for you"
      ],
      "metadata": {},
      "execution_count": null
    },
    {
      "outputs": [],
      "cell_type": "code",
      "source": [
        "struct ParPoint2D{T <: Real} # define a type family where type T must be a subtype Real number\n    x::T # has a field x, which has type T\n    y::T # has a field y, which is ALSO type T\nend"
      ],
      "metadata": {},
      "execution_count": null
    },
    {
      "outputs": [],
      "cell_type": "code",
      "source": [
        "ParPoint2D(0,0) # type parameter automatically inferred"
      ],
      "metadata": {},
      "execution_count": null
    },
    {
      "outputs": [],
      "cell_type": "code",
      "source": [
        "ParPoint2D{Float64}(0, 0) # note the automatic conversion"
      ],
      "metadata": {},
      "execution_count": null
    },
    {
      "cell_type": "markdown",
      "source": [
        "We can define a no-argument constructor that defaults to the origin.\nNote that here we must specify the type parameter using `{T}` and state that `T` is a free parameter using `where`.\nWriting `where T` roughly translates to `where T <: Any` but we could also restrict `where T <: Real` if we want."
      ],
      "metadata": {}
    },
    {
      "outputs": [],
      "cell_type": "code",
      "source": [
        "ParPoint2D{T}() where T = ParPoint2D{T}(zero(T), zero(T))."
      ],
      "metadata": {},
      "execution_count": null
    },
    {
      "cell_type": "markdown",
      "source": [
        "Note that this generic version works for many data types:"
      ],
      "metadata": {}
    },
    {
      "outputs": [],
      "cell_type": "code",
      "source": [
        "@show ParPoint2D{Float64}()\n@show ParPoint2D{Int}()"
      ],
      "metadata": {},
      "execution_count": null
    },
    {
      "cell_type": "markdown",
      "source": [
        "The alternative would be to write a no-argument constructor for every possible type value for `T`; e.g. `ParPoint{Float64} = ParPoint(0.0, 0.0)` which is tedious.\nThe generic version is guaranteed to work for any subtype of `Real`, *even types that did not exist when we implemented our type*.\n\nOne of the benefits of the Julia language is the ability to overload standard functions to take advantage of composition.\nFor example, it's possible to define a notion of addition with points by overloading `+`:"
      ],
      "metadata": {}
    },
    {
      "outputs": [],
      "cell_type": "code",
      "source": [
        "import Base: + # existing functions must imported explicitly in order to overload them \n\nfunction Base.:+(A::ParPoint2D, B::ParPoint2D) # we could specify type parameters but there's no need\n    return ParPoint2D(A.x + B.x, A.y + B.y)\nend\n\nParPoint2D(1,1) + ParPoint2D(2,1)"
      ],
      "metadata": {},
      "execution_count": null
    },
    {
      "cell_type": "markdown",
      "source": [
        "Now anything that relies on `+` \"just works\":"
      ],
      "metadata": {}
    },
    {
      "outputs": [],
      "cell_type": "code",
      "source": [
        "list = [ParPoint2D(1,1), ParPoint2D(2,1), ParPoint2D(3,0)]\nsum(list)"
      ],
      "metadata": {},
      "execution_count": null
    },
    {
      "cell_type": "markdown",
      "source": [
        "### (Im)mutability and function name conventions\n\nEvery type in Julia is either *mutable* or *immutable*.\nA type is said to be *mutable* if you are allowed to change its contents.\nIn contrast, *immutable* objects cannot have their contents changed.\n\nFor example, if we create a variable that stores the number `1` we can bind the variable to a new value *but its contents do not change* because it is immutable.\nLet's illustrate this by writing a wrapper type for `Int`:"
      ],
      "metadata": {}
    },
    {
      "outputs": [],
      "cell_type": "code",
      "source": [
        "struct MyInt # structs are immutable\n    value::Int\nend"
      ],
      "metadata": {},
      "execution_count": null
    },
    {
      "outputs": [],
      "cell_type": "code",
      "source": [
        "x = MyInt(1)"
      ],
      "metadata": {},
      "execution_count": null
    },
    {
      "outputs": [],
      "cell_type": "code",
      "source": [
        "x.value = 2"
      ],
      "metadata": {},
      "execution_count": null
    },
    {
      "outputs": [],
      "cell_type": "code",
      "source": [
        "mutable struct MutableInt\n    value::Int\nend"
      ],
      "metadata": {},
      "execution_count": null
    },
    {
      "outputs": [],
      "cell_type": "code",
      "source": [
        "y = MutableInt(1)"
      ],
      "metadata": {},
      "execution_count": null
    },
    {
      "outputs": [],
      "cell_type": "code",
      "source": [
        "y.value = 2"
      ],
      "metadata": {},
      "execution_count": null
    },
    {
      "outputs": [],
      "cell_type": "code",
      "source": [
        "y"
      ],
      "metadata": {},
      "execution_count": null
    },
    {
      "cell_type": "markdown",
      "source": [
        "Given this behavior, you may naturally wonder how objects may or may not change if one attempts to mutate them inside a function."
      ],
      "metadata": {}
    },
    {
      "outputs": [],
      "cell_type": "code",
      "source": [
        "a = [1.0, 2, 3]"
      ],
      "metadata": {},
      "execution_count": null
    },
    {
      "outputs": [],
      "cell_type": "code",
      "source": [
        "function mutate_second_element(x)\n    x[2] = sqrt(2) # this is MUTATION! it is shorthand for setfield!(x, new_value, index)\nend"
      ],
      "metadata": {},
      "execution_count": null
    },
    {
      "outputs": [],
      "cell_type": "code",
      "source": [
        "mutate_second_element(a)"
      ],
      "metadata": {},
      "execution_count": null
    },
    {
      "outputs": [],
      "cell_type": "code",
      "source": [
        "a"
      ],
      "metadata": {},
      "execution_count": null
    },
    {
      "outputs": [],
      "cell_type": "code",
      "source": [
        "@which a[2] = sqrt(2)"
      ],
      "metadata": {},
      "execution_count": null
    },
    {
      "outputs": [],
      "cell_type": "code",
      "source": [
        "function assign_and_mutate_second_element(x)\n    y = x # this is ASSIGNMENT\n    y[2] = sqrt(3) # this is MUTATION\nend"
      ],
      "metadata": {},
      "execution_count": null
    },
    {
      "outputs": [],
      "cell_type": "code",
      "source": [
        "assign_and_mutate_second_element(a)"
      ],
      "metadata": {},
      "execution_count": null
    },
    {
      "outputs": [],
      "cell_type": "code",
      "source": [
        "a"
      ],
      "metadata": {},
      "execution_count": null
    },
    {
      "cell_type": "markdown",
      "source": [
        "To understand this example, remember that `=` by itself simply *binds* a value to a particular symbol.\nSo, `y = x` simply means that the data attached to `x` is now also attached to `y`; no new copy is created.\nMutating the data attached to `y` is equivalent to mutating `x`.\n\nWe can test this with another example:"
      ],
      "metadata": {}
    },
    {
      "outputs": [],
      "cell_type": "code",
      "source": [
        "function copy_and_mutate_second_element(x)\n    y = copy(x) # assign y a copy of the data in x\n    y[2] = sqrt(17)\nend"
      ],
      "metadata": {},
      "execution_count": null
    },
    {
      "outputs": [],
      "cell_type": "code",
      "source": [
        "copy_and_mutate_second_element(a)"
      ],
      "metadata": {},
      "execution_count": null
    },
    {
      "outputs": [],
      "cell_type": "code",
      "source": [
        "a"
      ],
      "metadata": {},
      "execution_count": null
    },
    {
      "cell_type": "markdown",
      "source": [
        "**To help programmers understand that objects will be mutated after calling a particular function, we use the convention of adding `!` to the end of a mutating function**. This lets users know that a function will mutate some arguments. Usually, we put the mutated arguments on the left of the function signature.\n\nIn fact, it is a common pattern in Julia to separate a function into allocating and non-allocating versions:"
      ],
      "metadata": {}
    },
    {
      "outputs": [],
      "cell_type": "code",
      "source": [
        "function compute_partial_sums(x)\n    # create an Array with the same shape as x, but filled with zero(eltype(x)). \n    partial = zero(x)\n    \n    # do the actual work, storing the result in partial\n    # we return whatever this function evaluates to\n    compute_partial_sums!(partial, x)\nend"
      ],
      "metadata": {},
      "execution_count": null
    },
    {
      "outputs": [],
      "cell_type": "code",
      "source": [
        "function compute_partial_sums!(partial, x) # use convention; has ! and mutated argument is the first\n    for i in eachindex(x)\n        prev = i > 1 ? partial[i-1] : zero(eltype(x))\n        partial[i] = prev + x[i]\n    end\n    return partial\nend"
      ],
      "metadata": {},
      "execution_count": null
    },
    {
      "outputs": [],
      "cell_type": "code",
      "source": [
        "x = [1, 1, 1, 1]"
      ],
      "metadata": {},
      "execution_count": null
    },
    {
      "outputs": [],
      "cell_type": "code",
      "source": [
        "compute_partial_sums(x)"
      ],
      "metadata": {},
      "execution_count": null
    },
    {
      "cell_type": "markdown",
      "source": [
        "This is essentially what the `cumsum` (cumulative sum) function does:"
      ],
      "metadata": {}
    },
    {
      "outputs": [],
      "cell_type": "code",
      "source": [
        "cumsum(x)"
      ],
      "metadata": {},
      "execution_count": null
    },
    {
      "outputs": [],
      "cell_type": "code",
      "source": [
        "partial = zero(x)\ncumsum!(partial, x)\npartial"
      ],
      "metadata": {},
      "execution_count": null
    },
    {
      "cell_type": "markdown",
      "source": [
        "### Type stability\n\nA block of code, such as a function, is said to be *type-stable* if Julia is able to determine the types of all variables at compile time.\nHaving complete type information allows Julia's compiler to automatically generate efficient code that runs on your machine.\nYou can investigate type stability using the `@code_warntype` macro, which will highlight potential type instability in red (serious) and yellow (okay)."
      ],
      "metadata": {}
    },
    {
      "outputs": [],
      "cell_type": "code",
      "source": [
        "function silly_example(x)\n    if x < 10\n        return \"ten\"\n    else\n        return x\n    end\nend"
      ],
      "metadata": {},
      "execution_count": null
    },
    {
      "outputs": [],
      "cell_type": "code",
      "source": [
        "silly_example(1)"
      ],
      "metadata": {},
      "execution_count": null
    },
    {
      "outputs": [],
      "cell_type": "code",
      "source": [
        "silly_example(12.3)"
      ],
      "metadata": {},
      "execution_count": null
    },
    {
      "outputs": [],
      "cell_type": "code",
      "source": [
        "@code_warntype silly_example(1)"
      ],
      "metadata": {},
      "execution_count": null
    },
    {
      "cell_type": "markdown",
      "source": [
        "Here the annotation with `Union{Int64,String}` means that the return value is either a `Int64` or a `String`, which is called a *type union*.\nJulia handles minor type stability violations by introducing type unions to limit the possible space of return types.\nIn the *worst case* the return type will be `Any`, the catch-all when Julia is unable to infer any type information.\n\nLet's look at a more realistic example.\nHere we have a function that computes the sum of an array:"
      ],
      "metadata": {}
    },
    {
      "outputs": [],
      "cell_type": "code",
      "source": [
        "function mysum(x)\n    value = 0 # initialize\n    for i in eachindex(x) # iterate over the indices in x\n        value = value + x[i] # sum\n    end\n    return value\nend"
      ],
      "metadata": {},
      "execution_count": null
    },
    {
      "outputs": [],
      "cell_type": "code",
      "source": [
        "x = [1.0, 2.0, 3.0]\nmysum(x)"
      ],
      "metadata": {},
      "execution_count": null
    },
    {
      "outputs": [],
      "cell_type": "code",
      "source": [
        "@code_warntype mysum(x)"
      ],
      "metadata": {},
      "execution_count": null
    },
    {
      "cell_type": "markdown",
      "source": [
        "This means the return type for `value` is either a `Int64` or a `Float64`.\nThe reason is that `value = 0` is initially an `Int64`. Then:\n- if the `for` loop runs, `value = value + x[1]` where `x[1]::Float64` so `value` is promoted to a `Float64`, or\n- if the `for` loop never runs, then `value = 0` which is an `Int64`.\nThis seems like a bad consequence of Julia's flexible type system.\nHowever, it has a very easy fix:"
      ],
      "metadata": {}
    },
    {
      "outputs": [],
      "cell_type": "code",
      "source": [
        "function mysum(x)\n    value = zero(eltype(x)) # set value to the zero of the same type as elements in x\n    for i in eachindex(x)\n        value = value + x[i]\n    end\n    return value\nend"
      ],
      "metadata": {},
      "execution_count": null
    },
    {
      "outputs": [],
      "cell_type": "code",
      "source": [
        "x = Int64[1, 2, 3]\n@code_warntype mysum(x)"
      ],
      "metadata": {},
      "execution_count": null
    },
    {
      "outputs": [],
      "cell_type": "code",
      "source": [
        "x = Float32[1, 2, 3]\n@code_warntype mysum(x)"
      ],
      "metadata": {},
      "execution_count": null
    },
    {
      "cell_type": "markdown",
      "source": [
        "The type instability is gone!\nNow we have a generic, type-stable function that preserves types after the sum reduction.\n\n### Functions vs Methods\n\nA *function* in Julia is essentially the symbol bound to a particular \"action\".\nA *method* is a particular version or implementation of that action.\n\nFor example, the `sqrt` function will behave differently depending on the input type."
      ],
      "metadata": {}
    },
    {
      "outputs": [],
      "cell_type": "code",
      "source": [
        "?sqrt"
      ],
      "metadata": {},
      "execution_count": null
    },
    {
      "cell_type": "markdown",
      "source": [
        "Julia lets us look up *methods* for a particular *function* using `methods`:"
      ],
      "metadata": {}
    },
    {
      "outputs": [],
      "cell_type": "code",
      "source": [
        "methods(sqrt)"
      ],
      "metadata": {},
      "execution_count": null
    },
    {
      "cell_type": "markdown",
      "source": [
        "This table shows us that the `sqrt` function has 19 different methods, each specializing on different input types."
      ],
      "metadata": {}
    },
    {
      "outputs": [],
      "cell_type": "code",
      "source": [
        "sqrt(-1.0)"
      ],
      "metadata": {},
      "execution_count": null
    },
    {
      "outputs": [],
      "cell_type": "code",
      "source": [
        "sqrt(Complex(-1.0))"
      ],
      "metadata": {},
      "execution_count": null
    },
    {
      "cell_type": "markdown",
      "source": [
        "### Optional arguments in functions\n\nIt is possible to define functions with optional arguments.\nThere are two kinds to consider:\n\n* *Positional arguments* occur at the end of a function signature in a specific order and have default values. If the optional arguments are not specified, the default values are used.\n* *Keyword arguments* begin after a semicolon `;` in a function signature. Changing the default values requires the caller to name the arguments and assign non-default values.\n\nYou can specify as many optional arguments as needed, and can mix positional and keyword arguments."
      ],
      "metadata": {}
    },
    {
      "outputs": [],
      "cell_type": "code",
      "source": [
        "function add_number(a, b=1)\n    return a + b\nend"
      ],
      "metadata": {},
      "execution_count": null
    },
    {
      "outputs": [],
      "cell_type": "code",
      "source": [
        "function also_add_number(a; b=1)\n    return a + b\nend"
      ],
      "metadata": {},
      "execution_count": null
    },
    {
      "outputs": [],
      "cell_type": "code",
      "source": [
        "add_number(2) # don't specify the positional argument b"
      ],
      "metadata": {},
      "execution_count": null
    },
    {
      "outputs": [],
      "cell_type": "code",
      "source": [
        "add_number(2, b=2) # this fails"
      ],
      "metadata": {},
      "execution_count": null
    },
    {
      "outputs": [],
      "cell_type": "code",
      "source": [
        "add_number(2, 2) # specify b"
      ],
      "metadata": {},
      "execution_count": null
    },
    {
      "outputs": [],
      "cell_type": "code",
      "source": [
        "also_add_number(2) # don't specify the keyword argument b"
      ],
      "metadata": {},
      "execution_count": null
    },
    {
      "outputs": [],
      "cell_type": "code",
      "source": [
        "also_add_number(2, 2) # this fails"
      ],
      "metadata": {},
      "execution_count": null
    },
    {
      "outputs": [],
      "cell_type": "code",
      "source": [
        "also_add_number(2, b=2) # the keyword argument must be invoked explicitly"
      ],
      "metadata": {},
      "execution_count": null
    },
    {
      "cell_type": "markdown",
      "source": [
        "### Duck Typing and Multiple Dispatch\n\nIn all our functions so far we have not specified the *types* of arguments that go into the function.\nYet, Julia is always aware of the types of arguments and variables within a function in spite of this fact.\nThis is known as *duck typing* and is actually a nice feature common to dynamic languages because it allows functions to be written in a generic fashion.\n\nIn many other programming languages, particularly those supporting object oriented design as it is commonly understood, there is the notion of *dispatching* to the most specific method in order to fulfill a function call.\nThe `sqrt` example with `Float64` and `Complex{Float64}` are examples of this.\n\nHowever, this example involves pattern matching on just one argument. What's the \"multiple\" in \"multiple dispatch\" and how is it related to duck typing in Julia?\n\nTo understand this, consider the following example from [Ole Kröger](https://opensourc.es/blog/basics-multiple-dispatch/) ([adapted from an example by Julia co-creator Stefan Karpinski](https://www.youtube.com/watch?v=kc9HwsxE1OY)):"
      ],
      "metadata": {}
    },
    {
      "outputs": [],
      "cell_type": "code",
      "source": [
        "abstract type Animal end\n\n# define a Lizard type with a name field\nstruct Lizard <: Animal\n    name :: String\nend\n\n# define a Rabbit type with a name field\nstruct Rabbit <: Animal\n    name :: String\nend\n\n# Define the race function with 3 methods: 2 specific ones and one generic fallback\nrace(l::Lizard, r::Rabbit) = \"$(l.name) wins in wall climbing.\"\nrace(r::Rabbit, l::Lizard) = \"$(r.name) wins in a normal race.\"\nrace(a::T, b::T) where T <: Animal = \"$(a.name) and $(b.name) run forever.\"\n\n# Define a meet function that calls the race function.\nfunction meet(a::Animal, b::Animal) \n    println(\"$(a.name) meets $(b.name) and they race!\")\n    println(\"Outcome: $(race(a,b))\")\nend\n\n# Try it out with our two Animal types\nbayi = Lizard(\"Bayi\")\nsally = Rabbit(\"Sally\")\nmeet(bayi, sally)  # calls the first race method\nmeet(sally, bayi)  # calls the second race method\nmeet(sally, sally) # calls the generic fallback"
      ],
      "metadata": {},
      "execution_count": null
    },
    {
      "cell_type": "markdown",
      "source": [
        "Multiple dispatch lets Julia and its compiler *select the most specific method **based on the runtime types**.*\nTo someone coming from C++, this example makes multiple dispatch look just like function overloading.\n\nHowever, implementing this code in C++ and running it reveals that C++ will always call the third, generic fallback where two animals run forever! This is because while C++ can choose a specific method, it is limited to the type information **available at compile time**. As such, adding the third method effectively erases methods one and two.\n\nThe workaround in C++ would be to make the `race` function specific to the abstract/superclass `Animal` class; i.e. we need to be able to write `bayi.race(sally)` and `sally.race(bayi)`.\nThis seems reasonable, but you will run into trouble as soon as you need to make an `Animal` race a `Human` because now both classes must have `race` as part of their definitions, but you may not have designed the classes with this use case in mind!\n\n*In object-oriented languages, methods belong to class functions not just functions in general.*\n\nIn contrast, in Julia this would be simply a matter of adding `race(l::Human, r::Animal)` to handle cases as needed.\nThus, Julia rewards you for writing \"weakly\" or duck typed functions by letting you handle specific cases with different input types only as needed, without having to completely redesign your code.\n**In fact, the preferred style in Julia is to avoid adding type annotations in your code unless absolutely necessary**.\n\nThese two points make code reuse much more probable, and is the \"magic\" that lets packages build lots of nice, unexpected features into them. (Feel free to ask for examples!)"
      ],
      "metadata": {}
    }
  ],
  "nbformat_minor": 2,
  "metadata": {
    "language_info": {
      "file_extension": ".jl",
      "mimetype": "application/julia",
      "name": "julia",
      "version": "1.6.1"
    },
    "kernelspec": {
      "name": "julia-1.6",
      "display_name": "Julia 1.6.1",
      "language": "julia"
    }
  },
  "nbformat": 4
}