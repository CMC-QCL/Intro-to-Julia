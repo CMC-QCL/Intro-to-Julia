{
 "cells": [
  {
   "cell_type": "markdown",
   "source": [
    "# Overview\n",
    "\n",
    "1. Using Jupyter notebooks\n",
    "2. Reading Julia source code\n",
    "3. Getting the most out of interactive environments\n",
    "     - Finding what you need\n",
    "     - Tab completions\n",
    "     - Global scope\n",
    "4. Using the Julia REPL (Optional)\n",
    "     - REPL modes"
   ],
   "metadata": {}
  },
  {
   "cell_type": "markdown",
   "source": [
    "This first notebook is intended to help orient you to the environment used for the workshop.\n",
    "First, we introduce Jupyter notebooks (what you are viewing) and go over how to navigate them.\n",
    "Next, we present a brief primer on reading Julia source code, which touches on special syntax for comments, the role of whitespace, and how expressions are structured.\n",
    "The subsequent section provides a few tips to help you use Julia in interactive computing environments.\n",
    "The remaining sections are marked optional because they are not required for following along in this workshop.\n",
    "\n",
    "**Note**: This prelude to the workshop contains Julia code.\n",
    "However, you are not expected to know anything about Julia code at this point, and there are no programming exercises.\n",
    "Code blocks are intended to be self-contained, so you may see some modules being loaded several times."
   ],
   "metadata": {}
  },
  {
   "cell_type": "markdown",
   "source": [
    "# Using Jupyter Notebooks"
   ],
   "metadata": {}
  },
  {
   "cell_type": "markdown",
   "source": [
    "## Notebook cells\n",
    "\n",
    "A notebook is made up of different cells to help organize its content: text notes, code, images, and program output."
   ],
   "metadata": {}
  },
  {
   "cell_type": "markdown",
   "source": [
    "A **code cell** contains a series of instructions in a programming language (Julia in this case).\n",
    "\n",
    "- You can evaluate a code cell by clicking the run button (`▷`), or entering `Ctrl + Enter`.\n",
    "- Once a cell is evaluated, you will see output appear below it.\n",
    "      - If the cell contained print statements, you will see it displayed.\n",
    "      - If the cell contains an expression at the end, its value will be displayed.\n",
    "\n",
    "Jupyter notebooks have support for rich display so that some objects, such as plots or tables, are automatically rendered.\n",
    "\n",
    "Practice evaluating code cells yourself down below."
   ],
   "metadata": {}
  },
  {
   "outputs": [],
   "cell_type": "code",
   "source": [
    "# Make a few variables.\n",
    "x = 1\n",
    "y = 3.2\n",
    "z = 8//10\n",
    "\n",
    "# Print a few things.\n",
    "println(\"The value of x is $(x). It is of type $(typeof(x)).\")\n",
    "println(\"The value of y is $(y). It is of type $(typeof(y)).\")\n",
    "println(\"The value of z is $(z). It is of type $(typeof(z)).\")\n",
    "println(\"Their sum is...\")\n",
    "x + y + z"
   ],
   "metadata": {},
   "execution_count": null
  },
  {
   "outputs": [],
   "cell_type": "code",
   "source": [
    "using Plots, LaTeXStrings\n",
    "\n",
    "f(x) = exp(-x^2 / 2) # define a function that evaluates a Guassian (bell curve)\n",
    "xs = range(-2.0, 2.0, step=0.1) # represent [-2, 2] over the real line\n",
    "ys = f.(xs) # evaluate Gaussian over [-2, 2]\n",
    "\n",
    "plot(xs, ys, xlabel=\"x\", ylabel=latexstring(\"f(x) = e^{-\\\\frac{ x^{2} }{ 2 }}\"))"
   ],
   "metadata": {},
   "execution_count": null
  },
  {
   "cell_type": "markdown",
   "source": [
    "A **Markdown cell** contains text that can be formatted with [Markdown](https://jupyter-notebook.readthedocs.io/en/latest/examples/Notebook/Working%20With%20Markdown%20Cells.html).\n",
    "They may contain text, images, or LaTeX equations.\n",
    "\n",
    "Try double-clicking the following Markdown cells to see their source"
   ],
   "metadata": {}
  },
  {
   "cell_type": "markdown",
   "source": [
    "You can insert new cells with the (`+`) button in the notebook.\n",
    "By default it will be a code cell.\n",
    "You can change to a Markdown cell by selecting a cell and using the dropdown menu in the toolbar."
   ],
   "metadata": {}
  },
  {
   "cell_type": "markdown",
   "source": [
    "After selecting a cell (highlighted in blue or green):\n",
    "* You can insert a new cell (code cell by default) by typing `Esc` followed by `A` (insert above) or `Esc` followed by `B` (insert below).\n",
    "* Convert it to a code cell using `Esc` then `Y`.\n",
    "* Convert it to a Markdown cell using `Esc` then `M`."
   ],
   "metadata": {}
  },
  {
   "cell_type": "markdown",
   "source": [
    "**Exercise**: Convert the following cell into a code cell and run it."
   ],
   "metadata": {}
  },
  {
   "cell_type": "markdown",
   "source": [
    "sqrt(2)"
   ],
   "metadata": {}
  },
  {
   "cell_type": "markdown",
   "source": [
    "# Reading Julia source code\n",
    "\n",
    "In this section we review a little bit about reading Julia syntax."
   ],
   "metadata": {}
  },
  {
   "cell_type": "markdown",
   "source": [
    "**Comments** are denoted with `#`. Anything inside a comment is decorative and therefore not evaluated."
   ],
   "metadata": {}
  },
  {
   "outputs": [],
   "cell_type": "code",
   "source": [
    "# This is a comment so nothing happens if you run the cell"
   ],
   "metadata": {},
   "execution_count": null
  },
  {
   "cell_type": "markdown",
   "source": [
    "**Multiline comments** are initiated with `#=` and closed with `=#`."
   ],
   "metadata": {}
  },
  {
   "outputs": [],
   "cell_type": "code",
   "source": [
    "function complicated_code()\n",
    "#= This is a multiline comment,\n",
    "useful for complicated code =#\n",
    "end"
   ],
   "metadata": {},
   "execution_count": null
  },
  {
   "cell_type": "markdown",
   "source": [
    "Outside of separating different symbols on a single line, **whitespace** is not interpreted."
   ],
   "metadata": {}
  },
  {
   "outputs": [],
   "cell_type": "code",
   "source": [
    "short_name       = 1\n",
    "longer_name      = 2 # every line here is valid syntax\n",
    "much_longer_name = 3"
   ],
   "metadata": {},
   "execution_count": null
  },
  {
   "outputs": [],
   "cell_type": "code",
   "source": [
    "for i in 1:3\n",
    "    println(i) # indentation nice for making nested expression readable...\n",
    "end"
   ],
   "metadata": {},
   "execution_count": null
  },
  {
   "outputs": [],
   "cell_type": "code",
   "source": [
    "for i in 1:3 # but the whitespace is not stricly necessary.\n",
    "println(i)\n",
    "end"
   ],
   "metadata": {},
   "execution_count": null
  },
  {
   "cell_type": "markdown",
   "source": [
    "Instead, you'll notice that **compound expressions** are closed by the `end` keyword."
   ],
   "metadata": {}
  },
  {
   "outputs": [],
   "cell_type": "code",
   "source": [
    "function an_example(x) # this a compound expression that defines a function\n",
    "    x = 1 + 1          # with several statements inside its body\n",
    "    y = 2*x\n",
    "    z = sqrt(y)/3\n",
    "    return z\n",
    "end"
   ],
   "metadata": {},
   "execution_count": null
  },
  {
   "outputs": [],
   "cell_type": "code",
   "source": [
    "if true               # this is a compound expression for a conditional block\n",
    "    println(\"hello\")\n",
    "else\n",
    "    println(\"goodbye\")\n",
    "end"
   ],
   "metadata": {},
   "execution_count": null
  },
  {
   "cell_type": "markdown",
   "source": [
    "Compound expression all have a return value.\n",
    "For example, the `begin` ... `end` block can be used to evaluate a complicated expression\n",
    "while using white space to highlight certain elements."
   ],
   "metadata": {}
  },
  {
   "outputs": [],
   "cell_type": "code",
   "source": [
    "result = begin # this will be equal to `z` inside the block below, 2/3\n",
    "    x = 1 + 1\n",
    "    y = 2*x\n",
    "    z = sqrt(y)/3\n",
    "end"
   ],
   "metadata": {},
   "execution_count": null
  },
  {
   "cell_type": "markdown",
   "source": [
    "We will discuss the semantics of what values are returned for certain compound expression in more detail within the workshop itself."
   ],
   "metadata": {}
  },
  {
   "cell_type": "markdown",
   "source": [
    "# Getting the most out of interactive environments\n",
    "\n",
    "In this section we go over a few tips for reading Julia code and helping yourself learn within an interactive computing environment.\n",
    "The content here applies to both notebook and REPL environments."
   ],
   "metadata": {}
  },
  {
   "cell_type": "markdown",
   "source": [
    "## Finding what you need\n",
    "\n",
    "Julia has a help system that can be accessed using `?`."
   ],
   "metadata": {}
  },
  {
   "outputs": [],
   "cell_type": "code",
   "source": [
    "?"
   ],
   "metadata": {},
   "execution_count": null
  },
  {
   "cell_type": "markdown",
   "source": [
    "You can use the syntax `?<identifier>` to ask about anything in the Julia language.\n",
    "Try the examples below"
   ],
   "metadata": {}
  },
  {
   "outputs": [],
   "cell_type": "code",
   "source": [
    "?Int64 # ask about types"
   ],
   "metadata": {},
   "execution_count": null
  },
  {
   "outputs": [],
   "cell_type": "code",
   "source": [
    "?rand # ask about functions"
   ],
   "metadata": {},
   "execution_count": null
  },
  {
   "outputs": [],
   "cell_type": "code",
   "source": [
    "?println"
   ],
   "metadata": {},
   "execution_count": null
  },
  {
   "outputs": [],
   "cell_type": "code",
   "source": [
    "x = \"abc\" # define a variable..."
   ],
   "metadata": {},
   "execution_count": null
  },
  {
   "outputs": [],
   "cell_type": "code",
   "source": [
    "?x # and ask about it"
   ],
   "metadata": {},
   "execution_count": null
  },
  {
   "outputs": [],
   "cell_type": "code",
   "source": [
    "using LinearAlgebra # load a module..."
   ],
   "metadata": {},
   "execution_count": null
  },
  {
   "outputs": [],
   "cell_type": "code",
   "source": [
    "?LinearAlgebra # and ask about it"
   ],
   "metadata": {},
   "execution_count": null
  },
  {
   "cell_type": "markdown",
   "source": [
    "You can ask about reserved words/symbols in Julia, too."
   ],
   "metadata": {}
  },
  {
   "outputs": [],
   "cell_type": "code",
   "source": [
    "?using"
   ],
   "metadata": {},
   "execution_count": null
  },
  {
   "outputs": [],
   "cell_type": "code",
   "source": [
    "?for"
   ],
   "metadata": {},
   "execution_count": null
  },
  {
   "outputs": [],
   "cell_type": "code",
   "source": [
    "?if"
   ],
   "metadata": {},
   "execution_count": null
  },
  {
   "outputs": [],
   "cell_type": "code",
   "source": [
    "?:"
   ],
   "metadata": {},
   "execution_count": null
  },
  {
   "outputs": [],
   "cell_type": "code",
   "source": [
    "?pi"
   ],
   "metadata": {},
   "execution_count": null
  },
  {
   "cell_type": "markdown",
   "source": [
    "The help system is great if you already know what you're looking for before you use it.\n",
    "If the event that the help system fails to generate a hit, you'll notice a few suggestions at the top of the output (search: ...).\n",
    "\n",
    "That's useful, but what if you don't know the correct vocabulary or the help hints don't help?\n",
    "The `apropos` command can be used to scrape through the documentation.\n",
    "For example, let's search for information about `sorting`."
   ],
   "metadata": {}
  },
  {
   "outputs": [],
   "cell_type": "code",
   "source": [
    "?sorting"
   ],
   "metadata": {},
   "execution_count": null
  },
  {
   "outputs": [],
   "cell_type": "code",
   "source": [
    "apropos(\"sorting\")"
   ],
   "metadata": {},
   "execution_count": null
  },
  {
   "cell_type": "markdown",
   "source": [
    "In this case, we see that `apropos` generates a list of functions with documentation that contain our search query.\n",
    "We can then use this to look up documentation."
   ],
   "metadata": {}
  },
  {
   "outputs": [],
   "cell_type": "code",
   "source": [
    "?sort"
   ],
   "metadata": {},
   "execution_count": null
  },
  {
   "cell_type": "markdown",
   "source": [
    "Other times you may want to invoke a function, but you're not sure it's defined for the data types you want to use, or you're fuzzy on what the function call should look like.\n",
    "In this case, you can use the `methods` function to look up specific invocations for your function."
   ],
   "metadata": {}
  },
  {
   "outputs": [],
   "cell_type": "code",
   "source": [
    "methods(sort)"
   ],
   "metadata": {},
   "execution_count": null
  },
  {
   "cell_type": "markdown",
   "source": [
    "The methods table for a function is succint, so you will often have to use it in conjunction with the help system to make sense of it."
   ],
   "metadata": {}
  },
  {
   "cell_type": "markdown",
   "source": [
    "Lastly, sometimes you may find yourself working with a new data type and you're not sure what functions are defined on it.\n",
    "In this case, you can use `methodswith`"
   ],
   "metadata": {}
  },
  {
   "outputs": [],
   "cell_type": "code",
   "source": [
    "using LinearAlgebra\n",
    "methodswith(QR) # look up functions defined on the QR type"
   ],
   "metadata": {},
   "execution_count": null
  },
  {
   "cell_type": "markdown",
   "source": [
    "The `methodswith` lookup will mostly be useful when used on data types that have very specific uses (compared to Base Julia types like Int that appear everywhere)."
   ],
   "metadata": {}
  },
  {
   "cell_type": "markdown",
   "source": [
    "## Tab completions\n",
    "\n",
    "Julia supports using [Unicode characters](https://docs.julialang.org/en/v1/manual/unicode-input/) inside source code.\n",
    "This can be useful if you want your code to match a derivation or reference document, especially for mathematical or simulation code."
   ],
   "metadata": {}
  },
  {
   "outputs": [],
   "cell_type": "code",
   "source": [
    "using LinearAlgebra\n",
    "X = randn(10, 3) # naive simulation for least squares problem...\n",
    "y = randn(10)\n",
    "λ = 2.0          # ridge penalty parameter\n",
    "\n",
    "β = inv(X'X + λ*I) * X' *y # ridge regression solution"
   ],
   "metadata": {},
   "execution_count": null
  },
  {
   "cell_type": "markdown",
   "source": [
    "## Global scope\n",
    "\n",
    "By default, variables and functions defined with a REPL or notebook will live inside a global scope.\n",
    "Specifically, they will live inside the global scope of the `Main` module.\n",
    "At any time you can ask what variables, functions, and modules are available in `Main` using `varinfo`."
   ],
   "metadata": {}
  },
  {
   "outputs": [],
   "cell_type": "code",
   "source": [
    "varinfo()"
   ],
   "metadata": {},
   "execution_count": null
  },
  {
   "cell_type": "markdown",
   "source": [
    "# Using the Julia REPL (Read-Eval-Print Loop)"
   ],
   "metadata": {}
  },
  {
   "cell_type": "markdown",
   "source": [
    "## REPL Modes"
   ],
   "metadata": {}
  },
  {
   "cell_type": "markdown",
   "source": [
    "### Julia (Default)\n",
    "![img/repl-mode-julia.png](img/repl-mode-julia.png)\n",
    "- Prompt reads as `julia>`.\n",
    "- This is where you can run Julia commands.\n",
    "- Variables and functions defined here will be in global scope."
   ],
   "metadata": {}
  },
  {
   "cell_type": "markdown",
   "source": [
    "### Help (`?`)\n",
    "![img/repl-mode-help.png](img/repl-mode-help.png)\n",
    "- Prompt reads as `help?>`.\n",
    "- Running `?` by itself will show the default help message (shown above).\n",
    "- You can ask about anything: the help system will work for functions, macros, and variables.\n",
    "- If your query does not generate a hit, you will be shown a few suggestions (see `search:` text in the image)."
   ],
   "metadata": {}
  },
  {
   "cell_type": "markdown",
   "source": [
    "### Package (`]`)\n",
    "![img/repl-mode-pkg.png](img/repl-mode-pkg.png)\n",
    "- Prompt reads as `(environment) pkg>`. The active environment above is `(@v1.6)`, the default for Julia 1.6.\n",
    "- This is an interactive version of the package manager, `Pkg.jl`.\n",
    "- Run `] help` to see a list of available commands."
   ],
   "metadata": {}
  },
  {
   "cell_type": "markdown",
   "source": [
    "### Shell (`;`)\n",
    "![img/repl-mode-shell.png](img/repl-mode-shell.png)"
   ],
   "metadata": {}
  },
  {
   "cell_type": "markdown",
   "source": [
    "---\n",
    "\n",
    "*This notebook was generated using [Literate.jl](https://github.com/fredrikekre/Literate.jl).*"
   ],
   "metadata": {}
  }
 ],
 "nbformat_minor": 3,
 "metadata": {
  "language_info": {
   "file_extension": ".jl",
   "mimetype": "application/julia",
   "name": "julia",
   "version": "1.6.1"
  },
  "kernelspec": {
   "name": "julia-1.6",
   "display_name": "Julia 1.6.1",
   "language": "julia"
  }
 },
 "nbformat": 4
}
