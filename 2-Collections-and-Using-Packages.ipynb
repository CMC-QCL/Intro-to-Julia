{
 "cells": [
  {
   "cell_type": "markdown",
   "source": [
    "# Introduction to Julia: Part II"
   ],
   "metadata": {}
  },
  {
   "cell_type": "markdown",
   "source": [
    "# Overview\n",
    "\n",
    "1. Anatomy of Julia Functions and Types (10 min)\n",
    "3. Collections (40 min)\n",
    "   - Arrays\n",
    "   - Ranges\n",
    "   - (Named) Tuples\n",
    "   - Dictionaries\n",
    "4. Convenient Syntax Tools (10 min)\n",
    "5. Variable Scope (10 min)\n",
    "6. Packages: Using other people's code (10 min)\n",
    "   - Modules\n",
    "   - The Standard Library\n",
    "   - The General Registry\n",
    "   - Environments\n",
    "7. Review with an Example: Multiple Regression (20 min)"
   ],
   "metadata": {}
  },
  {
   "cell_type": "markdown",
   "source": [
    "# Anatomy of Julia Functions and Types\n",
    "\n",
    "This introductory section expands on functions and introduces types.\n",
    "Here we will focus on introducing a few basic concepts that will help us understand collections and other objects in Julia.\n",
    "\n",
    "### Functions\n",
    "\n",
    "A general Julia function has the following structure\n",
    "\n",
    "```julia\n",
    "function function_name(a, b, A=value1, B=value2; kA=default_value1, kB=default_value2)\n",
    "  # body\n",
    "end\n",
    "```\n",
    "\n",
    "The first two arguments in the signature, `a` and `b`, are what we are used to seeing so far: they're just inputs supplied by the caller.\n",
    "\n",
    "The second set of inputs, `A` and `B`, are *optional positional arguments*.\n",
    "If the positional argument is not supplied, then the defaults `value1` and `value2` are used.\n",
    "The ordering matters: positonal arguments must be specified from left to right.\n",
    "\n",
    "The last set of inputs, after the semicolon `;`, are *optional keyword arguments*.\n",
    "Like positional arguments, keyword arguments have default values.\n",
    "The difference is that the caller must specify the inputs using key-value pairs."
   ],
   "metadata": {}
  },
  {
   "outputs": [],
   "cell_type": "code",
   "source": [
    "x = rand(1:100, 10)"
   ],
   "metadata": {},
   "execution_count": null
  },
  {
   "outputs": [],
   "cell_type": "code",
   "source": [
    "sort!(x, rev=false) # orders based on < operator by default"
   ],
   "metadata": {},
   "execution_count": null
  },
  {
   "outputs": [],
   "cell_type": "code",
   "source": [
    "sort!(x, rev=true)"
   ],
   "metadata": {},
   "execution_count": null
  },
  {
   "cell_type": "markdown",
   "source": [
    "Lastly, there is an important distinction to make between a *function* and a *method*.\n",
    "In defining a function one can restrict the types of arguments using type annotations (more in the next section).\n",
    "Any time you specify the types of arguments, you are explicitly defining a *method* for that function.\n",
    "**Unlike OO languages, methods belong to functions and not classes/types.**\n",
    "This final point is the key to understanding multiple dispatch:"
   ],
   "metadata": {}
  },
  {
   "outputs": [],
   "cell_type": "code",
   "source": [
    "h(x, y, z) = (x, y, z, \"GENERIC\") # no specialization\n",
    "h(x::T, y::T, z::T) where T = (x, y, z, \"Specialize on common type $(T)\") # specific case\n",
    "h(x::Char, y::Char, z::Char) = (x, y, z, \"Specialize on Char x,y,z\") # more specific case"
   ],
   "metadata": {},
   "execution_count": null
  },
  {
   "outputs": [],
   "cell_type": "code",
   "source": [
    "h(1.0, 1, 'a')"
   ],
   "metadata": {},
   "execution_count": null
  },
  {
   "outputs": [],
   "cell_type": "code",
   "source": [
    "h(1, 2, 3)"
   ],
   "metadata": {},
   "execution_count": null
  },
  {
   "outputs": [],
   "cell_type": "code",
   "source": [
    "h('a', 'b', 'c')"
   ],
   "metadata": {},
   "execution_count": null
  },
  {
   "cell_type": "markdown",
   "source": [
    "### Types\n",
    "\n",
    "The type system in Julia is a mix between static and dynamic:\n",
    "\n",
    "- you can write all your code without ever talking about types (dynamic).\n",
    "- you can enforce types to help the reader, to use multiple dispatch, or to help the Julia compiler infer type information (static).\n",
    "\n",
    "Enforcing types is done with the double colon operator `::`.\n",
    "A few examples:"
   ],
   "metadata": {}
  },
  {
   "outputs": [],
   "cell_type": "code",
   "source": [
    "x::Int = 1 # create a varible x which must be an Int"
   ],
   "metadata": {},
   "execution_count": null
  },
  {
   "outputs": [],
   "cell_type": "code",
   "source": [
    "function myadd(x::Int, y::Int) # define the function only on Int arguments\n",
    "    return x + y\n",
    "end"
   ],
   "metadata": {},
   "execution_count": null
  },
  {
   "cell_type": "markdown",
   "source": [
    "Everything in Julia has a type, even types!"
   ],
   "metadata": {}
  },
  {
   "outputs": [],
   "cell_type": "code",
   "source": [
    "@show typeof(1.0)\n",
    "@show typeof(typeof(1.0))"
   ],
   "metadata": {},
   "execution_count": null
  },
  {
   "cell_type": "markdown",
   "source": [
    "`DataType` and `Any` are special types.\n",
    "Every explicitly declared type is a `DataType`, whereas `Any` describes the entire universe of possible values; i.e. it is the union of every type."
   ],
   "metadata": {}
  },
  {
   "cell_type": "markdown",
   "source": [
    "### Exercise 2.1\n",
    "\n",
    "This exercise will walk you through some of the syntax in constructing types and how they work in Julia."
   ],
   "metadata": {}
  },
  {
   "cell_type": "markdown",
   "source": [
    "Our goal is to implement a type that represents a point in 2D space which supports addition.\n",
    "First, we'll define a \"top-level\" type, an abstract type."
   ],
   "metadata": {}
  },
  {
   "outputs": [],
   "cell_type": "code",
   "source": [
    "abstract type AbstractPoint end"
   ],
   "metadata": {},
   "execution_count": null
  },
  {
   "cell_type": "markdown",
   "source": [
    "Abstract types cannot have fields.\n",
    "However, you're allowed to define functions on them."
   ],
   "metadata": {}
  },
  {
   "cell_type": "markdown",
   "source": [
    "Types cannot \"inherit\" from other types, but you can *subtype* them to put them in a hierarchy.\n",
    "The syntax\n",
    "\n",
    "```julia\n",
    "A <: B # <: is the subtyping operator\n",
    "```\n",
    "\n",
    "means that `A` is a subtype of `B`.\n",
    "Now let's implement a concrete type in our point hierarchy.\n",
    "We'll use an immutable composite type and make the fields be `Float64`.\n",
    "This is done with the `struct` keyword.\n",
    "\n",
    "**Add a subtyping annotation to the following type to make `Point2D` belong to the `AbstractPoint` hierarchy.**\n",
    "That is, `Point2D <: AbstractPoint`."
   ],
   "metadata": {}
  },
  {
   "outputs": [],
   "cell_type": "code",
   "source": [
    "struct Point2D # missing subtyping goes here!\n",
    "    x::Float64 # field called `x` of type `Float64`\n",
    "    y::Float64\n",
    "end"
   ],
   "metadata": {},
   "execution_count": null
  },
  {
   "outputs": [],
   "cell_type": "code",
   "source": [
    "Point2D(1.0, 1.0) # Julia automatically defines a default constructor."
   ],
   "metadata": {},
   "execution_count": null
  },
  {
   "outputs": [],
   "cell_type": "code",
   "source": [
    "Point2D(1, 1) # Notices that conversion is handled automatically; errors if not possible."
   ],
   "metadata": {},
   "execution_count": null
  },
  {
   "cell_type": "markdown",
   "source": [
    "Let's make a mutable version now.\n",
    "\n",
    "**Add a `mutable` keyword to the left of `struct`.**"
   ],
   "metadata": {}
  },
  {
   "outputs": [],
   "cell_type": "code",
   "source": [
    "struct MutablePoint2D <: AbstractPoint\n",
    "    x::Float64\n",
    "    y::Float64\n",
    "end"
   ],
   "metadata": {},
   "execution_count": null
  },
  {
   "outputs": [],
   "cell_type": "code",
   "source": [
    "MutablePoint2D(1, 1) # this works"
   ],
   "metadata": {},
   "execution_count": null
  },
  {
   "cell_type": "markdown",
   "source": [
    "Both our concrete types have fields `x` and `y`.\n",
    "If we didn't already know this, we could ask with the `fieldnames` function."
   ],
   "metadata": {}
  },
  {
   "outputs": [],
   "cell_type": "code",
   "source": [
    "fieldnames(Point2D)"
   ],
   "metadata": {},
   "execution_count": null
  },
  {
   "outputs": [],
   "cell_type": "code",
   "source": [
    "fieldnames(MutablePoint2D)"
   ],
   "metadata": {},
   "execution_count": null
  },
  {
   "cell_type": "markdown",
   "source": [
    "There is a similar function `fieldtypes` that returns field types.\n",
    "*Accessing* fields is done with the familiar dot `.` syntax, `obj.field`."
   ],
   "metadata": {}
  },
  {
   "cell_type": "markdown",
   "source": [
    "**Try making the fields of `mymutablepoint` match `mypoint`, and vice-versa**.\n",
    "For example, `mypoint.x` below would return the value of field `x`.\n",
    "Do this without creating a new instance."
   ],
   "metadata": {}
  },
  {
   "outputs": [],
   "cell_type": "code",
   "source": [
    "mypoint = Point2D(1.5, 1.1)\n",
    "mymutablepoint = MutablePoint2D(0, 0)\n",
    "# your code goes here"
   ],
   "metadata": {},
   "execution_count": null
  },
  {
   "cell_type": "markdown",
   "source": [
    "Finally, let's make a parametric version, which defines a *family* of types.\n",
    "In our case, we will allow `x` and `y` to be of any type, so long as it is a real number.\n",
    "\n",
    "**Add the code `{T <: Real}` right next to `ParPoint2D` below to make the type parameteric.**"
   ],
   "metadata": {}
  },
  {
   "outputs": [],
   "cell_type": "code",
   "source": [
    "struct ParPoint2D#= parameters go here =# <: AbstractPoint\n",
    "    x::T\n",
    "    y::T\n",
    "end"
   ],
   "metadata": {},
   "execution_count": null
  },
  {
   "outputs": [],
   "cell_type": "code",
   "source": [
    "ParPoint2D(1, 1) # what's the type parameter here?"
   ],
   "metadata": {},
   "execution_count": null
  },
  {
   "outputs": [],
   "cell_type": "code",
   "source": [
    "ParPoint2D(1.0, 1.0)"
   ],
   "metadata": {},
   "execution_count": null
  },
  {
   "outputs": [],
   "cell_type": "code",
   "source": [
    "ParPoint2D(1, 1.0)"
   ],
   "metadata": {},
   "execution_count": null
  },
  {
   "outputs": [],
   "cell_type": "code",
   "source": [
    "ParPoint2D{Int8}(0, 0) # force the type parameter"
   ],
   "metadata": {},
   "execution_count": null
  },
  {
   "cell_type": "markdown",
   "source": [
    "Now let's define addition on our objects with a *parametric function* to define the function only on our types.\n",
    "The symbol `T` is declared as a free type parameter in the function, and can be used in the function body.\n",
    "\n",
    "**Fill in the missing code below.**"
   ],
   "metadata": {}
  },
  {
   "outputs": [],
   "cell_type": "code",
   "source": [
    "function add_points(a::T, b::T) where T <: AbstractPoint\n",
    "    # create two variables here, xcoord and ycoord\n",
    "    # representing the x and y coordinates for the new point\n",
    "\n",
    "    return T(xcoord, ycoord) # create an instance with the correct coordinates\n",
    "end"
   ],
   "metadata": {},
   "execution_count": null
  },
  {
   "cell_type": "markdown",
   "source": [
    "**Practice testing the addition function we wrote with different types.**"
   ],
   "metadata": {}
  },
  {
   "outputs": [],
   "cell_type": "code",
   "source": [
    "# Add Point2D objects\n",
    "x = # Point2D\n",
    "y = # Point2D\n",
    "add_points(x, y)"
   ],
   "metadata": {},
   "execution_count": null
  },
  {
   "outputs": [],
   "cell_type": "code",
   "source": [
    "# Add MutablePoint2D\n",
    "x = # MutablePoint2D\n",
    "y = # MutablePoint2D\n",
    "add_points(x, y)"
   ],
   "metadata": {},
   "execution_count": null
  },
  {
   "outputs": [],
   "cell_type": "code",
   "source": [
    "# Add ParPoint2D\n",
    "x = # ParPoint2D\n",
    "y = # ParPoint2D\n",
    "add_points(x, y)"
   ],
   "metadata": {},
   "execution_count": null
  },
  {
   "outputs": [],
   "cell_type": "code",
   "source": [
    "# What happens if we mix them?\n",
    "x = Point2D(0, 0)\n",
    "y = ParPoint2D(1, 10)\n",
    "add_points(x, y)"
   ],
   "metadata": {},
   "execution_count": null
  },
  {
   "cell_type": "markdown",
   "source": [
    "The last example fails because *we never defined addition over different subtypes of `AbstractPoint`.\n",
    "However, Julia tries to determine a potential source of the issue and highlights them in red.\n",
    "\n",
    "Paradoxically, type annotations in Julia make code *less* generic?\n",
    "This may be confusing to newcomers from OO languages.\n",
    "\n",
    "The function signature\n",
    "```julia\n",
    "add_points(x::T, y::T) where T <: AbstractPoint\n",
    "```\n",
    "is quite specific and applies generically to concrete types in the `AbstractPoint` hierarchy **of the same kind**.\n",
    "\n",
    "So how do we resolve the paradox?\n",
    "Just say that the arguments have to be `AbstractPoint`s.\n",
    "We'll default to using the left argument's type for the output."
   ],
   "metadata": {}
  },
  {
   "outputs": [],
   "cell_type": "code",
   "source": [
    "function add_points(a::AbstractPoint, b::AbstractPoint)\n",
    "  T = typeof(a) # use the type of a\n",
    "  return T(a.x + b.x, a.y + b.y)\n",
    "end"
   ],
   "metadata": {},
   "execution_count": null
  },
  {
   "cell_type": "markdown",
   "source": [
    "Go back to the cells above and try running them again.\n",
    "Why does this work? Julia's design makes it so that it determines the most applicable method to use based on the actual types (multiple dispatch in action)."
   ],
   "metadata": {}
  },
  {
   "cell_type": "markdown",
   "source": [
    "**Takeaways**:\n",
    "\n",
    "- Functions can have optional arguments.\n",
    "- You can ask about fields in an object with `fieldnames` and access them with `obj.field` syntax.\n",
    "- Types can be mutable or immutable.\n",
    "- Functions and types can be parameteric.\n",
    "\n",
    "Use this information to help you understand Julia documentation and error messages."
   ],
   "metadata": {}
  },
  {
   "cell_type": "markdown",
   "source": [
    "# Collections\n",
    "\n",
    "Roughly speaking, a *collection* is simply an object that stores multiple objects; e.g. an object that stores multiple literals.\n",
    "Collections can be nested within each other, so it is possible to have an `Array` of `Array`s or a `Dict` of `NamedTuple` objects.\n",
    "\n",
    "Before diving into specific kinds of collections, it is good to be aware that collections share a lot of behavior, so much that Julia defines [interfaces](https://docs.julialang.org/en/v1/manual/interfaces/).\n",
    "**Importantly, interfaces in Julia are *informal* collections of functions**.\n",
    "This means that a single function, such as `iterate`, may be defined for *many* different types in Julia.\n",
    "While counterintuitive at first, Julia's interfaces give the language much of its power and composability.\n",
    "\n",
    "The specific interfaces to keep in mind are:\n",
    "\n",
    "- *Indexing*, the notion of accessing a particular element in a collection. This makes it so that `x[index]` syntax works for a collection.\n",
    "- *Iteration*, the notion of walking through a data structure according to some procedure to access elements programatically. This makes it so that `for item in collection` works for *any* Julia object, user-defined or otherwise."
   ],
   "metadata": {}
  },
  {
   "cell_type": "markdown",
   "source": [
    "### Array\n",
    "\n",
    "A Julia [`Array`](https://docs.julialang.org/en/v1/base/arrays/) is an indexed collection with a particular shape determined by its dimensions.\n",
    "This means the elements of an `Array` are ordered; it makes sense to speak of \"the first element\" or \"the last element\" in an array.\n",
    "\n",
    "**Note**: Basic arithmetic operations automatically work for arrays with numeric data. Roughly speaking, if an operation works for elements of a certain type, then it will usually automatically work for arrays. LinearAlgebra routines are defined on `Array`."
   ],
   "metadata": {}
  },
  {
   "cell_type": "markdown",
   "source": [
    "#### Array Basics\n",
    "\n",
    "The shortand for `Array` literals was mentioned last time.\n",
    "Elements of an array can be specified by enclosing them with `[` and `]`."
   ],
   "metadata": {}
  },
  {
   "outputs": [],
   "cell_type": "code",
   "source": [
    "# This creates a 1D Array (Vector) with 3 elements\n",
    "[1, 2, 3]"
   ],
   "metadata": {},
   "execution_count": null
  },
  {
   "outputs": [],
   "cell_type": "code",
   "source": [
    "# This creates a 3×3 2D Array (Matrix) row by row; note the semicolons\n",
    "[1 4 7; 2 5 8; 3 6 9]"
   ],
   "metadata": {},
   "execution_count": null
  },
  {
   "outputs": [],
   "cell_type": "code",
   "source": [
    "# It's also possible to use whitespace in writing out an array\n",
    "[\n",
    "    1 0 0\n",
    "    0 1 0\n",
    "    0 0 1\n",
    "]"
   ],
   "metadata": {},
   "execution_count": null
  },
  {
   "outputs": [],
   "cell_type": "code",
   "source": [
    "# typed array literal; the type before the brackets enforces an element type\n",
    "Float64[1, 2, 3]"
   ],
   "metadata": {},
   "execution_count": null
  },
  {
   "cell_type": "markdown",
   "source": [
    "The types `Vector` and `Matrix` are aliases for `Array{T,1}` and `Array{T,2}`, respectively.\n",
    "Julia supports general multidimensional arrays through the parameteric type `Array{T,N}`, which is an entire family of types.\n",
    "  - It is parametric in the sense that additional *type parameters* determine exactly what kind of object the type represents. Think of this as metadata that is useful to both you and the Julia compiler.\n",
    "  - The `T` here refers to the *element type*. It can be a number, string, or even another collection.\n",
    "  - The `N` indicates the *number of dimensions*.\n",
    "\n",
    "To summarize, other ways of constructing an array include"
   ],
   "metadata": {}
  },
  {
   "cell_type": "markdown",
   "source": [
    "1. Request an empty array."
   ],
   "metadata": {}
  },
  {
   "outputs": [],
   "cell_type": "code",
   "source": [
    "[] # default type Any; top-tevel type"
   ],
   "metadata": {},
   "execution_count": null
  },
  {
   "outputs": [],
   "cell_type": "code",
   "source": [
    "Float64[] # Any can incur performance penalty so you can be specific"
   ],
   "metadata": {},
   "execution_count": null
  },
  {
   "cell_type": "markdown",
   "source": [
    "2. Specify the array elements directly"
   ],
   "metadata": {}
  },
  {
   "outputs": [],
   "cell_type": "code",
   "source": [
    "String[\"first\", \"second\", \"third\"]"
   ],
   "metadata": {},
   "execution_count": null
  },
  {
   "cell_type": "markdown",
   "source": [
    "3. Using a function"
   ],
   "metadata": {}
  },
  {
   "outputs": [],
   "cell_type": "code",
   "source": [
    "ones(3) # Vector of 1s; defaults to Float64"
   ],
   "metadata": {},
   "execution_count": null
  },
  {
   "outputs": [],
   "cell_type": "code",
   "source": [
    "zeros(Int, 4, 2) # Vector of 0s; you can specify the element type"
   ],
   "metadata": {},
   "execution_count": null
  },
  {
   "outputs": [],
   "cell_type": "code",
   "source": [
    "rand('a':'z', 10) # rand will work similarly, but you can specify a collection of elements to sample"
   ],
   "metadata": {},
   "execution_count": null
  },
  {
   "cell_type": "markdown",
   "source": [
    "4.  using the constructor/initializer; note that you can pass multiple arguments or a tuple"
   ],
   "metadata": {}
  },
  {
   "outputs": [],
   "cell_type": "code",
   "source": [
    "Vector{Float64}(undef, 10)"
   ],
   "metadata": {},
   "execution_count": null
  },
  {
   "outputs": [],
   "cell_type": "code",
   "source": [
    "Matrix{Int}(undef, (2, 2))"
   ],
   "metadata": {},
   "execution_count": null
  },
  {
   "outputs": [],
   "cell_type": "code",
   "source": [
    "Array{String}(undef, 2, 2, 3)"
   ],
   "metadata": {},
   "execution_count": null
  },
  {
   "cell_type": "markdown",
   "source": [
    "### Exercise 2.2\n",
    "\n",
    "Look up `Array`, and the initializers `undef`, `nothing`, and `missing` in the documentation.\n",
    "\n",
    "How can you construct an array that may contain missing values?\n",
    "Try this yourself.\n",
    "\n",
    "We will discuss undef/missing/null as well as type unions right after."
   ],
   "metadata": {}
  },
  {
   "outputs": [],
   "cell_type": "code",
   "source": [
    "# experiment here or add your own code cells"
   ],
   "metadata": {},
   "execution_count": null
  },
  {
   "cell_type": "markdown",
   "source": [
    "- `undef`: The instance of `<fill in>` used to indicate that an array should be allocated, but not initialized with particular values.\n",
    "- `nothing`: The instance of `<fill in>` used to represent nothingness or void.\n",
    "- `missing`: The instance of `<fill in>` used to represent a missing value."
   ],
   "metadata": {}
  },
  {
   "cell_type": "markdown",
   "source": [
    "A *type union* is a type used to indicate uncertainty in values, while restricting the range of possible types.\n",
    "For example, if we construct a hetergeneous arrays with numeric types"
   ],
   "metadata": {}
  },
  {
   "outputs": [],
   "cell_type": "code",
   "source": [
    "[1, 1.2] # we get a Vector{Float64}; conversion happens automatically"
   ],
   "metadata": {},
   "execution_count": null
  },
  {
   "outputs": [],
   "cell_type": "code",
   "source": [
    "[1, \"1.2\"] # but mixing types that are \"very different\" results in Vector{Any}"
   ],
   "metadata": {},
   "execution_count": null
  },
  {
   "cell_type": "markdown",
   "source": [
    "In the latter case, it is preferred to use a union (if you know the types in advance) to make operations with that data as efficient as possible."
   ],
   "metadata": {}
  },
  {
   "outputs": [],
   "cell_type": "code",
   "source": [
    "Union{Int,String}[1, \"1.2\"]"
   ],
   "metadata": {},
   "execution_count": null
  },
  {
   "cell_type": "markdown",
   "source": [
    "Thus, Julia has the `Missing` type to aid in dealing with missing data coherently.\n",
    "Packages like DataFrames.jl, which will be mentioned later, make use of this."
   ],
   "metadata": {}
  },
  {
   "cell_type": "markdown",
   "source": [
    "#### Indexing and Array Properties\n",
    "\n",
    "Accessing array elements uses square bracket notation `[]`."
   ],
   "metadata": {}
  },
  {
   "outputs": [],
   "cell_type": "code",
   "source": [
    "x = [1.0, 10.0, 100.0]"
   ],
   "metadata": {},
   "execution_count": null
  },
  {
   "outputs": [],
   "cell_type": "code",
   "source": [
    "y = [1 4 7; 2 5 8; 3 6 9]"
   ],
   "metadata": {},
   "execution_count": null
  },
  {
   "outputs": [],
   "cell_type": "code",
   "source": [
    "function iterate_and_print(arr)\n",
    "    for i in eachindex(arr)\n",
    "        value = arr[i]\n",
    "        println(\"The element at index $(i) is $(value)\")\n",
    "    end\n",
    "end"
   ],
   "metadata": {},
   "execution_count": null
  },
  {
   "outputs": [],
   "cell_type": "code",
   "source": [
    "iterate_and_print(x) # Vector"
   ],
   "metadata": {},
   "execution_count": null
  },
  {
   "outputs": [],
   "cell_type": "code",
   "source": [
    "iterate_and_print(y) # Matrix"
   ],
   "metadata": {},
   "execution_count": null
  },
  {
   "cell_type": "markdown",
   "source": [
    "**A few observations**:\n",
    "\n",
    "- Arrays start at index `1`.\n",
    "- Notice the order of elements. Data is *column-major*, meaning columns represent contiguous chunks of memory.\n",
    "- The `eachindex` function is preferred style for collections that support indexing. It will generate an efficient iteration procedure depending on the type."
   ],
   "metadata": {}
  },
  {
   "cell_type": "markdown",
   "source": [
    "You can index arrays using *linear* indices or *coordinates*.\n",
    "The colon operator (`:`) is used to select slices.\n",
    "Separate indices along different dimensions with a comma (`,`)."
   ],
   "metadata": {}
  },
  {
   "outputs": [],
   "cell_type": "code",
   "source": [
    "y = [1 4 7; 2 5 8; 3 6 9]"
   ],
   "metadata": {},
   "execution_count": null
  },
  {
   "outputs": [],
   "cell_type": "code",
   "source": [
    "y[6] # == 6; linear index"
   ],
   "metadata": {},
   "execution_count": null
  },
  {
   "outputs": [],
   "cell_type": "code",
   "source": [
    "y[3,1] # == 6; coordinates"
   ],
   "metadata": {},
   "execution_count": null
  },
  {
   "outputs": [],
   "cell_type": "code",
   "source": [
    "y[2,:] # == [2,5,8]; subset a ROW"
   ],
   "metadata": {},
   "execution_count": null
  },
  {
   "outputs": [],
   "cell_type": "code",
   "source": [
    "y[:,3] # == [7,8,9]; subset a COLUMN"
   ],
   "metadata": {},
   "execution_count": null
  },
  {
   "outputs": [],
   "cell_type": "code",
   "source": [
    "y[ [1,5,9] ] == [1,5,9] # if you pass an array this will subset elements"
   ],
   "metadata": {},
   "execution_count": null
  },
  {
   "outputs": [],
   "cell_type": "code",
   "source": [
    "y[ [] ] == Int[] # empty indices produce an empty subset"
   ],
   "metadata": {},
   "execution_count": null
  },
  {
   "outputs": [],
   "cell_type": "code",
   "source": [
    "y[ [1,2], [1,2] ] == [1 4; 2 5] # if you pass multiple indices, this will subset rows and columns"
   ],
   "metadata": {},
   "execution_count": null
  },
  {
   "outputs": [],
   "cell_type": "code",
   "source": [
    "x = ['a', 'b', 'c']"
   ],
   "metadata": {},
   "execution_count": null
  },
  {
   "outputs": [],
   "cell_type": "code",
   "source": [
    "x[begin:end] # begin and end can be used to reference first and last indices"
   ],
   "metadata": {},
   "execution_count": null
  },
  {
   "outputs": [],
   "cell_type": "code",
   "source": [
    "y[2:end, begin:2] # works with higher dimensional arrays, too"
   ],
   "metadata": {},
   "execution_count": null
  },
  {
   "outputs": [],
   "cell_type": "code",
   "source": [
    "y[begin:end] # this will discard shape information"
   ],
   "metadata": {},
   "execution_count": null
  },
  {
   "outputs": [],
   "cell_type": "code",
   "source": [
    "x[ [false, true, false] ] == ['b'] # Booleans can be used to subset too"
   ],
   "metadata": {},
   "execution_count": null
  },
  {
   "outputs": [],
   "cell_type": "code",
   "source": [
    "x[ x .== 'b' ] # select subset based on a condition; .== is element-wise equality"
   ],
   "metadata": {},
   "execution_count": null
  },
  {
   "cell_type": "markdown",
   "source": [
    "### Exercise 2.3\n",
    "\n",
    "Practice indexing by trying to construct the following sequences of letters with indexing.\n",
    "In each case, your solution should be a vector.\n",
    "\n",
    "**Hint**: You can use `;` to concatenate individual indices and ranges e.g. `[1:3; 4] == [1,2,3,4]`."
   ],
   "metadata": {}
  },
  {
   "outputs": [],
   "cell_type": "code",
   "source": [
    "include(\"misc/exercise-2-2.jl\")\n",
    "x = exercise_2_2() # this function creates an array for the exercise"
   ],
   "metadata": {},
   "execution_count": null
  },
  {
   "cell_type": "markdown",
   "source": [
    "**aaa**"
   ],
   "metadata": {}
  },
  {
   "outputs": [],
   "cell_type": "code",
   "source": [
    "#"
   ],
   "metadata": {},
   "execution_count": null
  },
  {
   "cell_type": "markdown",
   "source": [
    "**iii**"
   ],
   "metadata": {}
  },
  {
   "outputs": [],
   "cell_type": "code",
   "source": [
    "#"
   ],
   "metadata": {},
   "execution_count": null
  },
  {
   "cell_type": "markdown",
   "source": [
    "**mnop**"
   ],
   "metadata": {}
  },
  {
   "outputs": [],
   "cell_type": "code",
   "source": [
    "#"
   ],
   "metadata": {},
   "execution_count": null
  },
  {
   "cell_type": "markdown",
   "source": [
    "**abcd**"
   ],
   "metadata": {}
  },
  {
   "outputs": [],
   "cell_type": "code",
   "source": [
    "#"
   ],
   "metadata": {},
   "execution_count": null
  },
  {
   "cell_type": "markdown",
   "source": [
    "**xyz**"
   ],
   "metadata": {}
  },
  {
   "outputs": [],
   "cell_type": "code",
   "source": [
    "#"
   ],
   "metadata": {},
   "execution_count": null
  },
  {
   "cell_type": "markdown",
   "source": [
    "**abcdefg**"
   ],
   "metadata": {}
  },
  {
   "outputs": [],
   "cell_type": "code",
   "source": [
    "#"
   ],
   "metadata": {},
   "execution_count": null
  },
  {
   "cell_type": "markdown",
   "source": [
    "Arrays are *mutable* objects, meaning it is possible to change contents.\n",
    "This is done by combining indexing with assignment syntax."
   ],
   "metadata": {}
  },
  {
   "outputs": [],
   "cell_type": "code",
   "source": [
    "x = [0, 0, 0]\n",
    "x[1] = 1\n",
    "x[2] = 2\n",
    "x[3] = 3\n",
    "x"
   ],
   "metadata": {},
   "execution_count": null
  },
  {
   "cell_type": "markdown",
   "source": [
    "This generalizes to multidimensional arrays and coordinate indexing.\n",
    "Later, we will see how to change several locations in an array at once."
   ],
   "metadata": {}
  },
  {
   "cell_type": "markdown",
   "source": [
    "### Exercise 2.4\n",
    "\n",
    "Look up the following functions:\n",
    "\n",
    "- `ndims`\n",
    "- `length`\n",
    "- `eltype`\n",
    "- `size`\n",
    "- `axes`\n",
    "- `eachindex`\n",
    "- `isempty`\n",
    "\n",
    "Practice calling these functions on the array below.\n",
    "Be sure to test different dimensions."
   ],
   "metadata": {}
  },
  {
   "outputs": [],
   "cell_type": "code",
   "source": [
    "x = rand(10, 2, 3);"
   ],
   "metadata": {},
   "execution_count": null
  },
  {
   "outputs": [],
   "cell_type": "code",
   "source": [
    "# test functions here or add your own cells"
   ],
   "metadata": {},
   "execution_count": null
  },
  {
   "cell_type": "markdown",
   "source": [
    "### Exercise 2.5\n",
    "\n",
    "This exercise demonstrates how the order of iteration over matrices impacts performance.\n",
    "\n",
    "In Julia, `@time` is a special function (a macro) that is useful for measuring how long an expression takes to run.\n",
    "Below is an example of how to invoke it."
   ],
   "metadata": {}
  },
  {
   "outputs": [],
   "cell_type": "code",
   "source": [
    "@time 1 + 1 # practically instant"
   ],
   "metadata": {},
   "execution_count": null
  },
  {
   "cell_type": "markdown",
   "source": [
    "The first time you invoke `@time` on an expression, Julia has to compile the function so `@time` will usually reflect the compilation cost.\n",
    "Running a second time will often be faster.\n",
    "Furthermore, there is some overhead associated with running `@time` in a global scope like a REPL or notebook (more on scope later), so it's best to wrap it inside a function.\n",
    "\n",
    "1. Practice using `@time` by adding it next to the left of `for` in each of the following functions.\n",
    "2. Afterwards, try calling both functions with matrices of different sizes. Which function is faster? Use `ones`, `zeros`, or `rand` to quickly generate arrays."
   ],
   "metadata": {}
  },
  {
   "outputs": [],
   "cell_type": "code",
   "source": [
    "function iterate_j_then_i(matrix)\n",
    "    m, n = size(matrix)\n",
    "    max_val = -Inf\n",
    "    for j in 1:n, i in 1:m # move down along a column; column-major ordering\n",
    "        max_val = max(max_val, matrix[i,j])\n",
    "    end\n",
    "    return max_val\n",
    "end"
   ],
   "metadata": {},
   "execution_count": null
  },
  {
   "outputs": [],
   "cell_type": "code",
   "source": [
    "function iterate_i_then_j(matrix)\n",
    "    m, n = size(matrix)\n",
    "    max_val = -Inf\n",
    "    for i in 1:m, j in 1:n # move down along a row; row-major ordering\n",
    "        max_val = max(max_val, matrix[i,j])\n",
    "    end\n",
    "    return max_val\n",
    "end"
   ],
   "metadata": {},
   "execution_count": null
  },
  {
   "cell_type": "markdown",
   "source": [
    "### Exercise 2.6\n",
    "\n",
    "Write a function that fills a vector with the numbers $1, 2, \\ldots, n$, where $n$ is the length of the given array.\n",
    "\n",
    "- The input to your function should be the array.\n",
    "- Look up how to retrieve the length of an array.\n",
    "- Your function should return the array.\n",
    "- Call your function `consecutive_integers!`."
   ],
   "metadata": {}
  },
  {
   "outputs": [],
   "cell_type": "code",
   "source": [
    "# your solution goes here"
   ],
   "metadata": {},
   "execution_count": null
  },
  {
   "cell_type": "markdown",
   "source": [
    "A few test cases:"
   ],
   "metadata": {}
  },
  {
   "outputs": [],
   "cell_type": "code",
   "source": [
    "x = zeros(4)\n",
    "consecutive_integers!(x) == Float64[1, 2, 3, 4]"
   ],
   "metadata": {},
   "execution_count": null
  },
  {
   "outputs": [],
   "cell_type": "code",
   "source": [
    "x = zeros(Int, 5)\n",
    "consecutive_integers!(x) == Int64[1, 2, 3, 4, 5]"
   ],
   "metadata": {},
   "execution_count": null
  },
  {
   "cell_type": "markdown",
   "source": [
    "At this point you may have some questions about the function name.\n",
    "\n",
    "First, because Julia arrays are *mutable* it is possible to change their contents.\n",
    "When you pass an argument to a function, say `x`, its value is bound to a new variable\n",
    "which appears inside; for example, in the function\n",
    "\n",
    "```\n",
    "function example(internal_name)\n",
    "  # code in here...\n",
    "end\n",
    "\n",
    "example(x)\n",
    "```\n",
    "\n",
    "The value of `x` is bound to `internal_name`.\n",
    "However, this *does not create a copy* so **if a mutable object is modified inside the function it is also modified in the outer scope**.\n",
    "In brief, Julia's functions are **pass by value**.\n",
    "\n",
    "Finally, the exclamation mark.\n",
    "It is a Julia convention to annotate functions that mutate their arguments with `!` at the end.\n",
    "This let's other users know some arguments may be modified.\n",
    "A few other conventions:\n",
    "\n",
    "  - the mutated arguments often appear on the left,\n",
    "  - if multiple arguments are mutated the documentation should outline this,\n",
    "  - the object that is mutated should be returned (with exceptions), and\n",
    "  - a function that allocates memory should be split into one that sets up data and then mutates the allocated objects."
   ],
   "metadata": {}
  },
  {
   "cell_type": "markdown",
   "source": [
    "### Exercise 2.7\n",
    "\n",
    "This is an exercise in practicing the Julia conventions above.\n",
    "Write a function called `consecutive_integers` that creates an array containing integers between `1` and `n`.\n",
    "\n",
    "  - `n` is the input argument.\n",
    "  - Your implementation should reuse your function from Exercise 2.4.\n",
    "  - **Bonus**: Allow the caller to specify a numeric type for the output array."
   ],
   "metadata": {}
  },
  {
   "outputs": [],
   "cell_type": "code",
   "source": [
    "# write your solution here"
   ],
   "metadata": {},
   "execution_count": null
  },
  {
   "cell_type": "markdown",
   "source": [
    "A few test cases:"
   ],
   "metadata": {}
  },
  {
   "outputs": [],
   "cell_type": "code",
   "source": [
    "consecutive_integers(0) == Int[]"
   ],
   "metadata": {},
   "execution_count": null
  },
  {
   "outputs": [],
   "cell_type": "code",
   "source": [
    "consecutive_integers(1) == Int[1]"
   ],
   "metadata": {},
   "execution_count": null
  },
  {
   "outputs": [],
   "cell_type": "code",
   "source": [
    "consecutive_integers(5) == Int[1, 2, 3, 4, 5]"
   ],
   "metadata": {},
   "execution_count": null
  },
  {
   "cell_type": "markdown",
   "source": [
    "### Exercise 2.8\n",
    "\n",
    "Implement a function called `set_union` that returns the *union* of two vectors `x` and `y`.\n",
    "\n",
    "A few hints:\n",
    "\n",
    "- You may assume that `x` and `y` have elements of the same type (no need to handle heterogeneity).\n",
    "- The inputs may have different lengths.\n",
    "- The result should not contain duplicates.\n",
    "- The result need not be sorted, but you may find it useful to sort the inputs. Use `sort` to avoid mutating the original inputs `x` and `y`."
   ],
   "metadata": {}
  },
  {
   "outputs": [],
   "cell_type": "code",
   "source": [
    "# write your code here"
   ],
   "metadata": {},
   "execution_count": null
  },
  {
   "cell_type": "markdown",
   "source": [
    "A few test cases:"
   ],
   "metadata": {}
  },
  {
   "outputs": [],
   "cell_type": "code",
   "source": [
    "x = [1,2,3]; y = [1, 2, 3]\n",
    "expected = sort!( union(x, y) ) # union is the Julia implementation\n",
    "observed = sort!( set_union(x, y) ) # we sort the result to it easy to compare implementations\n",
    "@show expected == observed"
   ],
   "metadata": {},
   "execution_count": null
  },
  {
   "outputs": [],
   "cell_type": "code",
   "source": [
    "x = ['a']; y = ['b', 'c']\n",
    "expected = sort!( union(x, y) )\n",
    "observed = sort!( set_union(x, y) )\n",
    "@show expected == observed"
   ],
   "metadata": {},
   "execution_count": null
  },
  {
   "outputs": [],
   "cell_type": "code",
   "source": [
    "x = Float64[]; y = rand(3)\n",
    "expected = sort!( union(x, y) )\n",
    "observed = sort!( set_union(x, y) )\n",
    "@show expected == observed"
   ],
   "metadata": {},
   "execution_count": null
  },
  {
   "cell_type": "markdown",
   "source": [
    "#### Array concatenation"
   ],
   "metadata": {}
  },
  {
   "cell_type": "markdown",
   "source": [
    "- `cat`: concatenate along specified dimensions\n",
    "- `hcat`: horizontal `cat`\n",
    "- `vcat`: vertical `cat`"
   ],
   "metadata": {}
  },
  {
   "cell_type": "markdown",
   "source": [
    "Consider the block matrix\n",
    "$$\n",
    "\\begin{bmatrix}\n",
    "A_{11} & A_{12} \\\\\n",
    "A_{21} & A_{22}\n",
    "\\end{bmatrix}\n",
    "$$"
   ],
   "metadata": {}
  },
  {
   "outputs": [],
   "cell_type": "code",
   "source": [
    "A11 = rand(3, 3)\n",
    "A12 = zeros(3, 2)\n",
    "A21 = zeros(5, 3)\n",
    "A22 = rand(5, 2)\n",
    "\n",
    "A = [A11 A12; A21 A22] # spaces separate colums, semicolons separate rows"
   ],
   "metadata": {},
   "execution_count": null
  },
  {
   "outputs": [],
   "cell_type": "code",
   "source": [
    "B = [ A11 A12          # newlines separate rows, too\n",
    "      A21 A22 ]"
   ],
   "metadata": {},
   "execution_count": null
  },
  {
   "outputs": [],
   "cell_type": "code",
   "source": [
    "C = vcat( hcat(A11, A12), hcat(A21, A22) ) # build directly with functions"
   ],
   "metadata": {},
   "execution_count": null
  },
  {
   "outputs": [],
   "cell_type": "code",
   "source": [
    "D = hcat( vcat(A11, A21), vcat(A12, A22) )"
   ],
   "metadata": {},
   "execution_count": null
  },
  {
   "outputs": [],
   "cell_type": "code",
   "source": [
    "E = cat(A11, A22, dims=(1,2)) # concatenate along both dimensions"
   ],
   "metadata": {},
   "execution_count": null
  },
  {
   "cell_type": "markdown",
   "source": [
    "This works for other types of collections, too."
   ],
   "metadata": {}
  },
  {
   "outputs": [],
   "cell_type": "code",
   "source": [
    "A = [1:3; 4:6]"
   ],
   "metadata": {},
   "execution_count": null
  },
  {
   "outputs": [],
   "cell_type": "code",
   "source": [
    "B = [1:3 4:6]"
   ],
   "metadata": {},
   "execution_count": null
  },
  {
   "cell_type": "markdown",
   "source": [
    "#### Slices and Views"
   ],
   "metadata": {}
  },
  {
   "cell_type": "markdown",
   "source": [
    "Selecting specific dimensions of an array creates temporary arrays by default."
   ],
   "metadata": {}
  },
  {
   "outputs": [],
   "cell_type": "code",
   "source": [
    "X = rand(3, 8)\n",
    "X[:, 3] # this is a NEW array"
   ],
   "metadata": {},
   "execution_count": null
  },
  {
   "cell_type": "markdown",
   "source": [
    "Having code that generates lots of temporaries can slow down code inside a \"hot\" loop.\n",
    "The `view` function and associated `@view` macro helps avoid temporaries"
   ],
   "metadata": {}
  },
  {
   "outputs": [],
   "cell_type": "code",
   "source": [
    "view(X, :, 1) # select column 1"
   ],
   "metadata": {},
   "execution_count": null
  },
  {
   "outputs": [],
   "cell_type": "code",
   "source": [
    "view(X, 1, :) # select column 2"
   ],
   "metadata": {},
   "execution_count": null
  },
  {
   "outputs": [],
   "cell_type": "code",
   "source": [
    "@view X[:, 1] # use with the usual syntax"
   ],
   "metadata": {},
   "execution_count": null
  },
  {
   "cell_type": "markdown",
   "source": [
    "### Ranges"
   ],
   "metadata": {}
  },
  {
   "cell_type": "markdown",
   "source": [
    "Range objects are used to lazily represent a collection of ordered values, such as intervals.\n",
    "All range objects support indexing and some notion of length.\n",
    "In Part I we covered `UnitRange` (e.g. `1:10`) and `StepRange` (e.g. `1:1:10`), which work on mainly on integer types.\n",
    "Only `UnitRange` generalizes to real numbers but require using an explicit constructor rather than the shorthand with colons.\n",
    "Below are a few examples."
   ],
   "metadata": {}
  },
  {
   "outputs": [],
   "cell_type": "code",
   "source": [
    "UnitRange(1.0, 10.0) # 1, 2, ..., 10 as Float64"
   ],
   "metadata": {},
   "execution_count": null
  },
  {
   "outputs": [],
   "cell_type": "code",
   "source": [
    "StepRange(1, 2, 10) # 1, 3, ..., 9 as Int64"
   ],
   "metadata": {},
   "execution_count": null
  },
  {
   "outputs": [],
   "cell_type": "code",
   "source": [
    "StepRange(1.0, 2, 10.0) # will error"
   ],
   "metadata": {},
   "execution_count": null
  },
  {
   "cell_type": "markdown",
   "source": [
    "Instead, the `StepRangeLen` type handles ranges on floating point types **accurately**."
   ],
   "metadata": {}
  },
  {
   "outputs": [],
   "cell_type": "code",
   "source": [
    "x = 1.0:0.5:10.0"
   ],
   "metadata": {},
   "execution_count": null
  },
  {
   "outputs": [],
   "cell_type": "code",
   "source": [
    "typeof(x)"
   ],
   "metadata": {},
   "execution_count": null
  },
  {
   "cell_type": "markdown",
   "source": [
    "Alternatively, you can use the `range` function which requires\n",
    "\n",
    "1. a left endpoint,\n",
    "2. an optional *positional argument* for the right endpoint, and\n",
    "3. a *keyword argument* `step` or `length`."
   ],
   "metadata": {}
  },
  {
   "outputs": [],
   "cell_type": "code",
   "source": [
    "range(1, length=100) # 1:100"
   ],
   "metadata": {},
   "execution_count": null
  },
  {
   "outputs": [],
   "cell_type": "code",
   "source": [
    "range(1, 100, length=100)"
   ],
   "metadata": {},
   "execution_count": null
  },
  {
   "outputs": [],
   "cell_type": "code",
   "source": [
    "range(1.0, length=100) # 1.0:1.0:100.0"
   ],
   "metadata": {},
   "execution_count": null
  },
  {
   "outputs": [],
   "cell_type": "code",
   "source": [
    "range(1.0, step=2, length=3)"
   ],
   "metadata": {},
   "execution_count": null
  },
  {
   "cell_type": "markdown",
   "source": [
    "Lastly, it is possible to instantiate all the values in a range using `collect`."
   ],
   "metadata": {}
  },
  {
   "outputs": [],
   "cell_type": "code",
   "source": [
    "collect(1:10)"
   ],
   "metadata": {},
   "execution_count": null
  },
  {
   "outputs": [],
   "cell_type": "code",
   "source": [
    "collect(range(0.0, 10.0, step=0.1))"
   ],
   "metadata": {},
   "execution_count": null
  },
  {
   "cell_type": "markdown",
   "source": [
    "One rarely needs to know exactly the type of range object used.\n",
    "\n",
    "**Advice**: Use the colon shorthand if you're referring to indices into a collection, and `range` for discretizing intervals."
   ],
   "metadata": {}
  },
  {
   "cell_type": "markdown",
   "source": [
    "### (Named) Tuples"
   ],
   "metadata": {}
  },
  {
   "cell_type": "markdown",
   "source": [
    "`Tuple`s are similar to `Array`s in that they are lists of objects, but they do not have a shape.\n",
    "They are created by separating values with commas `,`.\n",
    "Sometimes it is useful to add parantheses to make it clear that an object is a `Tuple`."
   ],
   "metadata": {}
  },
  {
   "outputs": [],
   "cell_type": "code",
   "source": [
    "1, 2, 3"
   ],
   "metadata": {},
   "execution_count": null
  },
  {
   "outputs": [],
   "cell_type": "code",
   "source": [
    "(1, 2, 3)"
   ],
   "metadata": {},
   "execution_count": null
  },
  {
   "cell_type": "markdown",
   "source": [
    "Tuples support both *indexing*, and *iteration*."
   ],
   "metadata": {}
  },
  {
   "outputs": [],
   "cell_type": "code",
   "source": [
    "for val in x\n",
    "    @show val\n",
    "end"
   ],
   "metadata": {},
   "execution_count": null
  },
  {
   "outputs": [],
   "cell_type": "code",
   "source": [
    "for (i, val) in enumerate(x)\n",
    "    @show i, val, x[i]\n",
    "end"
   ],
   "metadata": {},
   "execution_count": null
  },
  {
   "cell_type": "markdown",
   "source": [
    "A `Tuple` cannot change value because it is an immutable type."
   ],
   "metadata": {}
  },
  {
   "outputs": [],
   "cell_type": "code",
   "source": [
    "x[2] = 100"
   ],
   "metadata": {},
   "execution_count": null
  },
  {
   "cell_type": "markdown",
   "source": [
    "So why would you use `Tuple`?"
   ],
   "metadata": {}
  },
  {
   "cell_type": "markdown",
   "source": [
    "1. You want to return multiple values in a function.\n",
    "2. You want to represent a collection of heterogeneous elements.\n",
    "3. You want the collection to be immutable (e.g. for use in functional programming style)."
   ],
   "metadata": {}
  },
  {
   "cell_type": "markdown",
   "source": [
    "### Exercise 2.9\n",
    "\n",
    "The `Tuple` type is quite important in Julia because it allows one to \"destructure\" multiple return values.\n",
    "Below are three functions that return multiple values using a mix of `Array` and `Tuple`."
   ],
   "metadata": {}
  },
  {
   "outputs": [],
   "cell_type": "code",
   "source": [
    "f1() = [1, 2, [3, 4]]"
   ],
   "metadata": {},
   "execution_count": null
  },
  {
   "outputs": [],
   "cell_type": "code",
   "source": [
    "f2() = (1, 2, [3, 4])"
   ],
   "metadata": {},
   "execution_count": null
  },
  {
   "outputs": [],
   "cell_type": "code",
   "source": [
    "f3() = (1, 2, (3, 4))"
   ],
   "metadata": {},
   "execution_count": null
  },
  {
   "cell_type": "markdown",
   "source": [
    "**Call `typeof` on each function (e.g. `typeof(f1())`). What do you notice?**"
   ],
   "metadata": {}
  },
  {
   "outputs": [],
   "cell_type": "code",
   "source": [
    "#"
   ],
   "metadata": {},
   "execution_count": null
  },
  {
   "cell_type": "markdown",
   "source": [
    "**Try assigning the return value to a single variable (e.g. `x = f1()`).**"
   ],
   "metadata": {}
  },
  {
   "outputs": [],
   "cell_type": "code",
   "source": [
    "#"
   ],
   "metadata": {},
   "execution_count": null
  },
  {
   "cell_type": "markdown",
   "source": [
    "**Now assign the return value to three variables (e.g. `x, y, z = f1()`).**"
   ],
   "metadata": {}
  },
  {
   "outputs": [],
   "cell_type": "code",
   "source": [
    "#"
   ],
   "metadata": {},
   "execution_count": null
  },
  {
   "cell_type": "markdown",
   "source": [
    "**Take a guess at how you can capture the values `3` and `4` in separate variables.**"
   ],
   "metadata": {}
  },
  {
   "outputs": [],
   "cell_type": "code",
   "source": [
    "#"
   ],
   "metadata": {},
   "execution_count": null
  },
  {
   "cell_type": "markdown",
   "source": [
    "A related type is the `NamedTuple` which is a `Tuple` with named fields."
   ],
   "metadata": {}
  },
  {
   "outputs": [],
   "cell_type": "code",
   "source": [
    "nt = (a = 1, b = [1,2,3], c = 'c')"
   ],
   "metadata": {},
   "execution_count": null
  },
  {
   "outputs": [],
   "cell_type": "code",
   "source": [
    "nt.a"
   ],
   "metadata": {},
   "execution_count": null
  },
  {
   "outputs": [],
   "cell_type": "code",
   "source": [
    "nt.b"
   ],
   "metadata": {},
   "execution_count": null
  },
  {
   "outputs": [],
   "cell_type": "code",
   "source": [
    "nt.c"
   ],
   "metadata": {},
   "execution_count": null
  },
  {
   "cell_type": "markdown",
   "source": [
    "### Dictionaries"
   ],
   "metadata": {}
  },
  {
   "cell_type": "markdown",
   "source": [
    "A [`Dict`](https://docs.julialang.org/en/v1/base/collections/#Dictionaries) in Julia is an object that maps a specific *key* to a unique *value* (key-value pairs).\n",
    "Virtually anything can be used as a key or value, but you should favor using immutable objects as keys to avoid headaches!"
   ],
   "metadata": {}
  },
  {
   "cell_type": "markdown",
   "source": [
    "One way to define a `Dict` is by specifying key-value `Pairs`, `<key> => <value>`. Julia will infer the key and value types automatically."
   ],
   "metadata": {}
  },
  {
   "outputs": [],
   "cell_type": "code",
   "source": [
    "\"apple\" => pi # creates a Pair object"
   ],
   "metadata": {},
   "execution_count": null
  },
  {
   "cell_type": "markdown",
   "source": [
    "The `Pair` type essentially provides a specialized syntax for defining `Dict` literals"
   ],
   "metadata": {}
  },
  {
   "outputs": [],
   "cell_type": "code",
   "source": [
    "d = Dict(\"Alice\" => 25, \"Bob\" => 22)"
   ],
   "metadata": {},
   "execution_count": null
  },
  {
   "outputs": [],
   "cell_type": "code",
   "source": [
    "d[\"Alice\"] # support for indexing"
   ],
   "metadata": {},
   "execution_count": null
  },
  {
   "outputs": [],
   "cell_type": "code",
   "source": [
    "d = Dict(i => string(\"x\", i) for i in 1:3) # support for comprehensions"
   ],
   "metadata": {},
   "execution_count": null
  },
  {
   "outputs": [],
   "cell_type": "code",
   "source": [
    "for (key, val) in d # support for iteration\n",
    "    @show key, val, d[key]\n",
    "end"
   ],
   "metadata": {},
   "execution_count": null
  },
  {
   "cell_type": "markdown",
   "source": [
    "### Exercise 2.10\n",
    "\n",
    "Write a function that counts the number of each character in a `String`, storing the result in a dictionary.\n",
    "Remember that `String` objects are iterable.\n",
    "\n",
    "**Hint**: Calling `d['a']` should return the number of instances of the letter `a` in the given string."
   ],
   "metadata": {}
  },
  {
   "outputs": [],
   "cell_type": "code",
   "source": [
    "# write your code here"
   ],
   "metadata": {},
   "execution_count": null
  },
  {
   "outputs": [],
   "cell_type": "code",
   "source": [
    "test1 = \"heterogeneous\""
   ],
   "metadata": {},
   "execution_count": null
  },
  {
   "outputs": [],
   "cell_type": "code",
   "source": [
    "test2 = \"Alcatraz\""
   ],
   "metadata": {},
   "execution_count": null
  },
  {
   "cell_type": "markdown",
   "source": [
    "# BREAK! (10 minutes)"
   ],
   "metadata": {}
  },
  {
   "cell_type": "markdown",
   "source": [
    "# Convenient Syntax Tools"
   ],
   "metadata": {}
  },
  {
   "cell_type": "markdown",
   "source": [
    "### Higher-Order Functions, Transformations, and Broadcasting\n",
    "\n",
    "The Julia language allows `Function`s to be passed as arguments into other `Function`s, allowing for implementation of higher-order functions (HoFs).\n",
    "A common HoF is `map`, which transforms the elements in an iterable collection according to a rule."
   ],
   "metadata": {}
  },
  {
   "outputs": [],
   "cell_type": "code",
   "source": [
    "result = map(sqrt, 1:10) # computes sqrt(1), sqrt(2), ..., sqrt(9)"
   ],
   "metadata": {},
   "execution_count": null
  },
  {
   "outputs": [],
   "cell_type": "code",
   "source": [
    "x = [-100, -10, -1]\n",
    "y = [100, 10, 1]\n",
    "map(+, x, y) # works for multiple inputs"
   ],
   "metadata": {},
   "execution_count": null
  },
  {
   "cell_type": "markdown",
   "source": [
    "There is also a non-allocating version, called `map!`, which allows one to specify where the result should be stored."
   ],
   "metadata": {}
  },
  {
   "outputs": [],
   "cell_type": "code",
   "source": [
    "input = collect(1:9)\n",
    "result = Vector{Float64}(undef, 10)"
   ],
   "metadata": {},
   "execution_count": null
  },
  {
   "outputs": [],
   "cell_type": "code",
   "source": [
    "map!(sqrt, result, input)"
   ],
   "metadata": {},
   "execution_count": null
  },
  {
   "cell_type": "markdown",
   "source": [
    "In many dynamic languages it is common to write complex mathematical expressions in \"vectorized\" form. Often, this is because loops in the language are inherently slow, or the vectorized code hooks into specialized routines that run faster than a naive implementation.\n",
    "\n",
    "Julia provides *broadcasting* for performing element-wise operations (although loops are fast and can be made fast).\n",
    "\n",
    "To start, common mathematical and logical operators can be broadcast by adding a `.` before the operator:"
   ],
   "metadata": {}
  },
  {
   "outputs": [],
   "cell_type": "code",
   "source": [
    "x = rand(3)"
   ],
   "metadata": {},
   "execution_count": null
  },
  {
   "outputs": [],
   "cell_type": "code",
   "source": [
    "1 .+ x"
   ],
   "metadata": {},
   "execution_count": null
  },
  {
   "outputs": [],
   "cell_type": "code",
   "source": [
    "1 .> x"
   ],
   "metadata": {},
   "execution_count": null
  },
  {
   "cell_type": "markdown",
   "source": [
    "Other functions, both built-in and user-defined, can be broadcast by adding a `.` between the function name and the open parenthesis `(`:"
   ],
   "metadata": {}
  },
  {
   "outputs": [],
   "cell_type": "code",
   "source": [
    "x = 1:100"
   ],
   "metadata": {},
   "execution_count": null
  },
  {
   "outputs": [],
   "cell_type": "code",
   "source": [
    "exp.(x)"
   ],
   "metadata": {},
   "execution_count": null
  },
  {
   "cell_type": "markdown",
   "source": [
    "Thus, complex expressions can be vectorized using `.` as needed:"
   ],
   "metadata": {}
  },
  {
   "outputs": [],
   "cell_type": "code",
   "source": [
    "x = 10 * rand(3)\n",
    "y = 5 * rand(3)\n",
    "z = 1 .+ exp.( -(x .- y) .^ 2 ./ 2 )"
   ],
   "metadata": {},
   "execution_count": null
  },
  {
   "outputs": [],
   "cell_type": "code",
   "source": [
    "for i in eachindex(z)\n",
    "    @show z[i] == 1 + exp( -(x[i] - y[i])^2 / 2 )\n",
    "end"
   ],
   "metadata": {},
   "execution_count": null
  },
  {
   "cell_type": "markdown",
   "source": [
    "Because adding `.` everywhere can be tedious, there is the `@.` macro to have Julia do the heavy lifting:"
   ],
   "metadata": {}
  },
  {
   "outputs": [],
   "cell_type": "code",
   "source": [
    "w = @. 1 + exp( -(x - y)^2 / 2 )"
   ],
   "metadata": {},
   "execution_count": null
  },
  {
   "cell_type": "markdown",
   "source": [
    "It's possible to control which arguments are broadcasted as documented in the manual."
   ],
   "metadata": {}
  },
  {
   "cell_type": "markdown",
   "source": [
    "Lastly, you should note that `.=` can be used to broadcast assignment.\n",
    "If an array already exists, you can even put `@.` on the left of a variable to assign the selected dimension."
   ],
   "metadata": {}
  },
  {
   "outputs": [],
   "cell_type": "code",
   "source": [
    "X = zeros(5, 3)"
   ],
   "metadata": {},
   "execution_count": null
  },
  {
   "outputs": [],
   "cell_type": "code",
   "source": [
    "X[:, 1] = rand(5)"
   ],
   "metadata": {},
   "execution_count": null
  },
  {
   "outputs": [],
   "cell_type": "code",
   "source": [
    "X[:, 2] .= 2"
   ],
   "metadata": {},
   "execution_count": null
  },
  {
   "outputs": [],
   "cell_type": "code",
   "source": [
    "@. X[:, 3] = 1 + exp(rand())"
   ],
   "metadata": {},
   "execution_count": null
  },
  {
   "outputs": [],
   "cell_type": "code",
   "source": [
    "X"
   ],
   "metadata": {},
   "execution_count": null
  },
  {
   "cell_type": "markdown",
   "source": [
    "### Comprehensions and Generators"
   ],
   "metadata": {}
  },
  {
   "cell_type": "markdown",
   "source": [
    "Sometimes we have a simple rule to enumerate the members of the collection, and it is convenient to specify that collection compactly.\n",
    "For example, in mathematics one can specify the integers $1,2,\\ldots,10$ using set builder notation\n",
    "\n",
    "$$\n",
    "\\{i : \\in \\mathrm{Z},~1 \\le i \\le 10\\}\n",
    "$$\n",
    "\n",
    "Julia has two language constructs that implement this sort of notation, *generators* and *comprehensions*."
   ],
   "metadata": {}
  },
  {
   "cell_type": "markdown",
   "source": [
    "A *generator* in Julia is a construct that lazily generates a sequence of values, meaning you don't create and store the values.\n",
    "Rather, you wait until you iterate over the object to acces specific values.\n",
    "Here is an example:"
   ],
   "metadata": {}
  },
  {
   "outputs": [],
   "cell_type": "code",
   "source": [
    "itr = (i for i in 1:10) # produce the values; cannot index into this\n",
    "for val in itr # iterate and do something\n",
    "    @show val\n",
    "end"
   ],
   "metadata": {},
   "execution_count": null
  },
  {
   "cell_type": "markdown",
   "source": [
    "The general syntax is `( f(x) for x in iterable )`, which yields a `Base.Generator` object.\n",
    "For our purposes, it's enough to understand that a `Generator` specifies a collection without storing any actual data; it's quite useful if the collection would be incredibly large.\n",
    "Generators are also useful in writing more human-readable code.\n",
    "For example, if we wanted to sum up the first 10 nonzero integers, we could write"
   ],
   "metadata": {}
  },
  {
   "outputs": [],
   "cell_type": "code",
   "source": [
    "sum(i for i in 1:10)"
   ],
   "metadata": {},
   "execution_count": null
  },
  {
   "cell_type": "markdown",
   "source": [
    "Whether you should use a generator or an explicit for loop is a matter of taste."
   ],
   "metadata": {}
  },
  {
   "cell_type": "markdown",
   "source": [
    "In contrast to lazy generators, *comprehensions* explicitly store data.\n",
    "Specifically, *array comprehensions* are essentially just a generator-like expression enclosed in square brackets; that is,\n",
    "\n",
    "```julia\n",
    "[ f(x) for x in iterable ]\n",
    "```\n",
    "\n",
    "Here are some examples:"
   ],
   "metadata": {}
  },
  {
   "outputs": [],
   "cell_type": "code",
   "source": [
    "x = [ i for i in 1:4 ]"
   ],
   "metadata": {},
   "execution_count": null
  },
  {
   "outputs": [],
   "cell_type": "code",
   "source": [
    "y = [ i^2 for i in 1:4 ]"
   ],
   "metadata": {},
   "execution_count": null
  },
  {
   "outputs": [],
   "cell_type": "code",
   "source": [
    "z = [ string(\"x\", i) for i in 1:4 ]"
   ],
   "metadata": {},
   "execution_count": null
  },
  {
   "cell_type": "markdown",
   "source": [
    "# Variable Scope\n",
    "\n",
    "Several types of code blocks in Julia introduce new variable scopes -- regions of code where a particular identifier is \"visible\" or \"known\".\n",
    "The following table ([from the manual](https://docs.julialang.org/en/v1/manual/variables-and-scoping/)) summarizes the rules for different language constructs:\n",
    "\n",
    "| *Construct*        | *Scope type* | *Allowed within* |\n",
    "|--------------------|--------------|------------------|\n",
    "| module, baremodule | global       | global           |\n",
    "| struct             | local (soft) | global           |\n",
    "| for, while, try    | local (soft) | global, local    |\n",
    "| macro              | local (hard) | global           |\n",
    "| functions, do blocks, let blocks, comprehensions, generators | local (hard) | global, local |\n",
    "\n",
    "The main idea to understand Julia's scoping rules: lexical scope\n",
    "\n",
    "**The scope of a variable can be inferred based on *where* it appears in code.**\n",
    "\n",
    "This means that if a variable appears in nested scopes it is visible within the scopes it is contained."
   ],
   "metadata": {}
  },
  {
   "cell_type": "markdown",
   "source": [
    "### Global Scope and Const-ness\n",
    "\n",
    "First, anything defined inside a REPL or notebook will live in the global scope of `Main`, a special module for interactive environments.\n",
    "We'll cover modules laters, but for now just think of a Julia module as a way to organize related code."
   ],
   "metadata": {}
  },
  {
   "outputs": [],
   "cell_type": "code",
   "source": [
    "global_x = 123 # define the variable"
   ],
   "metadata": {},
   "execution_count": null
  },
  {
   "outputs": [],
   "cell_type": "code",
   "source": [
    "Main.global_x # be explicit about the namespace of the identifier"
   ],
   "metadata": {},
   "execution_count": null
  },
  {
   "cell_type": "markdown",
   "source": [
    "Now let's write a function that references `x`.\n",
    "Julia requires you to be explicit about global variables with the `global` keyword in assigning new values."
   ],
   "metadata": {}
  },
  {
   "outputs": [],
   "cell_type": "code",
   "source": [
    "function global_scope_example()\n",
    "    println(@isdefined global_x) # it's visible\n",
    "    y = global_x * 10\n",
    "    @show y\n",
    "    global global_x = 10 # if we don't declare global, this will define a local variable\n",
    "    y = global_x * 10\n",
    "    @show y\n",
    "    return nothing\n",
    "end\n",
    "\n",
    "global_scope_example()"
   ],
   "metadata": {},
   "execution_count": null
  },
  {
   "outputs": [],
   "cell_type": "code",
   "source": [
    "global_x"
   ],
   "metadata": {},
   "execution_count": null
  },
  {
   "cell_type": "markdown",
   "source": [
    "**Using global variables like this will incur a performance penalty**.\n",
    "The reason? It's possible that a function or script changes the type of a global, which makes it hard for the Julia compiler to reason about the global variable.\n",
    "You should avoid globals wherever possible.\n",
    "\n",
    "You can also use `const` to declare global variables that will never change."
   ],
   "metadata": {}
  },
  {
   "outputs": [],
   "cell_type": "code",
   "source": [
    "const const_x = 123"
   ],
   "metadata": {},
   "execution_count": null
  },
  {
   "outputs": [],
   "cell_type": "code",
   "source": [
    "function const_example()\n",
    "    println(@isdefined const_x) # it's visible\n",
    "    y = const_x * 10\n",
    "    @show y\n",
    "    global const_x = 10 # throws a warning\n",
    "    y = const_x * 10    # what does this do now?\n",
    "    @show y\n",
    "    return nothing\n",
    "end"
   ],
   "metadata": {},
   "execution_count": null
  },
  {
   "cell_type": "markdown",
   "source": [
    "### Local Scope\n",
    "\n",
    "Local scopes occur naturally in writing functions or handling control flow.\n",
    "There are three main rules to consider when assigning values in local scopes; that is, `x = <value>`\n",
    "\n",
    "1. **(Updating):** If `x` is already a local variable, then that local variable is what is assigned.\n",
    "2. **(Hard Scope):** If `x` is not already local, and you assign it inside a \"hard\" construct like a function, a new local variable is created.\n",
    "3. **(Soft Scope):** If `x` is not already local, and you assign it inside a soft scope (like a loop), then it depends on whether a *global* `x` was defined as well as the environment you're running in (interactive vs script).\n",
    "\n",
    "This is best illustrated with examples."
   ],
   "metadata": {}
  },
  {
   "outputs": [],
   "cell_type": "code",
   "source": [
    "function local_scope_example1() # defines a hard local scope\n",
    "    fancy_var = 1 # now exists within the function\n",
    "    println(\"Outside\")\n",
    "    @show fancy_var\n",
    "\n",
    "    let other_var = 10 # explicitly defines new local scope (hard)\n",
    "        println(\"Inside `let` block\")\n",
    "        @show fancy_var # this is nested inside our function, so fancy_var is still local here\n",
    "        @show fancy_var + other_var\n",
    "        fancy_var = 10\n",
    "        @show fancy_var # the variable already existed, so it was updated\n",
    "    end\n",
    "\n",
    "    println(\"Outside again\")\n",
    "    @show fancy_var # still 10\n",
    "    println(\"Is `other_var` defined? \", @isdefined other_var) # no, other_var DNE here\n",
    "end"
   ],
   "metadata": {},
   "execution_count": null
  },
  {
   "outputs": [],
   "cell_type": "code",
   "source": [
    "local_scope_example1()"
   ],
   "metadata": {},
   "execution_count": null
  },
  {
   "outputs": [],
   "cell_type": "code",
   "source": [
    "@isdefined fancy_var"
   ],
   "metadata": {},
   "execution_count": null
  },
  {
   "outputs": [],
   "cell_type": "code",
   "source": [
    "function local_scope_example2()\n",
    "    xyz = 1 # same as before\n",
    "    println(\"Outside\")\n",
    "    @show xyz\n",
    "\n",
    "    function inner(xyz) # creates a new local scope (hard); don't be cruel about names\n",
    "        println(\"Inside `inner` function\")\n",
    "        @show xyz # this `xyz` is meant to refer to the first argument of the function\n",
    "        xyz = 10\n",
    "        @show xyz\n",
    "        return nothing\n",
    "    end\n",
    "\n",
    "    println(\"Calling inner...\")\n",
    "    inner(2)\n",
    "    println(\"Outside again...\")\n",
    "    @show xyz\n",
    "\n",
    "    println(\"Calling inner again...\")\n",
    "    inner(xyz)\n",
    "    println(\"Outside again...\")\n",
    "    @show xyz\n",
    "    return nothing\n",
    "end"
   ],
   "metadata": {},
   "execution_count": null
  },
  {
   "outputs": [],
   "cell_type": "code",
   "source": [
    "local_scope_example2()"
   ],
   "metadata": {},
   "execution_count": null
  },
  {
   "cell_type": "markdown",
   "source": [
    "These examples deal mainly in *hard* scoping, i.e. creating a new local scope where outer variables are nested in only if those variables occur in other hard scopes.\n",
    "\n",
    "*Soft* scope rules mainly deal with how variables are resolved in interactive environments vs scripts.\n",
    "For example, `for` loops have soft local scope.\n",
    "That makes it so that"
   ],
   "metadata": {}
  },
  {
   "outputs": [],
   "cell_type": "code",
   "source": [
    "s = 0 # technically global\n",
    "for i in 1:10\n",
    "    s += i\n",
    "end"
   ],
   "metadata": {},
   "execution_count": null
  },
  {
   "cell_type": "markdown",
   "source": [
    "\"just works\" in the REPL/notebook; i.e. we meant to reference the `s` just outside.\n",
    "In a script you'll get a warning about potential ambiguity or an error.\n",
    "\n",
    "Why do soft scope rules exist?\n",
    "The reason is that one might accidentally reuse the identifier `s` in a very long script,\n",
    "in which case there is no clear way to know what you meant to do unless you go back and make the code explicit"
   ],
   "metadata": {}
  },
  {
   "cell_type": "markdown",
   "source": [
    "**Takeaways:**\n",
    "\n",
    "- If you need to use global variables, be explicit.\n",
    "- Use `const` if you don't need the global variable to change.\n",
    "- Visibility of a variable depends only on where it occurs in code, not on program execution."
   ],
   "metadata": {}
  },
  {
   "cell_type": "markdown",
   "source": [
    "# Packages: Using other people's code"
   ],
   "metadata": {}
  },
  {
   "cell_type": "markdown",
   "source": [
    "### Modules"
   ],
   "metadata": {}
  },
  {
   "cell_type": "markdown",
   "source": [
    "Proper Julia packages live inside [*modules*](https://docs.julialang.org/en/v1/manual/modules/). They are defined using module code blocks.\n",
    "\n",
    "From the documentation:\n",
    "\n",
    "> 1. **Modules are separate namespaces, each introducing a new global scope**. This is useful, because it allows the same name to be used for different functions or global variables without conflict, as long as they are in separate modules.\n",
    "> 2. Modules have facilities for detailed namespace management: each defines a set of names it exports, and can import names from other modules with `using` and `import` (we explain these below).\n",
    "> 3. Modules can be precompiled for faster loading, and contain code for runtime initialization.\n",
    "\n",
    "That being said, modules are also used in managing code to make it both reproducible and easy to share.\n",
    "\n",
    "Today, we'll only look at the syntax for modules and the rules for importing/exporting code so we understand how to use other people's code."
   ],
   "metadata": {}
  },
  {
   "outputs": [],
   "cell_type": "code",
   "source": [
    "module MyExample # defined in Main scope!\n",
    "    println(\"This module is loading\")\n",
    "    helloworld() = println(\"Hello world! This is my contribution.\") # define a function\n",
    "    println(\"We're done\")\n",
    "\n",
    "    export helloworld # export the function by default so others can use it\n",
    "end"
   ],
   "metadata": {},
   "execution_count": null
  },
  {
   "cell_type": "markdown",
   "source": [
    "We see the code executed. Let's try calling the function we made:"
   ],
   "metadata": {}
  },
  {
   "outputs": [],
   "cell_type": "code",
   "source": [
    "helloworld()"
   ],
   "metadata": {},
   "execution_count": null
  },
  {
   "cell_type": "markdown",
   "source": [
    "This fails?\n",
    "The reason is that defining it in our interactive environment is equivalent to an `import`, which prevents exported functions from being brought into scope.\n",
    "We have to be explicit about where the function comes from in this case."
   ],
   "metadata": {}
  },
  {
   "outputs": [],
   "cell_type": "code",
   "source": [
    "MyExample.helloworld()"
   ],
   "metadata": {},
   "execution_count": null
  },
  {
   "cell_type": "markdown",
   "source": [
    "This can be a bit tedious, so fortunately Julia lets us bind a module to a variable to make it easier to write:"
   ],
   "metadata": {}
  },
  {
   "outputs": [],
   "cell_type": "code",
   "source": [
    "ME = MyExample\n",
    "ME.helloworld()"
   ],
   "metadata": {},
   "execution_count": null
  },
  {
   "cell_type": "markdown",
   "source": [
    "Alternatively, the `using` keyword brings all exported functions into scope:"
   ],
   "metadata": {}
  },
  {
   "outputs": [],
   "cell_type": "code",
   "source": [
    "using Main.MyExample # remember, it was defined in Main so we have to qualify the name\n",
    "helloworld()"
   ],
   "metadata": {},
   "execution_count": null
  },
  {
   "cell_type": "markdown",
   "source": [
    "Yet another option: You can explicitly choose which functions to bring into scope when you ivoke `using`:"
   ],
   "metadata": {}
  },
  {
   "outputs": [],
   "cell_type": "code",
   "source": [
    "using LinearAlgebra: norm # only bring norm into scope, unqualified\n",
    "norm(rand(3))"
   ],
   "metadata": {},
   "execution_count": null
  },
  {
   "outputs": [],
   "cell_type": "code",
   "source": [
    "eigen # lives in LinearAlgebra"
   ],
   "metadata": {},
   "execution_count": null
  },
  {
   "outputs": [],
   "cell_type": "code",
   "source": [
    "using LinearAlgebra\n",
    "eigen"
   ],
   "metadata": {},
   "execution_count": null
  },
  {
   "cell_type": "markdown",
   "source": [
    "#### A word on documentation\n",
    "\n",
    "Package writers will often annotate exported functions with documentation strings, or doctstrings for short."
   ],
   "metadata": {}
  },
  {
   "outputs": [],
   "cell_type": "code",
   "source": [
    "\"This is a docstring.\"\n",
    "function docstring_test()\n",
    "    println(\"Hello\")\n",
    "end"
   ],
   "metadata": {},
   "execution_count": null
  },
  {
   "outputs": [],
   "cell_type": "code",
   "source": [
    "?docstring_test"
   ],
   "metadata": {},
   "execution_count": null
  },
  {
   "cell_type": "markdown",
   "source": [
    "[Docstrings](https://docs.julialang.org/en/v1/manual/documentation/) can use Markdown, LaTeX, and have their own style and formatting rules."
   ],
   "metadata": {}
  },
  {
   "cell_type": "markdown",
   "source": [
    "### The Standard Library"
   ],
   "metadata": {}
  },
  {
   "cell_type": "markdown",
   "source": [
    "Julia ships with its own standard library.\n",
    "The functions immediately available mostly live in the Base module.\n",
    "Other useful packages include:\n",
    "\n",
    "- [LinearAlgebra](https://docs.julialang.org/en/v1/stdlib/LinearAlgebra/), for everything linear algebra.\n",
    "- [DelimitedFiles](https://docs.julialang.org/en/v1/stdlib/DelimitedFiles/), for working with formatted files (e.g. tab or comma separated).\n",
    "- [Statistics](https://docs.julialang.org/en/v1/stdlib/Statistics/), many standard statistics functions.\n",
    "- [Random](https://docs.julialang.org/en/v1/stdlib/Random/), random number generation.\n",
    "- [Printf](https://docs.julialang.org/en/v1/stdlib/Printf/), for printing formatted strings (C-style).\n",
    "- [Pkg](https://docs.julialang.org/en/v1/stdlib/Pkg/), the Julia pacakge manager."
   ],
   "metadata": {}
  },
  {
   "cell_type": "markdown",
   "source": [
    "### The General Registry"
   ],
   "metadata": {}
  },
  {
   "cell_type": "markdown",
   "source": [
    "Julia users and developers are free to contribute to the Julia package ecosystem by registering them.\n",
    "The **General** registry belongs to the whole community, but it is also possible to create your own private registry that contains your own packages (hosting is a separate issue).\n",
    "\n",
    "Regardless, you can manage community-contributed packages using the Pkg module.\n",
    "\n",
    "Some examples include:\n",
    "\n",
    "* [BenchmarkTools](https://github.com/JuliaCI/BenchmarkTools.jl), which provides macros like `@benchmark` and `@btime` that are useful for checking time and memory allocations in functions.\n",
    "* [CSV](https://csv.juliadata.org/stable/), which handles reading/writing comma-separated files and other delimited file types.\n",
    "* [DifferentialEquations](https://sciml.ai/), for everything about differential equations.\n",
    "* [Distributions](https://github.com/JuliaStats/Distributions.jl), for representing and sampling from probability distributions.\n",
    "* [DataFrames](https://dataframes.juliadata.org/stable/), which provides the `DataFrame` type to represent tabular data (similar to R).\n",
    "* [Plots](http://docs.juliaplots.org/latest/), provides a high-level interface for plotting with multiple backends (including `matplotlib` as wrapped by PyPlot).\n",
    "\n",
    "and many, many more."
   ],
   "metadata": {}
  },
  {
   "cell_type": "markdown",
   "source": [
    "### Environments"
   ],
   "metadata": {}
  },
  {
   "cell_type": "markdown",
   "source": [
    "The list of explicitly installed packages is stored in a file called `Project.toml`.\n",
    "The *main* environment is usually called `@v1.x` where `x` is the minor Julia version and lives in `~/.julia/environments/v1.x`.\n",
    "This is important because it helps you reproduce the environment used in developing a project!"
   ],
   "metadata": {}
  },
  {
   "cell_type": "markdown",
   "source": [
    "# Review with an Example: Multiple Regression\n",
    "\n",
    "The following series of exercises will help you practice the concepts from this session.\n",
    "We will walk through an algorithm to fit a linear model in the context of multiple regression:\n",
    "\n",
    "$$\n",
    "y_{i} \\sim \\beta_{0} + x_{i1} \\beta_{1} + x_{i2} \\beta_{2} + \\ldots x_{ip} \\beta_{p},\n",
    "$$\n",
    "\n",
    "where\n",
    "\n",
    "- $y_{i}$ is the $i$th sample of a dependent variable (what we want our model to be able to predict)\n",
    "- $x_{ij}$ is the $i$th sample of predictor $j$, and\n",
    "- $\\beta_{j}$ is the effect size of predictor $j$ (roughly how much a predictor influences the dependent variable)."
   ],
   "metadata": {}
  },
  {
   "cell_type": "markdown",
   "source": [
    "### Exercise 2.11\n",
    "\n",
    "Complete the following function by\n",
    "\n",
    "1. Concatenate `X` with a column of `1s` on the right. Use the function `ones` to creat a vector of the correct length. That is, `X` should become something like `[X 1]`.\n",
    "2. Update components 3, 5, and 8 of the vector `β` with the values in `β_causal`. This requires that you index the correct locations in both vectors. Feel free to use broadcasting; i.e. `.=`.\n",
    "3. Compute `y = X * β`.\n",
    "4. Return three variables `y`, `X`, and `β`.\n",
    "\n",
    "Note that this function simulates the design matrix `X` where columns correspond to different predictors, as well as the \"true\" model `β`.\n",
    "This is used to create the dependent variable `y`.\n",
    "\n",
    "**Note:** The \"causal\" predictors will be in components 3, 5, and 8."
   ],
   "metadata": {}
  },
  {
   "outputs": [],
   "cell_type": "code",
   "source": [
    "function simulate_data(nsamples, npredictors)\n",
    "    if npredictors < 8\n",
    "        error(\"Please set `npredictors` ≥ 8.\")\n",
    "    end\n",
    "\n",
    "    # design matrix; last columns as `1`s to represent intercept term β₀\n",
    "    X = 0.5 * randn(nsamples, npredictors)\n",
    "    # 1. code goes here\n",
    "\n",
    "    # coefficients; the last component represents β₀\n",
    "    β = 1e-2 * randn(npredictors+1)\n",
    "\n",
    "    # coefficients 3, 5, and 8 are causal\n",
    "    β_causal = [8,-10,12] .* randn(3)\n",
    "    β # 2. code goes here\n",
    "\n",
    "    # simulate dependent variable\n",
    "    y # 3. code goes here\n",
    "\n",
    "    # 4. code goes here\n",
    "end\n",
    "\n",
    "y, X, β = simulate_data(1000, 10)"
   ],
   "metadata": {},
   "execution_count": null
  },
  {
   "outputs": [],
   "cell_type": "code",
   "source": [
    "X[:,end] # should be 1s"
   ],
   "metadata": {},
   "execution_count": null
  },
  {
   "outputs": [],
   "cell_type": "code",
   "source": [
    "β[3], β[5], β[8] # should be \"large\" in magnitude"
   ],
   "metadata": {},
   "execution_count": null
  },
  {
   "cell_type": "markdown",
   "source": [
    "### Exercise 2.12\n",
    "\n",
    "Now we're going to use the Plots package to visualize our simulated data.\n",
    "\n",
    "1. Load the Plots package."
   ],
   "metadata": {}
  },
  {
   "outputs": [],
   "cell_type": "code",
   "source": [
    "# your solution"
   ],
   "metadata": {},
   "execution_count": null
  },
  {
   "cell_type": "markdown",
   "source": [
    "2. Use the `scatter` function to plot a particular predictor `X[:,j]` on the x-axis and `y`. This function takes two arguments, `scatter(xaxis_values, yaxis_values)`. **You should only see a trend for `j = 3, 5, 8`.**"
   ],
   "metadata": {}
  },
  {
   "outputs": [],
   "cell_type": "code",
   "source": [
    "# your solution"
   ],
   "metadata": {},
   "execution_count": null
  },
  {
   "cell_type": "markdown",
   "source": [
    "3. Add labels to both axes using the `xlabel` and `ylabel` keywords to `scatter`. The x-axis should read \"independent variable\" and the y-axis should be \"dependent variable\"."
   ],
   "metadata": {}
  },
  {
   "outputs": [],
   "cell_type": "code",
   "source": [
    "# your solution"
   ],
   "metadata": {},
   "execution_count": null
  },
  {
   "cell_type": "markdown",
   "source": [
    "### Exercise 2.13\n",
    "\n",
    "Now we'll use the DataFrames and Statistics packages to do some descriptive statistics.\n",
    "Here we will simply run the existing code cells.\n",
    "\n",
    "1. Load DataFrames and create a DataFrame of `[y X]`."
   ],
   "metadata": {}
  },
  {
   "outputs": [],
   "cell_type": "code",
   "source": [
    "df = DataFrame([y X], :auto) # creates DataFrame with automatic column names"
   ],
   "metadata": {},
   "execution_count": null
  },
  {
   "cell_type": "markdown",
   "source": [
    "2. Let's rename the columns. DataFrames uses `Symbol` objects for the names."
   ],
   "metadata": {}
  },
  {
   "outputs": [],
   "cell_type": "code",
   "source": [
    "colnames = [ Symbol(\"predictor\", i) for i in 1:size(X, 2)-1 ] # create column names for predictors\n",
    "colnames = [:y; colnames; :intercept] # add names for `y` and `intercept`\n",
    "rename!(df, colnames) # do the renaming"
   ],
   "metadata": {},
   "execution_count": null
  },
  {
   "cell_type": "markdown",
   "source": [
    "3. Call the `describe` function on the `DataFrame` `df`. This will give us a nice summary."
   ],
   "metadata": {}
  },
  {
   "outputs": [],
   "cell_type": "code",
   "source": [
    "describe(df)"
   ],
   "metadata": {},
   "execution_count": null
  },
  {
   "cell_type": "markdown",
   "source": [
    "4. (Bonus) Verify the summary statistics from above using the Statistics package. Load Statistics and then call functions like `mean` and `median` on specific columns.\n",
    "You can access a particular column with the dot syntax `df.column` where `column` is a name in the `DataFrame`."
   ],
   "metadata": {}
  },
  {
   "outputs": [],
   "cell_type": "code",
   "source": [
    "# your solution"
   ],
   "metadata": {},
   "execution_count": null
  },
  {
   "cell_type": "markdown",
   "source": [
    "### Exercise 2.14\n",
    "\n",
    "Complete the function below which creates an object to represent our problem.\n",
    "\n",
    "First, load the LinearAlgebra package and search the help system for how to compute the singular value decomposition (SVD) $\\boldsymbol{X} = \\boldsymbol{U} \\boldsymbol{S} \\boldsymbol{V}^{\\top}$.\n",
    "Then complete the following:\n",
    "\n",
    "1. Allocate a vector `β` that has the same length as the number of columns as `X`.\n",
    "2. Create three variables `U`, `s`, and `V` which store the SVD of a matrix `X`.\n",
    "3. Put the variables `y`, `X`, `U`, `s`, `V`, and `β` into a `NamedTuple` with the same field names. Call it `problem`."
   ],
   "metadata": {}
  },
  {
   "outputs": [],
   "cell_type": "code",
   "source": [
    "# First, load the LinearAlgebra package"
   ],
   "metadata": {},
   "execution_count": null
  },
  {
   "outputs": [],
   "cell_type": "code",
   "source": [
    "# Now fill in the blanks\n",
    "function make_regression_problem(y, X)\n",
    "    # 1. compute SVD of X\n",
    "\n",
    "    # 2. allocate vector for coefficients\n",
    "\n",
    "    # 3. use a NamedTuple to store data and represent the problem\n",
    "\n",
    "    return problem\n",
    "end"
   ],
   "metadata": {},
   "execution_count": null
  },
  {
   "cell_type": "markdown",
   "source": [
    "Now we have a way to represent the problem at hand.\n",
    "One way to solve the regression problem is to minimize the least squares criterion\n",
    "\n",
    "$$\n",
    "\\sum_{i=1}^{n} (y_{i} - \\sum_{j=0}^{p} x_{ij} \\beta_{j})^{2},\n",
    "$$\n",
    "\n",
    "that is, the distance between the observed values $y$ and the model's predictions $X \\beta$.\n",
    "However, in some cases a unique solution does not exist.\n",
    "Adding a regularization term to the equation above, $\\lambda \\sum_{j} \\beta_{j}$ restores uniqueness but introduces an additioanl parameter.\n",
    "The next function implements the solution for a particular choice $\\lambda$.\n",
    "\n",
    "$$\n",
    "\\beta = \\sum_{j} \\frac{s_{j}}{s_{j}^{2} + \\lambda} \\boldsymbol{u}_{j}^{\\top} \\boldsymbol{y} \\boldsymbol{v}_{j}.\n",
    "$$"
   ],
   "metadata": {}
  },
  {
   "cell_type": "markdown",
   "source": [
    "### Exercise 2.15\n",
    "\n",
    "Let's implement a function that computes the matrix-vector product $\\boldsymbol{X} \\boldsymbol{β}$ from the `problem` object we created.\n",
    "\n",
    "First, implement a non-allocating `predict!` which uses the fields in `problem` to store `X*β` in `dest`.\n",
    "Don't use `*` directly; use `mul!` from the LinearAlgebra package."
   ],
   "metadata": {}
  },
  {
   "outputs": [],
   "cell_type": "code",
   "source": [
    "function predict!(dest, problem)\n",
    "    # compute X * β and store in dest without creating a temporary array.\n",
    "\n",
    "    return dest\n",
    "end"
   ],
   "metadata": {},
   "execution_count": null
  },
  {
   "cell_type": "markdown",
   "source": [
    "Now implement an allocating version `predict` with a single argument `problem`.\n",
    "Allocate the output for `X*β` and pass to `predict!`."
   ],
   "metadata": {}
  },
  {
   "outputs": [],
   "cell_type": "code",
   "source": [
    "function predict(problem)\n",
    "    # allocate the output array and call predict!\n",
    "end"
   ],
   "metadata": {},
   "execution_count": null
  },
  {
   "cell_type": "markdown",
   "source": [
    "### Exercise 2.16\n",
    "\n",
    "\n",
    "Complete the function below by filling in the missing pieces:\n",
    "\n",
    "Outside the `for` loop:\n",
    "\n",
    "1. Add an optional *positional* argument `λ::Real` that defaults to `1.0`.\n",
    "2. Create local variables for `y`, `U`, `s`, `V` and `β` by extracting them from the `NamedTuple` problem.\n",
    "\n",
    "In the `for` loop:\n",
    "\n",
    "1. Select column `j` in the matrix `U`. Make sure to use `@view` to avoid creating a new vector.\n",
    "2. Select column `j` in the matrix `V`. Make sure to use `@view`.\n",
    "3. Compute the coefficient `c = s[j] / (s[j]^2 + λ) * dot(u, y)`.\n",
    "4. Update $\\beta = \\beta + c \\boldsymbol{v}_{j}$. Avoid creating a temporary array by using broadcasting."
   ],
   "metadata": {}
  },
  {
   "outputs": [],
   "cell_type": "code",
   "source": [
    "function solve_regression!(problem) # 1. add positional argument\n",
    "    # 2. extract variables from problem\n",
    "\n",
    "    # initialize β\n",
    "    for j in eachindex(s)\n",
    "        u = # 1. select column j in U\n",
    "        v = # 2. select column j in V\n",
    "        c = # 3. compute the coefficient that scales v\n",
    "        β = # 4. Update β\n",
    "    end\n",
    "\n",
    "    return β\n",
    "end"
   ],
   "metadata": {},
   "execution_count": null
  },
  {
   "cell_type": "markdown",
   "source": [
    "### Exercise 2.17\n",
    "\n",
    "Let's use a test function to check that our implementation works.\n",
    "We'll use the mean-squared error,\n",
    "\n",
    "$$\\mathrm{MSE}(u, v) = \\frac{1}{n} \\sum_{i}^{n} (u_{i} - v_{i})^{2}$$\n",
    "\n",
    "to check a few things.\n",
    "\n",
    "Implement this function below. Feel free to use broadcasting or loops."
   ],
   "metadata": {}
  },
  {
   "outputs": [],
   "cell_type": "code",
   "source": [
    "function mse(u, v)\n",
    "    # you solution\n",
    "end"
   ],
   "metadata": {},
   "execution_count": null
  },
  {
   "cell_type": "markdown",
   "source": [
    "### Exercise 2.18\n",
    "\n",
    "Now let's actually check."
   ],
   "metadata": {}
  },
  {
   "outputs": [],
   "cell_type": "code",
   "source": [
    "y, X, β = simulate_data(1000, 10) # create an instance of the problem; β is the ground truth\n",
    "problem = make_regression_problem(y, X) # create the problem object\n",
    "solve_regression!(problem) # try solving with different values of λ; default is λ=1.0"
   ],
   "metadata": {},
   "execution_count": null
  },
  {
   "outputs": [],
   "cell_type": "code",
   "source": [
    "mse(y, predict(problem)) # how good is our prediction?"
   ],
   "metadata": {},
   "execution_count": null
  },
  {
   "outputs": [],
   "cell_type": "code",
   "source": [
    "mse(β, problem.β) # how well do we estimate the \"true\" values?"
   ],
   "metadata": {},
   "execution_count": null
  },
  {
   "outputs": [],
   "cell_type": "code",
   "source": [
    "causal_idx = [3,5,8]\n",
    "mse(β[causal_idx], problem.β[causal_idx]) # how about just the \"causal\" ones?"
   ],
   "metadata": {},
   "execution_count": null
  },
  {
   "cell_type": "markdown",
   "source": [
    "### Exercise 2.19 (Bonus)\n",
    "\n",
    "Lastly, the following code will generate a plot that shows how the esimated $\\beta$ changes as $\\lambda$ changes."
   ],
   "metadata": {}
  },
  {
   "outputs": [],
   "cell_type": "code",
   "source": [
    "λs = [10.0 ^ k for k in -2:5]     # this will be our x-axis\n",
    "βs = zeros(length(λs), length(β)) # columns correspond to different series in the plot\n",
    "for (j, λ) in enumerate(λs)\n",
    "    βs[j, :] .= solve_regression!(problem, λ) # place the solution along rows\n",
    "end\n",
    "\n",
    "plot(λs, βs,\n",
    "    xlabel=\"lambda\",\n",
    "    ylabel=\"beta\",\n",
    "    label=[\"1\" \"2\" \"3\" \"4\" \"5\" \"6\" \"7\" \"8\" \"9\" \"10\" \"intercept\"], # has to be a row vector\n",
    "    legend=:outerright, # placement of legend\n",
    "    xscale=:log10,      # log transform the x-axis only\n",
    ")"
   ],
   "metadata": {},
   "execution_count": null
  },
  {
   "cell_type": "markdown",
   "source": [
    "1. Using the code above as a guide, figure out how to plot the MSE between $y$ and the prediction as a funtion of $\\lambda$.\n",
    "2. Do the same for $\\beta$ and the estimated $\\beta$.\n",
    "3. Can you turn your code into a function that handles these two cases? The original case?"
   ],
   "metadata": {}
  },
  {
   "cell_type": "markdown",
   "source": [
    "---\n",
    "\n",
    "*This notebook was generated using [Literate.jl](https://github.com/fredrikekre/Literate.jl).*"
   ],
   "metadata": {}
  }
 ],
 "nbformat_minor": 3,
 "metadata": {
  "language_info": {
   "file_extension": ".jl",
   "mimetype": "application/julia",
   "name": "julia",
   "version": "1.6.1"
  },
  "kernelspec": {
   "name": "julia-1.6",
   "display_name": "Julia 1.6.1",
   "language": "julia"
  }
 },
 "nbformat": 4
}
