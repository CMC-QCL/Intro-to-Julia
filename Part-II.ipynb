{
  "cells": [
    {
      "cell_type": "markdown",
      "source": [
        "# Introduction to Julia: Part II\n\n\n# Agenda\n\n1. More on \"Why Julia?\"\n2. Collections\n    - Arrays\n    - Ranges\n    - Tuples\n    - Dictionaries\n    - Iteration\n3. More on Types\n4. Project: Writing a Root Finding Program\n    - Overview of Newton's Method\n    - Handling Derivatives\n    - Adding Visual Feedback\n5. Additional Topics\n    - Broadcasting\n    - Immutability and Type Stability\n    - More on Function Arguments and Methods\n    - Multiple Dispatch\n\n# More on \"Why Julia?\"\n\nCredit: Arch D. Robison\n\n|   |   |\n|---|---|\n| <img src=\"julia_toolchain.png\" alt=\"julia_toolchain.png\" width=\"400\"/> | <img src=\"julia_introspect.png\" alt=\"julia_introspect.png\" width=\"530\"/> |\n\n**Big Picture**: Julia's *design* uses a robust type system to pass type information to a compiler that can then generate efficient machine code.\n\nThe type system uses *multiple dispatch* to help programmers write generic type-stable code; type-stable code is easy for the compiler to reason about.\n\nOn the surface, Julia syntax looks like any other scripting language because it is quite human readable.\nHowever, Julia code is much more explicit than it appears on the surface.\n\nDr. Chris Rackauckas has [an excellent page](https://ucidatascienceinitiative.github.io/IntroToJulia/Html/JuliaMentalModel) on developing a mental model for Julia:\n\n> **A Mental Model for Julia: Talking to a Scientist**\n> * When you're talking, everything looks general. However, you really mean very specific details determined by context.\n> * You can quickly dig deep into a subject, assuming many rules, theories, and terminology.\n> * Nothing is hidden: if you ever want to hear about every little detail, you can ask.\n> * They will get mad (and throw errors at you) if you begin to be loose with the specific details.\n\nLet's look at an example.\nThe following function computes the sum\n$$x_{1} + x{2} + \\ldots + x_{m} + y_{1} + y_{2} + \\ldots + y_{n}$$"
      ],
      "metadata": {}
    },
    {
      "outputs": [],
      "cell_type": "code",
      "source": [
        "function mysum(x, y)\n    s = zero(x[1])\n\n    for i in eachindex(x)\n        s = s + x[i] # sum up elements of x\n    end\n\n    for j in eachindex(y)\n        s += y[j]    # sum up elements of y\n    end\n\n    return s\nend"
      ],
      "metadata": {},
      "execution_count": null
    },
    {
      "cell_type": "markdown",
      "source": [
        "First check that the function works as intended."
      ],
      "metadata": {}
    },
    {
      "outputs": [],
      "cell_type": "code",
      "source": [
        "x = rand(5) # random vector with 5 elements [x_1, x_2, ..., x_5]\ny = rand(8)\nmysum(x, y) == sum(x) + sum(y)"
      ],
      "metadata": {},
      "execution_count": null
    },
    {
      "cell_type": "markdown",
      "source": [
        "It works when the inputs are different collection types; i.e. `Vector` vs `Tuple`."
      ],
      "metadata": {}
    },
    {
      "outputs": [],
      "cell_type": "code",
      "source": [
        "x = [2, 4, 6] # vector\ny = (1.0, 3.0, 5.0) # tuple\nmysum(x, y) == sum(x) + sum(y)"
      ],
      "metadata": {},
      "execution_count": null
    },
    {
      "cell_type": "markdown",
      "source": [
        "It works for scalars."
      ],
      "metadata": {}
    },
    {
      "outputs": [],
      "cell_type": "code",
      "source": [
        "mysum(1, 1) == 1 + 1"
      ],
      "metadata": {},
      "execution_count": null
    },
    {
      "cell_type": "markdown",
      "source": [
        "It works for vectors of vectors"
      ],
      "metadata": {}
    },
    {
      "outputs": [],
      "cell_type": "code",
      "source": [
        "x = [rand(3), rand(3)]\ny = [rand(3)]\nmysum(x, y) == x[1] + x[2] + y[1]"
      ],
      "metadata": {},
      "execution_count": null
    },
    {
      "cell_type": "markdown",
      "source": [
        "But it fails here and Julia tells you why"
      ],
      "metadata": {}
    },
    {
      "outputs": [],
      "cell_type": "code",
      "source": [
        "x = [rand(3), rand(3)] # Vector of vectors \ny = [(1.0, 3.0, 5.0)] # Vector of tuples\nmysum(x, y) == x[1] + x[2] + y[1]"
      ],
      "metadata": {},
      "execution_count": null
    },
    {
      "cell_type": "markdown",
      "source": [
        "What does Julia do differently in each case?\nYou can ask with tools like `@code_warntype` and `@code_llvm` to see for yourself."
      ],
      "metadata": {}
    },
    {
      "outputs": [],
      "cell_type": "code",
      "source": [
        "@code_warntype mysum(1, 1)"
      ],
      "metadata": {},
      "execution_count": null
    },
    {
      "outputs": [],
      "cell_type": "code",
      "source": [
        "@code_llvm mysum(1, 1)"
      ],
      "metadata": {},
      "execution_count": null
    },
    {
      "outputs": [],
      "cell_type": "code",
      "source": [
        "@code_warntype mysum(rand(3), rand(4))"
      ],
      "metadata": {},
      "execution_count": null
    },
    {
      "outputs": [],
      "cell_type": "code",
      "source": [
        "@code_llvm mysum(rand(3), rand(4))"
      ],
      "metadata": {},
      "execution_count": null
    },
    {
      "cell_type": "markdown",
      "source": [
        "**Takeaway**: You can be verbose or terse with the Julia language, but it's best to be concise.\n\n# Collections\n\nRoughly speaking, a *collection* is simply an object that stores multiple objects; e.g. an object that stores multiple literals.\nThere are several important collections to know in Julia.\nNote that collections can be nested within each other, so it is possible to have an `Array` of `Array`s or a `Dict` of `NamedTuple` objects.\n\nBefore diving into specific examples, you should be aware that collections share so much behavior that Julia defines [interfaces](https://docs.julialang.org/en/v1/manual/interfaces/) to make it easy to work with types that implement these common behaviors.\nExamples of interfaces include:\n\n* *indexing* to access a particular element in a collection, and\n* *iteration* to retrieve data from a collection in a predictable fashion (e.g. first, second, third...).\n\n#### Array\n\nA Julia [`Array`](https://docs.julialang.org/en/v1/base/arrays/) is an indexed collection with a particular shape determined by its dimensions.\nThis means the elements of an `Array` are ordered; it makes sense to speak of \"the first element\" or \"the last element\".\nHere are a few examples:"
      ],
      "metadata": {}
    },
    {
      "outputs": [],
      "cell_type": "code",
      "source": [
        "rand(3)"
      ],
      "metadata": {},
      "execution_count": null
    },
    {
      "outputs": [],
      "cell_type": "code",
      "source": [
        "rand(3, 3)"
      ],
      "metadata": {},
      "execution_count": null
    },
    {
      "outputs": [],
      "cell_type": "code",
      "source": [
        "rand(3, 3, 3)"
      ],
      "metadata": {},
      "execution_count": null
    },
    {
      "cell_type": "markdown",
      "source": [
        "The `Array` type is actually a parametric type -- it defines a *family of types* parameterized by the element type and number of dimensions.\nSpecifically, we have `Array{ElementType, NumberDimensions}`:"
      ],
      "metadata": {}
    },
    {
      "outputs": [],
      "cell_type": "code",
      "source": [
        "?Array"
      ],
      "metadata": {},
      "execution_count": null
    },
    {
      "cell_type": "markdown",
      "source": [
        "Note that `Vector{T}` is an alias for `Array{T,1}` and `Matrix{T}` is an alias for `Array{T,2}`.\n\nInstead of generating random arrays, we can create arrays with specific contents using square brackets `[]`:"
      ],
      "metadata": {}
    },
    {
      "outputs": [],
      "cell_type": "code",
      "source": [
        "x = [10.0, 3.2, sqrt(2)]"
      ],
      "metadata": {},
      "execution_count": null
    },
    {
      "cell_type": "markdown",
      "source": [
        "You can access elements of an `Array` using `x[<index>]`.\n**Note that Julia arrays start at index `1`!!!**."
      ],
      "metadata": {}
    },
    {
      "outputs": [],
      "cell_type": "code",
      "source": [
        "@show x[1] # first element\n@show x[end] # last element"
      ],
      "metadata": {},
      "execution_count": null
    },
    {
      "cell_type": "markdown",
      "source": [
        "If you really hate this for some reason, or your algorithm needs special indexing, you can write your own array type just like in [OffsetArrays.jl](https://github.com/JuliaArrays/OffsetArrays.jl).\n\n\nYou can also create matrices by separating elements in a row by spaces, and indicate a new row by a `;`."
      ],
      "metadata": {}
    },
    {
      "outputs": [],
      "cell_type": "code",
      "source": [
        "y = [1 2 3; 4 5 6; 7 8 9]"
      ],
      "metadata": {},
      "execution_count": null
    },
    {
      "cell_type": "markdown",
      "source": [
        "You can specify a common type, too:"
      ],
      "metadata": {}
    },
    {
      "outputs": [],
      "cell_type": "code",
      "source": [
        "Float32[1 2 3; 4 5 6; 7 8 9]"
      ],
      "metadata": {},
      "execution_count": null
    },
    {
      "cell_type": "markdown",
      "source": [
        "Use linear indices, e.g. `y[2]`, or coordinates, e.g. `y[2,1]` to acces the element `4`:"
      ],
      "metadata": {}
    },
    {
      "outputs": [],
      "cell_type": "code",
      "source": [
        "y[2] == y[2,1]"
      ],
      "metadata": {},
      "execution_count": null
    },
    {
      "cell_type": "markdown",
      "source": [
        "**Julia arrays are column-major, meaning elements are organized as contiguous data along columns**.\nThis means that if you ever need to iterate over the elements of a multi-dimensional arrays, the \"fast\" dimension should be the first dimension."
      ],
      "metadata": {}
    },
    {
      "outputs": [],
      "cell_type": "code",
      "source": [
        "for j in 1:3, i in 1:3 # (j,i) order is favored over (i,j) order\n    println(\"y[$i,$j] = $(y[i,j])\")\nend"
      ],
      "metadata": {},
      "execution_count": null
    },
    {
      "cell_type": "markdown",
      "source": [
        "Lastly, you can select all the elements along a particular dimension using a colon `:`:"
      ],
      "metadata": {}
    },
    {
      "outputs": [],
      "cell_type": "code",
      "source": [
        "y[:, 1] # selects column 1"
      ],
      "metadata": {},
      "execution_count": null
    },
    {
      "outputs": [],
      "cell_type": "code",
      "source": [
        "y[2, :] # selects row 2"
      ],
      "metadata": {},
      "execution_count": null
    },
    {
      "cell_type": "markdown",
      "source": [
        "Julia arrays are mutable, so you can change the contents of a particular location in the array using the assignment operator `=`:"
      ],
      "metadata": {}
    },
    {
      "outputs": [],
      "cell_type": "code",
      "source": [
        "y[3,3] = 100"
      ],
      "metadata": {},
      "execution_count": null
    },
    {
      "outputs": [],
      "cell_type": "code",
      "source": [
        "y"
      ],
      "metadata": {},
      "execution_count": null
    },
    {
      "cell_type": "markdown",
      "source": [
        "Other operations that can mutate an array:"
      ],
      "metadata": {}
    },
    {
      "outputs": [],
      "cell_type": "code",
      "source": [
        "x = Int64[] # empty array of Int64 objects"
      ],
      "metadata": {},
      "execution_count": null
    },
    {
      "outputs": [],
      "cell_type": "code",
      "source": [
        "for j in 1:5\n    push!(x, j) # add an element at the end\nend\n\nx"
      ],
      "metadata": {},
      "execution_count": null
    },
    {
      "outputs": [],
      "cell_type": "code",
      "source": [
        "pop!(x); x # delete the last element"
      ],
      "metadata": {},
      "execution_count": null
    },
    {
      "outputs": [],
      "cell_type": "code",
      "source": [
        "y = rand(3)\n[x; y] # vertical concatenation; equivalent to vcat(x, y)"
      ],
      "metadata": {},
      "execution_count": null
    },
    {
      "outputs": [],
      "cell_type": "code",
      "source": [
        "y = rand(length(x))\n[x y] # horizontal concatenation; equivalent to hcat(x, y)"
      ],
      "metadata": {},
      "execution_count": null
    },
    {
      "outputs": [],
      "cell_type": "code",
      "source": [
        ""
      ],
      "metadata": {},
      "execution_count": null
    },
    {
      "cell_type": "markdown",
      "source": [
        "An `Array` has certain properties, like `length`, `size`, and `eltype`:"
      ],
      "metadata": {}
    },
    {
      "outputs": [],
      "cell_type": "code",
      "source": [
        "A = rand(10, 12)"
      ],
      "metadata": {},
      "execution_count": null
    },
    {
      "outputs": [],
      "cell_type": "code",
      "source": [
        "length(A)"
      ],
      "metadata": {},
      "execution_count": null
    },
    {
      "outputs": [],
      "cell_type": "code",
      "source": [
        "size(A)"
      ],
      "metadata": {},
      "execution_count": null
    },
    {
      "outputs": [],
      "cell_type": "code",
      "source": [
        "eltype(A)"
      ],
      "metadata": {},
      "execution_count": null
    },
    {
      "cell_type": "markdown",
      "source": [
        "#### Ranges\n\nA range is an object that behaves much like an `Array` in that it supports indexing and iteration."
      ],
      "metadata": {}
    },
    {
      "outputs": [],
      "cell_type": "code",
      "source": [
        "0:2:10 # elements from 0 to 10, inclusive, with step length 2"
      ],
      "metadata": {},
      "execution_count": null
    },
    {
      "outputs": [],
      "cell_type": "code",
      "source": [
        "range(0, 10, step=2) # same as before"
      ],
      "metadata": {},
      "execution_count": null
    },
    {
      "cell_type": "markdown",
      "source": [
        "#### Tuples\n\nTuples are similar to arrays in that they are lists of objects, but they do not have a shape.\nThey are creatd using parantheses, `()`."
      ],
      "metadata": {}
    },
    {
      "outputs": [],
      "cell_type": "code",
      "source": [
        "x = (1, 2, 3)"
      ],
      "metadata": {},
      "execution_count": null
    },
    {
      "cell_type": "markdown",
      "source": [
        "Accessing elements works the same as an `Array`:"
      ],
      "metadata": {}
    },
    {
      "outputs": [],
      "cell_type": "code",
      "source": [
        "x[2]"
      ],
      "metadata": {},
      "execution_count": null
    },
    {
      "cell_type": "markdown",
      "source": [
        "But a `Tuple` is immutable"
      ],
      "metadata": {}
    },
    {
      "outputs": [],
      "cell_type": "code",
      "source": [
        "x[2] = 100"
      ],
      "metadata": {},
      "execution_count": null
    },
    {
      "cell_type": "markdown",
      "source": [
        "So why would you use `Tuple`?\nBecause a `Tuple` is immutable, it can be allocated on the stack -- its size is known exactly at compile time.\nIn contrast, an `Array` is mutable so you can change its contents and its size; it is allocated on the heap.\nMoreover, it is possible to make a heterogeneous list -- where elements have different types -- and have operations with the tuple be type-stable."
      ],
      "metadata": {}
    },
    {
      "outputs": [],
      "cell_type": "code",
      "source": [
        "x = (1, \"abc\", 1.4)"
      ],
      "metadata": {},
      "execution_count": null
    },
    {
      "outputs": [],
      "cell_type": "code",
      "source": [
        "y = [x[1], x[2], x[3]]"
      ],
      "metadata": {},
      "execution_count": null
    },
    {
      "outputs": [],
      "cell_type": "code",
      "source": [
        "typeof(x) # element types are known exactly before checking"
      ],
      "metadata": {},
      "execution_count": null
    },
    {
      "outputs": [],
      "cell_type": "code",
      "source": [
        "typeof(y) # element types are only known once we index"
      ],
      "metadata": {},
      "execution_count": null
    },
    {
      "cell_type": "markdown",
      "source": [
        "#### NamedTuples\n\nA `NamedTuple` is similar to a `Tuple` except each field has a specific name.\nYou can create a `NamedTuple` using key-value pairs within `(...):`"
      ],
      "metadata": {}
    },
    {
      "outputs": [],
      "cell_type": "code",
      "source": [
        "z = (a=1.0, b=\"two\", c=3)"
      ],
      "metadata": {},
      "execution_count": null
    },
    {
      "cell_type": "markdown",
      "source": [
        "Access elements using the dot syntax"
      ],
      "metadata": {}
    },
    {
      "outputs": [],
      "cell_type": "code",
      "source": [
        "z.b"
      ],
      "metadata": {},
      "execution_count": null
    },
    {
      "cell_type": "markdown",
      "source": [
        "One particular use case for `NamedTuple` is for packaging several related variables into a single object, without having to write your own type.\n\n#### Dict (Dictionaries)\n\nA [`Dict`](https://docs.julialang.org/en/v1/base/collections/#Dictionaries) in Julia is an object that maps a specific *key* to a unique *value* (key-value pairs).\nVirtually anything can be used as a key or value, but you should prefer using immutable objects as keys to avoid headaches!\n\nOne way to define a `Dict` is by specifying key-value `Pairs`, `<key> => <value>`. Julia will infer the key and value types automatically."
      ],
      "metadata": {}
    },
    {
      "outputs": [],
      "cell_type": "code",
      "source": [
        "d = Dict(\"Alice\" => 25, \"Bob\" => 22)"
      ],
      "metadata": {},
      "execution_count": null
    },
    {
      "cell_type": "markdown",
      "source": [
        "You can recover the value associated with a particular key using the usual indexing notation"
      ],
      "metadata": {}
    },
    {
      "outputs": [],
      "cell_type": "code",
      "source": [
        "d[\"Alice\"]"
      ],
      "metadata": {},
      "execution_count": null
    },
    {
      "cell_type": "markdown",
      "source": [
        "And update its values with assignment"
      ],
      "metadata": {}
    },
    {
      "outputs": [],
      "cell_type": "code",
      "source": [
        "d[\"Bob\"] = 33; d"
      ],
      "metadata": {},
      "execution_count": null
    },
    {
      "cell_type": "markdown",
      "source": [
        "# More on Types\n\nJulia has a flexible [type system](https://docs.julialang.org/en/v1/manual/types/).\nAs we've seen, a \"type\" roughly translates to \"class\" in object oriented programming (OOP).\nIn contrast to OOP, however, Julia types have *very* strict notion of inheritance: you can't extend concrete types.\nHere we won't discuss how polymorphism or design work in Julia, but rather take a closer look at the anatomy of types.\n\nThere are three main classes of types to be aware of as you start with the language:\n\n1. Composite Types: Types that combine other data types.\n2. Parametric Types: Types that define a *family* of types, parameterized by some variables.\n3. Abstract Types: These are just \"nodes\" in a hierarchy. You can define functions with them or use them in type annotations, but you cannot make instances.\nFor example, an `Int` is a subtype of `Real` so it sits somewhere in a hierarchy including both types.\n\nImportantly, types can be defined at any point in time, but their structure cannot be changed once defined.\nThis means:\n\n- You can edit functions that use a particular type, but not change what fields are part of the type after it's been defined.\n- You can update a type's constructors. For our purposes, a constructor is merely a function that creates an instance of a type.\n\nIn the following code, note that `<name>::<type>` is a *type annotation* which declares that a particular variable has a certain type.\nType annotations can be used anywhere, including\n\n- function signatures, which limit the type of arguments that can go into the function, and\n- code blocks/function bodies, which enforce that an object must have a certain type."
      ],
      "metadata": {}
    },
    {
      "outputs": [],
      "cell_type": "code",
      "source": [
        "struct Point2D # define an (immutable) type named Point2D\n    x::Float64 # has a field x which is a Float64\n    y::Float64 # has a field y which is a Float64\nend"
      ],
      "metadata": {},
      "execution_count": null
    },
    {
      "outputs": [],
      "cell_type": "code",
      "source": [
        "Point2D(1.0, 0.0) # Julia automatically defines a constructor for you"
      ],
      "metadata": {},
      "execution_count": null
    },
    {
      "outputs": [],
      "cell_type": "code",
      "source": [
        "struct ParPoint2D{T <: Real} # define a type family where type T must be a subtype Real number\n    x::T # has a field x, which has type T\n    y::T # has a field y, which is ALSO type T\nend"
      ],
      "metadata": {},
      "execution_count": null
    },
    {
      "outputs": [],
      "cell_type": "code",
      "source": [
        "ParPoint2D(0,0) # type parameter automatically inferred"
      ],
      "metadata": {},
      "execution_count": null
    },
    {
      "outputs": [],
      "cell_type": "code",
      "source": [
        "ParPoint2D{Float64}(0, 0) # note the automatic conversion"
      ],
      "metadata": {},
      "execution_count": null
    },
    {
      "cell_type": "markdown",
      "source": [
        "We can define a no-argument constructor that defaults to the origin.\nNote that here we must specify the type parameter using `{T}` and state that `T` is a free parameter using `where`.\nWriting `where T` roughly translates to `where T <: Any` but we could also restrict `where T <: Real` if we want."
      ],
      "metadata": {}
    },
    {
      "outputs": [],
      "cell_type": "code",
      "source": [
        "ParPoint2D{T}() where T = ParPoint2D{T}(zero(T), zero(T))."
      ],
      "metadata": {},
      "execution_count": null
    },
    {
      "cell_type": "markdown",
      "source": [
        "Note that this generic version works for many data types:"
      ],
      "metadata": {}
    },
    {
      "outputs": [],
      "cell_type": "code",
      "source": [
        "@show ParPoint2D{Float64}()\n@show ParPoint2D{Int}()"
      ],
      "metadata": {},
      "execution_count": null
    },
    {
      "cell_type": "markdown",
      "source": [
        "The alternative would be to write a no-argument constructor for every possible type value for `T`; e.g. `ParPoint{Float64} = ParPoint(0.0, 0.0)` which is tedious.\nThe generic version is guaranteed to work for any subtype of `Real`, *even types that did not exist when we implemented our type*.\n\nOne of the benefits of the Julia language is the ability to overload standard functions to take advantage of composition.\nFor example, it's possible to define a notion of addition with points by overloading `+`:"
      ],
      "metadata": {}
    },
    {
      "outputs": [],
      "cell_type": "code",
      "source": [
        "import Base: + # existing functions must imported explicitly in order to overload them \n\nfunction Base.:+(A::ParPoint2D, B::ParPoint2D) # we could specify type parameters but there's no need\n    return ParPoint2D(A.x + B.x, A.y + B.y)\nend\n\nParPoint2D(1,1) + ParPoint2D(2,1)"
      ],
      "metadata": {},
      "execution_count": null
    },
    {
      "cell_type": "markdown",
      "source": [
        "Now anything that relies on `+` \"just works\":"
      ],
      "metadata": {}
    },
    {
      "outputs": [],
      "cell_type": "code",
      "source": [
        "list = [ParPoint2D(1,1), ParPoint2D(2,1), ParPoint2D(3,0)]\nsum(list)"
      ],
      "metadata": {},
      "execution_count": null
    },
    {
      "cell_type": "markdown",
      "source": [
        "# Projects\n\n### Newtons' Method\n\nNewton's method, also known as the Newton-Raphsons method, is an *iterative* technique that computes *roots* of a given function by exploiting information about its shape.\nA root of $f$, or a zero of $f$, is simply a value $x$ such that $f(x) = 0$.\nGiven a function $f$ with derivative $f^\\prime$, the algorithm can be summarized succintly as\n$$\n\\underset{\\text{next value in sequence}}{x_{k+1}}\n=\n\\underset{\\text{current value in sequence}}{x_{k}}\n-\n\\underset{\\text{Newton direction}}{\\frac{ f(x_{k}) }{ f^\\prime(x_{k}) }}.\n$$\nStarting from some initial guess for the root, $x_{0}$, one applies the rule above several times until the procedure converges to some specified tolerance level."
      ],
      "metadata": {}
    },
    {
      "outputs": [],
      "cell_type": "code",
      "source": [
        "function newton(f, df, x0; niters::Int=100, tol::Real=1e-2)\n    # initialize\n    f_init  = f(x0)                      # initial value for function values, f(x_0)\n    df_init = df(x0)                     # initial value for derivative values, f'(x_0)\n    f_prev  = typemax(f_init)            # previous function value, f(x_k)\n    f_cur   = f_init                     # current function value, f(x_k+1)\n    df_prev = typemax(f_init)            # previous function value, f'(x_k)\n    df_cur  = df_init                    # current function value, f'(x_k+1)\n    T = typeof(one(f_cur) / one(f_prev)) # infer common type\n    x = convert(T, x0)                   # current iterate\n    converged  = false                   # indicates whether we have achieved required tolerance\n    iterations = 0                       # track the number of iterations taken\n\n    for iter in 1:niters\n        # iterate\n        x_prev = x\n        x = x - f_cur / df_cur\n\n        # update state\n        f_prev  = f_cur\n        df_prev = df_cur\n        f_cur   = f(x)\n        df_cur  = df(x)\n\n        # check convergence\n        converged = abs(f_cur - f_prev) < tol * (f_prev + 1)\n        iterations += 1\n\n        converged && break\n    end\n\n    return (x, iterations, converged)\nend"
      ],
      "metadata": {},
      "execution_count": null
    },
    {
      "outputs": [],
      "cell_type": "code",
      "source": [
        "g(x) = x^2\ndg(x) = 2*x\nnewton(g, dg, 4.0, tol=1e-16)"
      ],
      "metadata": {},
      "execution_count": null
    },
    {
      "cell_type": "markdown",
      "source": [
        "### Handling Derivatives\n\nBut what if you don't know all the calculus rules, or your function simply has a derivative that is hard to write down?\n\nFortunately, there are a number of techniques to\n- compute derivatives exactly (automatic differentation),\n- derive symbolic expressions (symbolic differentiation), and\n- approximate derivatives numerically (finite differences)."
      ],
      "metadata": {}
    },
    {
      "outputs": [],
      "cell_type": "code",
      "source": [
        "f(x) = tan(x)^2"
      ],
      "metadata": {},
      "execution_count": null
    },
    {
      "cell_type": "markdown",
      "source": [
        "#### Exact derivatives with ForwardDiff.jl"
      ],
      "metadata": {}
    },
    {
      "outputs": [],
      "cell_type": "code",
      "source": [
        "using ForwardDiff"
      ],
      "metadata": {},
      "execution_count": null
    },
    {
      "outputs": [],
      "cell_type": "code",
      "source": [
        "fderiv1(x) = ForwardDiff.derivative(f, x)"
      ],
      "metadata": {},
      "execution_count": null
    },
    {
      "outputs": [],
      "cell_type": "code",
      "source": [
        "f(2)"
      ],
      "metadata": {},
      "execution_count": null
    },
    {
      "outputs": [],
      "cell_type": "code",
      "source": [
        "fderiv1(2)"
      ],
      "metadata": {},
      "execution_count": null
    },
    {
      "outputs": [],
      "cell_type": "code",
      "source": [
        "xs = range(-1, 1, step=1e-2)\nplot(xs, [f, fderiv1],\n    label=[\"f(x)\" \"f'(x)\"],\n    legend=:outerright,\n    linewidth=3,\n)"
      ],
      "metadata": {},
      "execution_count": null
    },
    {
      "cell_type": "markdown",
      "source": [
        "#### Approximate derivatives with FiniteDifferences.jl"
      ],
      "metadata": {}
    },
    {
      "outputs": [],
      "cell_type": "code",
      "source": [
        "using FiniteDifferences"
      ],
      "metadata": {},
      "execution_count": null
    },
    {
      "outputs": [],
      "cell_type": "code",
      "source": [
        "fderiv2(x) = FiniteDifferences.central_fdm(2, 1)(f, x)"
      ],
      "metadata": {},
      "execution_count": null
    },
    {
      "outputs": [],
      "cell_type": "code",
      "source": [
        "f(2)"
      ],
      "metadata": {},
      "execution_count": null
    },
    {
      "outputs": [],
      "cell_type": "code",
      "source": [
        "fderiv2(2)"
      ],
      "metadata": {},
      "execution_count": null
    },
    {
      "outputs": [],
      "cell_type": "code",
      "source": [
        "xs = range(-1, 1, step=1e-2)\nplot(xs, [f, fderiv2],\n    label=[\"f(x)\" \"f'(x)\"],\n    legend=:outerright,\n    linewidth=3,\n)"
      ],
      "metadata": {},
      "execution_count": null
    },
    {
      "cell_type": "markdown",
      "source": [
        "#### Automatic Differenations vs Finite Differences"
      ],
      "metadata": {}
    },
    {
      "outputs": [],
      "cell_type": "code",
      "source": [
        "abs(fderiv1(2) - fderiv2(2))"
      ],
      "metadata": {},
      "execution_count": null
    },
    {
      "cell_type": "markdown",
      "source": [
        "### Exercise: Write a function that compares forward mode AD with central finite differences.\n\n#### Inputs:\n- A function, call it `f`.\n- A list of values, `xvalues`, at which to compare the two methods.\n\n#### Outputs:\n\nA single `DataFrame` with the following columns:\n\n- `x`, which denotes the value at which to evalute the requested quantities.\n- `f`, which represents the function value at a given point `x`.\n- `FAD`, the value of the derivative based on ForwardDiff.jl.\n- `CFD`, the value of the derivative based on the central differences method in FiniteDifferences.jl.\n- `diff`, the absolute difference between the two methods.\n\n**Bonus**\n\n- Sort the data in ascending order based on the `x` column.\n- Avoid the `push!` operation in the given `for` loop.\n- Avoid writing an explicit `for` loop."
      ],
      "metadata": {}
    },
    {
      "outputs": [],
      "cell_type": "code",
      "source": [
        "function compare_derivatives(f, xvalues)\n    # 1. Create objects that represent derivatives in ForwardDiff.jl and FiniteDifferences.jl.\n    fp_FAD = x -> ForwardDiff.derivative(f, x)\n    fp_CFD = x -> FiniteDifferences.central_fdm(2, 1)(f, x)\n    \n    # 2. Create objects to store different quantities.\n    val_func = Float64[]\n    val_FAD  = Float64[] # Your code goes here\n    val_CFD  = Float64[] # Hint: What data types are useful for representing lists or sequences?\n    val_diff = Float64[]\n    \n    # 3. Compute the requested quantities for the summary.\n    for x in xvalues\n        push!(val_func, f(x))\n        push!(val_FAD, fp_FAD(x)) # Your code goes here.\n        push!(val_CFD, fp_CFD(x))\n        push!(val_diff, abs(fp_FAD(x) - fp_CFD(x)))\n    end\n        \n    # 4. Put everything into a DataFrame.\n    df = DataFrame(x=xvalues, f=val_func, FAD=val_FAD, CFD=val_CFD, diff=val_diff) # Your code goes here.\n    \n    # 5. Return the DataFrame object.\n    return df # Your code goes here.\nend"
      ],
      "metadata": {},
      "execution_count": null
    },
    {
      "outputs": [],
      "cell_type": "code",
      "source": [
        "test_func1(x) = x^2\nxvalues = randn(5)\n\ncompare_derivatives(test_func1, xvalues)"
      ],
      "metadata": {},
      "execution_count": null
    },
    {
      "outputs": [],
      "cell_type": "code",
      "source": [
        "test_func2(x) = sin(x) / x\nxvalues = [k*π/8 for k in 1:7]\n\ncompare_derivatives(test_func2, xvalues)"
      ],
      "metadata": {},
      "execution_count": null
    },
    {
      "cell_type": "markdown",
      "source": [
        "### Adding Visual Feedback\n\nNow let's add a way to track progress in Newton's method.\nThe easiest way to do this would be to print a few values using `print` or `println`.\nHere we will try to make our program modular by adding a step in the program that delegates the logging functionality to some other tiny program.\nWe will do this using what is known as a *function callback* -- a function passed to our program that will be called at some point using data from the Newton program.\n\nIn our code, we will add an argument, `cb`, which will be a *variable bound to a particular function*.\nThe underlying function will accept three arguments; that is, calling it will look like:"
      ],
      "metadata": {}
    },
    {
      "outputs": [],
      "cell_type": "code",
      "source": [
        "cb(f, df, info)"
      ],
      "metadata": {},
      "execution_count": null
    },
    {
      "cell_type": "markdown",
      "source": [
        "where `f` is the function whose root we are interested in, `df` is the derivative of `f`, and `info` is an object that contains extra information.\nIn this case, we will use a `NamedTuple` to store information about the state of the algorithm (see the code below)."
      ],
      "metadata": {}
    },
    {
      "outputs": [],
      "cell_type": "code",
      "source": [
        "function newton(f, df, x0; niters::Int=100, tol::Real=1e-2, cb::Function=DEFAULT_CB) # note the extra argument\n    # initialize\n    f_init  = f(x0)                      # initial value for function values, f(x_0)\n    df_init = df(x0)                     # initial value for derivative values, f'(x_0)\n    f_prev  = typemax(f_init)            # previous function value, f(x_k)\n    f_cur   = f_init                     # current function value, f(x_k+1)\n    df_prev = typemax(f_init)            # previous function value, f'(x_k)\n    df_cur  = df_init                    # current function value, f'(x_k+1)\n    T = typeof(one(f_cur) / one(f_prev)) # infer common type\n    x = convert(T, x0)                   # current iterate\n    converged  = false                   # indicates whether we have achieved required tolerance\n    iterations = 0                       # track the number of iterations taken\n\n    for iter in 1:niters\n        # iterate\n        x_prev = x\n        x = x - f_cur / df_cur\n\n        # update state\n        f_prev  = f_cur\n        df_prev = df_cur\n        f_cur   = f(x)\n        df_cur  = df(x)\n\n        # package information into a NamedTuple?\n        info = (\n                iter=iter,\n                x_cur=x,\n                x_prev=x_prev,\n                f_cur=f_cur,\n                f_prev=f_prev,\n                df_cur=df_cur,\n                df_prev=df_prev,\n        )\n        \n        # execute the callback\n        cb(f, df, info)\n\n        # check convergence\n        converged = abs(f_cur - f_prev) < tol\n        iterations += 1\n\n        converged && break\n    end\n\n    return (x, iterations, converged)\nend\n\n# implement a default behavior for callback\nDEFAULT_CB(f, df, info) = nothing"
      ],
      "metadata": {},
      "execution_count": null
    },
    {
      "cell_type": "markdown",
      "source": [
        "Check that everything still works:"
      ],
      "metadata": {}
    },
    {
      "outputs": [],
      "cell_type": "code",
      "source": [
        "newton(g, dg, 4.0, tol=1e-8)"
      ],
      "metadata": {},
      "execution_count": null
    },
    {
      "cell_type": "markdown",
      "source": [
        "Now let's write a program that displays\n\n1. the current iteration number,\n2. the current estimate for the root, `x`, and\n3. the current function value, `f(x)`.\n\nWe will use the `Printf` module to help us format our strings.\nTo understand the formatting, note that:\n\n- `\\t`: denotes a *tab character*.\n- `\\n`: denotes a *newline character*.\n- `%3d`: denotes a number with 3 digits.\n- `.8f`: denotes a floating point number has 8 digits after the decimal."
      ],
      "metadata": {}
    },
    {
      "outputs": [],
      "cell_type": "code",
      "source": [
        "using Printf"
      ],
      "metadata": {},
      "execution_count": null
    },
    {
      "outputs": [],
      "cell_type": "code",
      "source": [
        "function print_cb(f, df, info)\n    x, fx, iter = info.x_cur, info.f_cur, info.iter\n\n    # add a header for the first iteration\n    iter == 1 && println(\"iter\\tx\\t\\tf(x)\")\n\n    # print iteration, x value, and f(x) value\n    @printf \"%3d\\t%.8f\\t%.8f\\n\" iter x fx\n\n    return nothing\nend"
      ],
      "metadata": {},
      "execution_count": null
    },
    {
      "outputs": [],
      "cell_type": "code",
      "source": [
        "newton(g, dg, 4.0, tol=1e-8, cb=print_cb)"
      ],
      "metadata": {},
      "execution_count": null
    },
    {
      "cell_type": "markdown",
      "source": [
        "Our printing callback works as expected, but doing any analysis with the information printed out is cumbersome: you have to copy the information from your screen.\n\nNext, we will implement a callback that actually stores the information for later use within Julia.\nIn order to avoid modifying our Newton's method program any further, we will use a slightly more advanced concept called a *closure*.\nSpecifically, we want to implement a function that stores information inside two arrays, but we need those arrays to be scoped within the calling function."
      ],
      "metadata": {}
    },
    {
      "outputs": [],
      "cell_type": "code",
      "source": [
        "# define the type, which is defined as a subtype of function so that it behaves like a function\nstruct MyLoggingCB{T} <: Function\n    xvals::Vector{T} # the first field will store the x values\n    fvals::Vector{T} # the second field will store the f(x) values\nend\n\n# provide a constructor to initialize both fields with empty arrays.\nMyLoggingCB{T}() where T = MyLoggingCB(T[], T[])\n\n# implement the desired behavior\nfunction (cb::MyLoggingCB)(f, df, info)\n    # flush if this is the first call\n    if info.iter == 1\n        empty!(cb.xvals)\n        empty!(cb.fvals)\n    end\n\n    # log the data\n    push!(cb.xvals, info.x_cur)\n    push!(cb.fvals, info.f_cur)\n\n    return nothing\nend"
      ],
      "metadata": {},
      "execution_count": null
    },
    {
      "outputs": [],
      "cell_type": "code",
      "source": [
        "mycb = MyLoggingCB{Float64}()\nnewton(g, dg, 4.0, tol=1e-8, cb=mycb)"
      ],
      "metadata": {},
      "execution_count": null
    },
    {
      "outputs": [],
      "cell_type": "code",
      "source": [
        "xmin, xmax = extrema(mycb.xvals)\nxs = range(xmin, xmax, length=1000)\n\nplot(xs, g, lw=3, label=\"g(x)\", legend=:outerright)\nplot!(mycb.xvals, mycb.fvals, xlab=\"x\", ylab=\"g(x)\", label=\"path\", arrow=true, lw=3, linestyle=:dash)"
      ],
      "metadata": {},
      "execution_count": null
    },
    {
      "outputs": [],
      "cell_type": "code",
      "source": [
        "# using Pkg; Pkg.add(\"Plots\")\nusing Plots\n\nstruct MyPlottingCB{T} <: Function\n    log::MyLoggingCB{T}\nend\n\nMyPlottingCB{T}() where T = MyPlottingCB{T}(MyLoggingCB{T}())\n\nfunction (cb::MyPlottingCB)(f, df, info)\n    # first log the new data\n    cb.log(f, df, info)\n\n    # now show a plot\n    fig = plot(1:length(cb.log.fvals), cb.log.fvals, xlab=\"iteration\", ylab=\"f(x)\", lw=3)\n    scatter!(1:length(cb.log.fvals), cb.log.fvals, legend=false, lw=0)\n    \n    # sleep a little so we can see that it happens as the algorithm progresses\n    sleep(0.5)\n\n    # make sure the figure is displayed\n    display(fig)\n\n    return nothing\nend"
      ],
      "metadata": {},
      "execution_count": null
    },
    {
      "outputs": [],
      "cell_type": "code",
      "source": [
        "mycb = MyPlottingCB{Float64}()\nnewton(g, dg, 4.0, tol=1e-8, cb=mycb)"
      ],
      "metadata": {},
      "execution_count": null
    },
    {
      "cell_type": "markdown",
      "source": [
        "# Additional Topics\n\n### Broadcasting\n\nThe `.` symbol has a special meaning in Julia in that it is reserved for two operations: accessing fields of a type, or *broadcasting*.\nRoughly speaking, *broadcasting* allows you to apply functions to elements of a collection individually using a concise syntax.\n\nFor example we can do elementwise-multiplication:"
      ],
      "metadata": {}
    },
    {
      "outputs": [],
      "cell_type": "code",
      "source": [
        "x = [1, 2, 3]\ny = [12, 6, 4]\n\nx .* y"
      ],
      "metadata": {},
      "execution_count": null
    },
    {
      "cell_type": "markdown",
      "source": [
        "This works for *any* function, not just operators:"
      ],
      "metadata": {}
    },
    {
      "outputs": [],
      "cell_type": "code",
      "source": [
        "function foo(x)\n    return x * sqrt(2)\nend"
      ],
      "metadata": {},
      "execution_count": null
    },
    {
      "outputs": [],
      "cell_type": "code",
      "source": [
        "foo.(x)"
      ],
      "metadata": {},
      "execution_count": null
    },
    {
      "cell_type": "markdown",
      "source": [
        "Julia will try to reason about functions supporting multiple arguments where possible:"
      ],
      "metadata": {}
    },
    {
      "outputs": [],
      "cell_type": "code",
      "source": [
        "function bar(x, y)\n    return x + sqrt(y)\nend"
      ],
      "metadata": {},
      "execution_count": null
    },
    {
      "outputs": [],
      "cell_type": "code",
      "source": [
        "bar.(x, y)"
      ],
      "metadata": {},
      "execution_count": null
    },
    {
      "outputs": [],
      "cell_type": "code",
      "source": [
        "z = 4 * ones(5)"
      ],
      "metadata": {},
      "execution_count": null
    },
    {
      "outputs": [],
      "cell_type": "code",
      "source": [
        "bar.(x, z)"
      ],
      "metadata": {},
      "execution_count": null
    },
    {
      "cell_type": "markdown",
      "source": [
        "Adding `.` everywhere can become tedious in a complicated expression, so Julia provides a special `@.` *macro* to automatically add broadasting to an expression:"
      ],
      "metadata": {}
    },
    {
      "outputs": [],
      "cell_type": "code",
      "source": [
        "z = rand(3)"
      ],
      "metadata": {},
      "execution_count": null
    },
    {
      "outputs": [],
      "cell_type": "code",
      "source": [
        "@. x * y + z"
      ],
      "metadata": {},
      "execution_count": null
    },
    {
      "outputs": [],
      "cell_type": "code",
      "source": [
        "w = zeros(3)\n\nfor i in eachindex(w) # eachindex(w) is preferred style over 1:length(w)\n    w[i] = x[i] * y[i] + z[i] # equivalent version\nend\n\nw"
      ],
      "metadata": {},
      "execution_count": null
    },
    {
      "cell_type": "markdown",
      "source": [
        "### Macros to know about\n\n*Macros* in Julia are functions that transform Julia code into other Julia code.\nThis is possible in part because Julia is written in Julia itself, using `Symbol` and `Expr` objects.\nFor example:"
      ],
      "metadata": {}
    },
    {
      "outputs": [],
      "cell_type": "code",
      "source": [
        "ex = :(1 + 3) # the : symbol can be used to define a symbol or expression"
      ],
      "metadata": {},
      "execution_count": null
    },
    {
      "outputs": [],
      "cell_type": "code",
      "source": [
        "typeof(ex)"
      ],
      "metadata": {},
      "execution_count": null
    },
    {
      "outputs": [],
      "cell_type": "code",
      "source": [
        "ex.head"
      ],
      "metadata": {},
      "execution_count": null
    },
    {
      "outputs": [],
      "cell_type": "code",
      "source": [
        "ex.args"
      ],
      "metadata": {},
      "execution_count": null
    },
    {
      "outputs": [],
      "cell_type": "code",
      "source": [
        "eval(ex) # evaluate the expression; you almost never have to use something like this in your code"
      ],
      "metadata": {},
      "execution_count": null
    },
    {
      "cell_type": "markdown",
      "source": [
        "The `@time` macro is useful for timing parts of your code.\nTo undrestand what we mean by code transformation, the `@time` macro is roughly equivalent to"
      ],
      "metadata": {}
    },
    {
      "outputs": [],
      "cell_type": "code",
      "source": [
        "t1 = time() # get time in seconds\nsleep(0.1) # do something\nt2 = time() # get new time in seconds\n(t2 - t1) # get time elapsed"
      ],
      "metadata": {},
      "execution_count": null
    },
    {
      "outputs": [],
      "cell_type": "code",
      "source": [
        "@time sleep(0.1); # includes information about memory allocation"
      ],
      "metadata": {},
      "execution_count": null
    },
    {
      "cell_type": "markdown",
      "source": [
        "Macros are quite an advanced topic, but here we will simply mention a few macros and describe their use:\n\n1. `@time`: time a line of code (can be used on functions); see also [BenchmarkTools.jl](https://github.com/JuliaCI/BenchmarkTools.jl) for more rigorous benchmarking.\n2. `@show`: force displaying of a variable or expression\n3. `@inbounds`: turn off bounds-checking on arrays within an expression (use with extreme care!)\n4. `@code_warntype`: useful for checking Julia code for type stability\n5. `@.`: Add `.` to functions in an expression to induce broadcasting\n6. `@assert`: Check that an expression evaluates to true; otherwise throw an error.\n\n### (Im)mutability and function name conventions\n\nEvery type in Julia is either *mutable* or *immutable*.\nA type is said to be *mutable* if you are allowed to change its contents.\nIn contrast, *immutable* objects cannot have their contents changed.\n\nFor example, if we create a variable that stores the number `1` we can bind the variable to a new value *but its contents do not change* because it is immutable.\nLet's illustrate this by writing a wrapper type for `Int`:"
      ],
      "metadata": {}
    },
    {
      "outputs": [],
      "cell_type": "code",
      "source": [
        "struct MyInt # structs are immutable\n    value::Int\nend"
      ],
      "metadata": {},
      "execution_count": null
    },
    {
      "outputs": [],
      "cell_type": "code",
      "source": [
        "x = MyInt(1)"
      ],
      "metadata": {},
      "execution_count": null
    },
    {
      "outputs": [],
      "cell_type": "code",
      "source": [
        "x.value = 2"
      ],
      "metadata": {},
      "execution_count": null
    },
    {
      "outputs": [],
      "cell_type": "code",
      "source": [
        "mutable struct MutableInt\n    value::Int\nend"
      ],
      "metadata": {},
      "execution_count": null
    },
    {
      "outputs": [],
      "cell_type": "code",
      "source": [
        "y = MutableInt(1)"
      ],
      "metadata": {},
      "execution_count": null
    },
    {
      "outputs": [],
      "cell_type": "code",
      "source": [
        "y.value = 2"
      ],
      "metadata": {},
      "execution_count": null
    },
    {
      "outputs": [],
      "cell_type": "code",
      "source": [
        "y"
      ],
      "metadata": {},
      "execution_count": null
    },
    {
      "cell_type": "markdown",
      "source": [
        "Given this behavior, you may naturally wonder how objects may or may not change if one attempts to mutate them inside a function."
      ],
      "metadata": {}
    },
    {
      "outputs": [],
      "cell_type": "code",
      "source": [
        "a = [1.0, 2, 3]"
      ],
      "metadata": {},
      "execution_count": null
    },
    {
      "outputs": [],
      "cell_type": "code",
      "source": [
        "function mutate_second_element(x)\n    x[2] = sqrt(2) # this is MUTATION! it is shorthand for setfield!(x, new_value, index)\nend"
      ],
      "metadata": {},
      "execution_count": null
    },
    {
      "outputs": [],
      "cell_type": "code",
      "source": [
        "mutate_second_element(a)"
      ],
      "metadata": {},
      "execution_count": null
    },
    {
      "outputs": [],
      "cell_type": "code",
      "source": [
        "a"
      ],
      "metadata": {},
      "execution_count": null
    },
    {
      "outputs": [],
      "cell_type": "code",
      "source": [
        "@which a[2] = sqrt(2)"
      ],
      "metadata": {},
      "execution_count": null
    },
    {
      "outputs": [],
      "cell_type": "code",
      "source": [
        "function assign_and_mutate_second_element(x)\n    y = x # this is ASSIGNMENT\n    y[2] = sqrt(3) # this is MUTATION\nend"
      ],
      "metadata": {},
      "execution_count": null
    },
    {
      "outputs": [],
      "cell_type": "code",
      "source": [
        "assign_and_mutate_second_element(a)"
      ],
      "metadata": {},
      "execution_count": null
    },
    {
      "outputs": [],
      "cell_type": "code",
      "source": [
        "a"
      ],
      "metadata": {},
      "execution_count": null
    },
    {
      "cell_type": "markdown",
      "source": [
        "To understand this example, remember that `=` by itself simply *binds* a value to a particular symbol.\nSo, `y = x` simply means that the data attached to `x` is now also attached to `y`; no new copy is created.\nMutating the data attached to `y` is equivalent to mutating `x`.\n\nWe can test this with another example:"
      ],
      "metadata": {}
    },
    {
      "outputs": [],
      "cell_type": "code",
      "source": [
        "function copy_and_mutate_second_element(x)\n    y = copy(x) # assign y a copy of the data in x\n    y[2] = sqrt(17)\nend"
      ],
      "metadata": {},
      "execution_count": null
    },
    {
      "outputs": [],
      "cell_type": "code",
      "source": [
        "copy_and_mutate_second_element(a)"
      ],
      "metadata": {},
      "execution_count": null
    },
    {
      "outputs": [],
      "cell_type": "code",
      "source": [
        "a"
      ],
      "metadata": {},
      "execution_count": null
    },
    {
      "cell_type": "markdown",
      "source": [
        "**To help programmers understand that objects will be mutated after calling a particular function, we use the convention of adding `!` to the end of a mutating function**. This lets users know that a function will mutate some arguments. Usually, we put the mutated arguments on the left of the function signature.\n\nIn fact, it is a common pattern in Julia to separate a function into allocating and non-allocating versions:"
      ],
      "metadata": {}
    },
    {
      "outputs": [],
      "cell_type": "code",
      "source": [
        "function compute_partial_sums(x)\n    # create an Array with the same shape as x, but filled with zero(eltype(x)). \n    partial = zero(x)\n    \n    # do the actual work, storing the result in partial\n    # we return whatever this function evaluates to\n    compute_partial_sums!(partial, x)\nend"
      ],
      "metadata": {},
      "execution_count": null
    },
    {
      "outputs": [],
      "cell_type": "code",
      "source": [
        "function compute_partial_sums!(partial, x) # use convention; has ! and mutated argument is the first\n    for i in eachindex(x)\n        prev = i > 1 ? partial[i-1] : zero(eltype(x))\n        partial[i] = prev + x[i]\n    end\n    return partial\nend"
      ],
      "metadata": {},
      "execution_count": null
    },
    {
      "outputs": [],
      "cell_type": "code",
      "source": [
        "x = [1, 1, 1, 1]"
      ],
      "metadata": {},
      "execution_count": null
    },
    {
      "outputs": [],
      "cell_type": "code",
      "source": [
        "compute_partial_sums(x)"
      ],
      "metadata": {},
      "execution_count": null
    },
    {
      "cell_type": "markdown",
      "source": [
        "This is essentially what the `cumsum` (cumulative sum) function does:"
      ],
      "metadata": {}
    },
    {
      "outputs": [],
      "cell_type": "code",
      "source": [
        "cumsum(x)"
      ],
      "metadata": {},
      "execution_count": null
    },
    {
      "outputs": [],
      "cell_type": "code",
      "source": [
        "partial = zero(x)\ncumsum!(partial, x)\npartial"
      ],
      "metadata": {},
      "execution_count": null
    },
    {
      "cell_type": "markdown",
      "source": [
        "### Type stability\n\nA block of code, such as a function, is said to be *type-stable* if Julia is able to determine the types of all variables at compile time.\nHaving complete type information allows Julia's compiler to automatically generate efficient code that runs on your machine.\nYou can investigate type stability using the `@code_warntype` macro, which will highlight potential type instability in red (serious) and yellow (okay)."
      ],
      "metadata": {}
    },
    {
      "outputs": [],
      "cell_type": "code",
      "source": [
        "function silly_example(x)\n    if x < 10\n        return \"ten\"\n    else\n        return x\n    end\nend"
      ],
      "metadata": {},
      "execution_count": null
    },
    {
      "outputs": [],
      "cell_type": "code",
      "source": [
        "silly_example(1)"
      ],
      "metadata": {},
      "execution_count": null
    },
    {
      "outputs": [],
      "cell_type": "code",
      "source": [
        "silly_example(12.3)"
      ],
      "metadata": {},
      "execution_count": null
    },
    {
      "outputs": [],
      "cell_type": "code",
      "source": [
        "@code_warntype silly_example(1)"
      ],
      "metadata": {},
      "execution_count": null
    },
    {
      "cell_type": "markdown",
      "source": [
        "Here the annotation with `Union{Int64,String}` means that the return value is either a `Int64` or a `String`, which is called a *type union*.\nJulia handles minor type stability violations by introducing type unions to limit the possible space of return types.\nIn the *worst case* the return type will be `Any`, the catch-all when Julia is unable to infer any type information.\n\nLet's look at a more realistic example.\nHere we have a function that computes the sum of an array:"
      ],
      "metadata": {}
    },
    {
      "outputs": [],
      "cell_type": "code",
      "source": [
        "function mysum(x)\n    value = 0 # initialize\n    for i in eachindex(x) # iterate over the indices in x\n        value = value + x[i] # sum\n    end\n    return value\nend"
      ],
      "metadata": {},
      "execution_count": null
    },
    {
      "outputs": [],
      "cell_type": "code",
      "source": [
        "x = [1.0, 2.0, 3.0]\nmysum(x)"
      ],
      "metadata": {},
      "execution_count": null
    },
    {
      "outputs": [],
      "cell_type": "code",
      "source": [
        "@code_warntype mysum(x)"
      ],
      "metadata": {},
      "execution_count": null
    },
    {
      "cell_type": "markdown",
      "source": [
        "This means the return type for `value` is either a `Int64` or a `Float64`.\nThe reason is that `value = 0` is initially an `Int64`. Then:\n- if the `for` loop runs, `value = value + x[1]` where `x[1]::Float64` so `value` is promoted to a `Float64`, or\n- if the `for` loop never runs, then `value = 0` which is an `Int64`.\nThis seems like a bad consequence of Julia's flexible type system.\nHowever, it has a very easy fix:"
      ],
      "metadata": {}
    },
    {
      "outputs": [],
      "cell_type": "code",
      "source": [
        "function mysum(x)\n    value = zero(eltype(x)) # set value to the zero of the same type as elements in x\n    for i in eachindex(x)\n        value = value + x[i]\n    end\n    return value\nend"
      ],
      "metadata": {},
      "execution_count": null
    },
    {
      "outputs": [],
      "cell_type": "code",
      "source": [
        "x = Int64[1, 2, 3]\n@code_warntype mysum(x)"
      ],
      "metadata": {},
      "execution_count": null
    },
    {
      "outputs": [],
      "cell_type": "code",
      "source": [
        "x = Float32[1, 2, 3]\n@code_warntype mysum(x)"
      ],
      "metadata": {},
      "execution_count": null
    },
    {
      "cell_type": "markdown",
      "source": [
        "The type instability is gone!\nNow we have a generic, type-stable function that preserves types after the sum reduction.\n\n### Functions vs Methods\n\nA *function* in Julia is essentially the symbol bound to a particular \"action\".\nA *method* is a particular version or implementation of that action.\n\nFor example, the `sqrt` function will behave differently depending on the input type."
      ],
      "metadata": {}
    },
    {
      "outputs": [],
      "cell_type": "code",
      "source": [
        "?sqrt"
      ],
      "metadata": {},
      "execution_count": null
    },
    {
      "cell_type": "markdown",
      "source": [
        "Julia lets us look up *methods* for a particular *function* using `methods`:"
      ],
      "metadata": {}
    },
    {
      "outputs": [],
      "cell_type": "code",
      "source": [
        "methods(sqrt)"
      ],
      "metadata": {},
      "execution_count": null
    },
    {
      "cell_type": "markdown",
      "source": [
        "This table shows us that the `sqrt` function has 19 different methods, each specializing on different input types."
      ],
      "metadata": {}
    },
    {
      "outputs": [],
      "cell_type": "code",
      "source": [
        "sqrt(-1.0)"
      ],
      "metadata": {},
      "execution_count": null
    },
    {
      "outputs": [],
      "cell_type": "code",
      "source": [
        "sqrt(Complex(-1.0))"
      ],
      "metadata": {},
      "execution_count": null
    },
    {
      "cell_type": "markdown",
      "source": [
        "### Optional arguments in functions\n\nIt is possible to define functions with optional arguments.\nThere are two kinds to consider:\n\n* *Positional arguments* occur at the end of a function signature in a specific order and have default values. If the optional arguments are not specified, the default values are used.\n* *Keyword arguments* begin after a semicolon `;` in a function signature. Changing the default values requires the caller to name the arguments and assign non-default values.\n\nYou can specify as many optional arguments as needed, and can mix positional and keyword arguments."
      ],
      "metadata": {}
    },
    {
      "outputs": [],
      "cell_type": "code",
      "source": [
        "function add_number(a, b=1)\n    return a + b\nend"
      ],
      "metadata": {},
      "execution_count": null
    },
    {
      "outputs": [],
      "cell_type": "code",
      "source": [
        "function also_add_number(a; b=1)\n    return a + b\nend"
      ],
      "metadata": {},
      "execution_count": null
    },
    {
      "outputs": [],
      "cell_type": "code",
      "source": [
        "add_number(2) # don't specify the positional argument b"
      ],
      "metadata": {},
      "execution_count": null
    },
    {
      "outputs": [],
      "cell_type": "code",
      "source": [
        "add_number(2, b=2) # this fails"
      ],
      "metadata": {},
      "execution_count": null
    },
    {
      "outputs": [],
      "cell_type": "code",
      "source": [
        "add_number(2, 2) # specify b"
      ],
      "metadata": {},
      "execution_count": null
    },
    {
      "outputs": [],
      "cell_type": "code",
      "source": [
        "also_add_number(2) # don't specify the keyword argument b"
      ],
      "metadata": {},
      "execution_count": null
    },
    {
      "outputs": [],
      "cell_type": "code",
      "source": [
        "also_add_number(2, 2) # this fails"
      ],
      "metadata": {},
      "execution_count": null
    },
    {
      "outputs": [],
      "cell_type": "code",
      "source": [
        "also_add_number(2, b=2) # the keyword argument must be invoked explicitly"
      ],
      "metadata": {},
      "execution_count": null
    },
    {
      "cell_type": "markdown",
      "source": [
        "### Duck Typing and Multiple Dispatch\n\nIn all our functions so far we have not specified the *types* of arguments that go into the function.\nYet, Julia is always aware of the types of arguments and variables within a function in spite of this fact.\nThis is known as *duck typing* and is actually a nice feature common to dynamic languages because it allows functions to be written in a generic fashion.\n\nIn many other programming languages, particularly those supporting object oriented design as it is commonly understood, there is the notion of *dispatching* to the most specific method in order to fulfill a function call.\nThe `sqrt` example with `Float64` and `Complex{Float64}` are examples of this.\n\nHowever, this example involves pattern matching on just one argument. What's the \"multiple\" in \"multiple dispatch\" and how is it related to duck typing in Julia?\n\nTo understand this, consider the following example from [Ole Kröger](https://opensourc.es/blog/basics-multiple-dispatch/) ([adapted from an example by Julia co-creator Stefan Karpinski](https://www.youtube.com/watch?v=kc9HwsxE1OY)):"
      ],
      "metadata": {}
    },
    {
      "outputs": [],
      "cell_type": "code",
      "source": [
        "abstract type Animal end\n\n# define a Lizard type with a name field\nstruct Lizard <: Animal\n    name :: String\nend\n\n# define a Rabbit type with a name field\nstruct Rabbit <: Animal\n    name :: String\nend\n\n# Define the race function with 3 methods: 2 specific ones and one generic fallback\nrace(l::Lizard, r::Rabbit) = \"$(l.name) wins in wall climbing.\"\nrace(r::Rabbit, l::Lizard) = \"$(r.name) wins in a normal race.\"\nrace(a::T, b::T) where T <: Animal = \"$(a.name) and $(b.name) run forever.\"\n\n# Define a meet function that calls the race function.\nfunction meet(a::Animal, b::Animal) \n    println(\"$(a.name) meets $(b.name) and they race!\")\n    println(\"Outcome: $(race(a,b))\")\nend\n\n# Try it out with our two Animal types\nbayi = Lizard(\"Bayi\")\nsally = Rabbit(\"Sally\")\nmeet(bayi, sally)  # calls the first race method\nmeet(sally, bayi)  # calls the second race method\nmeet(sally, sally) # calls the generic fallback"
      ],
      "metadata": {},
      "execution_count": null
    },
    {
      "cell_type": "markdown",
      "source": [
        "Multiple dispatch lets Julia and its compiler *select the most specific method **based on the runtime types**.*\nTo someone coming from C++, this example makes multiple dispatch look just like function overloading.\n\nHowever, implementing this code in C++ and running it reveals that C++ will always call the third, generic fallback where two animals run forever! This is because while C++ can choose a specific method, it is limited to the type information **available at compile time**. As such, adding the third method effectively erases methods one and two.\n\nThe workaround in C++ would be to make the `race` function specific to the abstract/superclass `Animal` class; i.e. we need to be able to write `bayi.race(sally)` and `sally.race(bayi)`.\nThis seems reasonable, but you will run into trouble as soon as you need to make an `Animal` race a `Human` because now both classes must have `race` as part of their definitions, but you may not have designed the classes with this use case in mind!\n\n*In object-oriented languages, methods belong to class functions not just functions in general.*\n\nIn contrast, in Julia this would be simply a matter of adding `race(l::Human, r::Animal)` to handle cases as needed.\nThus, Julia rewards you for writing \"weakly\" or duck typed functions by letting you handle specific cases with different input types only as needed, without having to completely redesign your code.\n**In fact, the preferred style in Julia is to avoid adding type annotations in your code unless absolutely necessary**.\n\nThese two points make code reuse much more probable, and is the \"magic\" that lets packages build lots of nice, unexpected features into them. (Feel free to ask for examples!)"
      ],
      "metadata": {}
    }
  ],
  "nbformat_minor": 2,
  "metadata": {
    "language_info": {
      "file_extension": ".jl",
      "mimetype": "application/julia",
      "name": "julia",
      "version": "1.6.1"
    },
    "kernelspec": {
      "name": "julia-1.6",
      "display_name": "Julia 1.6.1",
      "language": "julia"
    }
  },
  "nbformat": 4
}
