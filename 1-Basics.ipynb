{
 "cells": [
  {
   "cell_type": "markdown",
   "source": [
    "# Introduction to Julia: Part I"
   ],
   "metadata": {}
  },
  {
   "cell_type": "markdown",
   "source": [
    "# Agenda\n",
    "\n",
    "1. What is Julia?\n",
    "2. Literals, Variables, and Functions\n",
    "3. Program Control Flow\n",
    "4. Arrays and Comprehensions"
   ],
   "metadata": {}
  },
  {
   "cell_type": "markdown",
   "source": [
    "### Learning Goals\n",
    "\n",
    "After this workshop you should:\n",
    "\n",
    "1. Be familiar with Julia syntax.\n",
    "2. Understand variables, functions, and basic data types in Julia.\n",
    "3. Be able to write short programs in Julia.\n",
    "4. Feel confident enough to explore more on your own."
   ],
   "metadata": {}
  },
  {
   "cell_type": "markdown",
   "source": [
    "# What is Julia?\n",
    "\n",
    "> **The Julia Project as a whole is about bringing usable, scalable technical computing to a greater audience**: allowing scientists and researchers to use computation more rapidly and effectively; letting businesses do harder and more interesting analyses more easily and cheaply.\n",
    "> Part of that project entails creating a free, open-source language that is as easy to use as possible, so that researchers who are not necessarily professional programmers can easily create and share programs that others will be able to use for free and improve upon.\n",
    "> However, a large part of the project is also about creating an ecosystem in which such openness and sharing can take place.\n",
    "\n",
    "-- [Julia Project page](https://julialang.org/project/)"
   ],
   "metadata": {}
  },
  {
   "cell_type": "markdown",
   "source": [
    "### Why should I care?\n",
    "\n",
    "1. It is easy to prototype *fast*, *idiomatic* code in Julia *at a high level* thanks to Julia's JIT compiler and powerful type system.\n",
    "2. Julia favors a generic programming style: write functions that assume as little as possible and compose them to write complex programs.\n",
    "3. The Julia community is open and highly collaborative. Many high profile packages represent the joint effort of several brilliant people.\n",
    "\n",
    "**The Julia language is fast - to run and to write.**"
   ],
   "metadata": {}
  },
  {
   "cell_type": "markdown",
   "source": [
    "### How is it different from `xxxxx`?\n",
    "\n",
    "Syntax comparison between MATLAB, Julia, and Python: https://cheatsheets.quantecon.org/\n",
    "The Julia manual has a dedicated package on this: https://docs.julialang.org/en/v1/manual/noteworthy-differences/"
   ],
   "metadata": {}
  },
  {
   "cell_type": "markdown",
   "source": [
    "### I like `X/Y/Z` from `xxxxx` language. I don't think I can ever switch.\n",
    "\n",
    "Early on in the development of Julia, people put effort into building interoperability between Julia and other languages.\n",
    "This means that if you really need a package implemented in another language, it is possible to use it directly from within Julia (and vice-versa).\n",
    "\n",
    "- Python: Use [PyCall.jl](https://github.com/JuliaPy/PyCall.jl).\n",
    "- R: Use [RCall.jl](https://github.com/JuliaInterop/RCall.jl).\n",
    "- MATLAB: Use [MATLAB.jl](https://github.com/JuliaInterop/MATLAB.jl).\n",
    "- FORTRAN or C: Use the built-in `ccall` function documented [here](https://docs.julialang.org/en/v1/manual/calling-c-and-fortran-code/).\n",
    "- C++: Use [Cxx.jl](https://github.com/JuliaInterop/Cxx.jl).\n",
    "\n",
    "The [JuliaInterop](https://github.com/JuliaInterop) organization has more packages available for other languages.\n",
    "\n",
    "**Ultimately, the Julia language is (a very useful) tool. You should use whatever makes you productive, and your work reproducible.**"
   ],
   "metadata": {}
  },
  {
   "cell_type": "markdown",
   "source": [
    "# Literals, Variables, and Functions"
   ],
   "metadata": {}
  },
  {
   "cell_type": "markdown",
   "source": [
    "### Literals: Special notation for representing values\n",
    "\n",
    "Julia has built-in support for representing several kinds of values important for computing.\n",
    "You can expect to encounter the following objects in this part of the workshop."
   ],
   "metadata": {}
  },
  {
   "outputs": [],
   "cell_type": "code",
   "source": [
    "0x01 # 8-bit unsigned integer; input in hexadecimal 0xXX, binary, 0bXXXXXXXX, or octal 0oXXX notation"
   ],
   "metadata": {},
   "execution_count": null
  },
  {
   "outputs": [],
   "cell_type": "code",
   "source": [
    "1 # 64-bit integers by default, or 32-bit if you're using an older computer"
   ],
   "metadata": {},
   "execution_count": null
  },
  {
   "outputs": [],
   "cell_type": "code",
   "source": [
    "1.0 # double precision floating point; scientific notation XeY == X * 10^Y"
   ],
   "metadata": {},
   "execution_count": null
  },
  {
   "outputs": [],
   "cell_type": "code",
   "source": [
    "1f0 # single precision floating point; scientific notation XfY == X * 10^Y"
   ],
   "metadata": {},
   "execution_count": null
  },
  {
   "outputs": [],
   "cell_type": "code",
   "source": [
    "1//2 # rational number using 64-bit integers for numerator and denominator"
   ],
   "metadata": {},
   "execution_count": null
  },
  {
   "outputs": [],
   "cell_type": "code",
   "source": [
    "'1' # characters, only one symbol"
   ],
   "metadata": {},
   "execution_count": null
  },
  {
   "outputs": [],
   "cell_type": "code",
   "source": [
    "\"1\" # strings, sequence of characters"
   ],
   "metadata": {},
   "execution_count": null
  },
  {
   "outputs": [],
   "cell_type": "code",
   "source": [
    "true # boolean: true or false"
   ],
   "metadata": {},
   "execution_count": null
  },
  {
   "outputs": [],
   "cell_type": "code",
   "source": [
    "1:10 # a UnitRange where A:B specifies values from A to B inclusive (integers)"
   ],
   "metadata": {},
   "execution_count": null
  },
  {
   "outputs": [],
   "cell_type": "code",
   "source": [
    "1:2:10 # a StepRange where A:B:C specifies values from A to B using a step size C (integers)"
   ],
   "metadata": {},
   "execution_count": null
  },
  {
   "cell_type": "markdown",
   "source": [
    "There is \"special\" syntax for many other kinds of objects.\n",
    "Here is a sample of other commonly encountered object.\n",
    "Collections, such as arrays, will be discussed in the sequel."
   ],
   "metadata": {}
  },
  {
   "outputs": [],
   "cell_type": "code",
   "source": [
    "0:0.1:1 # StepRangeLen; like A:B:C above but specifies a range over real numbers"
   ],
   "metadata": {},
   "execution_count": null
  },
  {
   "outputs": [],
   "cell_type": "code",
   "source": [
    "1.2 + 0im # 64-bit complex number; im is the imaginary unit"
   ],
   "metadata": {},
   "execution_count": null
  },
  {
   "outputs": [],
   "cell_type": "code",
   "source": [
    ":abc # symbol; objects used to represent Julia code, or as keys into objects like dictionaries"
   ],
   "metadata": {},
   "execution_count": null
  },
  {
   "outputs": [],
   "cell_type": "code",
   "source": [
    "1.0:0.25:2.0 # a StepRange"
   ],
   "metadata": {},
   "execution_count": null
  },
  {
   "outputs": [],
   "cell_type": "code",
   "source": [
    "[1, 2, 3] # 1D array (Vector) with 64-bit integer elements; separate with commas"
   ],
   "metadata": {},
   "execution_count": null
  },
  {
   "outputs": [],
   "cell_type": "code",
   "source": [
    "['a' 'b' 'c'; 'c' 'd' 'e'] # 2D array (Matrix) with characters elements; separate rows with semicolons"
   ],
   "metadata": {},
   "execution_count": null
  },
  {
   "outputs": [],
   "cell_type": "code",
   "source": [
    "(\"first\", \"second\", \"third\") # tuple; fixed-length container supporting indexing"
   ],
   "metadata": {},
   "execution_count": null
  },
  {
   "outputs": [],
   "cell_type": "code",
   "source": [
    "(a=1, b=2.0, c=0x03) # a tuple with named elements"
   ],
   "metadata": {},
   "execution_count": null
  },
  {
   "outputs": [],
   "cell_type": "code",
   "source": [
    "'a' => 1 # a pair object which associates the first argument with the right"
   ],
   "metadata": {},
   "execution_count": null
  },
  {
   "outputs": [],
   "cell_type": "code",
   "source": [
    "Dict('a' => 1, 'b' => 2) # a dictionary literal defined using the pair syntax"
   ],
   "metadata": {},
   "execution_count": null
  },
  {
   "cell_type": "markdown",
   "source": [
    "Every value in Julia has a *type* which tells us (and Julia's machinery) what kind of object one is dealing with.\n",
    "We can access type information in a programmatic way using the `typeof` function:"
   ],
   "metadata": {}
  },
  {
   "outputs": [],
   "cell_type": "code",
   "source": [
    "typeof(1)"
   ],
   "metadata": {},
   "execution_count": null
  },
  {
   "outputs": [],
   "cell_type": "code",
   "source": [
    "typeof(\"1\")"
   ],
   "metadata": {},
   "execution_count": null
  },
  {
   "outputs": [],
   "cell_type": "code",
   "source": [
    "typeof(true)"
   ],
   "metadata": {},
   "execution_count": null
  },
  {
   "cell_type": "markdown",
   "source": [
    "### Exercise 1.1\n",
    "\n",
    "The literal `1.2` has type `Float64`. What is the type of `Float64`?"
   ],
   "metadata": {}
  },
  {
   "outputs": [],
   "cell_type": "code",
   "source": [
    "# try it yourself here"
   ],
   "metadata": {},
   "execution_count": null
  },
  {
   "cell_type": "markdown",
   "source": [
    "In addition to specifying values with special notation one can use *constructors*, which are just functions for creating instances of a specific type."
   ],
   "metadata": {}
  },
  {
   "outputs": [],
   "cell_type": "code",
   "source": [
    "UInt8(1)"
   ],
   "metadata": {},
   "execution_count": null
  },
  {
   "outputs": [],
   "cell_type": "code",
   "source": [
    "Int16(1)"
   ],
   "metadata": {},
   "execution_count": null
  },
  {
   "outputs": [],
   "cell_type": "code",
   "source": [
    "Rational(1, 2)"
   ],
   "metadata": {},
   "execution_count": null
  },
  {
   "cell_type": "markdown",
   "source": [
    "**Note**: The mention of constructors might invoke the notion of *classes* as in object-oriented languages.\n",
    "However, Julia's types are used strictly to represent values and therefore do not \"own\" functions or methods."
   ],
   "metadata": {}
  },
  {
   "cell_type": "markdown",
   "source": [
    "### Exercise 1.2\n",
    "Investigate the following types using the help system and methods lookup."
   ],
   "metadata": {}
  },
  {
   "outputs": [],
   "cell_type": "code",
   "source": [
    "# Float64"
   ],
   "metadata": {},
   "execution_count": null
  },
  {
   "outputs": [],
   "cell_type": "code",
   "source": [
    "# Rational"
   ],
   "metadata": {},
   "execution_count": null
  },
  {
   "outputs": [],
   "cell_type": "code",
   "source": [
    "# Symbol"
   ],
   "metadata": {},
   "execution_count": null
  },
  {
   "cell_type": "markdown",
   "source": [
    "### Variables: Symbols bound to a value\n",
    "\n",
    "You can bind a value (i.e. literal) to an identifier using the assignment operator `=`:"
   ],
   "metadata": {}
  },
  {
   "outputs": [],
   "cell_type": "code",
   "source": [
    "myvariable = 1903"
   ],
   "metadata": {},
   "execution_count": null
  },
  {
   "cell_type": "markdown",
   "source": [
    "One nice feature in Julia is its [support for Unicode characters](https://docs.julialang.org/en/v1/manual/unicode-input/).\n",
    "This is particularly useful if you want code to match mathematical notation in notes or a textbook.\n",
    "You can type special characters here (or in a Julia REPL) using tab completions (`\\<shortcut> → Tab`).\n",
    "For mathematical characters, the notation often matches LaTeX commands."
   ],
   "metadata": {}
  },
  {
   "outputs": [],
   "cell_type": "code",
   "source": [
    "α = 1 # type \\alpha → Tab\n",
    "x₀ = 0.5 # type x\\_0 → Tab"
   ],
   "metadata": {},
   "execution_count": null
  },
  {
   "cell_type": "markdown",
   "source": [
    "### Exercise 1.3\n",
    "\n",
    "Assign a value to a variable called `x`.\n",
    "Try running the commands `typeof(x)`, `?x`."
   ],
   "metadata": {}
  },
  {
   "outputs": [],
   "cell_type": "code",
   "source": [
    "# your solution goes here"
   ],
   "metadata": {},
   "execution_count": null
  },
  {
   "cell_type": "markdown",
   "source": [
    "### Functions"
   ],
   "metadata": {}
  },
  {
   "cell_type": "markdown",
   "source": [
    "#### Built-in functions\n",
    "\n",
    "First we look at *operators*, which are mostly just short names for regular Julia functions.\n",
    "There are some exceptional cases and we'll point those out as we go.\n",
    "The list here is not exhaustive ([see for example](https://docs.julialang.org/en/v1/manual/functions/#Operators-With-Special-Names)).\n",
    "\n",
    "In the case of math, you may want to familiarize yourself with [operator precedence](https://docs.julialang.org/en/v1/manual/mathematical-operations/#Mathematical-Operations-and-Elementary-Functions)."
   ],
   "metadata": {}
  },
  {
   "cell_type": "markdown",
   "source": [
    "##### [Artihmetic operators](https://docs.julialang.org/en/v1/manual/mathematical-operations/#Arithmetic-Operators) are supported in Julia\n",
    "\n",
    "Arithmetic operators are defined for numeric types.\n",
    "You can mix numeric types without worrying about type-casting or conversion."
   ],
   "metadata": {}
  },
  {
   "outputs": [],
   "cell_type": "code",
   "source": [
    "1 + 1 # addition"
   ],
   "metadata": {},
   "execution_count": null
  },
  {
   "outputs": [],
   "cell_type": "code",
   "source": [
    "20.9 - 20 # subtraction"
   ],
   "metadata": {},
   "execution_count": null
  },
  {
   "outputs": [],
   "cell_type": "code",
   "source": [
    "2.3 * 4 # multiplication"
   ],
   "metadata": {},
   "execution_count": null
  },
  {
   "outputs": [],
   "cell_type": "code",
   "source": [
    "9 / 3 # division on the right; equivalent to 3 \\ 9 using left division"
   ],
   "metadata": {},
   "execution_count": null
  },
  {
   "outputs": [],
   "cell_type": "code",
   "source": [
    "3 \\ 9 # left division"
   ],
   "metadata": {},
   "execution_count": null
  },
  {
   "outputs": [],
   "cell_type": "code",
   "source": [
    "9 ÷ 3 # Euclidean division (÷ is \\div → Tab); infix notation for div(9, 3)"
   ],
   "metadata": {},
   "execution_count": null
  },
  {
   "outputs": [],
   "cell_type": "code",
   "source": [
    "7 % 2 # remainder (after Euclidean division); infix notation for mod(7, 2)"
   ],
   "metadata": {},
   "execution_count": null
  },
  {
   "outputs": [],
   "cell_type": "code",
   "source": [
    "2//3 ^ 2 # exponentiation"
   ],
   "metadata": {},
   "execution_count": null
  },
  {
   "outputs": [],
   "cell_type": "code",
   "source": [
    "3 << 4 # left bit shift (on integers); equivalent to 3 * 2^4"
   ],
   "metadata": {},
   "execution_count": null
  },
  {
   "outputs": [],
   "cell_type": "code",
   "source": [
    "-1 # negative sign; unary operator"
   ],
   "metadata": {},
   "execution_count": null
  },
  {
   "cell_type": "markdown",
   "source": [
    "*Binary arithmetic operators* have a special property: they can be invoked in infix notation (as above) or prefix notation:"
   ],
   "metadata": {}
  },
  {
   "outputs": [],
   "cell_type": "code",
   "source": [
    "1 + 2 + 3"
   ],
   "metadata": {},
   "execution_count": null
  },
  {
   "outputs": [],
   "cell_type": "code",
   "source": [
    "+(1, 2, 3)"
   ],
   "metadata": {},
   "execution_count": null
  },
  {
   "cell_type": "markdown",
   "source": [
    "Binary arithmetic operators `op` also have corresponding *update* versions, which are shorthand for `x = x op y`.\n",
    "For example, the addition update operator"
   ],
   "metadata": {}
  },
  {
   "outputs": [],
   "cell_type": "code",
   "source": [
    "x = 1\n",
    "x += 10\n",
    "x"
   ],
   "metadata": {},
   "execution_count": null
  },
  {
   "cell_type": "markdown",
   "source": [
    "Note: Multiplication is also defined for `String`s and `Char`s."
   ],
   "metadata": {}
  },
  {
   "outputs": [],
   "cell_type": "code",
   "source": [
    "\"abc\" * 'c' # this concatenates the two inputs; Strings equipped with * form a semigroup"
   ],
   "metadata": {},
   "execution_count": null
  },
  {
   "cell_type": "markdown",
   "source": [
    "##### Logical, Bitwise, and Comparison Operators"
   ],
   "metadata": {}
  },
  {
   "cell_type": "markdown",
   "source": [
    "See for details:\n",
    "- [Logical](https://docs.julialang.org/en/v1/manual/mathematical-operations/#Boolean-Operators)\n",
    "- [Bitwise](https://docs.julialang.org/en/v1/manual/mathematical-operations/#Bitwise-Operators)\n",
    "- [Comparison](https://docs.julialang.org/en/v1/manual/mathematical-operations/#Numeric-Comparisons)\n",
    "\n",
    "These operators can be chained; e.g. 1 < 2 < 3.\n",
    "Numeric types can be mixed with other numeric types but any other mixing will throw an error."
   ],
   "metadata": {}
  },
  {
   "outputs": [],
   "cell_type": "code",
   "source": [
    "1 < 10 # less than; integers compared based on bits representation"
   ],
   "metadata": {},
   "execution_count": null
  },
  {
   "outputs": [],
   "cell_type": "code",
   "source": [
    "1.2 > 1.2 + 1e-8 # greater than; Float"
   ],
   "metadata": {},
   "execution_count": null
  },
  {
   "outputs": [],
   "cell_type": "code",
   "source": [
    "'a' <= 'b' # less than or equal to (≤ \\le + Tab); characters use lexicographic ordering"
   ],
   "metadata": {},
   "execution_count": null
  },
  {
   "outputs": [],
   "cell_type": "code",
   "source": [
    "\"aaa\" >= \"a\" # greater than or equal to; strings also use lexicographic ordering"
   ],
   "metadata": {},
   "execution_count": null
  },
  {
   "outputs": [],
   "cell_type": "code",
   "source": [
    "[1, 1] == [1, 1] # equality in terms of value"
   ],
   "metadata": {},
   "execution_count": null
  },
  {
   "outputs": [],
   "cell_type": "code",
   "source": [
    "[1, 1, 1] === [1, 1, 1] # equality in terms of distinguishability"
   ],
   "metadata": {},
   "execution_count": null
  },
  {
   "outputs": [],
   "cell_type": "code",
   "source": [
    "1 != 2 # not equal; similar to !(1 == 2)"
   ],
   "metadata": {},
   "execution_count": null
  },
  {
   "outputs": [],
   "cell_type": "code",
   "source": [
    "!false # logical negation"
   ],
   "metadata": {},
   "execution_count": null
  },
  {
   "outputs": [],
   "cell_type": "code",
   "source": [
    "0.5 < 1 & 1 < 0.5 # bitwise AND"
   ],
   "metadata": {},
   "execution_count": null
  },
  {
   "outputs": [],
   "cell_type": "code",
   "source": [
    "0.5 < 1 | 1 < 0.5 # bitwise OR"
   ],
   "metadata": {},
   "execution_count": null
  },
  {
   "outputs": [],
   "cell_type": "code",
   "source": [
    "0.5 < 1 && 1 < 0.5 # short-circuit AND; similar for |"
   ],
   "metadata": {},
   "execution_count": null
  },
  {
   "cell_type": "markdown",
   "source": [
    "The main difference between bitwise and short-circuit logical operators is that the latter has a special evaluation semantic.\n",
    "For example, all arguments to bitwise AND are evaluated, whereas as arguments to short-circuit AND are evaluated left-to-right as needed."
   ],
   "metadata": {}
  },
  {
   "outputs": [],
   "cell_type": "code",
   "source": [
    "true & \"this will error\""
   ],
   "metadata": {},
   "execution_count": null
  },
  {
   "outputs": [],
   "cell_type": "code",
   "source": [
    "true && \"this will run\""
   ],
   "metadata": {},
   "execution_count": null
  },
  {
   "outputs": [],
   "cell_type": "code",
   "source": [
    "true || \"this is never evaluated\""
   ],
   "metadata": {},
   "execution_count": null
  },
  {
   "cell_type": "markdown",
   "source": [
    "##### Other mathematical functions"
   ],
   "metadata": {}
  },
  {
   "cell_type": "markdown",
   "source": [
    "Julia implements many common mathematical functions within the base language.\n",
    "Starting from rounding, see the [list](https://docs.julialang.org/en/v1/manual/mathematical-operations/#Rounding-functions) here."
   ],
   "metadata": {}
  },
  {
   "outputs": [],
   "cell_type": "code",
   "source": [
    "@show exp(1)         # exponential\n",
    "@show sqrt(2)        # valid for non-negative arguments\n",
    "@show sqrt(-4 + 0im) # use Complex argument for negative values\n",
    "@show log(exp(-2))   # default: natural logarithm\n",
    "@show log(2, 4)      # specify base 2, argument 4\n",
    "@show log10(1e-3)    # some logarthims have their own dedicated function"
   ],
   "metadata": {},
   "execution_count": null
  },
  {
   "cell_type": "markdown",
   "source": [
    "### User-defined functions"
   ],
   "metadata": {}
  },
  {
   "cell_type": "markdown",
   "source": [
    "Programming involves building up many small programs that, ideally, can be composed to write larger more complex programs.\n",
    "There are many ways to define a function in Julia.\n",
    "For example, consider the function $x \\mapsto x + 1$ that takes a number and adds 1 to it:"
   ],
   "metadata": {}
  },
  {
   "outputs": [],
   "cell_type": "code",
   "source": [
    "f(x) = x+1    # must be written as a single line or compound expression; begin ... end\n",
    "\n",
    "function f(x) # function body is automatically treated as a compound expression\n",
    "    return x+1\n",
    "end"
   ],
   "metadata": {},
   "execution_count": null
  },
  {
   "outputs": [],
   "cell_type": "code",
   "source": [
    "f(3)"
   ],
   "metadata": {},
   "execution_count": null
  },
  {
   "cell_type": "markdown",
   "source": [
    "By default, a function returns the value of the last statement within the body.\n",
    "You can be specific about what the return value should be by using the `return` keyword.\n",
    "You can return multiple values by separating them with commas"
   ],
   "metadata": {}
  },
  {
   "outputs": [],
   "cell_type": "code",
   "source": [
    "function g(x)\n",
    "  return x, x + 1 # this implicitly defines a tuple (x, x+1)\n",
    "end"
   ],
   "metadata": {},
   "execution_count": null
  },
  {
   "outputs": [],
   "cell_type": "code",
   "source": [
    "g(2.5)"
   ],
   "metadata": {},
   "execution_count": null
  },
  {
   "cell_type": "markdown",
   "source": [
    "### Exercise 1.4\n",
    "\n",
    "What are the return values for the following functions?"
   ],
   "metadata": {}
  },
  {
   "outputs": [],
   "cell_type": "code",
   "source": [
    "function fun1(x)\n",
    "    x + 1\n",
    "    x + 2\n",
    "    x + 3\n",
    "end\n",
    "\n",
    "function fun2(x)\n",
    "    x + 1\n",
    "    return x + 2\n",
    "    x + 3\n",
    "end\n",
    "\n",
    "function fun3(x)\n",
    "    x + 1\n",
    "    x = x + 2\n",
    "    return x + 3\n",
    "    x = x + 4\n",
    "end\n",
    "\n",
    "function fun4(x)\n",
    "    x + 10\n",
    "    return\n",
    "    x - 2\n",
    "end"
   ],
   "metadata": {},
   "execution_count": null
  },
  {
   "cell_type": "markdown",
   "source": [
    "### Exercise 1.5\n",
    "\n",
    "Write a function that evaluates the quadratic $a x^{2} + b x + c$.\n",
    "Call your function `evalulate_quadratic`.\n",
    "It should take four (4) inputs, `a`, `b`, `c`, and `x`, in that order."
   ],
   "metadata": {}
  },
  {
   "outputs": [],
   "cell_type": "code",
   "source": [
    "# write your code here"
   ],
   "metadata": {},
   "execution_count": null
  },
  {
   "cell_type": "markdown",
   "source": [
    "Test your code by running the following code block.\n",
    "Here we use the `@show` *macro* to print an expression and its value."
   ],
   "metadata": {}
  },
  {
   "outputs": [],
   "cell_type": "code",
   "source": [
    "@show evalulate_quadratic(0, 0, 2.0, 100.0)   # == 2\n",
    "@show evalulate_quadratic(1.0, 0, 0, 10.0)    # == 100\n",
    "@show evalulate_quadratic(0, 1.0, 0, 10.0)    # == 10\n",
    "@show evalulate_quadratic(2, 1, -10, 2)       # == 0"
   ],
   "metadata": {},
   "execution_count": null
  },
  {
   "cell_type": "markdown",
   "source": [
    "### Exercise 1.6\n",
    "Fill in the formula in the following function, which computes both roots of a quadratic,\n",
    "$$\n",
    "a x^{2} + b x + c = 0 \\iff x = \\frac{-b \\pm \\sqrt{b^{2} - 4 a c}}{2a}\n",
    "$$\n",
    "Your function should take three (3) inputs, `a`, `b`, and `c`, which you may assume are numbers of the same type.\n",
    "You can also assume $|a| > 0$.\n",
    "Return the roots as a tuple; e.g. `return root1, root2` or `return (root1, root2)`."
   ],
   "metadata": {}
  },
  {
   "outputs": [],
   "cell_type": "code",
   "source": [
    "function quadratic_formula(a, b, c)\n",
    "    # check for real roots\n",
    "    d = b^2 - 4a * c\n",
    "    if d < 0\n",
    "        error(\"Roots are not real. Use quadratic(Complex(a), Complex(b), Complex(c)) for imaginary roots.\")\n",
    "    end\n",
    "\n",
    "    # your code goes here\n",
    "\n",
    "    return r1, r2\n",
    "end"
   ],
   "metadata": {},
   "execution_count": null
  },
  {
   "cell_type": "markdown",
   "source": [
    "A few test cases:"
   ],
   "metadata": {}
  },
  {
   "outputs": [],
   "cell_type": "code",
   "source": [
    "@show quadratic_formula(1.0, -2.0, 1.0) # == (1.0, 1.0); x^2 - 2x + 1\n",
    "@show quadratic_formula(1.0, 0, -1.0)   # == (-1.0, 1.0); x^2 - 1"
   ],
   "metadata": {},
   "execution_count": null
  },
  {
   "cell_type": "markdown",
   "source": [
    "# BREAK! (10 minutes)"
   ],
   "metadata": {}
  },
  {
   "cell_type": "markdown",
   "source": [
    "#### A note for scientists\n",
    "\n",
    "Try the following code using your `quadratic_formula`:"
   ],
   "metadata": {}
  },
  {
   "outputs": [],
   "cell_type": "code",
   "source": [
    "a = 1.0; b = 100.0; c = 1.0 # represents x^2 + 100*x + 1\n",
    "r1, r2 = quadratic_formula(a, b, c)\n",
    "@show evalulate_quadratic(a, b, c, r1)\n",
    "@show evalulate_quadratic(a, b, c, r2)"
   ],
   "metadata": {},
   "execution_count": null
  },
  {
   "cell_type": "markdown",
   "source": [
    "Depending on how you chose to implement your function, one of the results above is not $0$ but close to it.\n",
    "In this case, $b^{2}$ is much larger compared to $4ac$ which means $b^{2} - 4ac$ is subject to *roundoff error*.\n",
    "This happens because numbers on the real line *cannot* be represented exactly on a computer.\n",
    "It is an issue for irrational numbers like $\\sqrt{2}$ and even rational numbers like $1/10 = 0.1$:"
   ],
   "metadata": {}
  },
  {
   "outputs": [],
   "cell_type": "code",
   "source": [
    "bitstring(0.1) # this is not exact in base 2!"
   ],
   "metadata": {},
   "execution_count": null
  },
  {
   "cell_type": "markdown",
   "source": [
    "Julia uses the [IEEE 754-2008 standard](https://en.wikipedia.org/wiki/IEEE_754-2008) to handle floating-point arithmetic.\n",
    "The Julia manual has plenty of [references](https://docs.julialang.org/en/v1/manual/integers-and-floating-point-numbers/#Background-and-References) for the interested reader."
   ],
   "metadata": {}
  },
  {
   "cell_type": "markdown",
   "source": [
    "Some useful values and functions to know about:"
   ],
   "metadata": {}
  },
  {
   "cell_type": "markdown",
   "source": [
    "- `Inf`/`Inf32`/`Inf16`: Literals for representing infinity.\n",
    "- `0.0` and `-0.0`: Signed zeros. note that `0.0 == -0.0`.\n",
    "- `NaN`: Not a Number; used to handle numerical issues like division by `0` or loss of precison due to underflow/overflow.\n",
    "- `exponent`: Return the exponent in the floating point representation of a number.\n",
    "- `significand`: Return the digits in the floating point representation of a number.\n",
    "- `signbit`: Check the sign bit of a number (false for positive, true for negative).\n",
    "- `bitstring`: Return the binary representation of a number literal.\n",
    "- `eps`: Machine epsilon; the gap between `1.0` and the next largest representable value of the same numeric type.\n",
    "- `nextfloat`/`prevfloat`: The next/previous representable floating-point number relative to an input."
   ],
   "metadata": {}
  },
  {
   "cell_type": "markdown",
   "source": [
    "**Takeaway**: Try to look through documentation to see if a function you want has already been implemented, *especially* for any numerics."
   ],
   "metadata": {}
  },
  {
   "cell_type": "markdown",
   "source": [
    "# Program Control Flow\n",
    "\n",
    "*Conditional statements* and *repeated evaluation* are common patterns that emerge in algorithms.\n",
    "Julia handles these concepts in a familiar, straightforward way."
   ],
   "metadata": {}
  },
  {
   "cell_type": "markdown",
   "source": [
    "### Conditional Statements\n",
    "\n",
    "`if-else` blocks allow you to execute a block of code conditional on some requirement."
   ],
   "metadata": {}
  },
  {
   "outputs": [],
   "cell_type": "code",
   "source": [
    "function flip_coin()\n",
    "  if rand() < 0.5 # rand() generates a random Float64 between 0 and 1\n",
    "    println(\"Heads\")\n",
    "  else\n",
    "    println(\"Tails\")\n",
    "  end\n",
    "end"
   ],
   "metadata": {},
   "execution_count": null
  },
  {
   "outputs": [],
   "cell_type": "code",
   "source": [
    "flip_coin()"
   ],
   "metadata": {},
   "execution_count": null
  },
  {
   "cell_type": "markdown",
   "source": [
    "`if-elseif-else` can be used to chain more than 2 branches."
   ],
   "metadata": {}
  },
  {
   "outputs": [],
   "cell_type": "code",
   "source": [
    "function roll_die()\n",
    "  u = rand() # random number between 0 and 1\n",
    "\n",
    "  if u < 1//6 # divide interval [0,1] into 6 equally sized sub-intervals; assign a side\n",
    "    1\n",
    "  elseif 1//6 ≤ u < 2//6\n",
    "    2\n",
    "  elseif 2//6 ≤ u < 3//6\n",
    "    3\n",
    "  elseif 3//6 ≤ u < 4//6\n",
    "    4\n",
    "  elseif 4//6 ≤ u < 5//6\n",
    "    5\n",
    "  else # 5//6 ≤ u < 6//6\n",
    "    6\n",
    "  end\n",
    "end"
   ],
   "metadata": {},
   "execution_count": null
  },
  {
   "outputs": [],
   "cell_type": "code",
   "source": [
    "roll_die()"
   ],
   "metadata": {},
   "execution_count": null
  },
  {
   "cell_type": "markdown",
   "source": [
    "The ternary operator (3-argument) `?` can be used to write `if-else` statements compactly.\n",
    "Try running the following code a few times to see how it works."
   ],
   "metadata": {}
  },
  {
   "outputs": [],
   "cell_type": "code",
   "source": [
    "truth_value = rand() < 0.5 # random true / false\n",
    "truth_value ? println(\"branch taken if true\") : println(\"branch taken if false\")\n",
    "@show truth_value"
   ],
   "metadata": {},
   "execution_count": null
  },
  {
   "cell_type": "markdown",
   "source": [
    "### Exercise 1.7\n",
    "\n",
    "Complete the following function which implements the factorial function (on non-negative integers) in a recursive fashion.\n",
    "\n",
    "$$\n",
    "n! = n \\times (n-1) \\times (n-2) \\ldots 3 \\times 2 \\times 1.\n",
    "$$\n",
    "\n",
    "**Hints**: What is the base case? What is the expected behavior for negative arguments?"
   ],
   "metadata": {}
  },
  {
   "outputs": [],
   "cell_type": "code",
   "source": [
    "function factorial_recursive(n)\n",
    "  # handle base case\n",
    "\n",
    "  # otherwise, continue to recurse\n",
    "  n * factorial_recursive(n-1)\n",
    "end"
   ],
   "metadata": {},
   "execution_count": null
  },
  {
   "cell_type": "markdown",
   "source": [
    "Here are some test cases"
   ],
   "metadata": {}
  },
  {
   "outputs": [],
   "cell_type": "code",
   "source": [
    "@show factorial_recursive(0)  # == 1\n",
    "@show factorial_recursive(4)  # == 24\n",
    "@show factorial_recursive(-1) # up to you what you do here"
   ],
   "metadata": {},
   "execution_count": null
  },
  {
   "cell_type": "markdown",
   "source": [
    "### Repeated evaluation\n",
    "\n",
    "`for` loops in Julia allow you to repeat a set of instructions based on a condition.\n",
    "\n",
    "For example one can iterate over the values in a range."
   ],
   "metadata": {}
  },
  {
   "outputs": [],
   "cell_type": "code",
   "source": [
    "for i = 1:10 # for i equal to 1, 2, ..., 10.\n",
    "  println(\"The value of i is $(i)\")\n",
    "end"
   ],
   "metadata": {},
   "execution_count": null
  },
  {
   "outputs": [],
   "cell_type": "code",
   "source": [
    "for i in 1:10 # prefered style in Julia\n",
    "  println(\"The value of i is $(i)\")\n",
    "end"
   ],
   "metadata": {},
   "execution_count": null
  },
  {
   "cell_type": "markdown",
   "source": [
    "You can also iterate over the elements of an Array."
   ],
   "metadata": {}
  },
  {
   "outputs": [],
   "cell_type": "code",
   "source": [
    "mylist = rand('a':'z', 10)\n",
    "\n",
    "for (i, item) in enumerate(mylist)\n",
    "  println(\"The item at index $(i) is $(item)\")\n",
    "end"
   ],
   "metadata": {},
   "execution_count": null
  },
  {
   "cell_type": "markdown",
   "source": [
    "### Exercise 1.8\n",
    "\n",
    "Implement the factorial function using a `for` loop.\n",
    "Recall the definition\n",
    "\n",
    "$$\n",
    "n! = n \\times (n-1) \\times (n-2) \\ldots 3 \\times 2 \\times 1.\n",
    "$$\n",
    "\n",
    "**Hint**: If $A_{n}$ is equal to $n!$, then $A_{n+1} = (n+1) \\times A_{n}$.\n",
    "How can you handle the base case?"
   ],
   "metadata": {}
  },
  {
   "outputs": [],
   "cell_type": "code",
   "source": [
    "function factorial_loop(n)\n",
    "  # your code goes here\n",
    "end"
   ],
   "metadata": {},
   "execution_count": null
  },
  {
   "cell_type": "markdown",
   "source": [
    "Compare your implementation against your solution to Exercise 1.7 and the Julia's own `factorial`."
   ],
   "metadata": {}
  },
  {
   "outputs": [],
   "cell_type": "code",
   "source": [
    "factorial_recursive(21)\n",
    "\n",
    "factorial_loop(21)\n",
    "\n",
    "factorial(21)"
   ],
   "metadata": {},
   "execution_count": null
  },
  {
   "cell_type": "markdown",
   "source": [
    "`while` loops allow one to repeat a sequence of instructions without knowing how many times they should be repeated."
   ],
   "metadata": {}
  },
  {
   "outputs": [],
   "cell_type": "code",
   "source": [
    "counter = 0\n",
    "\n",
    "while counter < 5\n",
    "    println(\"The current value is $(counter)\")\n",
    "    counter = counter + 1 # or counter += 1\n",
    "end"
   ],
   "metadata": {},
   "execution_count": null
  },
  {
   "outputs": [],
   "cell_type": "code",
   "source": [
    "counter = 0\n",
    "still_true = true # use a Bool as a flag to indicate current state\n",
    "\n",
    "while still_true\n",
    "    println(\"The current value is $(counter)\")\n",
    "    counter = counter + 1    # make sure to update the counter\n",
    "    still_true = counter < 5 # make sure to update the variable we use to check\n",
    "end"
   ],
   "metadata": {},
   "execution_count": null
  },
  {
   "cell_type": "markdown",
   "source": [
    "Care must be taken to make sure a `while` loop eventually terminates.\n",
    "If you accidentally make an infinite `while` loop, just use the \"Interrupt the kernel\" button (□), `Esc` → `C`, or `Ctrl + C`."
   ],
   "metadata": {}
  },
  {
   "cell_type": "markdown",
   "source": [
    "### Exercise 1.9\n",
    "\n",
    "Credit: [Algorithms from THE BOOK](https://locus.siam.org/doi/book/10.1137/1.9781611976175?mobileUi=0&) by Kenneth Lange\n",
    "\n",
    "The ancients could compute square roots long before the age of computers or the rigorous formulation of the real numbers.\n",
    "The so-called Babylonian method estimates square roots via the iterative method\n",
    "\n",
    "$$\n",
    "x_{k+1} = \\frac{1}{2}\\left[x_{k} + \\frac{a}{x_{k}}\\right].\n",
    "$$\n",
    "\n",
    "Using a `while` loop, implement a function that computes the square root of an a non-negative number `a` based on an initial guess `x0`.\n",
    "Your function should run until it achieves a given relative tolerance, $\\epsilon$ = `tol`; in symbols this is\n",
    "$$\n",
    "|x_{k+1} - x_{k}| < \\epsilon~(x_{k} + 1).\n",
    "$$\n",
    "\n",
    "Hint: The function `abs` computes the absolute value of a number."
   ],
   "metadata": {}
  },
  {
   "outputs": [],
   "cell_type": "code",
   "source": [
    "function babylonian(a, x0, tol)\n",
    "  x_cur = x0            # current estimate\n",
    "  x_old = x0            # previous estimate\n",
    "  not_converged = true  # indicates lack of convergence\n",
    "  iter = 0              # number of iterations\n",
    "\n",
    "  # your code goes here\n",
    "\n",
    "  # report iterations taken\n",
    "  println(\"Converged after $(iter) iterations.\")\n",
    "\n",
    "  return x_cur # return the solution\n",
    "end"
   ],
   "metadata": {},
   "execution_count": null
  },
  {
   "outputs": [],
   "cell_type": "code",
   "source": [
    "a = 2.0\n",
    "x0 = 1.0\n",
    "observed = babylonian(a, x0, 1e-6)\n",
    "expected = sqrt(a)\n",
    "abs(observed - expected)"
   ],
   "metadata": {},
   "execution_count": null
  },
  {
   "cell_type": "markdown",
   "source": [
    "### Exercise 1.10\n",
    "\n",
    "Write a function that counts the number of times a character `char` occurs in a given string `str`.\n",
    "It should treat the upper and lower case characters as being the same; e.g. 'c' and 'C' count as the same letter.\n",
    "\n",
    "**Hint**: Julia allows aribtrary objects to implement some notion of *iteration* and *indexing*.\n",
    "A `String` object is both iterable (so that `for c in str` makes sense) and indexable (so that `str[1]`)."
   ],
   "metadata": {}
  },
  {
   "outputs": [],
   "cell_type": "code",
   "source": [
    "function countin(char, str)\n",
    "  # your code goes here\n",
    "end"
   ],
   "metadata": {},
   "execution_count": null
  },
  {
   "outputs": [],
   "cell_type": "code",
   "source": [
    "function capitalize_every_other(str)\n",
    "  output = \"\" # start with an empty string\n",
    "\n",
    "  for (i, c) in enumerate(str) # iterate over each character in str\n",
    "    if i % 2 == 0              # capitalize if even index\n",
    "        output *= uppercase(c)\n",
    "    else                       # otherwise make lowercase\n",
    "        output *= lowercase(c)\n",
    "    end\n",
    "  end\n",
    "  return output\n",
    "end"
   ],
   "metadata": {},
   "execution_count": null
  },
  {
   "outputs": [],
   "cell_type": "code",
   "source": [
    "test_string1 = \"The quick brown fox jumps over the lazy dog.\"\n",
    "test_string2 = capitalize_every_other(test_string1)\n",
    "@show countin('a', test_string1) # should equal 1\n",
    "@show countin('o', test_string2) # should equal 4"
   ],
   "metadata": {},
   "execution_count": null
  },
  {
   "cell_type": "markdown",
   "source": [
    "---\n",
    "\n",
    "*This notebook was generated using [Literate.jl](https://github.com/fredrikekre/Literate.jl).*"
   ],
   "metadata": {}
  }
 ],
 "nbformat_minor": 3,
 "metadata": {
  "language_info": {
   "file_extension": ".jl",
   "mimetype": "application/julia",
   "name": "julia",
   "version": "1.6.1"
  },
  "kernelspec": {
   "name": "julia-1.6",
   "display_name": "Julia 1.6.1",
   "language": "julia"
  }
 },
 "nbformat": 4
}
