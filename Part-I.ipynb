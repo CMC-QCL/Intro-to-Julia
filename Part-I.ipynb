{
  "cells": [
    {
      "cell_type": "markdown",
      "source": [
        "# Introduction to Julia: Part I\n\n\n# Agenda\n\n1. What is Julia?\n2. Basics\n    - Tools and Getting Around\n    - Literals, Variables, and Functions\n    - Program Control Flow\n3. Exercises\n4. What can you do with the Julia programming language?\n    - Scientific Modelling\n    - Fast Linear Algebra\n\n### Learning Goals\n\nAfter this workshop you should:\n\n1. Be familiar with Julia syntax.\n2. Understand variables, functions, and basic data types in Julia.\n3. Be able to write short programs in Julia.\n4. Feel confident enough to explore more on your own.\n\n# What is Julia?\n\n> **The Julia Project as a whole is about bringing usable, scalable technical computing to a greater audience**: allowing scientists and researchers to use computation more rapidly and effectively; letting businesses do harder and more interesting analyses more easily and cheaply.\n> Part of that project entails creating a free, open-source language that is as easy to use as possible, so that researchers who are not necessarily professional programmers can easily create and share programs that others will be able to use for free and improve upon.\n> However, a large part of the project is also about creating an ecosystem in which such openness and sharing can take place.\n\n-- [Julia Project page](https://julialang.org/project/)\n\n### Why should I care?\n\n1. It is easy to prototype *fast*, *idiomatic* code in Julia *at a high level* thanks to Julia's JIT compiler and powerful type system.\n2. Julia favors a generic programming style: write functions that assume as little as possible and compose them to write powerful programs.\n3. The Julia community is open and highly collaborative. Many high profile packages represent the joint effort of several brilliant people.\n\n### How is it different from `xxxxx`?\n\nSyntax comparison between MATLAB, Julia, and Python: https://cheatsheets.quantecon.org/\nThe Julia manual has a dedicated package on this: https://docs.julialang.org/en/v1/manual/noteworthy-differences/\n\n### I like `X/Y/Z` from `xxxxx` language. I don't think I can ever switch.\n\nEarly on in the development of Julia, people put effort into building interoperability between Julia and other languages.\nThis means that if you really need a package implemented in another language, it is possible to use it directly from within Julia.\n\n**Examples**\n\n- Python: Use [PyCall.jl](https://github.com/JuliaPy/PyCall.jl). \n- R: Use [RCall.jl](https://github.com/JuliaInterop/RCall.jl).\n- MATLAB: Use [MATLAB.jl](https://github.com/JuliaInterop/MATLAB.jl).\n- FORTRAN or C: Use the built-in `ccall` function documented [here](https://docs.julialang.org/en/v1/manual/calling-c-and-fortran-code/).\n- C++: Use [Cxx.jl](https://github.com/JuliaInterop/Cxx.jl).\n\nThe [JuliaInterop](https://github.com/JuliaInterop) organization has more packages available for other languages.\n\n**Ultimately, the Julia language is (a very useful) tool. You should use whatever makes you productive, and your work reproducible.**\n\n# Basics\n\n### Tools to write Julia code\n\nJulia program files end with the `.jl` file extension.\nThere are two environments people generally use to write Julia code:\n\n1. An *interactive* environment lets you input commands and gives you feedback as you work. For example, Julia comes with its own **REPL (Read-Evaluation-Print Loop)** that operates in a command line fashion. \n2. A *non-interactive* environment executes a series of commands (program) in the background without any feedback. Error messages, due to logical errors or program state, are generally handled by the program itself.\n\n**Programs** or **scripts** are usually, but not always, non-interactive in that they are used to automate long tasks without active control from a user.\n\nHere we will focus on how to work within a Jupyter notebook.\nMuch of what we do here will carry over to working in a REPL.\n\n### Jupyter notebooks\n\nThis notebook is made up of different cells:\n\n1. **Code cells** contain a series of instructions (in Julia). You can run them by clicking the run button, entering `Ctrl + Enter`.\n2. **Markdown cells** contain text that can be formatted with [Markdown](https://jupyter-notebook.readthedocs.io/en/latest/examples/Notebook/Working%20With%20Markdown%20Cells.html). They may contain text, images, LaTeX equations.\n\nAfter selecting a cell (highlighted in green):\n\n* You can insert a new cell (code cell by default) by typing `Esc` followed by `A` (insert above) or `Esc` followed by `B` (insert below).\n* Convert it to a code cell using `Esc` then `Y`.\n* Convert it to a Markdown cell using `Esc` then `M`.\n\n**Exercise**: Convert the following cell into a code cell and run it.\n\nsqrt(2)\n\nAnother tip: You can toggle code lines with `Esc`, `L`.\n\n### Getting Around\n\nSo far we don't really know how to do anything in Julia. Thankfully, there is a built-in help system. You can access it by entering `?`:"
      ],
      "metadata": {}
    },
    {
      "outputs": [],
      "cell_type": "code",
      "source": [
        "?"
      ],
      "metadata": {},
      "execution_count": null
    },
    {
      "cell_type": "markdown",
      "source": [
        "Note that there are four different \"modes\" available in both a REPL and Julia notebook:\n\n- Default: Julia command mode.\n- `?` (`help?>`): Access the help system.\n- `;` (`shell>`): Access a command line shell for your system.\n- `]` (`xxx pkg>`): Access Julia's package system.\n\nYou can return to the default by hitting `Delete` or `Backspace`.\nA Julia REPL will tell you which mode you are in as you type a command.\n\nYou can us the help system to ask about any object defined within your working environment including data types, functions, and variables."
      ],
      "metadata": {}
    },
    {
      "outputs": [],
      "cell_type": "code",
      "source": [
        "?print"
      ],
      "metadata": {},
      "execution_count": null
    },
    {
      "cell_type": "markdown",
      "source": [
        "The `apropos` function is also useful for finding existing commands by searching documentation for keywords."
      ],
      "metadata": {}
    },
    {
      "outputs": [],
      "cell_type": "code",
      "source": [
        "apropos(\"sorting\")"
      ],
      "metadata": {},
      "execution_count": null
    },
    {
      "cell_type": "markdown",
      "source": [
        "### Literals, Variables, and Basic Data Types\n\nIn most programming languages, `1`, `1.0`, and `\"1\"` are likely to be different kinds of objects even though they appear similar to each other."
      ],
      "metadata": {}
    },
    {
      "outputs": [],
      "cell_type": "code",
      "source": [
        "1"
      ],
      "metadata": {},
      "execution_count": null
    },
    {
      "outputs": [],
      "cell_type": "code",
      "source": [
        "1.0"
      ],
      "metadata": {},
      "execution_count": null
    },
    {
      "outputs": [],
      "cell_type": "code",
      "source": [
        "\"1\""
      ],
      "metadata": {},
      "execution_count": null
    },
    {
      "cell_type": "markdown",
      "source": [
        "Such objects are said to *belong to a class* or to *be of a certain type*. \n**In Julia, we think of objects in terms of types**. \n\nThere is built-in support for various number types that are important for computing:"
      ],
      "metadata": {}
    },
    {
      "outputs": [],
      "cell_type": "code",
      "source": [
        "typeof(0x01) # 8-bit unsigned integer"
      ],
      "metadata": {},
      "execution_count": null
    },
    {
      "outputs": [],
      "cell_type": "code",
      "source": [
        "typeof(1) # 64-bit integers, or 32-bit if you're using an older computer"
      ],
      "metadata": {},
      "execution_count": null
    },
    {
      "outputs": [],
      "cell_type": "code",
      "source": [
        "typeof(1.0) # double precision floating point"
      ],
      "metadata": {},
      "execution_count": null
    },
    {
      "outputs": [],
      "cell_type": "code",
      "source": [
        "typeof(1f0) # single precision floating point"
      ],
      "metadata": {},
      "execution_count": null
    },
    {
      "outputs": [],
      "cell_type": "code",
      "source": [
        "typeof('1') # characters, only one symbol"
      ],
      "metadata": {},
      "execution_count": null
    },
    {
      "outputs": [],
      "cell_type": "code",
      "source": [
        "typeof(\"1\") # strings, sequence of characters"
      ],
      "metadata": {},
      "execution_count": null
    },
    {
      "outputs": [],
      "cell_type": "code",
      "source": [
        "typeof(true) # boolean: true or false"
      ],
      "metadata": {},
      "execution_count": null
    },
    {
      "cell_type": "markdown",
      "source": [
        "Symbols like `1` and `3.14` are often referred to as *literals* because the notation itself literally bears its meaning within the language.\nIn contrast to literals, we can use certain symbols to define *variables*.\nThe general syntax is `<variable name> = <assigned value>`:"
      ],
      "metadata": {}
    },
    {
      "outputs": [],
      "cell_type": "code",
      "source": [
        "myvariable = 2.0\nmyothervar = 3.4; # the semicolon, ;, is used to suppress printing the result of this code cell"
      ],
      "metadata": {},
      "execution_count": null
    },
    {
      "outputs": [],
      "cell_type": "code",
      "source": [
        "myvariable"
      ],
      "metadata": {},
      "execution_count": null
    },
    {
      "outputs": [],
      "cell_type": "code",
      "source": [
        "myothervar"
      ],
      "metadata": {},
      "execution_count": null
    },
    {
      "cell_type": "markdown",
      "source": [
        "As with many programming languages, the symbol `=` is reserved for variable assignment.\nVariables are useful because we can use them to store values to later use in an algorithm, or a sequence of steps.\nLike the literals we looked at before, variables also have types depending on the object it is *bound to*:"
      ],
      "metadata": {}
    },
    {
      "outputs": [],
      "cell_type": "code",
      "source": [
        "typeof(myvariable)"
      ],
      "metadata": {},
      "execution_count": null
    },
    {
      "cell_type": "markdown",
      "source": [
        "One nice feature in Julia is its [support for Unicode characters](https://docs.julialang.org/en/v1/manual/unicode-input/) in function names and variables.\nIn a REPL or Jupyter notebook (using Julia), you can input special characters using tab completions.\nHere are a few examples:"
      ],
      "metadata": {}
    },
    {
      "outputs": [],
      "cell_type": "code",
      "source": [
        "α = 0.5; # type \\alpha → Tab\nx₁ = 42; # type x\\_1 → Tab\n🍔 = [\"bun\", \"patty\", \"bun\"]; # type \\:hamburger: → Tab"
      ],
      "metadata": {},
      "execution_count": null
    },
    {
      "cell_type": "markdown",
      "source": [
        "Try printing the values of these variables below:"
      ],
      "metadata": {}
    },
    {
      "outputs": [],
      "cell_type": "code",
      "source": [
        ""
      ],
      "metadata": {},
      "execution_count": null
    },
    {
      "cell_type": "markdown",
      "source": [
        "### Everything in Julia has a return type\n\nThis includes functions, `begin ... end` blocks, `for` loops, expressions, and `if .. else` statements.\nIf there is no \"reasonable\" value to return, Julia will return `nothing`, an alias for the `Nothing` object."
      ],
      "metadata": {}
    },
    {
      "outputs": [],
      "cell_type": "code",
      "source": [
        "nothing"
      ],
      "metadata": {},
      "execution_count": null
    },
    {
      "outputs": [],
      "cell_type": "code",
      "source": [
        "typeof(nothing)"
      ],
      "metadata": {},
      "execution_count": null
    },
    {
      "outputs": [],
      "cell_type": "code",
      "source": [
        "?nothing"
      ],
      "metadata": {},
      "execution_count": null
    },
    {
      "outputs": [],
      "cell_type": "code",
      "source": [
        "c = 0.0\n\nval = for i in 1:3 # for loops evaluate to nothing\n    c += rand()\nend\n\n@show val\n@show c"
      ],
      "metadata": {},
      "execution_count": null
    },
    {
      "cell_type": "markdown",
      "source": [
        "**Note**: The `@show` command is a *macro* used to quickly print the value of a variable or expression.\nFor example, you can think of `@show val` and shorthand for `println(\"val = \", val)`."
      ],
      "metadata": {}
    },
    {
      "outputs": [],
      "cell_type": "code",
      "source": [
        "val = if c < 1 # if statements return the last value in the branch taken\n    \"abc\"\n    \"def\"\nelse\n    \"ghi\"\n    \"jkl\"\nend\n\nval"
      ],
      "metadata": {},
      "execution_count": null
    },
    {
      "cell_type": "markdown",
      "source": [
        "Keep this in mind as we move on to functions and control flow.\n\n### Functions\n\nSo far, we have *literals* to represent basic units of computation and *variables* to store values within a program.\nThese are the nouns in a programming language.\nHow do we actually say anything useful?\nWe need *functions*, which serve as verbs.\n\n#### Built-in functions\n\nMany useful functions are already implemented in Julia.\nIn fact, if there is something you want to do it is often helpful to try looking up `?<verb>` to see if an existing function can solve your task.\n\n##### Printing (note that the character `\\n` indicates a newline):"
      ],
      "metadata": {}
    },
    {
      "outputs": [],
      "cell_type": "code",
      "source": [
        "print(\"The value of myvariable is \", myvariable, \".\\n\")\nprint(\"The value of myothervar is \", myothervar, \".\\n\")"
      ],
      "metadata": {},
      "execution_count": null
    },
    {
      "cell_type": "markdown",
      "source": [
        "The same can be achieved with `println`:"
      ],
      "metadata": {}
    },
    {
      "outputs": [],
      "cell_type": "code",
      "source": [
        "println(\"The value of myvariable is \", myvariable, \".\")\nprintln(\"The value of myothervar is \", myothervar, \".\")"
      ],
      "metadata": {},
      "execution_count": null
    },
    {
      "cell_type": "markdown",
      "source": [
        "Multi-line strings, `\"\"\"...\"\"\"`, interpret whitespace.\nThe `$` symbol can be used to interpolate a variable's value into a string.\nMore generally, `$(ex)` will interpolate the value of an expression `ex`."
      ],
      "metadata": {}
    },
    {
      "outputs": [],
      "cell_type": "code",
      "source": [
        "print(\n\"\"\"\nThe value of myvariable is $myvariable.\n1 + 1 is $(1 + 1).\n\"\"\"\n)"
      ],
      "metadata": {},
      "execution_count": null
    },
    {
      "cell_type": "markdown",
      "source": [
        "##### The usual [artihmetic operators](https://docs.julialang.org/en/v1/manual/mathematical-operations/#Arithmetic-Operators) are supported in Julia:"
      ],
      "metadata": {}
    },
    {
      "outputs": [],
      "cell_type": "code",
      "source": [
        "1 + 1 # addition"
      ],
      "metadata": {},
      "execution_count": null
    },
    {
      "outputs": [],
      "cell_type": "code",
      "source": [
        "2.3 * 4 # multiplication"
      ],
      "metadata": {},
      "execution_count": null
    },
    {
      "outputs": [],
      "cell_type": "code",
      "source": [
        "9 / 3 # (floating point) division"
      ],
      "metadata": {},
      "execution_count": null
    },
    {
      "outputs": [],
      "cell_type": "code",
      "source": [
        "7 % 2 # remainder after integer division"
      ],
      "metadata": {},
      "execution_count": null
    },
    {
      "outputs": [],
      "cell_type": "code",
      "source": [
        "2 ^ 4 # exponentiation"
      ],
      "metadata": {},
      "execution_count": null
    },
    {
      "outputs": [],
      "cell_type": "code",
      "source": [
        "-1 # negative sign"
      ],
      "metadata": {},
      "execution_count": null
    },
    {
      "cell_type": "markdown",
      "source": [
        "##### Other [logical operators](https://docs.julialang.org/en/v1/manual/mathematical-operations/#Boolean-Operators) and [comparison operators](https://docs.julialang.org/en/v1/manual/mathematical-operations/#Numeric-Comparisons):"
      ],
      "metadata": {}
    },
    {
      "outputs": [],
      "cell_type": "code",
      "source": [
        "1 < 2 & 2 < 2 # parantheses not needed"
      ],
      "metadata": {},
      "execution_count": null
    },
    {
      "outputs": [],
      "cell_type": "code",
      "source": [
        "!(1 ≤ 1) # type `\\le` and hit `TAB` to get the ≤ symbol"
      ],
      "metadata": {},
      "execution_count": null
    },
    {
      "cell_type": "markdown",
      "source": [
        "**Note:** The terms *operator* and *function* are virtually the same for our purposes.\nThe only meaningful distinction from our POV is that *operators* have shorthand names based on punctuation marks whereas *functions* are typically spelled out in several characters.\nBinary operators also support *infix notation* so we can use them just how one typically writes down math but it's also possible to call operators the same way one invokes `println`:"
      ],
      "metadata": {}
    },
    {
      "outputs": [],
      "cell_type": "code",
      "source": [
        "+(1, 1)"
      ],
      "metadata": {},
      "execution_count": null
    },
    {
      "cell_type": "markdown",
      "source": [
        "#### User-defined functions\n\nProgramming involves building up many small programs that, ideally, can be composed to write larger more complex programs.\nThere are many ways to define a function in Julia.\nFor example, consider the function $x \\mapsto x + 1$ that takes a number and adds 1 to it:"
      ],
      "metadata": {}
    },
    {
      "outputs": [],
      "cell_type": "code",
      "source": [
        "f(x) = x+1    # written as a single line\n\nfunction f(x) # written as multiple lines\n    x+1\nend"
      ],
      "metadata": {},
      "execution_count": null
    },
    {
      "cell_type": "markdown",
      "source": [
        "**Aside** Notice that a few words in the definition are highlighted.\nThe words `function` and `end` are highlighted *purple* because they are **reserved words** -- notation that the Julia programming language reserves for the language itself.\nWe can understand the syntax as follows:\n- `function`: begin a statement (possibly multiple lines) that defines a function.\n- `end`: mark the end of the last statement.\nThere are many more reserved words, listed here in the [Julia documentation](https://docs.julialang.org/en/v1/base/base/#Keywords).\n\nGetting back to function definitions, the general syntax is"
      ],
      "metadata": {}
    },
    {
      "outputs": [],
      "cell_type": "code",
      "source": [
        "function FUNCTION_NAME(INPUTS_SEPARATED_BY_COMMAS)\n    # function body\nend"
      ],
      "metadata": {},
      "execution_count": null
    },
    {
      "cell_type": "markdown",
      "source": [
        "By default, a function returns the value of the last statement within the body.\nYou can be specific about what the return value should be by using the `return` keyword.\n\n**Exercise**: What is the return value of the following functions?"
      ],
      "metadata": {}
    },
    {
      "outputs": [],
      "cell_type": "code",
      "source": [
        "function fun1(x)\n    x + 1\n    x + 2\n    x + 3\nend"
      ],
      "metadata": {},
      "execution_count": null
    },
    {
      "outputs": [],
      "cell_type": "code",
      "source": [
        "function fun2(x)\n    x + 1\n    return x + 2\n    x + 3\nend"
      ],
      "metadata": {},
      "execution_count": null
    },
    {
      "outputs": [],
      "cell_type": "code",
      "source": [
        "function fun3(x)\n    x + 1\n    x = x + 2\n    return x + 3\n    x = x + 4\nend"
      ],
      "metadata": {},
      "execution_count": null
    },
    {
      "outputs": [],
      "cell_type": "code",
      "source": [
        "function fun4(x)\n    x + 10\n    return\n    x - 2\nend"
      ],
      "metadata": {},
      "execution_count": null
    },
    {
      "cell_type": "markdown",
      "source": [
        "#### Exercises\n\nWrite a function that evaluates the quadratic $a x^{2} + b x + c$.\nYour function should take four (4) inputs, `a`, `b`, `c`, and `x`."
      ],
      "metadata": {}
    },
    {
      "outputs": [],
      "cell_type": "code",
      "source": [
        "function eval_quadratic(a, b, c, x)\n    return a * x ^ 2 + b * x + c\nend"
      ],
      "metadata": {},
      "execution_count": null
    },
    {
      "cell_type": "markdown",
      "source": [
        "A few test cases:"
      ],
      "metadata": {}
    },
    {
      "outputs": [],
      "cell_type": "code",
      "source": [
        "@show eval_quadratic(0, 0, 2.0, 100.0)   # == 2\n@show eval_quadratic(1.0, 0, 0, 10.0)    # == 100\n@show eval_quadratic(0, 1.0, 0, 10.0)    # == 10\n@show eval_quadratic(2, 1, -10, 2)       # 0"
      ],
      "metadata": {},
      "execution_count": null
    },
    {
      "cell_type": "markdown",
      "source": [
        "Write a function that computes both roots of a quadratic,\n$$\na x^{2} + b x + c = 0 \\iff x = \\frac{-b \\pm \\sqrt{b^{2} - 4 a c}}{2a}\n$$\nYour function should take three (3) inputs, `a`, `b`, and `c`, which you may assume are numbers of the same type.\nYou can also assume $|a| > 0$.\nReturn the roots as a tuple; e.g. `return root1, root2` or `return (root1, root2)`."
      ],
      "metadata": {}
    },
    {
      "outputs": [],
      "cell_type": "code",
      "source": [
        "function quadratic(a, b, c)\n    # check for real roots\n    d = b^2 - 4a * c\n    if d < 0\n        error(\"Roots are not real. Use quadratic(Complex(a), Complex(b), Complex(c)) for imaginary roots.\")\n    end\n\n    # compute roots\n    r1 = (-b - sqrt(d)) / (2*a)\n    r2 = (-b + sqrt(d)) / (2*a)\n\n    return r1, r2\nend"
      ],
      "metadata": {},
      "execution_count": null
    },
    {
      "cell_type": "markdown",
      "source": [
        "A few test cases:"
      ],
      "metadata": {}
    },
    {
      "outputs": [],
      "cell_type": "code",
      "source": [
        "@show quadratic(1.0, -2.0, 1.0) # == (1.0, 1.0); x^2 - 2x + 1\n@show quadratic(1.0, 0, -1.0)   # == (-1.0, 1.0); x^2 - 1"
      ],
      "metadata": {},
      "execution_count": null
    },
    {
      "cell_type": "markdown",
      "source": [
        "#### A note for scientists\n\nTry the following code using your `quadratic` function"
      ],
      "metadata": {}
    },
    {
      "outputs": [],
      "cell_type": "code",
      "source": [
        "a = 1.0; b = 100.0; c = 1.0\nr1, r2 = quadratic(a, b, c)\n@show eval_quadratic(a, b, c, r1)\n@show eval_quadratic(a, b, c, r2)"
      ],
      "metadata": {},
      "execution_count": null
    },
    {
      "cell_type": "markdown",
      "source": [
        "Depending on how you chose to implement your function, one of the results above is not $0$ but close to it.\nIn this case, $b^{2}$ is much larger compared to $4ac$ which means $b^{2} - 4ac$ is subject to *roundoff error*.\nThis happens because numbers on the real line *cannot* be represented exactly on a computer.\nIt is an issue for irrational numbers like $\\sqrt{2}$ and even rational numbers like $1/10 = 0.1$:"
      ],
      "metadata": {}
    },
    {
      "outputs": [],
      "cell_type": "code",
      "source": [
        "bitstring(0.1) # this is not exact in base 2!"
      ],
      "metadata": {},
      "execution_count": null
    },
    {
      "cell_type": "markdown",
      "source": [
        "Julia uses the [IEEE 754-2008 standard](https://en.wikipedia.org/wiki/IEEE_754-2008) to handle floating-point arithmetic.\nThe Julia manual has plenty of [references](https://docs.julialang.org/en/v1/manual/integers-and-floating-point-numbers/#Background-and-References) for the interested reader. \n\nSome useful values and functions to know about:\n\n- `Inf`/`Inf32`/`Inf16`: Literals for representing infinity.\n- `0.0` and `-0.0`: Signed zeros. note that `0.0 == -0.0`.\n- `NaN`: Not a Number; used to handle numerical issues like division by `0` or loss of precison due to underflow/overflow.\n- `exponent`: Return the exponent in the floating point representation of a number.\n- `significand`: Return the digits in the floating point representation of a number.\n- `signbit`: Check the sign bit of a number (false for positive, true for negative).\n- `bitstring`: Return the binary representation of a number literal.\n- `eps`: Machine epsilon; the gap between `1.0` and the next largest representable value of the same numeric type.\n- `nextfloat`/`prevfloat`: The next/previous representable floating-point number relative to an input.\n\n**Takeaway**: Try to look through documentation to see if a function you want has already been implemented, *especially* for any numerics.\n\n#### What happens when we mix data types?\n\nNotice that `1 + 1` returns `2` as an `Int64` whereas as `4 / 2` returns `2` as a `Float64`.\nWe can try a few more examples to see that *addition on two elements of the same type* always returns an answer of that same type (in fact, this is a mathematical property of addition on certain sets).\n\nJulia has a set of promotion rules to determine how to resolve certain operations.\nFor example, `1 + 3.2` will return `4.2` as a `Float64`.\nTest this yourself using `typeof`."
      ],
      "metadata": {}
    },
    {
      "outputs": [],
      "cell_type": "code",
      "source": [
        "# your code here"
      ],
      "metadata": {},
      "execution_count": null
    },
    {
      "cell_type": "markdown",
      "source": [
        "This is not the case with division and so we naturally have a few ways to handle it: `/`, `div`, and `//`.\nCheck the documentation for these functions."
      ],
      "metadata": {}
    },
    {
      "outputs": [],
      "cell_type": "code",
      "source": [
        "# your code here"
      ],
      "metadata": {},
      "execution_count": null
    },
    {
      "cell_type": "markdown",
      "source": [
        "Julia's type promotion rules make it is so programmers do not waste time casting objects to 'compatible' data types; they are already compatible.\nImportantly, operations with numbers already handle type promotion with reasonable defaults so that standard arithmetic \"just works\" out of the box.\n\nHowever, if you ever needed to handle conversions explicitly you can do it with the `convert` function:"
      ],
      "metadata": {}
    },
    {
      "outputs": [],
      "cell_type": "code",
      "source": [
        "convert(Complex{Float64}, 1.0) # specify the type, then give the object to convert"
      ],
      "metadata": {},
      "execution_count": null
    },
    {
      "cell_type": "markdown",
      "source": [
        "### Program Control Flow\n\n*Conditional statements* and *repeated evaluation* are common patterns that emerge in algorithms.\nJulia handles these concepts in a straightforward way.\n\n#### Conditional Statements\n\n`if-else` blocks allow you to execute a block of code conditional on some requirement."
      ],
      "metadata": {}
    },
    {
      "outputs": [],
      "cell_type": "code",
      "source": [
        "if rand() < 0.5 # mimic a coin flip\n    println(\"Heads\")\nelse\n    println(\"Tails\")\nend"
      ],
      "metadata": {},
      "execution_count": null
    },
    {
      "cell_type": "markdown",
      "source": [
        "These statements can be changed using `if-elseif-else` blocks.\nRemember that code blocks always have a return value."
      ],
      "metadata": {}
    },
    {
      "outputs": [],
      "cell_type": "code",
      "source": [
        "u = rand()\n\nx = if u < 0.25\n    1\nelseif 0.25 ≤ u < 0.5\n    2\nelseif 0.5 ≤ u < 0.75\n    3\nelse\n    4\nend\n\nprintln(\"The value of x is $(x).\")"
      ],
      "metadata": {},
      "execution_count": null
    },
    {
      "cell_type": "markdown",
      "source": [
        "You can omit the `elseif` or `else` portions altogether.\nThese blocks can be written as one-liners, too.\n\nWhat is the return type when we do assignment like this?\nUse `@show x` to investigate."
      ],
      "metadata": {}
    },
    {
      "outputs": [],
      "cell_type": "code",
      "source": [
        "x = if rand() < 0.5 \"In the if statement\" end\n\n@show x"
      ],
      "metadata": {},
      "execution_count": null
    },
    {
      "cell_type": "markdown",
      "source": [
        "The ternary operator (3-argument) `?` can be used to write `if-else` statements more compactly as\n\n`<condition> ? <true branch> : <false branch>`"
      ],
      "metadata": {}
    },
    {
      "outputs": [],
      "cell_type": "code",
      "source": [
        "truth_value = rand() < 0.5\n\ntruth_value ? println(\"branch taken if true\") : println(\"branch taken if false\")\n\n@show truth_value"
      ],
      "metadata": {},
      "execution_count": null
    },
    {
      "cell_type": "markdown",
      "source": [
        "Lastly, the [short-circuit operators](https://docs.julialang.org/en/v1/manual/control-flow/#Short-Circuit-Evaluation), `&&` and `||`, can also be used to write compact conditional statements.\nStatements chained with these operators are evaluated left to right.\n\n* Short-circuit AND (`&&`): In `a && b`, `b` is evaluted only when `a` returns `true`.\n* Short-circuit OR (`||`): In `a || b`, `b` is evaluated only when `a` returns `false`.\n\nFor example, in the Julia documentation there is an example that uses them to implement a recursive version of a factorial function."
      ],
      "metadata": {}
    },
    {
      "outputs": [],
      "cell_type": "code",
      "source": [
        "function fact(n::Int) # ::Int is a type annotation; we'll discuss this later\n    n >= 0 || error(\"n must be non-negative\") # use || to detect a violated condtion\n    n == 0 && return 1 # use && to detect the base case\n    n * fact(n-1) # otherwise, continue to recurse\nend"
      ],
      "metadata": {},
      "execution_count": null
    },
    {
      "outputs": [],
      "cell_type": "code",
      "source": [
        "fact(0)"
      ],
      "metadata": {},
      "execution_count": null
    },
    {
      "outputs": [],
      "cell_type": "code",
      "source": [
        "fact(-1)"
      ],
      "metadata": {},
      "execution_count": null
    },
    {
      "outputs": [],
      "cell_type": "code",
      "source": [
        "fact(4)"
      ],
      "metadata": {},
      "execution_count": null
    },
    {
      "cell_type": "markdown",
      "source": [
        "#### Repeated evaluation with loops\n\n`for` loops in Julia allow you to repeat a set of instructions a specific number of times.\nFor example, the following code prints out a sequence of numbers:"
      ],
      "metadata": {}
    },
    {
      "outputs": [],
      "cell_type": "code",
      "source": [
        "for i = 1:10 # this is MATLAB/FORTRAN/C/C++ -like style\n    println(\"The value of i is $(i)\")\nend"
      ],
      "metadata": {},
      "execution_count": null
    },
    {
      "cell_type": "markdown",
      "source": [
        "We start by giving some condition that determines how many times to execute commands, in this case we define a *local* variable `i` and state that it will take values from `1` to `10` using the range object `1:10` (will discuss later).\nNext, we give a command to execute repeatedly.\nThe `for` loop will run until it exhausts values in the \"enumeration\".\n\nAnother way is to pass a list and iterate over the elements of that list."
      ],
      "metadata": {}
    },
    {
      "outputs": [],
      "cell_type": "code",
      "source": [
        "mylist = collect(1:10) # creates a 1-D array with elements 1 through 10; discuss later!\n\nfor item in mylist # or for i in 1:10; this is the preferred style in Julia\n    println(\"The value of item is $(item)\")\nend"
      ],
      "metadata": {},
      "execution_count": null
    },
    {
      "cell_type": "markdown",
      "source": [
        "You can use `enumerate` to grab both the index and member at the same time:"
      ],
      "metadata": {}
    },
    {
      "outputs": [],
      "cell_type": "code",
      "source": [
        "mylist = rand('a':'z', 10)\n\nfor (i, item) in enumerate(mylist)\n    println(\"The item at index $(i) is $(item)\")\nend"
      ],
      "metadata": {},
      "execution_count": null
    },
    {
      "cell_type": "markdown",
      "source": [
        "For loops will even work with dictionaries (discussed later!):"
      ],
      "metadata": {}
    },
    {
      "outputs": [],
      "cell_type": "code",
      "source": [
        "d = Dict('a' => 1, 'b' => 2, 'c' => 100)"
      ],
      "metadata": {},
      "execution_count": null
    },
    {
      "outputs": [],
      "cell_type": "code",
      "source": [
        "for (key, value) in d\n    println(\"The key $(key) maps to $(value)\")\nend"
      ],
      "metadata": {},
      "execution_count": null
    },
    {
      "cell_type": "markdown",
      "source": [
        "#### Exercise\n\nImplement the factorial function using a `for` loop."
      ],
      "metadata": {}
    },
    {
      "outputs": [],
      "cell_type": "code",
      "source": [
        "function fact2(n::Int)\n    val = one(n)\n    for i = n:-1:2\n        val = val * i\n    end\n    return val\nend"
      ],
      "metadata": {},
      "execution_count": null
    },
    {
      "cell_type": "markdown",
      "source": [
        "Compare against the recursive version `fact` defined earlier, and the Julia standard `factorial`."
      ],
      "metadata": {}
    },
    {
      "outputs": [],
      "cell_type": "code",
      "source": [
        "fact(21)"
      ],
      "metadata": {},
      "execution_count": null
    },
    {
      "outputs": [],
      "cell_type": "code",
      "source": [
        "fact2(21)"
      ],
      "metadata": {},
      "execution_count": null
    },
    {
      "outputs": [],
      "cell_type": "code",
      "source": [
        "factorial(21)"
      ],
      "metadata": {},
      "execution_count": null
    },
    {
      "cell_type": "markdown",
      "source": [
        "The `while` loops allows one to execute repeated evaluation without knowing how many times to run a set of instructions ahead of time.\nInstead of iterating over a set of values, a `while` loop runs until some condition evaluates to `false`:"
      ],
      "metadata": {}
    },
    {
      "outputs": [],
      "cell_type": "code",
      "source": [
        "counter = 0\n\nwhile counter < 5\n    println(\"The current value is $(counter)\")\n    counter = counter + 1 # or counter += 1\nend"
      ],
      "metadata": {},
      "execution_count": null
    },
    {
      "outputs": [],
      "cell_type": "code",
      "source": [
        "counter = 0\nstill_true = true # use a Bool as a flag to indicate current state\n\nwhile still_true\n    println(\"The current value is $(counter)\")\n    counter = counter + 1    # make sure to update the counter\n    still_true = counter < 5 # make sure to update the variable we use to check\nend"
      ],
      "metadata": {},
      "execution_count": null
    },
    {
      "cell_type": "markdown",
      "source": [
        "Care must be taken to make sure a `while` loop eventually terminates.\nIf you accidentally make an infinite `while` loop, just use the \"Interrupt the kernel\" button (□), `Esc` → `C`, or `Ctrl + C`.\n\n#### Exercises\n\nCredit: [Algorithms from THE BOOK](https://locus.siam.org/doi/book/10.1137/1.9781611976175?mobileUi=0&) by Kenneth Lange\n\nThe ancients could compute square roots long before the age of computers or the rigorous formulation of the real numbers.\nThe so-called Babylonian method estimates square roots via the iterative method\n$$\nx_{k+1} = \\frac{1}{2}\\left[x_{k} + \\frac{a}{x_{k}}\\right].\n$$\n\nImplement a function that computes the square root of an a non-negative number `a` based on an initial guess `x0`.\nYour function should run until it achieves a given relative tolerance, $\\epsilon$ = `tol`; in symbols this is\n$$\n|x_{k+1} - x_{k}| < \\epsilon~(x_{k} + 1).\n$$\nYour function should also report the number of iterations taken, and return the estimate."
      ],
      "metadata": {}
    },
    {
      "outputs": [],
      "cell_type": "code",
      "source": [
        "function babylonian(a, x0, tol)\n    x_cur = x0            # current estimate\n    x_old = x0            # previous estimate\n    not_converged = true  # flag that indicates convergence\n    iter = 0              # number of iterations\n    \n    # your code goes here\n    while not_converged\n        x_old = x_cur\n        x_cur = 0.5 * (x_cur + a / x_cur)\n        not_converged = abs(x_cur - x_old) ≥ tol * (x_old + 1)\n        iter += 1\n    end\n    \n    println(\"Converged after $(iter) iterations.\")\n    \n    return x_cur\nend"
      ],
      "metadata": {},
      "execution_count": null
    },
    {
      "outputs": [],
      "cell_type": "code",
      "source": [
        "x_babylonian = babylonian(2, 1.4, 1e-6)"
      ],
      "metadata": {},
      "execution_count": null
    },
    {
      "outputs": [],
      "cell_type": "code",
      "source": [
        "x_sqrt = sqrt(2)"
      ],
      "metadata": {},
      "execution_count": null
    },
    {
      "outputs": [],
      "cell_type": "code",
      "source": [
        "abs(x_babylonian - x_sqrt)"
      ],
      "metadata": {},
      "execution_count": null
    },
    {
      "cell_type": "markdown",
      "source": [
        "Try computing the square root of `0.0` or `0` using your implementation."
      ],
      "metadata": {}
    },
    {
      "outputs": [],
      "cell_type": "code",
      "source": [
        ""
      ],
      "metadata": {},
      "execution_count": null
    },
    {
      "cell_type": "markdown",
      "source": [
        "Write a function that counts the number of times a character `char` occurs in a given string `str`.\nIt should treat the upper and lower case characters as being the same; e.g. 'c' and 'C' count as the same letter.\n**Hint**: Julia allows aribtrary objects to implement some notion of *iteration* and *indexing*.\nA `String` object is both iterable (so that `for c in str` makes sense) and indexable (so that `str[1]`)."
      ],
      "metadata": {}
    },
    {
      "outputs": [],
      "cell_type": "code",
      "source": [
        "function countin(char, str)\n    n = 0\n    for c in str    \n        if lowercase(c) == lowercase(char)\n            n += 1\n        end\n    end\n    return n\nend"
      ],
      "metadata": {},
      "execution_count": null
    },
    {
      "cell_type": "markdown",
      "source": [
        "You can use the following function to help you test your implementation.\nIt converts \"this\" into \"tHis\"."
      ],
      "metadata": {}
    },
    {
      "outputs": [],
      "cell_type": "code",
      "source": [
        "function mockify(str)\n    output = \"\"\n    for (i, c) in enumerate(str)\n        if i % 2 == 0\n            output *= uppercase(c)\n        else\n            output *= lowercase(c)\n        end\n    end\n\n    return output\nend"
      ],
      "metadata": {},
      "execution_count": null
    },
    {
      "outputs": [],
      "cell_type": "code",
      "source": [
        "test_string = \"The quick brown fox jumps over the lazy dog.\"\ncountin('a', test_string) # should equal 1"
      ],
      "metadata": {},
      "execution_count": null
    },
    {
      "outputs": [],
      "cell_type": "code",
      "source": [
        "countin('o', mockify(test_string)) # should equal 4"
      ],
      "metadata": {},
      "execution_count": null
    },
    {
      "cell_type": "markdown",
      "source": [
        "# What can I do with the Julia programming language?\n\n### Scientific Modeling\n\n**Credit**: [epirecipes](https://github.com/epirecipes/sir-julia/blob/master/markdown/ode/ode.md)\n\nOrdinaryDiffEq.jl is part of the SciML ecosystem.\nSee the [organization's website](https://sciml.ai/) for more details.\nDifferentialEquations.jl is the main package with lots of extra features at the cutting edge of scientific machine learning.\n\nThe following code implements a [Susceptible-Infected-Removed (SIR) model](https://github.com/epirecipes/sir-julia) for infectious diseases.\n- Infected individuals spread disease through 'contact' with susceptibles.\n- The rate at which individuals are infected is proportional to the proportion of infecteds in a population; it depends on an infection risk per contact, $\\beta$, and an average contact rate, $c$.\n- Infecteds recover at a rate $\\gamma > 0$, with $1/\\gamma$ denoting an average recovery time."
      ],
      "metadata": {}
    },
    {
      "outputs": [],
      "cell_type": "code",
      "source": [
        "using OrdinaryDiffEq, Plots\n\nfunction sir_ode!(du, u, p, t)\n    (S, I, R) = u\n    (β, c, γ) = p\n    N = S+I+R\n    @inbounds begin\n        du[1] = -β*c*I/N*S\n        du[2] = β*c*I/N*S - γ*I\n        du[3] = γ*I\n    end\n    nothing\nend\n\n# Initial conditions\nu0 = [990.0,10.0,0.0]; # S,I.R\n\n# Model parameters\np = [0.05,10.0,0.25]; # β,c,γ\n\n# Timespan\nδt = 0.1\ntmax = 40.0\ntspan = (0.0,tmax)\nt = 0.0:δt:tmax\n\n# Create ODE problem and solve it\nprob_ode = ODEProblem(sir_ode!, u0, tspan, p)\nsol = solve(prob_ode, Tsit5())\n\n# Plot the solution\nplot(sol, xlabel=\"time, t\", ylabel=\"population, u(t)\", label=[\"S\" \"I\" \"R\"], legend=:outerright)"
      ],
      "metadata": {},
      "execution_count": null
    },
    {
      "cell_type": "markdown",
      "source": [
        "### Fast Linear Algebra\n\n[BLAS](https://en.wikipedia.org/wiki/Basic_Linear_Algebra_Subprograms) and [LAPACK](https://en.wikipedia.org/wiki/LAPACK) are important libraries for carrying out *fast and correct* linear algebra operations on computers.\nThere are various implementations written in 'low-level' languages like C or Fortran, sometimes tuned for specific hardware, dating back to 1979.\n\nDevelopers in Julia are exploring the possibility of implementing linear algebra subroutines within the Julia language.\nThe following compares the default BLAS implementation (OpenBLAS) shipped with Julia against [Octavian.jl](https://github.com/JuliaLinearAlgebra/Octavian.jl).\nA more detailed look (with different hardware) can be found [here](https://github.com/JuliaLinearAlgebra/Octavian.jl/issues/24#issuecomment-763704038).\n\nRun a separate Julia process using the `linalg.jl` script.\nIt takes in two arguments, # BLAS threads and matrix size."
      ],
      "metadata": {}
    },
    {
      "outputs": [],
      "cell_type": "code",
      "source": [
        "run(`/home/alanderos/julia-1.6.1/bin/julia --project=@. linalg.jl 10 1000`)"
      ],
      "metadata": {},
      "execution_count": null
    },
    {
      "cell_type": "markdown",
      "source": [
        "Run a separate Julia process using the `octavian.jl` script.\nIt requires you specify the number of threads (`-t 10`; match to # physical cores) and matrix size (`1000`)."
      ],
      "metadata": {}
    },
    {
      "outputs": [],
      "cell_type": "code",
      "source": [
        "run(`/home/alanderos/julia-1.6.1/bin/julia --project=@. -t 10 octavian.jl 1000`)"
      ],
      "metadata": {},
      "execution_count": null
    },
    {
      "outputs": [],
      "cell_type": "code",
      "source": [
        "versioninfo(verbose=true)"
      ],
      "metadata": {},
      "execution_count": null
    },
    {
      "cell_type": "markdown",
      "source": [
        "**Note**: OpenBLAS may not always be able to detect the correct architecture until it is updated, and so it will default to the next best available subroutines.\n[The codename Prescott dates back to Intel's Pentium 4 from the 00s](https://ark.intel.com/content/www/us/en/ark/products/codename/1791/prescott.html).\nIn reality the gap may be closer than reported here.\n\n**Note**: Many programming languages for statistics, data science, or other technical computing use a BLAS implementation like OpenBLAS (R for example)."
      ],
      "metadata": {}
    },
    {
      "outputs": [],
      "cell_type": "code",
      "source": [
        "using LinearAlgebra\nBLAS.openblas_get_config()"
      ],
      "metadata": {},
      "execution_count": null
    }
  ],
  "nbformat_minor": 2,
  "metadata": {
    "language_info": {
      "file_extension": ".jl",
      "mimetype": "application/julia",
      "name": "julia",
      "version": "1.6.1"
    },
    "kernelspec": {
      "name": "julia-1.6",
      "display_name": "Julia 1.6.1",
      "language": "julia"
    }
  },
  "nbformat": 4
}
